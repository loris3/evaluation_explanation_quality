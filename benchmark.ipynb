{
 "cells": [
  {
   "cell_type": "code",
   "execution_count": 1,
   "metadata": {},
   "outputs": [],
   "source": [
    "CACHE_DIR = \"./results/benchmark/\""
   ]
  },
  {
   "cell_type": "code",
   "execution_count": 2,
   "metadata": {},
   "outputs": [],
   "source": [
    "import pandas as pd\n",
    "import os\n",
    "import pickle\n",
    "\n",
    "from detector_radford import DetectorRadford\n",
    "from detector_detectgpt import DetectorDetectGPT\n",
    "from detector_guo import DetectorGuo\n",
    "detector_classes = [DetectorGuo, DetectorRadford, DetectorDetectGPT]\n",
    "\n",
    "results = []\n"
   ]
  },
  {
   "cell_type": "code",
   "execution_count": 3,
   "metadata": {},
   "outputs": [],
   "source": [
    "test = pd.read_pickle(\"./dataset_test.pkl\")\n",
    "train = pd.read_pickle(\"./dataset_train.pkl\")"
   ]
  },
  {
   "cell_type": "code",
   "execution_count": 4,
   "metadata": {},
   "outputs": [],
   "source": [
    "from sklearn.metrics import accuracy_score\n",
    "from sklearn.metrics import f1_score\n",
    "from sklearn.metrics import roc_auc_score\n",
    "from sklearn.metrics import confusion_matrix\n",
    "import time"
   ]
  },
  {
   "cell_type": "code",
   "execution_count": 5,
   "metadata": {},
   "outputs": [],
   "source": [
    "if not os.path.exists(CACHE_DIR): \n",
    "    os.makedirs(CACHE_DIR)"
   ]
  },
  {
   "cell_type": "code",
   "execution_count": 6,
   "metadata": {},
   "outputs": [
    {
     "data": {
      "text/plain": [
       "1016"
      ]
     },
     "execution_count": 6,
     "metadata": {},
     "output_type": "execute_result"
    }
   ],
   "source": [
    "len(train)+len(test)"
   ]
  },
  {
   "cell_type": "code",
   "execution_count": 7,
   "metadata": {},
   "outputs": [],
   "source": [
    "documents = pd.concat([test[\"answer\"], train[\"answer\"]])\n",
    "gold_labels = pd.concat([(test[\"author\"] == \"human_answers\") ,  train[\"author\"] == \"human_answers\"])"
   ]
  },
  {
   "cell_type": "code",
   "execution_count": 8,
   "metadata": {},
   "outputs": [],
   "source": [
    "results = []\n",
    "columns = [\"Detector\", \"Acc\", \"F1\", \"ROC AUC\", \"TN\", \"FP\", \"FN\", \"TP\", \"ms/evaluation\"]"
   ]
  },
  {
   "cell_type": "code",
   "execution_count": 9,
   "metadata": {},
   "outputs": [],
   "source": [
    "def run(label, detector):\n",
    "    if os.path.isfile(os.path.join(CACHE_DIR, label)):\n",
    "        return\n",
    "    start = time.time_ns()\n",
    "    predictions = detector.predict_label(documents) # seed is set in detectors by default\n",
    "    end = time.time_ns()\n",
    "    with open(os.path.join(CACHE_DIR, label), 'wb') as f:\n",
    "        pickle.dump((predictions, ((end - start) / len(documents))// 1000000), f)\n"
   ]
  },
  {
   "cell_type": "code",
   "execution_count": 10,
   "metadata": {},
   "outputs": [],
   "source": [
    "# import transformers\n",
    "\n",
    "# detectGPT_default = DetectorDetectGPT()\n",
    "# detectGPT_default.n_perturbations = 100\n",
    "\n",
    "# detectGPT_default.base_model_name = \"gpt2-xl\"\n",
    "# base_model, base_tokenizer = detectGPT_default.load_base_model_and_tokenizer(detectGPT_default.base_model_name)\n",
    "# detectGPT_default.base_model = base_model\n",
    "# detectGPT_default.base_tokenizer = base_tokenizer\n",
    "\n",
    "# mask_model = transformers.AutoModelForSeq2SeqLM.from_pretrained(detectGPT_default.mask_filling_model_name, cache_dir=detectGPT_default.cache_dir)\n",
    "# detectGPT_default.mask_model = mask_model\n",
    "\n",
    "# mask_tokenizer = transformers.AutoTokenizer.from_pretrained(detectGPT_default.mask_filling_model_name, model_max_length=mask_model.config.n_positions, cache_dir=detectGPT_default.cache_dir)\n",
    "# detectGPT_default.mask_tokenizer = mask_tokenizer\n",
    "\n",
    "# detectGPT_default.load_base_model()\n",
    "# detectGPT_default.load_mask_model()\n",
    "\n",
    "# run(DetectorDetectGPT.__name__+\" @100 GPT-2\", detectGPT_default)"
   ]
  },
  {
   "cell_type": "code",
   "execution_count": 11,
   "metadata": {},
   "outputs": [],
   "source": [
    "# detectGPT_pythia_100 = DetectorDetectGPT()\n",
    "# detectGPT_pythia_100.n_perturbations = 100\n",
    "\n",
    "# run(DetectorDetectGPT.__name__ +\" @100\", detectGPT_pythia_100)"
   ]
  },
  {
   "cell_type": "code",
   "execution_count": 12,
   "metadata": {},
   "outputs": [],
   "source": [
    "# for detector_class in detector_classes:\n",
    "#     run(detector_class.__name__, detector_class())"
   ]
  },
  {
   "cell_type": "code",
   "execution_count": 13,
   "metadata": {},
   "outputs": [
    {
     "data": {
      "text/html": [
       "<div>\n",
       "<style scoped>\n",
       "    .dataframe tbody tr th:only-of-type {\n",
       "        vertical-align: middle;\n",
       "    }\n",
       "\n",
       "    .dataframe tbody tr th {\n",
       "        vertical-align: top;\n",
       "    }\n",
       "\n",
       "    .dataframe thead th {\n",
       "        text-align: right;\n",
       "    }\n",
       "</style>\n",
       "<table border=\"1\" class=\"dataframe\">\n",
       "  <thead>\n",
       "    <tr style=\"text-align: right;\">\n",
       "      <th></th>\n",
       "      <th>Acc</th>\n",
       "      <th>F1</th>\n",
       "      <th>ROC AUC</th>\n",
       "      <th>TN</th>\n",
       "      <th>FP</th>\n",
       "      <th>FN</th>\n",
       "      <th>TP</th>\n",
       "      <th>ms/evaluation</th>\n",
       "    </tr>\n",
       "    <tr>\n",
       "      <th>Detector</th>\n",
       "      <th></th>\n",
       "      <th></th>\n",
       "      <th></th>\n",
       "      <th></th>\n",
       "      <th></th>\n",
       "      <th></th>\n",
       "      <th></th>\n",
       "      <th></th>\n",
       "    </tr>\n",
       "  </thead>\n",
       "  <tbody>\n",
       "    <tr>\n",
       "      <th>DetectorDetectGPT</th>\n",
       "      <td>0.744262</td>\n",
       "      <td>0.663793</td>\n",
       "      <td>0.743486</td>\n",
       "      <td>150</td>\n",
       "      <td>3</td>\n",
       "      <td>75</td>\n",
       "      <td>77</td>\n",
       "      <td>898.0</td>\n",
       "    </tr>\n",
       "    <tr>\n",
       "      <th>DetectorDetectGPT @100</th>\n",
       "      <td>0.704918</td>\n",
       "      <td>0.579439</td>\n",
       "      <td>0.703947</td>\n",
       "      <td>153</td>\n",
       "      <td>0</td>\n",
       "      <td>90</td>\n",
       "      <td>62</td>\n",
       "      <td>6391.0</td>\n",
       "    </tr>\n",
       "    <tr>\n",
       "      <th>DetectorDetectGPT @100 GPT-2</th>\n",
       "      <td>0.501639</td>\n",
       "      <td>0.000000</td>\n",
       "      <td>0.500000</td>\n",
       "      <td>153</td>\n",
       "      <td>0</td>\n",
       "      <td>152</td>\n",
       "      <td>0</td>\n",
       "      <td>15808.0</td>\n",
       "    </tr>\n",
       "    <tr>\n",
       "      <th>DetectorGuo</th>\n",
       "      <td>0.990164</td>\n",
       "      <td>0.990033</td>\n",
       "      <td>0.990132</td>\n",
       "      <td>153</td>\n",
       "      <td>0</td>\n",
       "      <td>3</td>\n",
       "      <td>149</td>\n",
       "      <td>18.0</td>\n",
       "    </tr>\n",
       "    <tr>\n",
       "      <th>DetectorRadford</th>\n",
       "      <td>0.921311</td>\n",
       "      <td>0.922078</td>\n",
       "      <td>0.921354</td>\n",
       "      <td>139</td>\n",
       "      <td>14</td>\n",
       "      <td>10</td>\n",
       "      <td>142</td>\n",
       "      <td>19.0</td>\n",
       "    </tr>\n",
       "  </tbody>\n",
       "</table>\n",
       "</div>"
      ],
      "text/plain": [
       "                                   Acc        F1   ROC AUC   TN  FP   FN   TP  \\\n",
       "Detector                                                                        \n",
       "DetectorDetectGPT             0.744262  0.663793  0.743486  150   3   75   77   \n",
       "DetectorDetectGPT @100        0.704918  0.579439  0.703947  153   0   90   62   \n",
       "DetectorDetectGPT @100 GPT-2  0.501639  0.000000  0.500000  153   0  152    0   \n",
       "DetectorGuo                   0.990164  0.990033  0.990132  153   0    3  149   \n",
       "DetectorRadford               0.921311  0.922078  0.921354  139  14   10  142   \n",
       "\n",
       "                              ms/evaluation  \n",
       "Detector                                     \n",
       "DetectorDetectGPT                     898.0  \n",
       "DetectorDetectGPT @100               6391.0  \n",
       "DetectorDetectGPT @100 GPT-2        15808.0  \n",
       "DetectorGuo                            18.0  \n",
       "DetectorRadford                        19.0  "
      ]
     },
     "metadata": {},
     "output_type": "display_data"
    },
    {
     "data": {
      "text/html": [
       "<div>\n",
       "<style scoped>\n",
       "    .dataframe tbody tr th:only-of-type {\n",
       "        vertical-align: middle;\n",
       "    }\n",
       "\n",
       "    .dataframe tbody tr th {\n",
       "        vertical-align: top;\n",
       "    }\n",
       "\n",
       "    .dataframe thead th {\n",
       "        text-align: right;\n",
       "    }\n",
       "</style>\n",
       "<table border=\"1\" class=\"dataframe\">\n",
       "  <thead>\n",
       "    <tr style=\"text-align: right;\">\n",
       "      <th></th>\n",
       "      <th>Acc</th>\n",
       "      <th>F1</th>\n",
       "      <th>ROC AUC</th>\n",
       "      <th>TN</th>\n",
       "      <th>FP</th>\n",
       "      <th>FN</th>\n",
       "      <th>TP</th>\n",
       "      <th>ms/evaluation</th>\n",
       "    </tr>\n",
       "    <tr>\n",
       "      <th>Detector</th>\n",
       "      <th></th>\n",
       "      <th></th>\n",
       "      <th></th>\n",
       "      <th></th>\n",
       "      <th></th>\n",
       "      <th></th>\n",
       "      <th></th>\n",
       "      <th></th>\n",
       "    </tr>\n",
       "  </thead>\n",
       "  <tbody>\n",
       "    <tr>\n",
       "      <th>DetectorDetectGPT</th>\n",
       "      <td>0.730315</td>\n",
       "      <td>0.642298</td>\n",
       "      <td>0.730315</td>\n",
       "      <td>496</td>\n",
       "      <td>12</td>\n",
       "      <td>262</td>\n",
       "      <td>246</td>\n",
       "      <td>898.0</td>\n",
       "    </tr>\n",
       "    <tr>\n",
       "      <th>DetectorDetectGPT @100</th>\n",
       "      <td>0.720472</td>\n",
       "      <td>0.613079</td>\n",
       "      <td>0.720472</td>\n",
       "      <td>507</td>\n",
       "      <td>1</td>\n",
       "      <td>283</td>\n",
       "      <td>225</td>\n",
       "      <td>6391.0</td>\n",
       "    </tr>\n",
       "    <tr>\n",
       "      <th>DetectorDetectGPT @100 GPT-2</th>\n",
       "      <td>0.500984</td>\n",
       "      <td>0.003929</td>\n",
       "      <td>0.500984</td>\n",
       "      <td>508</td>\n",
       "      <td>0</td>\n",
       "      <td>507</td>\n",
       "      <td>1</td>\n",
       "      <td>15808.0</td>\n",
       "    </tr>\n",
       "    <tr>\n",
       "      <th>DetectorGuo</th>\n",
       "      <td>0.996063</td>\n",
       "      <td>0.996047</td>\n",
       "      <td>0.996063</td>\n",
       "      <td>508</td>\n",
       "      <td>0</td>\n",
       "      <td>4</td>\n",
       "      <td>504</td>\n",
       "      <td>18.0</td>\n",
       "    </tr>\n",
       "    <tr>\n",
       "      <th>DetectorRadford</th>\n",
       "      <td>0.924213</td>\n",
       "      <td>0.925024</td>\n",
       "      <td>0.924213</td>\n",
       "      <td>464</td>\n",
       "      <td>44</td>\n",
       "      <td>33</td>\n",
       "      <td>475</td>\n",
       "      <td>19.0</td>\n",
       "    </tr>\n",
       "  </tbody>\n",
       "</table>\n",
       "</div>"
      ],
      "text/plain": [
       "                                   Acc        F1   ROC AUC   TN  FP   FN   TP  \\\n",
       "Detector                                                                        \n",
       "DetectorDetectGPT             0.730315  0.642298  0.730315  496  12  262  246   \n",
       "DetectorDetectGPT @100        0.720472  0.613079  0.720472  507   1  283  225   \n",
       "DetectorDetectGPT @100 GPT-2  0.500984  0.003929  0.500984  508   0  507    1   \n",
       "DetectorGuo                   0.996063  0.996047  0.996063  508   0    4  504   \n",
       "DetectorRadford               0.924213  0.925024  0.924213  464  44   33  475   \n",
       "\n",
       "                              ms/evaluation  \n",
       "Detector                                     \n",
       "DetectorDetectGPT                     898.0  \n",
       "DetectorDetectGPT @100               6391.0  \n",
       "DetectorDetectGPT @100 GPT-2        15808.0  \n",
       "DetectorGuo                            18.0  \n",
       "DetectorRadford                        19.0  "
      ]
     },
     "metadata": {},
     "output_type": "display_data"
    }
   ],
   "source": [
    "results_test = []\n",
    "results_full = []\n",
    "for label in os.listdir(CACHE_DIR): \n",
    "    with open(os.path.join(CACHE_DIR, label) , 'rb') as f:\n",
    "        predictions, time = pickle.load(f)\n",
    "        results_test.append((label,\n",
    "                    accuracy_score(gold_labels[0:len(test)], predictions[0:len(test)]),\n",
    "                    f1_score(gold_labels[0:len(test)], predictions[0:len(test)]),\n",
    "                    roc_auc_score(gold_labels[0:len(test)], predictions[0:len(test)]),\n",
    "                    *confusion_matrix(gold_labels[0:len(test)], predictions[0:len(test)]).ravel(), # TN, FP, FN, TP\n",
    "                    time\n",
    "                    ))\n",
    "        results_full.append((label,\n",
    "                    accuracy_score(gold_labels, predictions),\n",
    "                    f1_score(gold_labels, predictions),\n",
    "                    roc_auc_score(gold_labels, predictions),\n",
    "                    *confusion_matrix(gold_labels, predictions).ravel(), # TN, FP, FN, TP\n",
    "                    time\n",
    "                    ))\n",
    "df_test = pd.DataFrame(results_test, columns=columns).set_index(\"Detector\")\n",
    "df_full = pd.DataFrame(results_full, columns=columns).set_index(\"Detector\")\n",
    "\n",
    "display(df_test)\n",
    "display(df_full)"
   ]
  },
  {
   "cell_type": "code",
   "execution_count": null,
   "metadata": {},
   "outputs": [],
   "source": []
  },
  {
   "cell_type": "code",
   "execution_count": 14,
   "metadata": {},
   "outputs": [],
   "source": [
    "with open(\"figures/benchmark_test.tex\", \"w\", encoding=\"UTF-8\") as text_file:\n",
    "    text_file.write(df_test.style.to_latex(environment=\"table\", \n",
    "                                        convert_css=True, \n",
    "                                        clines=\"all;data\", \n",
    "                                        hrules=True, \n",
    "                                        caption=\"Performance on the dataset explanations where generated for (balanced, n={})\".format(len(test)), \n",
    "                                        label=\"table-benchmark_test\"))"
   ]
  },
  {
   "cell_type": "code",
   "execution_count": 15,
   "metadata": {},
   "outputs": [],
   "source": [
    "with open(\"figures/benchmark_full.tex\", \"w\", encoding=\"UTF-8\") as text_file:\n",
    "    text_file.write(df_full.style.to_latex(environment=\"table\", \n",
    "                                        convert_css=True, \n",
    "                                        clines=\"all;data\", \n",
    "                                        hrules=True, \n",
    "                                        caption=\"Performance on the full dataset (balanced, n={})\".format(len(train)+len(test)), \n",
    "                                        label=\"table-benchmark_full\"))"
   ]
  }
 ],
 "metadata": {
  "kernelspec": {
   "display_name": ".venv",
   "language": "python",
   "name": "python3"
  },
  "language_info": {
   "codemirror_mode": {
    "name": "ipython",
    "version": 3
   },
   "file_extension": ".py",
   "mimetype": "text/x-python",
   "name": "python",
   "nbconvert_exporter": "python",
   "pygments_lexer": "ipython3",
   "version": "3.11.1"
  }
 },
 "nbformat": 4,
 "nbformat_minor": 2
}
