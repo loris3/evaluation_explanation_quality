{
 "cells": [
  {
   "cell_type": "code",
   "execution_count": 1,
   "metadata": {},
   "outputs": [],
   "source": [
    "DEBUG = True\n",
    "N_DEBUG = 100"
   ]
  },
  {
   "cell_type": "code",
   "execution_count": 2,
   "metadata": {},
   "outputs": [],
   "source": [
    "import pandas as pd\n",
    "import numpy as np\n",
    "import transformers"
   ]
  },
  {
   "cell_type": "code",
   "execution_count": 3,
   "metadata": {},
   "outputs": [],
   "source": [
    "test = pd.read_pickle(\"./dataset_test.pkl\")\n",
    "test = test # always load the full dataset! (np.random.shuffle(tokenized_sentences)). slice the actual hybrid_documents if debugging!\n",
    "\n",
    "\n",
    "documents = test[\"answer\"]\n",
    "gold_labels = test[\"author\"] == \"human_answers\" # convention: 0: machine, 1: human, see detector.py\n",
    "\n",
    "\n",
    "\n",
    "\n",
    "#from gpt2outputdataset.detector_radford import DetectorRadford\n",
    "#from detectgpt.detector_detectgpt import DetectorDetectGPT\n",
    "from detector_guo import DetectorGuo\n",
    "detector_classes = [DetectorGuo]#,DetectorRadford,DetectorDetectGPT]\n",
    "\n",
    "from explainer_wrappers import LIME_Explainer, SHAP_Explainer\n",
    "explainer_classes = [LIME_Explainer, ]"
   ]
  },
  {
   "cell_type": "code",
   "execution_count": 4,
   "metadata": {},
   "outputs": [
    {
     "name": "stderr",
     "output_type": "stream",
     "text": [
      "Special tokens have been added in the vocabulary, make sure the associated word embeddings are fine-tuned or trained.\n"
     ]
    }
   ],
   "source": [
    "detector = DetectorGuo()"
   ]
  },
  {
   "cell_type": "code",
   "execution_count": 5,
   "metadata": {},
   "outputs": [],
   "source": [
    "import re"
   ]
  },
  {
   "cell_type": "code",
   "execution_count": 6,
   "metadata": {},
   "outputs": [],
   "source": [
    "import torch\n",
    "import pickle"
   ]
  },
  {
   "cell_type": "code",
   "execution_count": 7,
   "metadata": {},
   "outputs": [],
   "source": [
    "DEVICE = \"cuda\"\n",
    "pattern = re.compile(r\"<extra_id_\\d+>\")\n",
    "\n",
    "\n",
    "\n",
    "model = \"t5-small\"\n",
    "cache_dir=\"./.cache\"\n",
    "mask_model = transformers.AutoModelForSeq2SeqLM.from_pretrained(model, cache_dir=cache_dir).to(DEVICE)\n",
    "mask_tokenizer = transformers.AutoTokenizer.from_pretrained(model, model_max_length=mask_model.config.n_positions, cache_dir=cache_dir)#.to(DEVICE)"
   ]
  },
  {
   "cell_type": "code",
   "execution_count": 8,
   "metadata": {},
   "outputs": [],
   "source": [
    "text = documents.iloc[0]#\"This is a simple test sentence.\"\n"
   ]
  },
  {
   "cell_type": "code",
   "execution_count": 9,
   "metadata": {},
   "outputs": [],
   "source": [
    "def get_pertubed_text(text, n=1):\n",
    "    prediction_original = detector.predict_label([text])[0]\n",
    "\n",
    "    past_generations = []\n",
    "    perturbed_text = text\n",
    "  #  print(text)\n",
    "    for _ in range(0,n):\n",
    "        while True: # do while \n",
    "            # generate a perturbed sample\n",
    "            tokens = text.split(' ')\n",
    "            mask = np.zeros_like(tokens, dtype=bool)\n",
    "            mask[np.random.randint(0, len(mask))] = 1 # TODO number of tokens to mask\n",
    "\n",
    "            i = 0\n",
    "            for ii, (m, token) in enumerate(zip(mask, tokens)):\n",
    "                if m:\n",
    "                    tokens[ii] = \"<extra_id_{}>\".format(i)\n",
    "                    i+=1\n",
    "            i-=1\n",
    "            masked_text = ' '.join(tokens)\n",
    "            stop_id = mask_tokenizer.encode(f\"<extra_id_{i+1}>\")[0]\n",
    "\n",
    "\n",
    "            tok = mask_tokenizer(masked_text, return_tensors=\"pt\", padding=True).to(DEVICE)\n",
    "            outputs = mask_model.generate(**tok, max_length=150, do_sample=True, top_p=1, num_return_sequences=1, eos_token_id=stop_id,)# multinomial sampling\n",
    "                                #                stopping_criteria=StoppingCriteriaList([self.stopping_criteria])) # no gains for short tests\n",
    "            mt = mask_tokenizer.batch_decode(outputs, skip_special_tokens=False)\n",
    "\n",
    "            fills = [x for x in re.split(r\"<extra_id_\\d*>\", mt[0]) if x != \"<pad>\"]\n",
    "\n",
    "            for i, (token, m) in enumerate(zip(tokens, mask)):\n",
    "                if m:\n",
    "                    tokens[i] = fills.pop(0).strip()\n",
    "            perturbed_text = \" \".join(tokens)\n",
    "\n",
    "            # check if this is a valid and new perturbation\n",
    "            if (perturbed_text == text) or (perturbed_text in past_generations):\n",
    "                continue\n",
    "            if detector.predict_label([perturbed_text])[0] != prediction_original:\n",
    "                continue\n",
    "            else:\n",
    "                break\n",
    "        past_generations.append(perturbed_text)\n",
    "    return past_generations\n",
    "# TODO detectors are not fully deterministic"
   ]
  },
  {
   "cell_type": "code",
   "execution_count": 10,
   "metadata": {},
   "outputs": [],
   "source": [
    "N_REPLACE = 1\n",
    "documents_and_perturbations = []\n",
    "\n",
    "for document, gold_label in zip(documents,gold_labels):\n",
    "    if gold_label == 1:\n",
    "        continue\n",
    "    # set seeds here so perturbed documents are the same regardless of slice for documents when debugging (and explanations don't have to be regenerated)\n",
    "    np.random.seed(42)\n",
    "    torch.manual_seed(42)\n",
    "    documents_and_perturbations.append((document, gold_label, get_pertubed_text(document, 10)))\n",
    "\n"
   ]
  },
  {
   "cell_type": "code",
   "execution_count": 11,
   "metadata": {},
   "outputs": [],
   "source": [
    "for original, gl, perturbations in documents_and_perturbations:\n",
    "#    print(original)\n",
    "    prediction_original = detector.predict_label([original])[0]\n",
    "  #  print(\"...\")\n",
    "    assert len(perturbations) == len(set(perturbations)), \"Duplicates in perturbations\"\n",
    "    for p in perturbations:\n",
    "        assert detector.predict_label([p])[0] == prediction_original, \"Labels don't match, do you set seed in the detector?\"\n",
    "        \n",
    " #       print(p)\n",
    " #   print(\"------------------------\")\n",
    "    "
   ]
  },
  {
   "cell_type": "code",
   "execution_count": 12,
   "metadata": {},
   "outputs": [
    {
     "data": {
      "text/plain": [
       "[(\"Yes, buying REITs (Real Estate Investment Trusts) can be compared to investing in real estate. REITs are companies that own or finance income-generating real estate, such as apartments, shopping centers, office buildings, and warehouses. They are required to distribute at least 90% of their taxable income to shareholders in the form of dividends, which can make them a good source of passive income. When you buy shares in a REIT, you are essentially investing in a diversified portfolio of real estate assets. Just like with any investment, there are risks involved, including the risk that the value of the REIT's assets may decline or that the REIT may not generate sufficient income to pay dividends to shareholders. It's important to carefully consider these and other risks before making any investment decisions.\",\n",
       "  False,\n",
       "  [\"Yes, buying REITs (Real Estate Investment Trusts) can be compared to investing in real estate. REITs are companies that own or finance income-generating real estate, such as apartments, shopping centers, office buildings, and warehouses. They are required to distribute at least 90% of their taxable income to shareholders in the form of dividends, which can make them a good source of passive income. When you buy shares in a REIT, you are essentially investing in a diversified portfolio of real estate assets. Just like with any investment, there are risks involved, including the risk that the value of the REIT's assets may not increase, or that the REIT may not generate sufficient income to pay dividends to shareholders. It's important to carefully consider these and other risks before making any investment decisions.\",\n",
       "   \"Yes, buying REITs (Real Estate Investment Trusts) can be compared to investing in real estate investment trusts. REITs are companies that own or finance income-generating real estate, such as apartments, shopping centers, office buildings, and warehouses. They are required to distribute at least 90% of their taxable income to shareholders in the form of dividends, which can make them a good source of passive income. When you buy shares in a REIT, you are essentially investing in a diversified portfolio of real estate assets. Just like with any investment, there are risks involved, including the risk that the value of the REIT's assets may decline or that the REIT may not generate sufficient income to pay dividends to shareholders. It's important to carefully consider these and other risks before making any investment decisions.\",\n",
       "   \"Yes, buying REITs (Real Estate Investment Trusts) can be compared to investing in real estate. REITs are companies that own or finance income-generating real estate, such as apartments, shopping centers, office buildings, and warehouses. They are required to distribute at least 90% of their taxable income to shareholders in the form of dividends, which can make them a good source of passive income. When you buy shares in a REIT, you are essentially investing in a diversified portfolio of real estate assets. Just like with any investment, there are risks involved, including the risk that the value of the REIT's assets may decline or that the value of the REIT's assets may not generate sufficient income to pay dividends to shareholders. It's important to carefully consider these and other risks before making any investment decisions.\",\n",
       "   \"Yes, buying REITs (Real Estate Investment Trusts) can be compared to investing in real estate. REITs are companies that own or finance income-generating real estate, such as apartments, shopping centers, office buildings, and warehouses. They are required to distribute at least 90% of their taxable income to shareholders in the form of dividends, which can make them a good source of passive income. When you buy shares in a REIT, you 're essentially investing in a diversified portfolio of real estate assets. Just like with any investment, there are risks involved, including the risk that the value of the REIT's assets may decline or that the REIT may not generate sufficient income to pay dividends to shareholders. It's important to carefully consider these and other risks before making any investment decisions.\",\n",
       "   \"Yes, buying REITs (Real Estate Investment Trusts) can be compared to investing in real estate. REITs are companies that own and finance income-generating real estate, such as apartments, shopping centers, office buildings, and warehouses. They are required to distribute at least 90% of their taxable income to shareholders in the form of dividends, which can make them a good source of passive income. When you buy shares in a REIT, you are essentially investing in a diversified portfolio of real estate assets. Just like with any investment, there are risks involved, including the risk that the value of the REIT's assets may decline or that the REIT may not generate sufficient income to pay dividends to shareholders. It's important to carefully consider these and other risks before making any investment decisions.\",\n",
       "   \"Yes, buying REITs (Real Estate Investment Trusts) can be compared to investing in real estate. REITs are companies that own or finance income-generating real estate, such as apartments, shopping centers, office buildings, and warehouses. They are required to distribute at least 90% of their taxable income to shareholders in the form of dividends, which can make them a good source of passive income. When you buy shares in a REIT, you are essentially investing in a diversified portfolio of real estate assets. Just like with any investment, there are risks involved, including the risk that the value of the REIT's assets may not increase or that the REIT may not generate sufficient income to pay dividends to shareholders. It's important to carefully consider these and other risks before making any investment decisions.\",\n",
       "   \"Yes, buying REITs (Real Estate Investment Trusts) can be compared to investing in real estate. REITs are companies that own or finance income-generating real estate, such as apartments, shopping centers, office buildings, and warehouses. They are required to distribute at least 90% of their taxable income to shareholders in the form of dividends, which can make them a good source of passive income. When you buy shares in a REIT, you are essentially investing in a diversified portfolio of real estate assets. Just like with any investment, there are risks involved, including the risk that the value of the REIT's assets may decline or that the REIT may not generate sufficient income to pay dividends to shareholders, not shareholders. It's important to carefully consider these and other risks before making any investment decisions.\",\n",
       "   \"Yes, buying REITs (Real Estate Investment Trusts) can be compared to investing in real estate. REITs are companies that own or finance income-generating real estate, such as apartments, shopping centers, office buildings, and warehouses. They are required to distribute at least 90% of their taxable income to shareholders in the form of dividends, which can make them a good source of passive income. When you buy shares in a REIT, you are essentially investing in a diversified portfolio of real estate assets. Just like with any investment, there are risks involved, including the risk that the value of the real estate assets may decline or that the REIT may not generate sufficient income to pay dividends to shareholders. It's important to carefully consider these and other risks before making any investment decisions.\",\n",
       "   \"Yes, buying REITs (Real Estate Investment Trusts) can be compared to investing in real estate. REITs are companies that own or finance income-generating real estate, such as apartments, shopping centers, office buildings, and warehouses. They are required to distribute at least 90% of their taxable income to shareholders in the form of shares which can make them a good source of passive income. When you buy shares in a REIT, you are essentially investing in a diversified portfolio of real estate assets. Just like with any investment, there are risks involved, including the risk that the value of the REIT's assets may decline or that the REIT may not generate sufficient income to pay dividends to shareholders. It's important to carefully consider these and other risks before making any investment decisions.\",\n",
       "   \"Yes, investing in REITs (Real Estate Investment Trusts) can be compared to investing in real estate. REITs are companies that own or finance income-generating real estate, such as apartments, shopping centers, office buildings, and warehouses. They are required to distribute at least 90% of their taxable income to shareholders in the form of dividends, which can make them a good source of passive income. When you buy shares in a REIT, you are essentially investing in a diversified portfolio of real estate assets. Just like with any investment, there are risks involved, including the risk that the value of the REIT's assets may decline or that the REIT may not generate sufficient income to pay dividends to shareholders. It's important to carefully consider these and other risks before making any investment decisions.\"]),\n",
       " ('Institutional investors are organizations that invest on behalf of their clients, such as pension funds, mutual funds, endowments, and insurance companies. These investors typically have a large amount of capital to invest and may be seeking to diversify their portfolios across a variety of asset classes. Institutional investors may also be seeking to generate returns or achieve specific investment goals on behalf of their clients. They may conduct extensive research and analysis to identify investment opportunities and make informed decisions about where to allocate their capital. Institutional investors play a significant role in financial markets and often have a significant impact on the prices of securities and other assets.',\n",
       "  False,\n",
       "  ['Institutional investors are organizations that invest on behalf of their clients, such as pension funds, mutual funds, endowments, and insurance companies. These investors typically have a large amount of capital to invest and may be seeking to diversify their portfolios across a variety of asset classes. Institutional investors may also be seeking to generate returns or achieve specific investment goals on behalf of their clients. They may conduct extensive research and analysis to identify investment opportunities and make informed decisions about where to allocate their capital. Institutional investors play a significant role in the global financial and financial markets and often have a significant impact on the prices of securities and other assets.',\n",
       "   'Institutional investors are organizations that invest on behalf of their clients, such as pension s, mutual funds, endowments, and insurance companies. These investors typically have a large amount of capital to invest and may be seeking to diversify their portfolios across a variety of asset classes. Institutional investors may also be seeking to generate returns or achieve specific investment goals on behalf of their clients. They may conduct extensive research and analysis to identify investment opportunities and make informed decisions about where to allocate their capital. Institutional investors play a significant role in financial markets and often have a significant impact on the prices of securities and other assets.',\n",
       "   'Institutional investors are organizations that invest on behalf of their clients, such as pension funds, mutual funds, endowments, and insurance companies. These investors typically have a large amount of capital to invest and may be seeking to diversify their portfolios across a variety of asset classes. Institutional investors may also be seeking to generate returns or achieve specific investment goals on behalf of their clients. They may conduct extensive research and study to identify investment opportunities and make informed decisions about where to allocate their capital. Institutional investors play a significant role in financial markets and often have a significant impact on the prices of securities and other assets.',\n",
       "   'Institutional investors are organizations that invest on behalf of their clients, such as pension funds, mutual funds, endowments, and insurance products. These investors typically have a large amount of capital to invest and may be seeking to diversify their portfolios across a variety of asset classes. Institutional investors may also be seeking to generate returns or achieve specific investment goals on behalf of their clients. They may conduct extensive research and analysis to identify investment opportunities and make informed decisions about where to allocate their capital. Institutional investors play a significant role in financial markets and often have a significant impact on the prices of securities and other assets.',\n",
       "   'Institutional investors are organizations that invest on behalf of their clients, such as pension funds, mutual funds, endowments, and insurance companies. These investors typically have a large amount of capital to invest and may be seeking to diversify their portfolios across a variety of asset classes. Institutional investors may also be seeking to generate returns or achieve specific investment goals on behalf of their clients. They may conduct extensive research and analysis to identify investment opportunities and make informed decisions about where to allocate their capital. Institutional investors play a significant role in financial markets and often have a significant impact on the quality of securities and other assets.',\n",
       "   'Institutional investors are organizations that invest on behalf of their clients, such as pension funds, mutual funds, endowments, and insurance companies. These investors are organizations that invest on behalf of their clients but can have a large amount of capital to invest and may be seeking to diversify their portfolios across a variety of asset classes. Institutional investors may also be seeking to generate returns or achieve specific investment goals on behalf of their clients. They may conduct extensive research and analysis to identify investment opportunities and make informed decisions about where to allocate their capital. Institutional investors play a significant role in financial markets and often have a significant impact on the prices of securities and other assets.',\n",
       "   'Institutional investors are organizations that invest on behalf of their clients, such as pension funds, mutual funds, endowments, and insurance companies. Institutional investors typically have a large amount of capital to invest and may be seeking to diversify their portfolios across a variety of asset classes. Institutional investors may also be seeking to generate returns or achieve specific investment goals on behalf of their clients. They may conduct extensive research and analysis to identify investment opportunities and make informed decisions about where to allocate their capital. Institutional investors play a significant role in financial markets and often have a significant impact on the prices of securities and other assets.',\n",
       "   'Institutional investors are organizations that invest on behalf of their clients, such as pension funds, mutual funds, endowments, and insurance companies. These investors typically have a large amount of capital to invest and may be seeking to diversify their portfolios across a variety of asset classes. Institutional investors may also be seeking to generate returns or achieve specific investment goals on behalf of their clients. They may conduct extensive research and analysis to identify investment opportunities and make informed decisions about where to allocate their capital. Institutional investors play a significant role in financial markets and often have a significant impact on the prices of securities and securities. Institutional investors are organizations that invest on behalf of their clients, such as pension funds and mutual funds. These investors may also be seeking to obtain investment opportunities or achieve specific investment goals on behalf of their clients. In this context Institutional investors can be an integral part of the financial market and can affect asset classes and other asset classes as well.</s></s>, they may be concerned with investing opportunities and investment opportunities available on various occasions.</s> the investment results are not exhaustive or exhaustive, research may be done to further establish their goals.</s></s> investors</s></s></s></s></s></s></s></s></s></s></s></s></s></s></s></s></s></s></s></s></s></s></s></s></s></s></s></s></s></s></s></s></s></s></s></s> assets.',\n",
       "   'Institutional investors are organizations that invest on behalf of their clients, such as pension funds, mutual funds, endowments, and insurance companies. These investors typically have a large amount of resources available to invest and may be seeking to diversify their portfolios across a variety of asset classes. Institutional investors may also be seeking to generate returns or achieve specific investment goals on behalf of their clients. They may conduct extensive research and analysis to identify investment opportunities and make informed decisions about where to allocate their capital. Institutional investors play a significant role in financial markets and often have a significant impact on the prices of securities and other assets.',\n",
       "   'Institutional investors are organizations that invest on behalf of their clients, such as pension funds, mutual funds, endowments, and insurance companies. These investors typically have a large amount of capital to invest and may be seeking to narrow down and expand their portfolios across a variety of asset classes. Institutional investors may also be seeking to generate returns or achieve specific investment goals on behalf of their clients. They may conduct extensive research and analysis to identify investment opportunities and make informed decisions about where to allocate their capital. Institutional investors play a significant role in financial markets and often have a significant impact on the prices of securities and other assets.'])]"
      ]
     },
     "execution_count": 12,
     "metadata": {},
     "output_type": "execute_result"
    }
   ],
   "source": [
    "# TODO store documents_and_perturbations\n",
    "documents_and_perturbations"
   ]
  },
  {
   "cell_type": "code",
   "execution_count": 13,
   "metadata": {},
   "outputs": [
    {
     "name": "stdout",
     "output_type": "stream",
     "text": [
      "regen Yes, buying REITs (Real Estate Investment Trusts) can be compared to investing in real estate. REITs are companies that own or finance income-generating real estate, such as apartments, shopping centers, office buildings, and warehouses. They are required to distribute at least 90% of their taxable income to shareholders in the form of dividends, which can make them a good source of passive income. When you buy shares in a REIT, you are essentially investing in a diversified portfolio of real estate assets. Just like with any investment, there are risks involved, including the risk that the value of the REIT's assets may decline or that the value of the REIT's assets may not generate sufficient income to pay dividends to shareholders. It's important to carefully consider these and other risks before making any investment decisions.\n",
      "regen Yes, buying REITs (Real Estate Investment Trusts) can be compared to investing in real estate. REITs are companies that own or finance income-generating real estate, such as apartments, shopping centers, office buildings, and warehouses. They are required to distribute at least 90% of their taxable income to shareholders in the form of dividends, which can make them a good source of passive income. When you buy shares in a REIT, you 're essentially investing in a diversified portfolio of real estate assets. Just like with any investment, there are risks involved, including the risk that the value of the REIT's assets may decline or that the REIT may not generate sufficient income to pay dividends to shareholders. It's important to carefully consider these and other risks before making any investment decisions.\n",
      "regen Yes, buying REITs (Real Estate Investment Trusts) can be compared to investing in real estate. REITs are companies that own and finance income-generating real estate, such as apartments, shopping centers, office buildings, and warehouses. They are required to distribute at least 90% of their taxable income to shareholders in the form of dividends, which can make them a good source of passive income. When you buy shares in a REIT, you are essentially investing in a diversified portfolio of real estate assets. Just like with any investment, there are risks involved, including the risk that the value of the REIT's assets may decline or that the REIT may not generate sufficient income to pay dividends to shareholders. It's important to carefully consider these and other risks before making any investment decisions.\n",
      "regen Yes, buying REITs (Real Estate Investment Trusts) can be compared to investing in real estate. REITs are companies that own or finance income-generating real estate, such as apartments, shopping centers, office buildings, and warehouses. They are required to distribute at least 90% of their taxable income to shareholders in the form of dividends, which can make them a good source of passive income. When you buy shares in a REIT, you are essentially investing in a diversified portfolio of real estate assets. Just like with any investment, there are risks involved, including the risk that the value of the REIT's assets may not increase or that the REIT may not generate sufficient income to pay dividends to shareholders. It's important to carefully consider these and other risks before making any investment decisions.\n",
      "regen Yes, buying REITs (Real Estate Investment Trusts) can be compared to investing in real estate. REITs are companies that own or finance income-generating real estate, such as apartments, shopping centers, office buildings, and warehouses. They are required to distribute at least 90% of their taxable income to shareholders in the form of dividends, which can make them a good source of passive income. When you buy shares in a REIT, you are essentially investing in a diversified portfolio of real estate assets. Just like with any investment, there are risks involved, including the risk that the value of the REIT's assets may decline or that the REIT may not generate sufficient income to pay dividends to shareholders, not shareholders. It's important to carefully consider these and other risks before making any investment decisions.\n",
      "regen Yes, buying REITs (Real Estate Investment Trusts) can be compared to investing in real estate. REITs are companies that own or finance income-generating real estate, such as apartments, shopping centers, office buildings, and warehouses. They are required to distribute at least 90% of their taxable income to shareholders in the form of dividends, which can make them a good source of passive income. When you buy shares in a REIT, you are essentially investing in a diversified portfolio of real estate assets. Just like with any investment, there are risks involved, including the risk that the value of the real estate assets may decline or that the REIT may not generate sufficient income to pay dividends to shareholders. It's important to carefully consider these and other risks before making any investment decisions.\n"
     ]
    }
   ],
   "source": [
    "for explainer_class in explainer_classes:\n",
    "        explainer = explainer_class(detector)\n",
    "        for original, gl, perturbations in documents_and_perturbations:\n",
    "            explainer.get_explanation_cached(original)\n",
    "            for p in perturbations:\n",
    "                explainer.get_explanation_cached(p)"
   ]
  },
  {
   "cell_type": "code",
   "execution_count": null,
   "metadata": {},
   "outputs": [],
   "source": [
    "# generate all explanations\n"
   ]
  }
 ],
 "metadata": {
  "kernelspec": {
   "display_name": ".venv",
   "language": "python",
   "name": "python3"
  },
  "language_info": {
   "codemirror_mode": {
    "name": "ipython",
    "version": 3
   },
   "file_extension": ".py",
   "mimetype": "text/x-python",
   "name": "python",
   "nbconvert_exporter": "python",
   "pygments_lexer": "ipython3",
   "version": "3.11.1"
  }
 },
 "nbformat": 4,
 "nbformat_minor": 2
}
