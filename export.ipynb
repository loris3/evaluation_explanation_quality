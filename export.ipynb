{
 "cells": [
  {
   "cell_type": "code",
   "execution_count": 1,
   "metadata": {},
   "outputs": [],
   "source": [
    "EXPORT_DIR = \"../survey/import/\""
   ]
  },
  {
   "cell_type": "code",
   "execution_count": 2,
   "metadata": {},
   "outputs": [],
   "source": [
    "from gpt2outputdataset.detector_radford import DetectorRadford\n",
    "from detectgpt.detector_detectgpt import DetectorDetectGPT\n",
    "from detector_guo import DetectorGuo\n",
    "from explainer_wrappers import LIME_Explainer, SHAP_Explainer, Anchor_Explainer"
   ]
  },
  {
   "cell_type": "code",
   "execution_count": 3,
   "metadata": {},
   "outputs": [],
   "source": [
    "explainer_classes = [LIME_Explainer, SHAP_Explainer]\n",
    "detector_classes = [ DetectorGuo, DetectorRadford]"
   ]
  },
  {
   "cell_type": "code",
   "execution_count": 4,
   "metadata": {},
   "outputs": [],
   "source": [
    "import pandas as pd\n",
    "import json\n",
    "import os"
   ]
  },
  {
   "cell_type": "code",
   "execution_count": 5,
   "metadata": {},
   "outputs": [],
   "source": [
    "df = pd.read_pickle(\"./dataset_user_study_mock.pkl\")\n"
   ]
  },
  {
   "cell_type": "code",
   "execution_count": 6,
   "metadata": {},
   "outputs": [
    {
     "data": {
      "text/html": [
       "<div>\n",
       "<style scoped>\n",
       "    .dataframe tbody tr th:only-of-type {\n",
       "        vertical-align: middle;\n",
       "    }\n",
       "\n",
       "    .dataframe tbody tr th {\n",
       "        vertical-align: top;\n",
       "    }\n",
       "\n",
       "    .dataframe thead th {\n",
       "        text-align: right;\n",
       "    }\n",
       "</style>\n",
       "<table border=\"1\" class=\"dataframe\">\n",
       "  <thead>\n",
       "    <tr style=\"text-align: right;\">\n",
       "      <th></th>\n",
       "      <th>Detector</th>\n",
       "      <th>Explainer</th>\n",
       "      <th>Documents Phases 1+3</th>\n",
       "      <th>Documents Phases 2+4</th>\n",
       "      <th>f(a)</th>\n",
       "      <th>f(b)</th>\n",
       "      <th>GT a</th>\n",
       "      <th>GT b</th>\n",
       "      <th>idx a</th>\n",
       "      <th>idx b</th>\n",
       "      <th>hash a</th>\n",
       "      <th>hash b</th>\n",
       "    </tr>\n",
       "  </thead>\n",
       "  <tbody>\n",
       "    <tr>\n",
       "      <th>0</th>\n",
       "      <td>DetectorGuo</td>\n",
       "      <td>LIME_Explainer</td>\n",
       "      <td>The UK has historically aggressive financial l...</td>\n",
       "      <td>The word bespoke means made to order. Bespoke ...</td>\n",
       "      <td>1</td>\n",
       "      <td>1</td>\n",
       "      <td>True</td>\n",
       "      <td>True</td>\n",
       "      <td>237</td>\n",
       "      <td>276</td>\n",
       "      <td>8f1e6fbc370ec179204b1bddc3deb954e294f8e3c4e61c...</td>\n",
       "      <td>c4ca38facec5ee2dc55e7cfbf11c3df5415d01432efdc4...</td>\n",
       "    </tr>\n",
       "    <tr>\n",
       "      <th>1</th>\n",
       "      <td>DetectorGuo</td>\n",
       "      <td>LIME_Explainer</td>\n",
       "      <td>I think the answer to this is just \"no.\"  It's...</td>\n",
       "      <td>Hi, one of the reasons for delay in period in ...</td>\n",
       "      <td>1</td>\n",
       "      <td>1</td>\n",
       "      <td>True</td>\n",
       "      <td>True</td>\n",
       "      <td>139</td>\n",
       "      <td>198</td>\n",
       "      <td>5c4703ed572fdad055906b8811355e7a3ad3794ecc2ed2...</td>\n",
       "      <td>3e70892a7fa30135b1f125feac4ee090dfa50d1a07f97a...</td>\n",
       "    </tr>\n",
       "    <tr>\n",
       "      <th>2</th>\n",
       "      <td>DetectorGuo</td>\n",
       "      <td>SHAP_Explainer</td>\n",
       "      <td>It is generally not possible for an adult to b...</td>\n",
       "      <td>Ex Machina is a 2014 science fiction film writ...</td>\n",
       "      <td>0</td>\n",
       "      <td>0</td>\n",
       "      <td>False</td>\n",
       "      <td>False</td>\n",
       "      <td>59</td>\n",
       "      <td>68</td>\n",
       "      <td>bf5cc4428ba8a20b7f40625ce7893a43aa9b3652f73d1c...</td>\n",
       "      <td>f5851c5a8dedccdfae60f3db0e8db835f5e567b6f8f88a...</td>\n",
       "    </tr>\n",
       "    <tr>\n",
       "      <th>3</th>\n",
       "      <td>DetectorGuo</td>\n",
       "      <td>SHAP_Explainer</td>\n",
       "      <td>Depends on how you measure liquidity.  There's...</td>\n",
       "      <td>The reason is, stores want customers to use ca...</td>\n",
       "      <td>1</td>\n",
       "      <td>1</td>\n",
       "      <td>True</td>\n",
       "      <td>True</td>\n",
       "      <td>30</td>\n",
       "      <td>121</td>\n",
       "      <td>48ccd95896b29bef9ffd5a14addf3235e368318b8a7f66...</td>\n",
       "      <td>1c3c9f892ad6b9339c6c9e647691a8fd193d5e7c537909...</td>\n",
       "    </tr>\n",
       "    <tr>\n",
       "      <th>4</th>\n",
       "      <td>DetectorGuo</td>\n",
       "      <td>Anchor_Explainer</td>\n",
       "      <td>Yes, Volvo is a public company. It is listed o...</td>\n",
       "      <td>Chase credit cards are widely accepted for pur...</td>\n",
       "      <td>0</td>\n",
       "      <td>0</td>\n",
       "      <td>False</td>\n",
       "      <td>False</td>\n",
       "      <td>15</td>\n",
       "      <td>111</td>\n",
       "      <td>6bec45b04093791ca905d5a2b6a7fa6a905a64f965b546...</td>\n",
       "      <td>0d0911b39b0d882b399d09f73a5014af915ac9232e1594...</td>\n",
       "    </tr>\n",
       "    <tr>\n",
       "      <th>5</th>\n",
       "      <td>DetectorGuo</td>\n",
       "      <td>Anchor_Explainer</td>\n",
       "      <td>I've heard of handyman type people making a li...</td>\n",
       "      <td>Both are saying essentially the same thing.  T...</td>\n",
       "      <td>1</td>\n",
       "      <td>1</td>\n",
       "      <td>True</td>\n",
       "      <td>True</td>\n",
       "      <td>0</td>\n",
       "      <td>52</td>\n",
       "      <td>6a66e7a115420485acd54c0cb9e5dc4e9e508b29af4b54...</td>\n",
       "      <td>714b04dd8923e09ea3f370b93660441d792104140d13d3...</td>\n",
       "    </tr>\n",
       "  </tbody>\n",
       "</table>\n",
       "</div>"
      ],
      "text/plain": [
       "      Detector         Explainer  \\\n",
       "0  DetectorGuo    LIME_Explainer   \n",
       "1  DetectorGuo    LIME_Explainer   \n",
       "2  DetectorGuo    SHAP_Explainer   \n",
       "3  DetectorGuo    SHAP_Explainer   \n",
       "4  DetectorGuo  Anchor_Explainer   \n",
       "5  DetectorGuo  Anchor_Explainer   \n",
       "\n",
       "                                Documents Phases 1+3  \\\n",
       "0  The UK has historically aggressive financial l...   \n",
       "1  I think the answer to this is just \"no.\"  It's...   \n",
       "2  It is generally not possible for an adult to b...   \n",
       "3  Depends on how you measure liquidity.  There's...   \n",
       "4  Yes, Volvo is a public company. It is listed o...   \n",
       "5  I've heard of handyman type people making a li...   \n",
       "\n",
       "                                Documents Phases 2+4  f(a)  f(b)   GT a  \\\n",
       "0  The word bespoke means made to order. Bespoke ...     1     1   True   \n",
       "1  Hi, one of the reasons for delay in period in ...     1     1   True   \n",
       "2  Ex Machina is a 2014 science fiction film writ...     0     0  False   \n",
       "3  The reason is, stores want customers to use ca...     1     1   True   \n",
       "4  Chase credit cards are widely accepted for pur...     0     0  False   \n",
       "5  Both are saying essentially the same thing.  T...     1     1   True   \n",
       "\n",
       "    GT b  idx a  idx b                                             hash a  \\\n",
       "0   True    237    276  8f1e6fbc370ec179204b1bddc3deb954e294f8e3c4e61c...   \n",
       "1   True    139    198  5c4703ed572fdad055906b8811355e7a3ad3794ecc2ed2...   \n",
       "2  False     59     68  bf5cc4428ba8a20b7f40625ce7893a43aa9b3652f73d1c...   \n",
       "3   True     30    121  48ccd95896b29bef9ffd5a14addf3235e368318b8a7f66...   \n",
       "4  False     15    111  6bec45b04093791ca905d5a2b6a7fa6a905a64f965b546...   \n",
       "5   True      0     52  6a66e7a115420485acd54c0cb9e5dc4e9e508b29af4b54...   \n",
       "\n",
       "                                              hash b  \n",
       "0  c4ca38facec5ee2dc55e7cfbf11c3df5415d01432efdc4...  \n",
       "1  3e70892a7fa30135b1f125feac4ee090dfa50d1a07f97a...  \n",
       "2  f5851c5a8dedccdfae60f3db0e8db835f5e567b6f8f88a...  \n",
       "3  1c3c9f892ad6b9339c6c9e647691a8fd193d5e7c537909...  \n",
       "4  0d0911b39b0d882b399d09f73a5014af915ac9232e1594...  \n",
       "5  714b04dd8923e09ea3f370b93660441d792104140d13d3...  "
      ]
     },
     "execution_count": 6,
     "metadata": {},
     "output_type": "execute_result"
    }
   ],
   "source": [
    "df"
   ]
  },
  {
   "cell_type": "code",
   "execution_count": 7,
   "metadata": {},
   "outputs": [],
   "source": [
    "if not os.path.exists(os.path.join(EXPORT_DIR)): \n",
    "    os.makedirs(os.path.join(EXPORT_DIR))\n",
    "if not os.path.exists(os.path.join(EXPORT_DIR, \"explanations\")): \n",
    "    os.makedirs(os.path.join(EXPORT_DIR, \"explanations\"))\n",
    "if not os.path.exists(os.path.join(EXPORT_DIR, \"explanations\", \"html\")): \n",
    "    os.makedirs(os.path.join(EXPORT_DIR, \"explanations\", \"html\"))\n",
    "if not os.path.exists(os.path.join(EXPORT_DIR, \"explanations\", \"data\")): \n",
    "    os.makedirs(os.path.join(EXPORT_DIR, \"explanations\", \"data\"))"
   ]
  },
  {
   "cell_type": "code",
   "execution_count": 8,
   "metadata": {},
   "outputs": [
    {
     "name": "stderr",
     "output_type": "stream",
     "text": [
      "Importing display from IPython.core.display is deprecated since IPython 7.14, please import from IPython display\n"
     ]
    }
   ],
   "source": [
    "from IPython.core.display import display, HTML"
   ]
  },
  {
   "cell_type": "code",
   "execution_count": 9,
   "metadata": {},
   "outputs": [
    {
     "name": "stderr",
     "output_type": "stream",
     "text": [
      "Special tokens have been added in the vocabulary, make sure the associated word embeddings are fine-tuned or trained.\n",
      "Generating explanations: 100%|██████████| 2/2 [00:00<00:00, 399.88it/s]\n",
      "Generating explanations: 100%|██████████| 2/2 [00:00<00:00, 666.56it/s]\n",
      "Generating explanations: 100%|██████████| 2/2 [00:00<00:00, 999.95it/s]\n",
      "Generating explanations: 100%|██████████| 2/2 [00:00<00:00, 666.56it/s]\n",
      "Generating explanations: 100%|██████████| 2/2 [00:00<00:00, 2008.77it/s]\n",
      "Generating explanations: 100%|██████████| 2/2 [00:00<00:00, 999.60it/s]\n",
      "Generating explanations: 100%|██████████| 2/2 [00:00<00:00, 1998.24it/s]\n",
      "Generating explanations: 100%|██████████| 2/2 [00:00<00:00, 666.08it/s]\n",
      "Generating explanations: 100%|██████████| 2/2 [00:00<00:00, 1999.67it/s]\n",
      "Generating explanations: 100%|██████████| 2/2 [00:00<00:00, 1997.76it/s]\n",
      "Generating explanations: 100%|██████████| 2/2 [00:00<00:00, 998.29it/s]\n",
      "Generating explanations: 100%|██████████| 2/2 [00:00<00:00, 1999.19it/s]\n",
      "Generating explanations: 100%|██████████| 2/2 [00:00<00:00, 333.33it/s]\n",
      "Generating explanations: 100%|██████████| 2/2 [00:00<00:00, 666.93it/s]\n",
      "Generating explanations: 100%|██████████| 2/2 [00:00<00:00, 666.45it/s]\n",
      "Generating explanations: 100%|██████████| 2/2 [00:00<00:00, 500.10it/s]\n",
      "Generating explanations: 100%|██████████| 2/2 [00:00<00:00, 999.24it/s]\n",
      "Generating explanations: 100%|██████████| 2/2 [00:00<00:00, 1000.43it/s]\n",
      "Generating explanations: 100%|██████████| 2/2 [00:00<00:00, 665.82it/s]\n",
      "Generating explanations: 100%|██████████| 2/2 [00:00<00:00, 2003.01it/s]\n",
      "Generating explanations: 100%|██████████| 2/2 [00:00<00:00, 1998.24it/s]\n",
      "Generating explanations: 100%|██████████| 2/2 [00:00<00:00, 1979.85it/s]\n",
      "Generating explanations: 100%|██████████| 2/2 [00:00<00:00, 1994.44it/s]\n",
      "Generating explanations: 100%|██████████| 2/2 [00:00<00:00, 1992.07it/s]\n"
     ]
    }
   ],
   "source": [
    "\n",
    "for detector_class in detector_classes:\n",
    "    detector = detector_class()\n",
    "    for explainer_class in explainer_classes:\n",
    "        explainer = explainer_class(detector)\n",
    "        for index, row in df.iterrows():\n",
    "            a = row[\"Documents Phases 1+3\"]\n",
    "            b = row[\"Documents Phases 2+4\"]\n",
    "            \n",
    "            explainer.get_fi_scores_batch([row[\"Documents Phases 1+3\"],row[\"Documents Phases 2+4\"] ]) # caches explanations\n",
    "            # Phase 1 + 3: \n",
    "            path_explanation_html = os.path.join(EXPORT_DIR, \"explanations\", \"html\", explainer.get_hash(a)+\".html\")\n",
    "            with open(path_explanation_html, \"w\", encoding=\"UTF-8\") as text_file:\n",
    "                text_file.write(explainer.get_highlighted_text_HTML(a))\n",
    "            path_explanation_json = os.path.join(EXPORT_DIR, \"explanations\", \"data\", explainer.get_hash(a)+\".json\")\n",
    "            with open(path_explanation_json, \"w\", encoding=\"UTF-8\") as text_file:\n",
    "                explanation_data = { # do not include explanation\n",
    "                    \"document_nr\": index,\n",
    "                    \"detector\" : detector.__class__.__name__,\n",
    "                    \"explainer\" : explainer.__class__.__name__,\n",
    "                    \"ground_truth\" : row[\"GT a\"],\n",
    "                    \"detector_label\" : int(detector.predict_label([row[\"Documents Phases 1+3\"]])[0]),\n",
    "                    \"detector_p_machine\": float(detector.predict_proba([row[\"Documents Phases 1+3\"]])[0][0]),\n",
    "                    \"detector_p_human\": float(detector.predict_proba([row[\"Documents Phases 1+3\"]])[0][1]),\n",
    "                    \"document\": row[\"Documents Phases 1+3\"],\n",
    "                    \"explanation_filename\": explainer.get_hash(a),               \n",
    "                }\n",
    "                text_file.write(json.dumps(explanation_data))\n",
    "            # Phase 2+4: Just string\n",
    "            path_explanation_html = os.path.join(EXPORT_DIR, \"explanations\", \"html\", explainer.get_hash(b)+\".html\")\n",
    "           # display(HTML(explainer.get_highlighted_text_HTML(b)))\n",
    "            with open(path_explanation_html, \"w\", encoding=\"UTF-8\") as text_file:\n",
    "                text_file.write(explainer.get_highlighted_text_HTML(b))\n",
    "            path_explanation_json = os.path.join(EXPORT_DIR, \"explanations\", \"data\", explainer.get_hash(b)+\".json\")\n",
    "            with open(path_explanation_json, \"w\", encoding=\"UTF-8\") as text_file:\n",
    "                explanation_data = { # do not include explanation\n",
    "                    \"document_nr\": index,\n",
    "                    \"detector\" : detector.__class__.__name__,\n",
    "                    \"explainer\" : explainer.__class__.__name__,\n",
    "                    \"document\": row[\"Documents Phases 2+4\"]                \n",
    "                }\n",
    "                text_file.write(json.dumps(explanation_data))\n",
    "                \n",
    "            "
   ]
  },
  {
   "cell_type": "code",
   "execution_count": 10,
   "metadata": {},
   "outputs": [
    {
     "data": {
      "text/plain": [
       "['DetectorGuo', 'DetectorRadford']"
      ]
     },
     "execution_count": 10,
     "metadata": {},
     "output_type": "execute_result"
    }
   ],
   "source": [
    "[detector_class.__name__ for detector_class in detector_classes ]"
   ]
  }
 ],
 "metadata": {
  "kernelspec": {
   "display_name": ".venv",
   "language": "python",
   "name": "python3"
  },
  "language_info": {
   "codemirror_mode": {
    "name": "ipython",
    "version": 3
   },
   "file_extension": ".py",
   "mimetype": "text/x-python",
   "name": "python",
   "nbconvert_exporter": "python",
   "pygments_lexer": "ipython3",
   "version": "3.11.1"
  }
 },
 "nbformat": 4,
 "nbformat_minor": 2
}
