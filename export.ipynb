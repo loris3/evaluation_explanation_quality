{
 "cells": [
  {
   "cell_type": "code",
   "execution_count": 1,
   "metadata": {},
   "outputs": [],
   "source": [
    "EXPORT_DIR = \"../survey/import_new/\""
   ]
  },
  {
   "cell_type": "code",
   "execution_count": 2,
   "metadata": {},
   "outputs": [],
   "source": [
    "from gpt2outputdataset.detector_radford import DetectorRadford\n",
    "from detectgpt.detector_detectgpt import DetectorDetectGPT\n",
    "from detector_guo import DetectorGuo\n",
    "from explainer_wrappers import LIME_Explainer, SHAP_Explainer, Anchor_Explainer"
   ]
  },
  {
   "cell_type": "code",
   "execution_count": 3,
   "metadata": {},
   "outputs": [],
   "source": [
    "explainer_classes = [LIME_Explainer, SHAP_Explainer, Anchor_Explainer]\n",
    "detector_classes = [ DetectorGuo, DetectorRadford, DetectorDetectGPT]"
   ]
  },
  {
   "cell_type": "code",
   "execution_count": 4,
   "metadata": {},
   "outputs": [],
   "source": [
    "# explainer_classes = [Anchor_Explainer ]\n",
    "# detector_classes = [ DetectorGuo]"
   ]
  },
  {
   "cell_type": "code",
   "execution_count": 5,
   "metadata": {},
   "outputs": [],
   "source": [
    "import pandas as pd\n",
    "import json\n",
    "import os"
   ]
  },
  {
   "cell_type": "code",
   "execution_count": 6,
   "metadata": {},
   "outputs": [],
   "source": [
    "df = pd.read_pickle(\"./dataset_user_study_new.pkl\")\n"
   ]
  },
  {
   "cell_type": "code",
   "execution_count": 7,
   "metadata": {},
   "outputs": [
    {
     "data": {
      "text/html": [
       "<div>\n",
       "<style scoped>\n",
       "    .dataframe tbody tr th:only-of-type {\n",
       "        vertical-align: middle;\n",
       "    }\n",
       "\n",
       "    .dataframe tbody tr th {\n",
       "        vertical-align: top;\n",
       "    }\n",
       "\n",
       "    .dataframe thead th {\n",
       "        text-align: right;\n",
       "    }\n",
       "</style>\n",
       "<table border=\"1\" class=\"dataframe\">\n",
       "  <thead>\n",
       "    <tr style=\"text-align: right;\">\n",
       "      <th></th>\n",
       "      <th>Explainer</th>\n",
       "      <th>Documents Phases 1+3</th>\n",
       "      <th>Documents Phases 2+4</th>\n",
       "      <th>f(a)</th>\n",
       "      <th>f(b)</th>\n",
       "      <th>GT a</th>\n",
       "      <th>GT b</th>\n",
       "      <th>idx a</th>\n",
       "      <th>idx b</th>\n",
       "      <th>Spacy Similarity</th>\n",
       "      <th>Jaccard Similarity</th>\n",
       "      <th>Cosine Similarity tfidf</th>\n",
       "      <th>hash a</th>\n",
       "      <th>hash b</th>\n",
       "    </tr>\n",
       "    <tr>\n",
       "      <th>Detector</th>\n",
       "      <th></th>\n",
       "      <th></th>\n",
       "      <th></th>\n",
       "      <th></th>\n",
       "      <th></th>\n",
       "      <th></th>\n",
       "      <th></th>\n",
       "      <th></th>\n",
       "      <th></th>\n",
       "      <th></th>\n",
       "      <th></th>\n",
       "      <th></th>\n",
       "      <th></th>\n",
       "      <th></th>\n",
       "    </tr>\n",
       "  </thead>\n",
       "  <tbody>\n",
       "    <tr>\n",
       "      <th>DetectorDetectGPT</th>\n",
       "      <td>18</td>\n",
       "      <td>18</td>\n",
       "      <td>18</td>\n",
       "      <td>18</td>\n",
       "      <td>18</td>\n",
       "      <td>18</td>\n",
       "      <td>18</td>\n",
       "      <td>18</td>\n",
       "      <td>18</td>\n",
       "      <td>18</td>\n",
       "      <td>18</td>\n",
       "      <td>18</td>\n",
       "      <td>18</td>\n",
       "      <td>18</td>\n",
       "    </tr>\n",
       "    <tr>\n",
       "      <th>DetectorGuo</th>\n",
       "      <td>18</td>\n",
       "      <td>18</td>\n",
       "      <td>18</td>\n",
       "      <td>18</td>\n",
       "      <td>18</td>\n",
       "      <td>18</td>\n",
       "      <td>18</td>\n",
       "      <td>18</td>\n",
       "      <td>18</td>\n",
       "      <td>18</td>\n",
       "      <td>18</td>\n",
       "      <td>18</td>\n",
       "      <td>18</td>\n",
       "      <td>18</td>\n",
       "    </tr>\n",
       "    <tr>\n",
       "      <th>DetectorRadford</th>\n",
       "      <td>18</td>\n",
       "      <td>18</td>\n",
       "      <td>18</td>\n",
       "      <td>18</td>\n",
       "      <td>18</td>\n",
       "      <td>18</td>\n",
       "      <td>18</td>\n",
       "      <td>18</td>\n",
       "      <td>18</td>\n",
       "      <td>18</td>\n",
       "      <td>18</td>\n",
       "      <td>18</td>\n",
       "      <td>18</td>\n",
       "      <td>18</td>\n",
       "    </tr>\n",
       "  </tbody>\n",
       "</table>\n",
       "</div>"
      ],
      "text/plain": [
       "                   Explainer  Documents Phases 1+3  Documents Phases 2+4  \\\n",
       "Detector                                                                   \n",
       "DetectorDetectGPT         18                    18                    18   \n",
       "DetectorGuo               18                    18                    18   \n",
       "DetectorRadford           18                    18                    18   \n",
       "\n",
       "                   f(a)  f(b)  GT a  GT b  idx a  idx b  Spacy Similarity  \\\n",
       "Detector                                                                    \n",
       "DetectorDetectGPT    18    18    18    18     18     18                18   \n",
       "DetectorGuo          18    18    18    18     18     18                18   \n",
       "DetectorRadford      18    18    18    18     18     18                18   \n",
       "\n",
       "                   Jaccard Similarity  Cosine Similarity tfidf  hash a  hash b  \n",
       "Detector                                                                        \n",
       "DetectorDetectGPT                  18                       18      18      18  \n",
       "DetectorGuo                        18                       18      18      18  \n",
       "DetectorRadford                    18                       18      18      18  "
      ]
     },
     "execution_count": 7,
     "metadata": {},
     "output_type": "execute_result"
    }
   ],
   "source": [
    "df.groupby([\"Detector\"]).count()"
   ]
  },
  {
   "cell_type": "code",
   "execution_count": 8,
   "metadata": {},
   "outputs": [],
   "source": [
    "if not os.path.exists(os.path.join(EXPORT_DIR)): \n",
    "    os.makedirs(os.path.join(EXPORT_DIR))\n",
    "if not os.path.exists(os.path.join(EXPORT_DIR, \"explanations\")): \n",
    "    os.makedirs(os.path.join(EXPORT_DIR, \"explanations\"))\n",
    "if not os.path.exists(os.path.join(EXPORT_DIR, \"explanations\", \"html\")): \n",
    "    os.makedirs(os.path.join(EXPORT_DIR, \"explanations\", \"html\"))\n",
    "if not os.path.exists(os.path.join(EXPORT_DIR, \"explanations\", \"data\")): \n",
    "    os.makedirs(os.path.join(EXPORT_DIR, \"explanations\", \"data\"))"
   ]
  },
  {
   "cell_type": "code",
   "execution_count": 9,
   "metadata": {},
   "outputs": [
    {
     "name": "stderr",
     "output_type": "stream",
     "text": [
      "Importing display from IPython.core.display is deprecated since IPython 7.14, please import from IPython display\n"
     ]
    }
   ],
   "source": [
    "from IPython.core.display import display, HTML\n",
    "from tqdm import tqdm"
   ]
  },
  {
   "cell_type": "markdown",
   "metadata": {},
   "source": [
    "While the explanations are cached, this will still take some time as `detector.predict_proba` is called."
   ]
  },
  {
   "cell_type": "code",
   "execution_count": 10,
   "metadata": {},
   "outputs": [
    {
     "data": {
      "text/html": [
       "<div>\n",
       "<style scoped>\n",
       "    .dataframe tbody tr th:only-of-type {\n",
       "        vertical-align: middle;\n",
       "    }\n",
       "\n",
       "    .dataframe tbody tr th {\n",
       "        vertical-align: top;\n",
       "    }\n",
       "\n",
       "    .dataframe thead th {\n",
       "        text-align: right;\n",
       "    }\n",
       "</style>\n",
       "<table border=\"1\" class=\"dataframe\">\n",
       "  <thead>\n",
       "    <tr style=\"text-align: right;\">\n",
       "      <th></th>\n",
       "      <th>Explainer</th>\n",
       "      <th>Documents Phases 1+3</th>\n",
       "      <th>Documents Phases 2+4</th>\n",
       "      <th>f(a)</th>\n",
       "      <th>f(b)</th>\n",
       "      <th>GT a</th>\n",
       "      <th>GT b</th>\n",
       "      <th>idx a</th>\n",
       "      <th>idx b</th>\n",
       "      <th>Spacy Similarity</th>\n",
       "      <th>Jaccard Similarity</th>\n",
       "      <th>Cosine Similarity tfidf</th>\n",
       "      <th>hash a</th>\n",
       "      <th>hash b</th>\n",
       "    </tr>\n",
       "    <tr>\n",
       "      <th>Detector</th>\n",
       "      <th></th>\n",
       "      <th></th>\n",
       "      <th></th>\n",
       "      <th></th>\n",
       "      <th></th>\n",
       "      <th></th>\n",
       "      <th></th>\n",
       "      <th></th>\n",
       "      <th></th>\n",
       "      <th></th>\n",
       "      <th></th>\n",
       "      <th></th>\n",
       "      <th></th>\n",
       "      <th></th>\n",
       "    </tr>\n",
       "  </thead>\n",
       "  <tbody>\n",
       "    <tr>\n",
       "      <th>DetectorDetectGPT</th>\n",
       "      <td>18</td>\n",
       "      <td>18</td>\n",
       "      <td>18</td>\n",
       "      <td>18</td>\n",
       "      <td>18</td>\n",
       "      <td>18</td>\n",
       "      <td>18</td>\n",
       "      <td>18</td>\n",
       "      <td>18</td>\n",
       "      <td>18</td>\n",
       "      <td>18</td>\n",
       "      <td>18</td>\n",
       "      <td>18</td>\n",
       "      <td>18</td>\n",
       "    </tr>\n",
       "    <tr>\n",
       "      <th>DetectorGuo</th>\n",
       "      <td>18</td>\n",
       "      <td>18</td>\n",
       "      <td>18</td>\n",
       "      <td>18</td>\n",
       "      <td>18</td>\n",
       "      <td>18</td>\n",
       "      <td>18</td>\n",
       "      <td>18</td>\n",
       "      <td>18</td>\n",
       "      <td>18</td>\n",
       "      <td>18</td>\n",
       "      <td>18</td>\n",
       "      <td>18</td>\n",
       "      <td>18</td>\n",
       "    </tr>\n",
       "    <tr>\n",
       "      <th>DetectorRadford</th>\n",
       "      <td>18</td>\n",
       "      <td>18</td>\n",
       "      <td>18</td>\n",
       "      <td>18</td>\n",
       "      <td>18</td>\n",
       "      <td>18</td>\n",
       "      <td>18</td>\n",
       "      <td>18</td>\n",
       "      <td>18</td>\n",
       "      <td>18</td>\n",
       "      <td>18</td>\n",
       "      <td>18</td>\n",
       "      <td>18</td>\n",
       "      <td>18</td>\n",
       "    </tr>\n",
       "  </tbody>\n",
       "</table>\n",
       "</div>"
      ],
      "text/plain": [
       "                   Explainer  Documents Phases 1+3  Documents Phases 2+4  \\\n",
       "Detector                                                                   \n",
       "DetectorDetectGPT         18                    18                    18   \n",
       "DetectorGuo               18                    18                    18   \n",
       "DetectorRadford           18                    18                    18   \n",
       "\n",
       "                   f(a)  f(b)  GT a  GT b  idx a  idx b  Spacy Similarity  \\\n",
       "Detector                                                                    \n",
       "DetectorDetectGPT    18    18    18    18     18     18                18   \n",
       "DetectorGuo          18    18    18    18     18     18                18   \n",
       "DetectorRadford      18    18    18    18     18     18                18   \n",
       "\n",
       "                   Jaccard Similarity  Cosine Similarity tfidf  hash a  hash b  \n",
       "Detector                                                                        \n",
       "DetectorDetectGPT                  18                       18      18      18  \n",
       "DetectorGuo                        18                       18      18      18  \n",
       "DetectorRadford                    18                       18      18      18  "
      ]
     },
     "execution_count": 10,
     "metadata": {},
     "output_type": "execute_result"
    }
   ],
   "source": [
    "df.groupby(\"Detector\").count()"
   ]
  },
  {
   "cell_type": "code",
   "execution_count": 11,
   "metadata": {},
   "outputs": [
    {
     "name": "stdout",
     "output_type": "stream",
     "text": [
      "Using cache dir ./.cache\n",
      "Loading BASE model EleutherAI/pythia-70m...\n"
     ]
    },
    {
     "name": "stderr",
     "output_type": "stream",
     "text": [
      "Special tokens have been added in the vocabulary, make sure the associated word embeddings are fine-tuned or trained.\n",
      "Special tokens have been added in the vocabulary, make sure the associated word embeddings are fine-tuned or trained.\n"
     ]
    },
    {
     "name": "stdout",
     "output_type": "stream",
     "text": [
      "MOVING BASE MODEL TO GPU...DONE (0.18s)\n",
      "DONE (0.08s)\n"
     ]
    },
    {
     "name": "stderr",
     "output_type": "stream",
     "text": [
      "Exporting DetectorDetectGPT LIME_Explainer: 100%|██████████| 18/18 [00:48<00:00,  2.70s/it]\n",
      "Exporting DetectorDetectGPT SHAP_Explainer: 100%|██████████| 18/18 [00:48<00:00,  2.70s/it]\n",
      "Exporting DetectorDetectGPT Anchor_Explainer: 100%|██████████| 18/18 [00:49<00:00,  2.77s/it]\n",
      "Special tokens have been added in the vocabulary, make sure the associated word embeddings are fine-tuned or trained.\n",
      "Exporting DetectorGuo LIME_Explainer: 100%|██████████| 18/18 [00:01<00:00, 12.96it/s]\n",
      "Exporting DetectorGuo SHAP_Explainer: 100%|██████████| 18/18 [00:01<00:00, 13.09it/s]\n",
      "Exporting DetectorGuo Anchor_Explainer: 100%|██████████| 18/18 [00:02<00:00,  7.17it/s]\n",
      "Exporting DetectorRadford LIME_Explainer: 100%|██████████| 18/18 [00:01<00:00, 12.22it/s]\n",
      "Exporting DetectorRadford SHAP_Explainer: 100%|██████████| 18/18 [00:01<00:00, 12.62it/s]\n",
      "Exporting DetectorRadford Anchor_Explainer: 100%|██████████| 18/18 [00:02<00:00,  7.08it/s]\n"
     ]
    }
   ],
   "source": [
    "\n",
    "for detector_name, group in df.groupby(\"Detector\"):\n",
    "    if detector_name == \"DetectorDetectGPT\":\n",
    "        detector = DetectorDetectGPT()\n",
    "    if detector_name == \"DetectorRadford\":\n",
    "        detector = DetectorRadford()\n",
    "    if detector_name == \"DetectorGuo\":\n",
    "        detector = DetectorGuo()\n",
    "\n",
    "    documents_group = list(group.reset_index().iterrows()) # reset_index: count from 0 in each group\n",
    "    \n",
    "    for explainer_class in explainer_classes:\n",
    "        explainer = explainer_class(detector)\n",
    "        for index, row in tqdm(documents_group, \"Exporting \" + detector.__class__.__name__ + \" \" + explainer.__class__.__name__):\n",
    "            a = row[\"Documents Phases 1+3\"]\n",
    "            b = row[\"Documents Phases 2+4\"]\n",
    "            # Phase 1 + 3: \n",
    "            path_explanation_html = os.path.join(EXPORT_DIR, \"explanations\", \"html\", explainer.get_hash(a)+\".html\")\n",
    "            with open(path_explanation_html, \"w\", encoding=\"UTF-8\") as text_file:\n",
    "                text_file.write(explainer.get_highlighted_text_HTML(a))\n",
    "            #  display(HTML(explainer.get_highlighted_text_HTML(a)))\n",
    "            path_explanation_json = os.path.join(EXPORT_DIR, \"explanations\", \"data\", explainer.get_hash(a)+\".json\")\n",
    "            with open(path_explanation_json, \"w\", encoding=\"UTF-8\") as text_file:\n",
    "                explanation_data = { # do not include explanation\n",
    "                    \"document_nr\": index,\n",
    "                    \"detector\" : detector.__class__.__name__,\n",
    "                    \"explainer\" : explainer.__class__.__name__,\n",
    "                    \"ground_truth\" : row[\"GT a\"],\n",
    "                    \"detector_label\" : int(detector.predict_label([row[\"Documents Phases 1+3\"]])[0]),\n",
    "                    \"detector_p_machine\": float(detector.predict_proba([row[\"Documents Phases 1+3\"]])[0][0]),\n",
    "                    \"detector_p_human\": float(detector.predict_proba([row[\"Documents Phases 1+3\"]])[0][1]),\n",
    "                    \"document\": row[\"Documents Phases 1+3\"],\n",
    "                    \"explanation_filename\": explainer.get_hash(a),               \n",
    "                }\n",
    "                text_file.write(json.dumps(explanation_data))\n",
    "            # Phase 2+4: Just string\n",
    "            path_explanation_html = os.path.join(EXPORT_DIR, \"explanations\", \"html\", explainer.get_hash(b)+\".html\")\n",
    "            #  display(HTML(explainer.get_highlighted_text_HTML(b)))\n",
    "            # with open(path_explanation_html, \"w\", encoding=\"UTF-8\") as text_file:\n",
    "            #     text_file.write(explainer.get_highlighted_text_HTML(b))\n",
    "            path_explanation_json = os.path.join(EXPORT_DIR, \"explanations\", \"data\", explainer.get_hash(b)+\".json\")\n",
    "            with open(path_explanation_json, \"w\", encoding=\"UTF-8\") as text_file:\n",
    "                explanation_data = { # do not include explanation\n",
    "                    \"document_nr\": index,\n",
    "                    \"detector\" : detector.__class__.__name__,\n",
    "                    \"explainer\" : explainer.__class__.__name__,\n",
    "                    \"document\": row[\"Documents Phases 2+4\"]                \n",
    "                }\n",
    "                text_file.write(json.dumps(explanation_data))\n",
    "        "
   ]
  },
  {
   "cell_type": "code",
   "execution_count": null,
   "metadata": {},
   "outputs": [],
   "source": []
  }
 ],
 "metadata": {
  "kernelspec": {
   "display_name": ".venv",
   "language": "python",
   "name": "python3"
  },
  "language_info": {
   "codemirror_mode": {
    "name": "ipython",
    "version": 3
   },
   "file_extension": ".py",
   "mimetype": "text/x-python",
   "name": "python",
   "nbconvert_exporter": "python",
   "pygments_lexer": "ipython3",
   "version": "3.11.1"
  }
 },
 "nbformat": 4,
 "nbformat_minor": 2
}
