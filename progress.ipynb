{
 "cells": [
  {
   "cell_type": "code",
   "execution_count": 1,
   "metadata": {},
   "outputs": [],
   "source": [
    "import os\n",
    "import pandas as pd"
   ]
  },
  {
   "cell_type": "code",
   "execution_count": 2,
   "metadata": {},
   "outputs": [
    {
     "data": {
      "text/html": [
       "<div>\n",
       "<style scoped>\n",
       "    .dataframe tbody tr th:only-of-type {\n",
       "        vertical-align: middle;\n",
       "    }\n",
       "\n",
       "    .dataframe tbody tr th {\n",
       "        vertical-align: top;\n",
       "    }\n",
       "\n",
       "    .dataframe thead th {\n",
       "        text-align: right;\n",
       "    }\n",
       "</style>\n",
       "<table border=\"1\" class=\"dataframe\">\n",
       "  <thead>\n",
       "    <tr style=\"text-align: right;\">\n",
       "      <th></th>\n",
       "      <th>Explainer</th>\n",
       "      <th>Detector</th>\n",
       "    </tr>\n",
       "    <tr>\n",
       "      <th>Hash</th>\n",
       "      <th></th>\n",
       "      <th></th>\n",
       "    </tr>\n",
       "  </thead>\n",
       "  <tbody>\n",
       "    <tr>\n",
       "      <th>016246bfffb3278dceda1274873d0ef9431a15c37b9fe76ee3b64565993d0b29</th>\n",
       "      <td>LIME</td>\n",
       "      <td>DetectorRadford</td>\n",
       "    </tr>\n",
       "    <tr>\n",
       "      <th>016246bfffb3278dceda1274873d0ef9431a15c37b9fe76ee3b64565993d0b29</th>\n",
       "      <td>SHAP</td>\n",
       "      <td>DetectorRadford</td>\n",
       "    </tr>\n",
       "    <tr>\n",
       "      <th>0185d3ed47bb324babeb1baee10c0902b011c679f3da2b1eb1a63a7ab4256cd0</th>\n",
       "      <td>LIME</td>\n",
       "      <td>DetectorRadford</td>\n",
       "    </tr>\n",
       "    <tr>\n",
       "      <th>0185d3ed47bb324babeb1baee10c0902b011c679f3da2b1eb1a63a7ab4256cd0</th>\n",
       "      <td>SHAP</td>\n",
       "      <td>DetectorRadford</td>\n",
       "    </tr>\n",
       "    <tr>\n",
       "      <th>019dfff3790a12506195200887c414111fe85934b146150f00dc0704cba02774</th>\n",
       "      <td>LIME</td>\n",
       "      <td>DetectorRadford</td>\n",
       "    </tr>\n",
       "    <tr>\n",
       "      <th>...</th>\n",
       "      <td>...</td>\n",
       "      <td>...</td>\n",
       "    </tr>\n",
       "    <tr>\n",
       "      <th>fe43a432243c718cfa3fa2bae6294e8c9514f4d931d2b5bd08508f83509cc4d0</th>\n",
       "      <td>SHAP</td>\n",
       "      <td>DetectorRadford</td>\n",
       "    </tr>\n",
       "    <tr>\n",
       "      <th>fe7bced841ae14dce57595a708637bf757c4f21eb19c35b548110a83e4e15721</th>\n",
       "      <td>LIME</td>\n",
       "      <td>DetectorRadford</td>\n",
       "    </tr>\n",
       "    <tr>\n",
       "      <th>fe7bced841ae14dce57595a708637bf757c4f21eb19c35b548110a83e4e15721</th>\n",
       "      <td>SHAP</td>\n",
       "      <td>DetectorRadford</td>\n",
       "    </tr>\n",
       "    <tr>\n",
       "      <th>ff63ccdf4f1079c45672237cf3b16980cd9de40af19edd83098a3ac0db0bc85c</th>\n",
       "      <td>LIME</td>\n",
       "      <td>DetectorRadford</td>\n",
       "    </tr>\n",
       "    <tr>\n",
       "      <th>ff63ccdf4f1079c45672237cf3b16980cd9de40af19edd83098a3ac0db0bc85c</th>\n",
       "      <td>SHAP</td>\n",
       "      <td>DetectorRadford</td>\n",
       "    </tr>\n",
       "  </tbody>\n",
       "</table>\n",
       "<p>942 rows × 2 columns</p>\n",
       "</div>"
      ],
      "text/plain": [
       "                                                   Explainer         Detector\n",
       "Hash                                                                         \n",
       "016246bfffb3278dceda1274873d0ef9431a15c37b9fe76...      LIME  DetectorRadford\n",
       "016246bfffb3278dceda1274873d0ef9431a15c37b9fe76...      SHAP  DetectorRadford\n",
       "0185d3ed47bb324babeb1baee10c0902b011c679f3da2b1...      LIME  DetectorRadford\n",
       "0185d3ed47bb324babeb1baee10c0902b011c679f3da2b1...      SHAP  DetectorRadford\n",
       "019dfff3790a12506195200887c414111fe85934b146150...      LIME  DetectorRadford\n",
       "...                                                      ...              ...\n",
       "fe43a432243c718cfa3fa2bae6294e8c9514f4d931d2b5b...      SHAP  DetectorRadford\n",
       "fe7bced841ae14dce57595a708637bf757c4f21eb19c35b...      LIME  DetectorRadford\n",
       "fe7bced841ae14dce57595a708637bf757c4f21eb19c35b...      SHAP  DetectorRadford\n",
       "ff63ccdf4f1079c45672237cf3b16980cd9de40af19edd8...      LIME  DetectorRadford\n",
       "ff63ccdf4f1079c45672237cf3b16980cd9de40af19edd8...      SHAP  DetectorRadford\n",
       "\n",
       "[942 rows x 2 columns]"
      ]
     },
     "execution_count": 2,
     "metadata": {},
     "output_type": "execute_result"
    }
   ],
   "source": [
    "data = [filename.split(\"_\") for filename in os.listdir(\"./explanation_cache/\")]\n",
    "hashes, explainers, _, detectors = zip(*data)\n",
    "df = pd.DataFrame(zip(hashes, explainers, detectors), columns=[\"Hash\", \"Explainer\", \"Detector\"])\n",
    "df = df.set_index(\"Hash\")\n",
    "df[\"Detector\"] = df[\"Detector\"].str.replace(\".pkl\",\"\")\n",
    "df"
   ]
  },
  {
   "cell_type": "code",
   "execution_count": 3,
   "metadata": {},
   "outputs": [
    {
     "data": {
      "text/html": [
       "<div>\n",
       "<style scoped>\n",
       "    .dataframe tbody tr th:only-of-type {\n",
       "        vertical-align: middle;\n",
       "    }\n",
       "\n",
       "    .dataframe tbody tr th {\n",
       "        vertical-align: top;\n",
       "    }\n",
       "\n",
       "    .dataframe thead th {\n",
       "        text-align: right;\n",
       "    }\n",
       "</style>\n",
       "<table border=\"1\" class=\"dataframe\">\n",
       "  <thead>\n",
       "    <tr style=\"text-align: right;\">\n",
       "      <th></th>\n",
       "      <th>Explainer</th>\n",
       "    </tr>\n",
       "    <tr>\n",
       "      <th>Detector</th>\n",
       "      <th></th>\n",
       "    </tr>\n",
       "  </thead>\n",
       "  <tbody>\n",
       "    <tr>\n",
       "      <th>DetectorDetectGPT</th>\n",
       "      <td>93</td>\n",
       "    </tr>\n",
       "    <tr>\n",
       "      <th>DetectorGuo</th>\n",
       "      <td>281</td>\n",
       "    </tr>\n",
       "    <tr>\n",
       "      <th>DetectorRadford</th>\n",
       "      <td>568</td>\n",
       "    </tr>\n",
       "  </tbody>\n",
       "</table>\n",
       "</div>"
      ],
      "text/plain": [
       "                   Explainer\n",
       "Detector                    \n",
       "DetectorDetectGPT         93\n",
       "DetectorGuo              281\n",
       "DetectorRadford          568"
      ]
     },
     "execution_count": 3,
     "metadata": {},
     "output_type": "execute_result"
    }
   ],
   "source": [
    "df.groupby(\"Detector\").count()"
   ]
  },
  {
   "cell_type": "code",
   "execution_count": 4,
   "metadata": {},
   "outputs": [
    {
     "data": {
      "text/html": [
       "<div>\n",
       "<style scoped>\n",
       "    .dataframe tbody tr th:only-of-type {\n",
       "        vertical-align: middle;\n",
       "    }\n",
       "\n",
       "    .dataframe tbody tr th {\n",
       "        vertical-align: top;\n",
       "    }\n",
       "\n",
       "    .dataframe thead th {\n",
       "        text-align: right;\n",
       "    }\n",
       "</style>\n",
       "<table border=\"1\" class=\"dataframe\">\n",
       "  <thead>\n",
       "    <tr style=\"text-align: right;\">\n",
       "      <th></th>\n",
       "      <th>Detector</th>\n",
       "    </tr>\n",
       "    <tr>\n",
       "      <th>Explainer</th>\n",
       "      <th></th>\n",
       "    </tr>\n",
       "  </thead>\n",
       "  <tbody>\n",
       "    <tr>\n",
       "      <th>Anchor</th>\n",
       "      <td>25</td>\n",
       "    </tr>\n",
       "    <tr>\n",
       "      <th>LIME</th>\n",
       "      <td>497</td>\n",
       "    </tr>\n",
       "    <tr>\n",
       "      <th>SHAP</th>\n",
       "      <td>420</td>\n",
       "    </tr>\n",
       "  </tbody>\n",
       "</table>\n",
       "</div>"
      ],
      "text/plain": [
       "           Detector\n",
       "Explainer          \n",
       "Anchor           25\n",
       "LIME            497\n",
       "SHAP            420"
      ]
     },
     "execution_count": 4,
     "metadata": {},
     "output_type": "execute_result"
    }
   ],
   "source": [
    "df.groupby(\"Explainer\").count()"
   ]
  },
  {
   "cell_type": "code",
   "execution_count": 8,
   "metadata": {},
   "outputs": [],
   "source": [
    "def computation_time(row):\n",
    "    if row[\"Explainer\"] == \"LIME\":\n",
    "        if row[\"Detector\"] == \"DetectorDetectGPT\":\n",
    "            return 180\n",
    "        if row[\"Detector\"] == \"DetectorGuo\":\n",
    "            return 30\n",
    "        if row[\"Detector\"] == \"DetectorRadford\":\n",
    "            return 20\n",
    "    if row[\"Explainer\"] == \"SHAP\":\n",
    "        if row[\"Detector\"] == \"DetectorDetectGPT\":\n",
    "            return 70\n",
    "        if row[\"Detector\"] == \"DetectorGuo\":\n",
    "            return 15\n",
    "        if row[\"Detector\"] == \"DetectorRadford\":\n",
    "            return 15\n",
    "    if row[\"Explainer\"] == \"Anchor\":\n",
    "        if row[\"Detector\"] == \"DetectorDetectGPT\":\n",
    "            return 1216\n",
    "        if row[\"Detector\"] == \"DetectorGuo\":\n",
    "            return 250\n",
    "        if row[\"Detector\"] == \"DetectorRadford\":\n",
    "            return 250"
   ]
  },
  {
   "cell_type": "code",
   "execution_count": 9,
   "metadata": {},
   "outputs": [],
   "source": [
    "df[\"Computation Time\"] = df.apply(computation_time, axis=1)"
   ]
  },
  {
   "cell_type": "code",
   "execution_count": 10,
   "metadata": {},
   "outputs": [
    {
     "data": {
      "text/plain": [
       "58970"
      ]
     },
     "execution_count": 10,
     "metadata": {},
     "output_type": "execute_result"
    }
   ],
   "source": [
    "df[\"Computation Time\"].sum()"
   ]
  },
  {
   "cell_type": "markdown",
   "metadata": {},
   "source": []
  }
 ],
 "metadata": {
  "kernelspec": {
   "display_name": ".venv",
   "language": "python",
   "name": "python3"
  },
  "language_info": {
   "codemirror_mode": {
    "name": "ipython",
    "version": 3
   },
   "file_extension": ".py",
   "mimetype": "text/x-python",
   "name": "python",
   "nbconvert_exporter": "python",
   "pygments_lexer": "ipython3",
   "version": "3.11.1"
  }
 },
 "nbformat": 4,
 "nbformat_minor": 2
}
