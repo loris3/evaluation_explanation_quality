{
 "cells": [
  {
   "cell_type": "code",
   "execution_count": 1,
   "metadata": {},
   "outputs": [],
   "source": [
    "SURVEY_SUBMODULE_DIR = \"./survey\" # this notebook will create a folder \"explanations\" there\n",
    "SAVE_PATH = \"./results/user_study/selection.csv\" # created by document_selection_user_study.ipynb"
   ]
  },
  {
   "cell_type": "markdown",
   "metadata": {},
   "source": [
    "This notebook exports the user-study csv from `SAVE_PATH` to the UI. The UI uses a JSON file for each document and explainer-detector pair. The explanations are stored as HTML files. For LIME and SHAP, javascript is bundled, for Anchor, it must be imported due to bundle size. "
   ]
  },
  {
   "cell_type": "code",
   "execution_count": 2,
   "metadata": {},
   "outputs": [],
   "source": [
    "from detector_radford import DetectorRadford\n",
    "from detector_detectgpt import DetectorDetectGPT\n",
    "from detector_dummy import DetectorDummy\n",
    "from detector_guo import DetectorGuo\n",
    "from explainer_wrappers import LIME_Explainer, SHAP_Explainer, Anchor_Explainer\n",
    "\n",
    "from tqdm import tqdm"
   ]
  },
  {
   "cell_type": "code",
   "execution_count": 3,
   "metadata": {},
   "outputs": [],
   "source": [
    "explainer_classes = [LIME_Explainer, SHAP_Explainer, Anchor_Explainer]\n",
    "detector_classes = [ DetectorGuo, DetectorRadford, DetectorDetectGPT]"
   ]
  },
  {
   "cell_type": "code",
   "execution_count": 4,
   "metadata": {},
   "outputs": [],
   "source": [
    "import pandas as pd\n",
    "import json\n",
    "import os"
   ]
  },
  {
   "cell_type": "code",
   "execution_count": 5,
   "metadata": {},
   "outputs": [],
   "source": [
    "df = pd.read_csv(SAVE_PATH)\n"
   ]
  },
  {
   "cell_type": "code",
   "execution_count": 6,
   "metadata": {},
   "outputs": [
    {
     "data": {
      "text/html": [
       "<div>\n",
       "<style scoped>\n",
       "    .dataframe tbody tr th:only-of-type {\n",
       "        vertical-align: middle;\n",
       "    }\n",
       "\n",
       "    .dataframe tbody tr th {\n",
       "        vertical-align: top;\n",
       "    }\n",
       "\n",
       "    .dataframe thead th {\n",
       "        text-align: right;\n",
       "    }\n",
       "</style>\n",
       "<table border=\"1\" class=\"dataframe\">\n",
       "  <thead>\n",
       "    <tr style=\"text-align: right;\">\n",
       "      <th></th>\n",
       "      <th>Unnamed: 0</th>\n",
       "      <th>Explainer</th>\n",
       "      <th>Documents Phases 1+3</th>\n",
       "      <th>Documents Phases 2+4</th>\n",
       "      <th>f(a)</th>\n",
       "      <th>f(b)</th>\n",
       "      <th>GT a</th>\n",
       "      <th>GT b</th>\n",
       "      <th>idx a</th>\n",
       "      <th>idx b</th>\n",
       "      <th>Spacy Similarity</th>\n",
       "      <th>Jaccard Similarity</th>\n",
       "      <th>Cosine Similarity tfidf</th>\n",
       "      <th>hash a</th>\n",
       "      <th>hash b</th>\n",
       "    </tr>\n",
       "    <tr>\n",
       "      <th>Detector</th>\n",
       "      <th></th>\n",
       "      <th></th>\n",
       "      <th></th>\n",
       "      <th></th>\n",
       "      <th></th>\n",
       "      <th></th>\n",
       "      <th></th>\n",
       "      <th></th>\n",
       "      <th></th>\n",
       "      <th></th>\n",
       "      <th></th>\n",
       "      <th></th>\n",
       "      <th></th>\n",
       "      <th></th>\n",
       "      <th></th>\n",
       "    </tr>\n",
       "  </thead>\n",
       "  <tbody>\n",
       "    <tr>\n",
       "      <th>DetectorDetectGPT</th>\n",
       "      <td>18</td>\n",
       "      <td>18</td>\n",
       "      <td>18</td>\n",
       "      <td>18</td>\n",
       "      <td>18</td>\n",
       "      <td>18</td>\n",
       "      <td>18</td>\n",
       "      <td>18</td>\n",
       "      <td>18</td>\n",
       "      <td>18</td>\n",
       "      <td>18</td>\n",
       "      <td>18</td>\n",
       "      <td>18</td>\n",
       "      <td>18</td>\n",
       "      <td>18</td>\n",
       "    </tr>\n",
       "    <tr>\n",
       "      <th>DetectorGuo</th>\n",
       "      <td>18</td>\n",
       "      <td>18</td>\n",
       "      <td>18</td>\n",
       "      <td>18</td>\n",
       "      <td>18</td>\n",
       "      <td>18</td>\n",
       "      <td>18</td>\n",
       "      <td>18</td>\n",
       "      <td>18</td>\n",
       "      <td>18</td>\n",
       "      <td>18</td>\n",
       "      <td>18</td>\n",
       "      <td>18</td>\n",
       "      <td>18</td>\n",
       "      <td>18</td>\n",
       "    </tr>\n",
       "    <tr>\n",
       "      <th>DetectorRadford</th>\n",
       "      <td>18</td>\n",
       "      <td>18</td>\n",
       "      <td>18</td>\n",
       "      <td>18</td>\n",
       "      <td>18</td>\n",
       "      <td>18</td>\n",
       "      <td>18</td>\n",
       "      <td>18</td>\n",
       "      <td>18</td>\n",
       "      <td>18</td>\n",
       "      <td>18</td>\n",
       "      <td>18</td>\n",
       "      <td>18</td>\n",
       "      <td>18</td>\n",
       "      <td>18</td>\n",
       "    </tr>\n",
       "  </tbody>\n",
       "</table>\n",
       "</div>"
      ],
      "text/plain": [
       "                   Unnamed: 0  Explainer  Documents Phases 1+3  \\\n",
       "Detector                                                         \n",
       "DetectorDetectGPT          18         18                    18   \n",
       "DetectorGuo                18         18                    18   \n",
       "DetectorRadford            18         18                    18   \n",
       "\n",
       "                   Documents Phases 2+4  f(a)  f(b)  GT a  GT b  idx a  idx b  \\\n",
       "Detector                                                                        \n",
       "DetectorDetectGPT                    18    18    18    18    18     18     18   \n",
       "DetectorGuo                          18    18    18    18    18     18     18   \n",
       "DetectorRadford                      18    18    18    18    18     18     18   \n",
       "\n",
       "                   Spacy Similarity  Jaccard Similarity  \\\n",
       "Detector                                                  \n",
       "DetectorDetectGPT                18                  18   \n",
       "DetectorGuo                      18                  18   \n",
       "DetectorRadford                  18                  18   \n",
       "\n",
       "                   Cosine Similarity tfidf  hash a  hash b  \n",
       "Detector                                                    \n",
       "DetectorDetectGPT                       18      18      18  \n",
       "DetectorGuo                             18      18      18  \n",
       "DetectorRadford                         18      18      18  "
      ]
     },
     "execution_count": 6,
     "metadata": {},
     "output_type": "execute_result"
    }
   ],
   "source": [
    "df.groupby([\"Detector\"]).count()"
   ]
  },
  {
   "cell_type": "code",
   "execution_count": 7,
   "metadata": {},
   "outputs": [],
   "source": [
    "if not os.path.exists(os.path.join(SURVEY_SUBMODULE_DIR)): \n",
    "    raise FileNotFoundError(\"Make sure you cloned the survey submodule\")\n",
    "if not os.path.exists(os.path.join(SURVEY_SUBMODULE_DIR, \"explanations\")): \n",
    "    os.makedirs(os.path.join(SURVEY_SUBMODULE_DIR, \"explanations\"))\n",
    "if not os.path.exists(os.path.join(SURVEY_SUBMODULE_DIR, \"explanations\", \"html\")): \n",
    "    os.makedirs(os.path.join(SURVEY_SUBMODULE_DIR, \"explanations\", \"html\"))\n",
    "if not os.path.exists(os.path.join(SURVEY_SUBMODULE_DIR, \"explanations\", \"data\")): \n",
    "    os.makedirs(os.path.join(SURVEY_SUBMODULE_DIR, \"explanations\", \"data\"))"
   ]
  },
  {
   "cell_type": "markdown",
   "metadata": {},
   "source": [
    "While the explanations are cached, this will still take some time as `detector.predict_proba` must be called."
   ]
  },
  {
   "cell_type": "markdown",
   "metadata": {},
   "source": [
    "# Export for user-study"
   ]
  },
  {
   "cell_type": "code",
   "execution_count": 8,
   "metadata": {},
   "outputs": [
    {
     "name": "stderr",
     "output_type": "stream",
     "text": [
      "Special tokens have been added in the vocabulary, make sure the associated word embeddings are fine-tuned or trained.\n",
      "Special tokens have been added in the vocabulary, make sure the associated word embeddings are fine-tuned or trained.\n",
      "Exporting DetectorDetectGPT LIME_Explainer: 100%|██████████| 18/18 [00:52<00:00,  2.89s/it]\n",
      "Exporting DetectorDetectGPT SHAP_Explainer: 100%|██████████| 18/18 [00:52<00:00,  2.93s/it]\n",
      "Exporting DetectorDetectGPT Anchor_Explainer: 100%|██████████| 18/18 [00:51<00:00,  2.89s/it]\n",
      "Special tokens have been added in the vocabulary, make sure the associated word embeddings are fine-tuned or trained.\n",
      "Exporting DetectorGuo LIME_Explainer: 100%|██████████| 18/18 [00:01<00:00, 11.89it/s]\n",
      "Exporting DetectorGuo SHAP_Explainer: 100%|██████████| 18/18 [00:01<00:00, 12.48it/s]\n",
      "Exporting DetectorGuo Anchor_Explainer: 100%|██████████| 18/18 [00:02<00:00,  7.42it/s]\n",
      "Exporting DetectorRadford LIME_Explainer: 100%|██████████| 18/18 [00:01<00:00, 11.09it/s]\n",
      "Exporting DetectorRadford SHAP_Explainer: 100%|██████████| 18/18 [00:01<00:00, 11.73it/s]\n",
      "Exporting DetectorRadford Anchor_Explainer: 100%|██████████| 18/18 [00:02<00:00,  7.57it/s]\n"
     ]
    }
   ],
   "source": [
    "\n",
    "for detector_name, group in df.groupby(\"Detector\"):\n",
    "    if detector_name == \"DetectorDetectGPT\":\n",
    "        detector = DetectorDetectGPT()\n",
    "    if detector_name == \"DetectorRadford\":\n",
    "        detector = DetectorRadford()\n",
    "    if detector_name == \"DetectorGuo\":\n",
    "        detector = DetectorGuo()\n",
    "\n",
    "    documents_group = list(group.reset_index().iterrows()) # reset_index: count from 0 in each group\n",
    "    \n",
    "    for explainer_class in explainer_classes:\n",
    "        explainer = explainer_class(detector)\n",
    "        for index, row in tqdm(documents_group, \"Exporting \" + detector.__class__.__name__ + \" \" + explainer.__class__.__name__):\n",
    "            a = row[\"Documents Phases 1+3\"]\n",
    "            b = row[\"Documents Phases 2+4\"]\n",
    "            # Phase 1 + 3: \n",
    "            path_explanation_html = os.path.join(SURVEY_SUBMODULE_DIR, \"explanations\", \"html\", explainer.get_hash(a)+\".html\")\n",
    "            with open(path_explanation_html, \"w\", encoding=\"UTF-8\") as text_file:\n",
    "                text_file.write(explainer.get_HTML(a, bundle=False))\n",
    "            path_explanation_json = os.path.join(SURVEY_SUBMODULE_DIR, \"explanations\", \"data\", explainer.get_hash(a)+\".json\")\n",
    "            with open(path_explanation_json, \"w\", encoding=\"UTF-8\") as text_file:\n",
    "                explanation_data = { # do not include explanation\n",
    "                    \"document_nr\": index,\n",
    "                    \"detector\" : detector.__class__.__name__,\n",
    "                    \"explainer\" : explainer.__class__.__name__,\n",
    "                    \"ground_truth\" : row[\"GT a\"],\n",
    "                    \"detector_label\" : int(detector.predict_label([row[\"Documents Phases 1+3\"]])[0]),\n",
    "                    \"detector_p_machine\": float(detector.predict_proba([row[\"Documents Phases 1+3\"]])[0][0]),\n",
    "                    \"detector_p_human\": float(detector.predict_proba([row[\"Documents Phases 1+3\"]])[0][1]),\n",
    "                    \"document\": row[\"Documents Phases 1+3\"],\n",
    "                    \"explanation_filename\": explainer.get_hash(a),               \n",
    "                }\n",
    "                text_file.write(json.dumps(explanation_data))\n",
    "            # Phase 2+4: Just string\n",
    "            path_explanation_html = os.path.join(SURVEY_SUBMODULE_DIR, \"explanations\", \"html\", explainer.get_hash(b)+\".html\")\n",
    "            #  display(HTML(explainer.get_HTML(b)))\n",
    "            path_explanation_json = os.path.join(SURVEY_SUBMODULE_DIR, \"explanations\", \"data\", explainer.get_hash(b)+\".json\")\n",
    "            with open(path_explanation_json, \"w\", encoding=\"UTF-8\") as text_file:\n",
    "                explanation_data = { # do not include explanation\n",
    "                    \"document_nr\": index,\n",
    "                    \"detector\" : detector.__class__.__name__,\n",
    "                    \"explainer\" : explainer.__class__.__name__,\n",
    "                    \"document\": row[\"Documents Phases 2+4\"]                \n",
    "                }\n",
    "                text_file.write(json.dumps(explanation_data))\n"
   ]
  },
  {
   "cell_type": "markdown",
   "metadata": {},
   "source": [
    "# Export as HTML for review"
   ]
  },
  {
   "cell_type": "markdown",
   "metadata": {},
   "source": [
    "## One file for the selecting combinations"
   ]
  },
  {
   "cell_type": "code",
   "execution_count": 9,
   "metadata": {},
   "outputs": [
    {
     "name": "stderr",
     "output_type": "stream",
     "text": [
      "Special tokens have been added in the vocabulary, make sure the associated word embeddings are fine-tuned or trained.\n",
      "Special tokens have been added in the vocabulary, make sure the associated word embeddings are fine-tuned or trained.\n",
      "Exporting DetectorDetectGPT Anchor_Explainer: 100%|██████████| 6/6 [00:12<00:00,  2.09s/it]\n",
      "Special tokens have been added in the vocabulary, make sure the associated word embeddings are fine-tuned or trained.\n",
      "Special tokens have been added in the vocabulary, make sure the associated word embeddings are fine-tuned or trained.\n",
      "Exporting DetectorDetectGPT LIME_Explainer: 100%|██████████| 6/6 [00:12<00:00,  2.09s/it]\n",
      "Special tokens have been added in the vocabulary, make sure the associated word embeddings are fine-tuned or trained.\n",
      "Special tokens have been added in the vocabulary, make sure the associated word embeddings are fine-tuned or trained.\n",
      "Exporting DetectorDetectGPT SHAP_Explainer: 100%|██████████| 6/6 [00:14<00:00,  2.33s/it]\n",
      "Special tokens have been added in the vocabulary, make sure the associated word embeddings are fine-tuned or trained.\n",
      "Exporting DetectorGuo Anchor_Explainer: 100%|██████████| 6/6 [00:03<00:00,  1.97it/s]\n",
      "Special tokens have been added in the vocabulary, make sure the associated word embeddings are fine-tuned or trained.\n",
      "Exporting DetectorGuo LIME_Explainer: 100%|██████████| 6/6 [00:02<00:00,  2.14it/s]\n",
      "Special tokens have been added in the vocabulary, make sure the associated word embeddings are fine-tuned or trained.\n",
      "Exporting DetectorGuo SHAP_Explainer: 100%|██████████| 6/6 [00:03<00:00,  1.71it/s]\n",
      "Exporting DetectorRadford Anchor_Explainer: 100%|██████████| 6/6 [00:04<00:00,  1.41it/s]\n",
      "Exporting DetectorRadford LIME_Explainer: 100%|██████████| 6/6 [00:04<00:00,  1.23it/s]\n",
      "Exporting DetectorRadford SHAP_Explainer: 100%|██████████| 6/6 [00:04<00:00,  1.27it/s]\n"
     ]
    }
   ],
   "source": [
    "out = \"<html><body>\"\n",
    "out += \"<h1>Pairs as generated in the notebook</h1>\"\n",
    "\n",
    "for (detector_name, explainer_name), group in df.groupby([\"Detector\", \"Explainer\"]):\n",
    "    out += \"<h2>{}</h2>\".format(detector_name)\n",
    "    if detector_name == \"DetectorDetectGPT\":\n",
    "        detector = DetectorDetectGPT()\n",
    "    if detector_name == \"DetectorRadford\":\n",
    "        detector = DetectorRadford()\n",
    "    if detector_name == \"DetectorGuo\":\n",
    "        detector = DetectorGuo()\n",
    "\n",
    "    if explainer_name == \"LIME_Explainer\":\n",
    "        explainer = LIME_Explainer(detector)\n",
    "    if explainer_name == \"SHAP_Explainer\":\n",
    "        explainer = SHAP_Explainer(detector)\n",
    "    if explainer_name == \"Anchor_Explainer\":\n",
    "        explainer = Anchor_Explainer(detector)\n",
    "    documents_group = list(group.reset_index().iterrows()) # reset_index: count from 0 in each group\n",
    "    \n",
    "\n",
    "    for index, row in tqdm(documents_group, \"Exporting \" + detector.__class__.__name__ + \" \" + explainer.__class__.__name__):\n",
    "        a = row[\"Documents Phases 1+3\"]\n",
    "        b = row[\"Documents Phases 2+4\"]\n",
    "        template = \"\"\"\n",
    "        Document: {document_nr}<br/>\n",
    "        Detector: {detector}<br/>\n",
    "        Explainer: {explainer}<br/>\n",
    "        Ground Truth: {ground_truth}<br/>\n",
    "        f(x): {detector_label}\n",
    "        \"\"\"\n",
    "        # Phase 1 + 3: \n",
    "        out += \"<h3>Pair {}</h3>\".format(index)\n",
    "\n",
    "        explanation_data = { \n",
    "            \"document_nr\": row[\"idx a\"],\n",
    "            \"detector\" : detector.__class__.__name__,\n",
    "            \"explainer\" : explainer.__class__.__name__,\n",
    "            \"ground_truth\" : row[\"GT a\"],\n",
    "            \"detector_label\" : int(detector.predict_label([row[\"Documents Phases 1+3\"]])[0]),\n",
    "        }\n",
    "        out+= template.format(**explanation_data)\n",
    "        out += explainer.get_HTML(a, bundle=True)\n",
    "       \n",
    "\n",
    "        explanation_data = { \n",
    "            \"document_nr\": row[\"idx b\"],\n",
    "            \"detector\" : detector.__class__.__name__,\n",
    "            \"explainer\" : explainer.__class__.__name__,\n",
    "            \"ground_truth\" : row[\"GT b\"],\n",
    "            \"detector_label\" : int(detector.predict_label([row[\"Documents Phases 2+4\"]])[0]),           \n",
    "        }\n",
    "        out+= template.format(**explanation_data)\n",
    "        out += explainer.get_HTML(b, bundle=True)\n",
    "        out +=\"<hr/>\"\n",
    "out +=\"</body></html>\"\n",
    "with open(\"rendered_datasets_user_study/dataset.html\", \"w\", encoding=\"UTF-8\") as text_file:\n",
    "    text_file.write(out)"
   ]
  },
  {
   "cell_type": "markdown",
   "metadata": {},
   "source": [
    "## And one per group"
   ]
  },
  {
   "cell_type": "code",
   "execution_count": 10,
   "metadata": {},
   "outputs": [
    {
     "name": "stderr",
     "output_type": "stream",
     "text": [
      "Special tokens have been added in the vocabulary, make sure the associated word embeddings are fine-tuned or trained.\n",
      "Special tokens have been added in the vocabulary, make sure the associated word embeddings are fine-tuned or trained.\n",
      "Exporting DetectorDetectGPT LIME_Explainer: 100%|██████████| 18/18 [00:39<00:00,  2.18s/it]\n",
      "Exporting DetectorDetectGPT SHAP_Explainer: 100%|██████████| 18/18 [00:37<00:00,  2.10s/it]\n",
      "Exporting DetectorDetectGPT Anchor_Explainer: 100%|██████████| 18/18 [00:40<00:00,  2.26s/it]\n",
      "Special tokens have been added in the vocabulary, make sure the associated word embeddings are fine-tuned or trained.\n",
      "Exporting DetectorGuo LIME_Explainer: 100%|██████████| 18/18 [00:03<00:00,  5.10it/s]\n",
      "Exporting DetectorGuo SHAP_Explainer: 100%|██████████| 18/18 [00:01<00:00, 10.63it/s]\n",
      "Exporting DetectorGuo Anchor_Explainer: 100%|██████████| 18/18 [00:05<00:00,  3.15it/s]\n",
      "Exporting DetectorRadford LIME_Explainer: 100%|██████████| 18/18 [00:03<00:00,  5.15it/s]\n",
      "Exporting DetectorRadford SHAP_Explainer: 100%|██████████| 18/18 [00:01<00:00,  9.69it/s]\n",
      "Exporting DetectorRadford Anchor_Explainer: 100%|██████████| 18/18 [00:05<00:00,  3.41it/s]\n"
     ]
    }
   ],
   "source": [
    "\n",
    "\n",
    "for detector_name, group in df.groupby(\"Detector\"):\n",
    "   \n",
    "    if detector_name == \"DetectorDetectGPT\":\n",
    "        detector = DetectorDetectGPT()\n",
    "    if detector_name == \"DetectorRadford\":\n",
    "        detector = DetectorRadford()\n",
    "    if detector_name == \"DetectorGuo\":\n",
    "        detector = DetectorGuo()\n",
    "\n",
    "\n",
    "    documents_group = list(group.reset_index().iterrows()) # reset_index: count from 0 in each group\n",
    "    for explainer_class in explainer_classes:\n",
    "        explainer = explainer_class(detector)\n",
    "        out = \"<html><body>\"\n",
    "        out += \"<h1>Pairs as displayed to this group</h1>\"\n",
    "        out += \"<p>Users only see the first explanation of each pair.</p>\"\n",
    "        for index, row in tqdm(documents_group, \"Exporting \" + detector.__class__.__name__ + \" \" + explainer.__class__.__name__):\n",
    "            a = row[\"Documents Phases 1+3\"]\n",
    "            b = row[\"Documents Phases 2+4\"]\n",
    "            template = \"\"\"\n",
    "            Document: {document_nr}<br/>\n",
    "            Displayed Explainer: {explainer}<br/>\n",
    "            Selecting Explainer: {explainer_s}<br/>\n",
    "            Ground Truth: {ground_truth}<br/>\n",
    "            f(x): {detector_label}\n",
    "            \"\"\"\n",
    "            # Phase 1 + 3: \n",
    "            out += \"<h3>Pair {}</h3>\".format(index)\n",
    "\n",
    "            explanation_data = { \n",
    "                \"document_nr\": row[\"idx a\"],\n",
    "                \"explainer\" : explainer.__class__.__name__,\n",
    "                \"explainer_s\" : row[\"Explainer\"],\n",
    "                \"ground_truth\" : row[\"GT a\"],\n",
    "                \"detector_label\" : int(detector.predict_label([row[\"Documents Phases 1+3\"]])[0]),\n",
    "            }\n",
    "            out+= template.format(**explanation_data)\n",
    "            out += explainer.get_HTML(a, bundle=True)\n",
    "        \n",
    "\n",
    "            explanation_data = { \n",
    "                \"document_nr\": row[\"idx b\"],\n",
    "                \"explainer\" : explainer.__class__.__name__,\n",
    "                \"explainer_s\" : row[\"Explainer\"],\n",
    "                \"ground_truth\" : row[\"GT b\"],\n",
    "                \"detector_label\" : int(detector.predict_label([row[\"Documents Phases 2+4\"]])[0]),           \n",
    "            }\n",
    "            out+= template.format(**explanation_data)\n",
    "            out += explainer.get_HTML(b, bundle=True)\n",
    "            out +=\"<hr/>\"\n",
    "        out +=\"</body></html>\"\n",
    "        with open(\"rendered_datasets_user_study/groups/{}-{}.html\".format(detector_name, explainer.__class__.__name__), \"w\", encoding=\"UTF-8\") as text_file:\n",
    "            text_file.write(out)"
   ]
  },
  {
   "cell_type": "code",
   "execution_count": 3,
   "metadata": {},
   "outputs": [],
   "source": [
    "from IPython.core.display import HTML\n"
   ]
  },
  {
   "cell_type": "code",
   "execution_count": 5,
   "metadata": {},
   "outputs": [
    {
     "data": {
      "text/plain": [
       "'<svg width=\"100%\" height=\"80px\"><line x1=\"0\" y1=\"33\" x2=\"100%\" y2=\"33\" style=\"stroke:rgb(150,150,150);stroke-width:1\" /><line x1=\"49.99999975%\" y1=\"33\" x2=\"49.99999975%\" y2=\"37\" style=\"stroke:rgb(150,150,150);stroke-width:1\" /><text x=\"49.99999975%\" y=\"27\" font-size=\"12px\" fill=\"rgb(120,120,120)\" dominant-baseline=\"bottom\" text-anchor=\"middle\">0.5</text><line x1=\"34.999999825%\" y1=\"33\" x2=\"34.999999825%\" y2=\"37\" style=\"stroke:rgb(150,150,150);stroke-width:1\" /><text x=\"34.999999825%\" y=\"27\" font-size=\"12px\" fill=\"rgb(120,120,120)\" dominant-baseline=\"bottom\" text-anchor=\"middle\">0.2</text><line x1=\"19.999999900000002%\" y1=\"33\" x2=\"19.999999900000002%\" y2=\"37\" style=\"stroke:rgb(150,150,150);stroke-width:1\" /><text x=\"19.999999900000002%\" y=\"27\" font-size=\"12px\" fill=\"rgb(120,120,120)\" dominant-baseline=\"bottom\" text-anchor=\"middle\">-0.1</text><line x1=\"64.999999675%\" y1=\"33\" x2=\"64.999999675%\" y2=\"37\" style=\"stroke:rgb(150,150,150);stroke-width:1\" /><text x=\"64.999999675%\" y=\"27\" font-size=\"12px\" fill=\"rgb(120,120,120)\" dominant-baseline=\"bottom\" text-anchor=\"middle\">0.8</text><line x1=\"79.99999960000001%\" y1=\"33\" x2=\"79.99999960000001%\" y2=\"37\" style=\"stroke:rgb(150,150,150);stroke-width:1\" /><text x=\"79.99999960000001%\" y=\"27\" font-size=\"12px\" fill=\"rgb(120,120,120)\" dominant-baseline=\"bottom\" text-anchor=\"middle\">1.1</text><line x1=\"70.26585049431492%\" y1=\"33\" x2=\"70.26585049431492%\" y2=\"37\" style=\"stroke:rgb(150,150,150);stroke-width:1\" /><text x=\"70.26585049431492%\" y=\"27\" font-size=\"13px\" style=\"stroke:#ffffff;stroke-width:8px;\" fill=\"rgb(255,255,255)\" dominant-baseline=\"bottom\" text-anchor=\"middle\">0.905317</text><text x=\"70.26585049431492%\" y=\"27\" font-size=\"12px\" fill=\"rgb(120,120,120)\" dominant-baseline=\"bottom\" text-anchor=\"middle\">0.905317</text><text x=\"70.26585049431492%\" y=\"10\" font-size=\"12px\" fill=\"rgb(120,120,120)\" dominant-baseline=\"bottom\" text-anchor=\"middle\">base value</text><line x1=\"70.05302264341775%\" y1=\"33\" x2=\"70.05302264341775%\" y2=\"37\" style=\"stroke:rgb(150,150,150);stroke-width:1\" /><text x=\"70.05302264341775%\" y=\"27\" font-size=\"13px\" style=\"stroke:#ffffff;stroke-width:8px;\" font-weight=\"bold\" fill=\"rgb(255,255,255)\" dominant-baseline=\"bottom\" text-anchor=\"middle\">0.90106</text><text x=\"70.05302264341775%\" y=\"27\" font-size=\"13px\" font-weight=\"bold\" fill=\"rgb(0,0,0)\" dominant-baseline=\"bottom\" text-anchor=\"middle\">0.90106</text><text x=\"70.05302264341775%\" y=\"10\" font-size=\"12px\" fill=\"rgb(120,120,120)\" dominant-baseline=\"bottom\" text-anchor=\"middle\">f<tspan baseline-shift=\"sub\" font-size=\"8px\">machine</tspan>(inputs)</text><rect x=\"40.02674917536848%\" width=\"30.026273468049272%\" y=\"40\" height=\"18\" style=\"fill:rgb(255.0, 0.0, 81.08083606031792); stroke-width:0; stroke:rgb(0,0,0)\" /><line x1=\"50.006814964536154%\" x2=\"70.05302264341775%\" y1=\"60\" y2=\"60\" id=\"_fb_uoqfxfbkxxhfmehjroys_ind_0\" style=\"stroke:rgb(255.0, 0.0, 81.08083606031792);stroke-width:2; opacity: 0\"/><text x=\"60.029918803976955%\" y=\"71\" font-size=\"12px\" id=\"_fs_uoqfxfbkxxhfmehjroys_ind_0\" fill=\"rgb(255.0, 0.0, 81.08083606031792)\" style=\"opacity: 0\" dominant-baseline=\"middle\" text-anchor=\"middle\">0.401</text><svg x=\"50.006814964536154%\" y=\"40\" height=\"20\" width=\"20.046207678881593%\">  <svg x=\"0\" y=\"0\" width=\"100%\" height=\"100%\">    <text x=\"50%\" y=\"9\" font-size=\"12px\" fill=\"rgb(255,255,255)\" dominant-baseline=\"middle\" text-anchor=\"middle\">This</text>  </svg></svg><line x1=\"40.03362623861942%\" x2=\"50.006814964536154%\" y1=\"60\" y2=\"60\" id=\"_fb_uoqfxfbkxxhfmehjroys_ind_3\" style=\"stroke:rgb(255.0, 0.0, 81.08083606031792);stroke-width:2; opacity: 0\"/><text x=\"45.02022060157779%\" y=\"71\" font-size=\"12px\" id=\"_fs_uoqfxfbkxxhfmehjroys_ind_3\" fill=\"rgb(255.0, 0.0, 81.08083606031792)\" style=\"opacity: 0\" dominant-baseline=\"middle\" text-anchor=\"middle\">0.199</text><svg x=\"40.03362623861942%\" y=\"40\" height=\"20\" width=\"9.973188725916735%\">  <svg x=\"0\" y=\"0\" width=\"100%\" height=\"100%\">    <text x=\"50%\" y=\"9\" font-size=\"12px\" fill=\"rgb(255,255,255)\" dominant-baseline=\"middle\" text-anchor=\"middle\">example</text>  </svg></svg><line x1=\"40.02674917536848%\" x2=\"40.03362623861942%\" y1=\"60\" y2=\"60\" id=\"_fb_uoqfxfbkxxhfmehjroys_ind_1\" style=\"stroke:rgb(255.0, 0.0, 81.08083606031792);stroke-width:2; opacity: 0\"/><text x=\"40.03018770699395%\" y=\"71\" font-size=\"12px\" id=\"_fs_uoqfxfbkxxhfmehjroys_ind_1\" fill=\"rgb(255.0, 0.0, 81.08083606031792)\" style=\"opacity: 0\" dominant-baseline=\"middle\" text-anchor=\"middle\">0.0</text><svg x=\"40.02674917536848%\" y=\"40\" height=\"20\" width=\"0.006877063250939841%\">  <svg x=\"0\" y=\"0\" width=\"100%\" height=\"100%\">    <text x=\"50%\" y=\"9\" font-size=\"12px\" fill=\"rgb(255,255,255)\" dominant-baseline=\"middle\" text-anchor=\"middle\">is</text>  </svg></svg><g transform=\"translate(0,0)\">  <svg x=\"50.006814964536154%\" y=\"40\" height=\"18\" overflow=\"visible\" width=\"30\">    <path d=\"M 0 -9 l 6 18 L 0 25\" fill=\"none\" style=\"stroke:rgb(255.0, 0.0, 81.08083606031792);stroke-width:2\" />  </svg></g><g transform=\"translate(2,0)\">  <svg x=\"50.006814964536154%\" y=\"40\" height=\"18\" overflow=\"visible\" width=\"30\">    <path d=\"M 0 -9 l 6 18 L 0 25\" fill=\"none\" style=\"stroke:rgb(255.0, 0.0, 81.08083606031792);stroke-width:2\" />  </svg></g><g transform=\"translate(4,0)\">  <svg x=\"50.006814964536154%\" y=\"40\" height=\"18\" overflow=\"visible\" width=\"30\">    <path d=\"M 0 -9 l 6 18 L 0 25\" fill=\"none\" style=\"stroke:rgb(255.0, 0.0, 81.08083606031792);stroke-width:2\" />  </svg></g><g transform=\"translate(6,0)\">  <svg x=\"50.006814964536154%\" y=\"40\" height=\"18\" overflow=\"visible\" width=\"30\">    <path d=\"M 0 -9 l 6 18 L 0 25\" fill=\"none\" style=\"stroke:rgb(255.0, 0.0, 81.08083606031792);stroke-width:2\" />  </svg></g><g transform=\"translate(-8,0)\">  <svg x=\"50.006814964536154%\" y=\"40\" height=\"18\" overflow=\"visible\" width=\"30\">    <path d=\"M 0 -9 l 6 18 L 0 25\" fill=\"none\" style=\"stroke:rgb(255.0, 0.0, 81.08083606031792);stroke-width:2\" />  </svg></g><g transform=\"translate(-6,0)\">  <svg x=\"50.006814964536154%\" y=\"40\" height=\"18\" overflow=\"visible\" width=\"30\">    <path d=\"M 0 -9 l 6 18 L 0 25\" fill=\"none\" style=\"stroke:rgb(255.0, 0.0, 81.08083606031792);stroke-width:2\" />  </svg></g><g transform=\"translate(-4,0)\">  <svg x=\"50.006814964536154%\" y=\"40\" height=\"18\" overflow=\"visible\" width=\"30\">    <path d=\"M 0 -9 l 6 18 L 0 25\" fill=\"none\" style=\"stroke:rgb(255.0, 0.0, 81.08083606031792);stroke-width:2\" />  </svg></g><g transform=\"translate(-2,0)\">  <svg x=\"50.006814964536154%\" y=\"40\" height=\"18\" overflow=\"visible\" width=\"30\">    <path d=\"M 0 -9 l 6 18 L 0 25\" fill=\"none\" style=\"stroke:rgb(255.0, 0.0, 81.08083606031792);stroke-width:2\" />  </svg></g><g transform=\"translate(0,0)\">  <svg x=\"40.03362623861942%\" y=\"40\" height=\"18\" overflow=\"visible\" width=\"30\">    <path d=\"M 0 -9 l 6 18 L 0 25\" fill=\"none\" style=\"stroke:rgb(255.0, 0.0, 81.08083606031792);stroke-width:2\" />  </svg></g><g transform=\"translate(2,0)\">  <svg x=\"40.03362623861942%\" y=\"40\" height=\"18\" overflow=\"visible\" width=\"30\">    <path d=\"M 0 -9 l 6 18 L 0 25\" fill=\"none\" style=\"stroke:rgb(255.0, 0.0, 81.08083606031792);stroke-width:2\" />  </svg></g><g transform=\"translate(4,0)\">  <svg x=\"40.03362623861942%\" y=\"40\" height=\"18\" overflow=\"visible\" width=\"30\">    <path d=\"M 0 -9 l 6 18 L 0 25\" fill=\"none\" style=\"stroke:rgb(255.0, 0.0, 81.08083606031792);stroke-width:2\" />  </svg></g><g transform=\"translate(6,0)\">  <svg x=\"40.03362623861942%\" y=\"40\" height=\"18\" overflow=\"visible\" width=\"30\">    <path d=\"M 0 -9 l 6 18 L 0 25\" fill=\"none\" style=\"stroke:rgb(255.0, 0.0, 81.08083606031792);stroke-width:2\" />  </svg></g><g transform=\"translate(-8,0)\">  <svg x=\"40.03362623861942%\" y=\"40\" height=\"18\" overflow=\"visible\" width=\"30\">    <path d=\"M 0 -9 l 6 18 L 0 25\" fill=\"none\" style=\"stroke:rgb(255.0, 0.0, 81.08083606031792);stroke-width:2\" />  </svg></g><g transform=\"translate(-6,0)\">  <svg x=\"40.03362623861942%\" y=\"40\" height=\"18\" overflow=\"visible\" width=\"30\">    <path d=\"M 0 -9 l 6 18 L 0 25\" fill=\"none\" style=\"stroke:rgb(255.0, 0.0, 81.08083606031792);stroke-width:2\" />  </svg></g><g transform=\"translate(-4,0)\">  <svg x=\"40.03362623861942%\" y=\"40\" height=\"18\" overflow=\"visible\" width=\"30\">    <path d=\"M 0 -9 l 6 18 L 0 25\" fill=\"none\" style=\"stroke:rgb(255.0, 0.0, 81.08083606031792);stroke-width:2\" />  </svg></g><g transform=\"translate(-2,0)\">  <svg x=\"40.03362623861942%\" y=\"40\" height=\"18\" overflow=\"visible\" width=\"30\">    <path d=\"M 0 -9 l 6 18 L 0 25\" fill=\"none\" style=\"stroke:rgb(255.0, 0.0, 81.08083606031792);stroke-width:2\" />  </svg></g><rect transform=\"translate(-8,0)\" x=\"70.05302264341775%\" y=\"40\" width=\"8\" height=\"18\" style=\"fill:rgb(255.0, 0.0, 81.08083606031792)\"/><g transform=\"translate(-11.5,0)\">  <svg x=\"40.02674917536848%\" y=\"40\" height=\"18\" overflow=\"visible\" width=\"30\">    <path d=\"M 10 -9 l 6 18 L 10 25 L 0 25 L 0 -9\" fill=\"#ffffff\" style=\"stroke:rgb(255,255,255);stroke-width:2\" />  </svg></g><g transform=\"translate(-1.5,0)\">  <svg x=\"70.05302264341775%\" y=\"40\" height=\"18\" overflow=\"visible\" width=\"30\">    <path d=\"M 0 -9 l 6 18 L 0 25\" fill=\"none\" style=\"stroke:rgb(255, 195, 213);stroke-width:2\" />  </svg></g><rect x=\"50.006814964536154%\" y=\"40\" height=\"20\" width=\"20.046207678881593%\"      onmouseover=\"document.getElementById(\\'_tp_uoqfxfbkxxhfmehjroys_ind_0\\').style.textDecoration = \\'underline\\';document.getElementById(\\'_fs_uoqfxfbkxxhfmehjroys_ind_0\\').style.opacity = 1;document.getElementById(\\'_fb_uoqfxfbkxxhfmehjroys_ind_0\\').style.opacity = 1;\"      onmouseout=\"document.getElementById(\\'_tp_uoqfxfbkxxhfmehjroys_ind_0\\').style.textDecoration = \\'none\\';document.getElementById(\\'_fs_uoqfxfbkxxhfmehjroys_ind_0\\').style.opacity = 0;document.getElementById(\\'_fb_uoqfxfbkxxhfmehjroys_ind_0\\').style.opacity = 0;\" style=\"fill:rgb(0,0,0,0)\" /><g transform=\"translate(-1.5,0)\">  <svg x=\"50.006814964536154%\" y=\"40\" height=\"18\" overflow=\"visible\" width=\"30\">    <path d=\"M 0 -9 l 6 18 L 0 25\" fill=\"none\" style=\"stroke:rgb(255, 195, 213);stroke-width:2\" />  </svg></g><rect x=\"40.03362623861942%\" y=\"40\" height=\"20\" width=\"9.973188725916735%\"      onmouseover=\"document.getElementById(\\'_tp_uoqfxfbkxxhfmehjroys_ind_3\\').style.textDecoration = \\'underline\\';document.getElementById(\\'_fs_uoqfxfbkxxhfmehjroys_ind_3\\').style.opacity = 1;document.getElementById(\\'_fb_uoqfxfbkxxhfmehjroys_ind_3\\').style.opacity = 1;\"      onmouseout=\"document.getElementById(\\'_tp_uoqfxfbkxxhfmehjroys_ind_3\\').style.textDecoration = \\'none\\';document.getElementById(\\'_fs_uoqfxfbkxxhfmehjroys_ind_3\\').style.opacity = 0;document.getElementById(\\'_fb_uoqfxfbkxxhfmehjroys_ind_3\\').style.opacity = 0;\" style=\"fill:rgb(0,0,0,0)\" /><rect x=\"40.02674917536848%\" y=\"40\" height=\"20\" width=\"0.006877063250939841%\"      onmouseover=\"document.getElementById(\\'_tp_uoqfxfbkxxhfmehjroys_ind_1\\').style.textDecoration = \\'underline\\';document.getElementById(\\'_fs_uoqfxfbkxxhfmehjroys_ind_1\\').style.opacity = 1;document.getElementById(\\'_fb_uoqfxfbkxxhfmehjroys_ind_1\\').style.opacity = 1;\"      onmouseout=\"document.getElementById(\\'_tp_uoqfxfbkxxhfmehjroys_ind_1\\').style.textDecoration = \\'none\\';document.getElementById(\\'_fs_uoqfxfbkxxhfmehjroys_ind_1\\').style.opacity = 0;document.getElementById(\\'_fb_uoqfxfbkxxhfmehjroys_ind_1\\').style.opacity = 0;\" style=\"fill:rgb(0,0,0,0)\" /><rect x=\"70.05302264341775%\" width=\"30.239101318946428%\" y=\"40\" height=\"18\" style=\"fill:rgb(0.0, 138.56128015770727, 250.76166088685727); stroke-width:0; stroke:rgb(0,0,0)\" /><line x1=\"70.05302264341775%\" x2=\"100.1018442770537%\" y1=\"60\" y2=\"60\" id=\"_fb_uoqfxfbkxxhfmehjroys_ind_2\" style=\"stroke:rgb(0.0, 138.56128015770727, 250.76166088685727);stroke-width:2; opacity: 0\"/><text x=\"85.07743346023572%\" y=\"71\" font-size=\"12px\" fill=\"rgb(0.0, 138.56128015770727, 250.76166088685727)\" id=\"_fs_uoqfxfbkxxhfmehjroys_ind_2\" style=\"opacity: 0\" dominant-baseline=\"middle\" text-anchor=\"middle\">-0.601</text><svg x=\"70.05302264341775%\" y=\"40\" height=\"20\" width=\"30.048821633635953%\">  <svg x=\"0\" y=\"0\" width=\"100%\" height=\"100%\">    <text x=\"50%\" y=\"9\" font-size=\"12px\" fill=\"rgb(255,255,255)\" dominant-baseline=\"middle\" text-anchor=\"middle\">an</text>  </svg></svg><line x1=\"100.1018442770537%\" x2=\"100.29212396236419%\" y1=\"60\" y2=\"60\" id=\"_fb_uoqfxfbkxxhfmehjroys_ind_4\" style=\"stroke:rgb(0.0, 138.56128015770727, 250.76166088685727);stroke-width:2; opacity: 0\"/><text x=\"100.19698411970894%\" y=\"71\" font-size=\"12px\" fill=\"rgb(0.0, 138.56128015770727, 250.76166088685727)\" id=\"_fs_uoqfxfbkxxhfmehjroys_ind_4\" style=\"opacity: 0\" dominant-baseline=\"middle\" text-anchor=\"middle\">-0.004</text><svg x=\"100.1018442770537%\" y=\"40\" height=\"20\" width=\"0.190279685310486%\">  <svg x=\"0\" y=\"0\" width=\"100%\" height=\"100%\">    <text x=\"50%\" y=\"9\" font-size=\"12px\" fill=\"rgb(255,255,255)\" dominant-baseline=\"middle\" text-anchor=\"middle\">.</text>  </svg></svg><g transform=\"translate(-8,0)\">  <svg x=\"100.1018442770537%\" y=\"40\" height=\"18\" overflow=\"visible\" width=\"30\">    <path d=\"M 8 -9 l -6 18 L 8 25\" fill=\"none\" style=\"stroke:rgb(0.0, 138.56128015770727, 250.76166088685727);stroke-width:2\" />  </svg></g><g transform=\"translate(-10,0)\">  <svg x=\"100.1018442770537%\" y=\"40\" height=\"18\" overflow=\"visible\" width=\"30\">    <path d=\"M 8 -9 l -6 18 L 8 25\" fill=\"none\" style=\"stroke:rgb(0.0, 138.56128015770727, 250.76166088685727);stroke-width:2\" />  </svg></g><g transform=\"translate(-12,0)\">  <svg x=\"100.1018442770537%\" y=\"40\" height=\"18\" overflow=\"visible\" width=\"30\">    <path d=\"M 8 -9 l -6 18 L 8 25\" fill=\"none\" style=\"stroke:rgb(0.0, 138.56128015770727, 250.76166088685727);stroke-width:2\" />  </svg></g><g transform=\"translate(-14,0)\">  <svg x=\"100.1018442770537%\" y=\"40\" height=\"18\" overflow=\"visible\" width=\"30\">    <path d=\"M 8 -9 l -6 18 L 8 25\" fill=\"none\" style=\"stroke:rgb(0.0, 138.56128015770727, 250.76166088685727);stroke-width:2\" />  </svg></g><g transform=\"translate(2,0)\">  <svg x=\"100.1018442770537%\" y=\"40\" height=\"18\" overflow=\"visible\" width=\"30\">    <path d=\"M 8 -9 l -6 18 L 8 25\" fill=\"none\" style=\"stroke:rgb(0.0, 138.56128015770727, 250.76166088685727);stroke-width:2\" />  </svg></g><g transform=\"translate(0,0)\">  <svg x=\"100.1018442770537%\" y=\"40\" height=\"18\" overflow=\"visible\" width=\"30\">    <path d=\"M 8 -9 l -6 18 L 8 25\" fill=\"none\" style=\"stroke:rgb(0.0, 138.56128015770727, 250.76166088685727);stroke-width:2\" />  </svg></g><g transform=\"translate(-2,0)\">  <svg x=\"100.1018442770537%\" y=\"40\" height=\"18\" overflow=\"visible\" width=\"30\">    <path d=\"M 8 -9 l -6 18 L 8 25\" fill=\"none\" style=\"stroke:rgb(0.0, 138.56128015770727, 250.76166088685727);stroke-width:2\" />  </svg></g><g transform=\"translate(-4,0)\">  <svg x=\"100.1018442770537%\" y=\"40\" height=\"18\" overflow=\"visible\" width=\"30\">    <path d=\"M 8 -9 l -6 18 L 8 25\" fill=\"none\" style=\"stroke:rgb(0.0, 138.56128015770727, 250.76166088685727);stroke-width:2\" />  </svg></g><rect transform=\"translate(0,0)\" x=\"70.05302264341775%\" y=\"40\" width=\"8\" height=\"18\" style=\"fill:rgb(0.0, 138.56128015770727, 250.76166088685727)\"/><g transform=\"translate(-6.0,0)\">  <svg x=\"100.29212396236419%\" y=\"40\" height=\"18\" overflow=\"visible\" width=\"30\">    <path d=\"M 8 -9 l -6 18 L 8 25 L 20 25 L 20 -9\" fill=\"#ffffff\" style=\"stroke:rgb(255,255,255);stroke-width:2\" />  </svg></g><g transform=\"translate(-6.0,0)\">  <svg x=\"100.1018442770537%\" y=\"40\" height=\"18\" overflow=\"visible\" width=\"30\">    <path d=\"M 8 -9 l -6 18 L 8 25\" fill=\"none\" style=\"stroke:rgb(208, 230, 250);stroke-width:2\" />  </svg></g><rect x=\"70.05302264341775%\" y=\"40\" height=\"20\" width=\"30.048821633635953%\"      onmouseover=\"document.getElementById(\\'_tp_uoqfxfbkxxhfmehjroys_ind_2\\').style.textDecoration = \\'underline\\';document.getElementById(\\'_fs_uoqfxfbkxxhfmehjroys_ind_2\\').style.opacity = 1;document.getElementById(\\'_fb_uoqfxfbkxxhfmehjroys_ind_2\\').style.opacity = 1;\"      onmouseout=\"document.getElementById(\\'_tp_uoqfxfbkxxhfmehjroys_ind_2\\').style.textDecoration = \\'none\\';document.getElementById(\\'_fs_uoqfxfbkxxhfmehjroys_ind_2\\').style.opacity = 0;document.getElementById(\\'_fb_uoqfxfbkxxhfmehjroys_ind_2\\').style.opacity = 0;\" style=\"fill:rgb(0,0,0,0)\" /><rect x=\"100.1018442770537%\" y=\"40\" height=\"20\" width=\"0.190279685310486%\"      onmouseover=\"document.getElementById(\\'_tp_uoqfxfbkxxhfmehjroys_ind_4\\').style.textDecoration = \\'underline\\';document.getElementById(\\'_fs_uoqfxfbkxxhfmehjroys_ind_4\\').style.opacity = 1;document.getElementById(\\'_fb_uoqfxfbkxxhfmehjroys_ind_4\\').style.opacity = 1;\"      onmouseout=\"document.getElementById(\\'_tp_uoqfxfbkxxhfmehjroys_ind_4\\').style.textDecoration = \\'none\\';document.getElementById(\\'_fs_uoqfxfbkxxhfmehjroys_ind_4\\').style.opacity = 0;document.getElementById(\\'_fb_uoqfxfbkxxhfmehjroys_ind_4\\').style.opacity = 0;\" style=\"fill:rgb(0,0,0,0)\" /></svg><div align=\\'center\\'><div style=\"color: rgb(120,120,120); font-size: 12px; margin-top: -15px;\">inputs</div><div style=\\'display: inline; text-align: center;\\'\\n    ><div style=\\'display: none; color: #999; padding-top: 0px; font-size: 12px;\\'>0.401</div\\n        ><div id=\\'_tp_uoqfxfbkxxhfmehjroys_ind_0\\'\\n            style=\\'display: inline; background: rgba(255.0, 13.0, 87.0, 0.6689245395127748); border-radius: 3px; padding: 0px\\'\\n            onclick=\"\\n            if (this.previousSibling.style.display == \\'none\\') {\\n                this.previousSibling.style.display = \\'block\\';\\n                this.parentNode.style.display = \\'inline-block\\';\\n            } else {\\n                this.previousSibling.style.display = \\'none\\';\\n                this.parentNode.style.display = \\'inline\\';\\n            }\"\\n            onmouseover=\"document.getElementById(\\'_fb_uoqfxfbkxxhfmehjroys_ind_0\\').style.opacity = 1; document.getElementById(\\'_fs_uoqfxfbkxxhfmehjroys_ind_0\\').style.opacity = 1;\"\\n            onmouseout=\"document.getElementById(\\'_fb_uoqfxfbkxxhfmehjroys_ind_0\\').style.opacity = 0; document.getElementById(\\'_fs_uoqfxfbkxxhfmehjroys_ind_0\\').style.opacity = 0;\"\\n        >This </div></div><div style=\\'display: inline; text-align: center;\\'\\n    ><div style=\\'display: none; color: #999; padding-top: 0px; font-size: 12px;\\'>0.0</div\\n        ><div id=\\'_tp_uoqfxfbkxxhfmehjroys_ind_1\\'\\n            style=\\'display: inline; background: rgba(230.2941176470614, 26.505882352939775, 102.59215686274348, 0.0); border-radius: 3px; padding: 0px\\'\\n            onclick=\"\\n            if (this.previousSibling.style.display == \\'none\\') {\\n                this.previousSibling.style.display = \\'block\\';\\n                this.parentNode.style.display = \\'inline-block\\';\\n            } else {\\n                this.previousSibling.style.display = \\'none\\';\\n                this.parentNode.style.display = \\'inline\\';\\n            }\"\\n            onmouseover=\"document.getElementById(\\'_fb_uoqfxfbkxxhfmehjroys_ind_1\\').style.opacity = 1; document.getElementById(\\'_fs_uoqfxfbkxxhfmehjroys_ind_1\\').style.opacity = 1;\"\\n            onmouseout=\"document.getElementById(\\'_fb_uoqfxfbkxxhfmehjroys_ind_1\\').style.opacity = 0; document.getElementById(\\'_fs_uoqfxfbkxxhfmehjroys_ind_1\\').style.opacity = 0;\"\\n        >is </div></div><div style=\\'display: inline; text-align: center;\\'\\n    ><div style=\\'display: none; color: #999; padding-top: 0px; font-size: 12px;\\'>-0.601</div\\n        ><div id=\\'_tp_uoqfxfbkxxhfmehjroys_ind_2\\'\\n            style=\\'display: inline; background: rgba(30.0, 136.0, 229.0, 1.0); border-radius: 3px; padding: 0px\\'\\n            onclick=\"\\n            if (this.previousSibling.style.display == \\'none\\') {\\n                this.previousSibling.style.display = \\'block\\';\\n                this.parentNode.style.display = \\'inline-block\\';\\n            } else {\\n                this.previousSibling.style.display = \\'none\\';\\n                this.parentNode.style.display = \\'inline\\';\\n            }\"\\n            onmouseover=\"document.getElementById(\\'_fb_uoqfxfbkxxhfmehjroys_ind_2\\').style.opacity = 1; document.getElementById(\\'_fs_uoqfxfbkxxhfmehjroys_ind_2\\').style.opacity = 1;\"\\n            onmouseout=\"document.getElementById(\\'_fb_uoqfxfbkxxhfmehjroys_ind_2\\').style.opacity = 0; document.getElementById(\\'_fs_uoqfxfbkxxhfmehjroys_ind_2\\').style.opacity = 0;\"\\n        >an </div></div><div style=\\'display: inline; text-align: center;\\'\\n    ><div style=\\'display: none; color: #999; padding-top: 0px; font-size: 12px;\\'>0.199</div\\n        ><div id=\\'_tp_uoqfxfbkxxhfmehjroys_ind_3\\'\\n            style=\\'display: inline; background: rgba(255.0, 13.0, 87.0, 0.3299663299663301); border-radius: 3px; padding: 0px\\'\\n            onclick=\"\\n            if (this.previousSibling.style.display == \\'none\\') {\\n                this.previousSibling.style.display = \\'block\\';\\n                this.parentNode.style.display = \\'inline-block\\';\\n            } else {\\n                this.previousSibling.style.display = \\'none\\';\\n                this.parentNode.style.display = \\'inline\\';\\n            }\"\\n            onmouseover=\"document.getElementById(\\'_fb_uoqfxfbkxxhfmehjroys_ind_3\\').style.opacity = 1; document.getElementById(\\'_fs_uoqfxfbkxxhfmehjroys_ind_3\\').style.opacity = 1;\"\\n            onmouseout=\"document.getElementById(\\'_fb_uoqfxfbkxxhfmehjroys_ind_3\\').style.opacity = 0; document.getElementById(\\'_fs_uoqfxfbkxxhfmehjroys_ind_3\\').style.opacity = 0;\"\\n        >example</div></div><div style=\\'display: inline; text-align: center;\\'\\n    ><div style=\\'display: none; color: #999; padding-top: 0px; font-size: 12px;\\'>-0.004</div\\n        ><div id=\\'_tp_uoqfxfbkxxhfmehjroys_ind_4\\'\\n            style=\\'display: inline; background: rgba(54.70588235294111, 122.49411764705886, 213.40784313725496, 0.0); border-radius: 3px; padding: 0px\\'\\n            onclick=\"\\n            if (this.previousSibling.style.display == \\'none\\') {\\n                this.previousSibling.style.display = \\'block\\';\\n                this.parentNode.style.display = \\'inline-block\\';\\n            } else {\\n                this.previousSibling.style.display = \\'none\\';\\n                this.parentNode.style.display = \\'inline\\';\\n            }\"\\n            onmouseover=\"document.getElementById(\\'_fb_uoqfxfbkxxhfmehjroys_ind_4\\').style.opacity = 1; document.getElementById(\\'_fs_uoqfxfbkxxhfmehjroys_ind_4\\').style.opacity = 1;\"\\n            onmouseout=\"document.getElementById(\\'_fb_uoqfxfbkxxhfmehjroys_ind_4\\').style.opacity = 0; document.getElementById(\\'_fs_uoqfxfbkxxhfmehjroys_ind_4\\').style.opacity = 0;\"\\n        >.</div></div></div>'"
      ]
     },
     "execution_count": 5,
     "metadata": {},
     "output_type": "execute_result"
    }
   ],
   "source": [
    "SHAP_Explainer(DetectorDummy(human_watermark=\"example\", machine_watermark=\"an\")).get_HTML(\"This is an example.\")"
   ]
  },
  {
   "cell_type": "code",
   "execution_count": null,
   "metadata": {},
   "outputs": [],
   "source": []
  }
 ],
 "metadata": {
  "kernelspec": {
   "display_name": ".venv",
   "language": "python",
   "name": "python3"
  },
  "language_info": {
   "codemirror_mode": {
    "name": "ipython",
    "version": 3
   },
   "file_extension": ".py",
   "mimetype": "text/x-python",
   "name": "python",
   "nbconvert_exporter": "python",
   "pygments_lexer": "ipython3",
   "version": "3.11.1"
  }
 },
 "nbformat": 4,
 "nbformat_minor": 2
}
