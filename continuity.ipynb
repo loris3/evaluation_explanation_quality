{
 "cells": [
  {
   "cell_type": "markdown",
   "metadata": {},
   "source": []
  },
  {
   "cell_type": "code",
   "execution_count": 1,
   "metadata": {},
   "outputs": [],
   "source": [
    "DEBUG = False\n",
    "N_DEBUG = 10"
   ]
  },
  {
   "cell_type": "code",
   "execution_count": 2,
   "metadata": {},
   "outputs": [],
   "source": [
    "import pandas as pd\n",
    "import time\n",
    "import numpy as np\n",
    "\n",
    "from gpt2outputdataset.detector_radford import DetectorRadford\n",
    "from detectgpt.detector_detectgpt import DetectorDetectGPT\n",
    "from detector_guo import DetectorGuo\n",
    "from detector_dummy import DetectorDummy\n",
    "from explainer_wrappers import LIME_Explainer, SHAP_Explainer, Anchor_Explainer"
   ]
  },
  {
   "cell_type": "code",
   "execution_count": 3,
   "metadata": {},
   "outputs": [],
   "source": [
    "import pandas as pd\n",
    "import numpy as np\n",
    "import transformers"
   ]
  },
  {
   "cell_type": "code",
   "execution_count": 4,
   "metadata": {},
   "outputs": [],
   "source": [
    "test = pd.read_pickle(\"./dataset_test.pkl\")\n",
    "test = test # always load the full dataset! (np.random.shuffle(tokenized_sentences)). slice the actual hybrid_documents if debugging!\n",
    "\n",
    "\n",
    "documents = test[\"answer\"]\n",
    "gold_labels = test[\"author\"] == \"human_answers\" # convention: 0: machine, 1: human, see detector.py\n",
    "\n",
    "if  N_DEBUG > 0:\n",
    "    documents = documents[0:N_DEBUG]\n",
    "    gold_labels = gold_labels[0:N_DEBUG]\n",
    "\n",
    "#from gpt2outputdataset.detector_radford import DetectorRadford\n",
    "#from detectgpt.detector_detectgpt import DetectorDetectGPT\n",
    "\n",
    "detector_classes = [DetectorGuo]#,DetectorRadford,DetectorDetectGPT]\n",
    "\n",
    "explainer_classes = [LIME_Explainer,SHAP_Explainer]"
   ]
  },
  {
   "cell_type": "code",
   "execution_count": 5,
   "metadata": {},
   "outputs": [
    {
     "name": "stderr",
     "output_type": "stream",
     "text": [
      "Special tokens have been added in the vocabulary, make sure the associated word embeddings are fine-tuned or trained.\n"
     ]
    }
   ],
   "source": [
    "detector = DetectorGuo()"
   ]
  },
  {
   "cell_type": "code",
   "execution_count": 6,
   "metadata": {},
   "outputs": [],
   "source": [
    "import re"
   ]
  },
  {
   "cell_type": "code",
   "execution_count": 7,
   "metadata": {},
   "outputs": [],
   "source": [
    "import torch\n",
    "import pickle"
   ]
  },
  {
   "cell_type": "code",
   "execution_count": 8,
   "metadata": {},
   "outputs": [],
   "source": [
    "DEVICE = \"cuda\"\n",
    "pattern = re.compile(r\"<extra_id_\\d+>\")\n",
    "\n",
    "\n",
    "\n",
    "model = \"t5-small\"\n",
    "cache_dir=\"./.cache\"\n",
    "mask_model = transformers.AutoModelForSeq2SeqLM.from_pretrained(model, cache_dir=cache_dir).to(DEVICE)\n",
    "mask_tokenizer = transformers.AutoTokenizer.from_pretrained(model, model_max_length=mask_model.config.n_positions, cache_dir=cache_dir)#.to(DEVICE)"
   ]
  },
  {
   "cell_type": "code",
   "execution_count": 9,
   "metadata": {},
   "outputs": [],
   "source": [
    "columns=[\"Detector\", \"Original\", \"Prompt\", \"Edited\"]"
   ]
  },
  {
   "cell_type": "code",
   "execution_count": 10,
   "metadata": {},
   "outputs": [],
   "source": [
    "# generate perturbed samples (similar to how it is done in detectgpt/detector_detectgpt.py)\n",
    "def get_pertubed_text(text, n=1):\n",
    "    tokens = text.split(' ')\n",
    "    # select 1 (TODO) token in the original document to mask\n",
    "    mask = np.zeros_like(tokens, dtype=bool)\n",
    "    mask[np.random.randint(0, len(mask))] = 1 # TODO number of tokens to mask\n",
    "\n",
    "    prediction_original = detector.predict_label([text])[0]\n",
    "\n",
    "    past_generations = []\n",
    "    perturbed_text = text\n",
    "    # generate n unique perturbations (replace the same masked word(s) with one or more words)\n",
    "    # while the experiment could also be run with random replacement (random word exchanged for each perturbation), the krippendorff metric would require more samples/coders to be significant (TODO explain effects of nan)\n",
    "    for _ in range(0,n):\n",
    "        while True: # do while \n",
    "            i = 0\n",
    "            for ii, (m, token) in enumerate(zip(mask, tokens)):\n",
    "                if m:\n",
    "                    tokens[ii] = \"<extra_id_{}>\".format(i)\n",
    "                    i+=1\n",
    "            i-=1\n",
    "            masked_text = ' '.join(tokens)\n",
    "            stop_id = mask_tokenizer.encode(f\"<extra_id_{i+1}>\")[0]\n",
    "\n",
    "\n",
    "            tok = mask_tokenizer(masked_text, return_tensors=\"pt\", padding=True).to(DEVICE)\n",
    "            outputs = mask_model.generate(**tok, max_length=150, do_sample=True, top_p=1, num_return_sequences=1, eos_token_id=stop_id,)# multinomial sampling\n",
    "                                #                stopping_criteria=StoppingCriteriaList([self.stopping_criteria])) # no gains for short tests\n",
    "            mt = mask_tokenizer.batch_decode(outputs, skip_special_tokens=False)\n",
    "\n",
    "            fills = [x for x in re.split(r\"<extra_id_\\d*>\", mt[0]) if x != \"<pad>\"]\n",
    "\n",
    "            for i, (token, m) in enumerate(zip(tokens, mask)):\n",
    "                if m:\n",
    "                    tokens[i] = fills.pop(0).strip()\n",
    "            perturbed_text = \" \".join(tokens)\n",
    "\n",
    "            # check if this is a valid and new perturbation\n",
    "            if (perturbed_text == text) or (perturbed_text in past_generations):\n",
    "                continue\n",
    "            # check that label didn't flip\n",
    "            if detector.predict_label([perturbed_text])[0] != prediction_original:\n",
    "                continue\n",
    "            else:\n",
    "                break\n",
    "        past_generations.append(perturbed_text)\n",
    "    return past_generations"
   ]
  },
  {
   "cell_type": "code",
   "execution_count": 11,
   "metadata": {},
   "outputs": [],
   "source": [
    "from tqdm import tqdm"
   ]
  },
  {
   "cell_type": "code",
   "execution_count": 12,
   "metadata": {},
   "outputs": [
    {
     "name": "stderr",
     "output_type": "stream",
     "text": [
      "Generating perturbations: 100%|██████████| 10/10 [00:47<00:00,  4.78s/it]\n"
     ]
    }
   ],
   "source": [
    "N_REPLACE = 1\n",
    "documents_and_perturbations = []\n",
    "\n",
    "for document, gold_label in tqdm(zip(documents,gold_labels), total=len(documents), desc=\"Generating perturbations\"):\n",
    "    # set seeds here so perturbed documents are the same regardless of slice for documents when debugging (and explanations don't have to be regenerated)\n",
    "    np.random.seed(42)\n",
    "    torch.manual_seed(42)\n",
    "    documents_and_perturbations.append((document, gold_label, get_pertubed_text(document, 5)))\n",
    "    #break\n",
    "\n"
   ]
  },
  {
   "cell_type": "code",
   "execution_count": 14,
   "metadata": {},
   "outputs": [
    {
     "data": {
      "text/plain": [
       "[(\"I've heard of handyman type people making a living this way untaxed.  They move into a fixer-upper, fix it up while living there, stay over two years and sell.  They can pocket $125k/yr tax free this way assuming they produce that much value in their fixing-up.  (Beware, though, that this will bite you in low social security payments in retirement!)\",\n",
       "  True,\n",
       "  [\"I've heard of handyman type people making a living this way untaxed.  They move into a fixer-upper, fix it up while living there, stay over two years and sell.  They can pocket $125k/yr tax free this way, assuming they produce that much value in their fixing-up.  (Beware, though, that this will bite you in low social security payments in retirement!)\",\n",
       "   \"I've heard of handyman type people making a living this way untaxed.  They move into a fixer-upper, fix it up while living there, stay over two years and sell.  They can pocket $125k/yr tax free this way with their big fixer-uppers, assuming they produce that much value in their fixing-up.  (Beware, though, that this will bite you in low social security payments in retirement!)\",\n",
       "   \"I've heard of handyman type people making a living this way untaxed.  They move into a fixer-upper, fix it up while living there, stay over two years and sell.  They can pocket $125k/yr tax free this way if they earn the tax free share assuming they produce that much value in their fixing-up.  (Beware, though, that this will bite you in low social security payments in retirement!)\",\n",
       "   \"I've heard of handyman type people making a living this way untaxed.  They move into a fixer-upper, fix it up while living there, stay over two years and sell.  They can pocket $125k/yr tax free this long for a living, assuming they produce that much value in their fixing-up.  (Beware, though, that this will bite you in low social security payments in retirement!)\",\n",
       "   \"I've heard of handyman type people making a living this way untaxed.  They move into a fixer-upper, fix it up while living there, stay over two years and sell.  They can pocket $125k/yr tax free this year, assuming they produce that much value in their fixing-up.  (Beware, though, that this will bite you in low social security payments in retirement!)\"]),\n",
       " ('No. Securities brokers/dealers in the United States are licensed to broker debt and equity in corporations. (There are additional, commodities licenses to broker derivatives.) $20 American Eagle coins, or any other type of physical currency or physical precious metals can be traded or brokered by anyone without a specific license (except maybe a sales tax registration). The only situation where a securities license would be required is if a legal entity is holding the coins and you deal/broker an interest in that legal entity. For example, dealing in SPDR Gold Shares or a similar structure holding either physical assets or the right to purchase those assets (like a commodity pool) would require a securities and/or commodities dealing license.',\n",
       "  True,\n",
       "  ['No. Securities brokers/dealers in the United States are licensed to broker debt and equity in corporations. (There are additional, commodities licenses to broker derivatives.) $20 American Eagle coins, or any other type of physical currency or physical precious metals can be traded or brokered by anyone without a specific license (except maybe a sales tax registration). The only situation where a securities license would be required is if a legal entity is holding the coins and you deal/broker an interest in that legal entity. For example, dealing in SPDR Gold Shares or a similar structure holding either physical assets or the right to obtain or purchase those assets (like a commodity pool) would require a securities and/or commodities dealing license.',\n",
       "   'No. Securities brokers/dealers in the United States are licensed to broker debt and equity in corporations. (There are additional, commodities licenses to broker derivatives.) $20 American Eagle coins, or any other type of physical currency or physical precious metals can be traded or brokered by anyone without a specific license (except maybe a sales tax registration). The only situation where a securities license would be required is if a legal entity is holding the coins and you deal/broker an interest in that legal entity. For example, dealing in SPDR Gold Shares or a similar structure holding either physical assets or the right not to purchase those assets (like a commodity pool) would require a securities and/or commodities dealing license.',\n",
       "   'No. Securities brokers/dealers in the United States are licensed to broker debt and equity in corporations. (There are additional, commodities licenses to broker derivatives.) $20 American Eagle coins, or any other type of physical currency or physical precious metals can be traded or brokered by anyone without a specific license (except maybe a sales tax registration). The only situation where a securities license would be required is if a legal entity is holding the coins and you deal/broker an interest in that legal entity. For example, dealing in SPDR Gold Shares or a similar structure holding either physical assets or the right of selling or breaking into a stock to purchase those assets (like a commodity pool) would require a securities and/or commodities dealing license.',\n",
       "   'No. Securities brokers/dealers in the United States are licensed to broker debt and equity in corporations. (There are additional, commodities licenses to broker derivatives.) $20 American Eagle coins, or any other type of physical currency or physical precious metals can be traded or brokered by anyone without a specific license (except maybe a sales tax registration). The only situation where a securities license would be required is if a legal entity is holding the coins and you deal/broker an interest in that legal entity. For example, dealing in SPDR Gold Shares or a similar structure holding either physical assets or the right for a broker to purchase those assets (like a commodity pool) would require a securities and/or commodities dealing license.',\n",
       "   'No. Securities brokers/dealers in the United States are licensed to broker debt and equity in corporations. (There are additional, commodities licenses to broker derivatives.) $20 American Eagle coins, or any other type of physical currency or physical precious metals can be traded or brokered by anyone without a specific license (except maybe a sales tax registration). The only situation where a securities license would be required is if a legal entity is holding the coins and you deal/broker an interest in that legal entity. For example, dealing in SPDR Gold Shares or a similar structure holding either physical assets or the right of permission to purchase those assets (like a commodity pool) would require a securities and/or commodities dealing license.']),\n",
       " (\"Yes, buying REITs (Real Estate Investment Trusts) can be compared to investing in real estate. REITs are companies that own or finance income-generating real estate, such as apartments, shopping centers, office buildings, and warehouses. They are required to distribute at least 90% of their taxable income to shareholders in the form of dividends, which can make them a good source of passive income. When you buy shares in a REIT, you are essentially investing in a diversified portfolio of real estate assets. Just like with any investment, there are risks involved, including the risk that the value of the REIT's assets may decline or that the REIT may not generate sufficient income to pay dividends to shareholders. It's important to carefully consider these and other risks before making any investment decisions.\",\n",
       "  False,\n",
       "  [\"Yes, buying REITs (Real Estate Investment Trusts) can be compared to investing in real estate. REITs are companies that own or finance income-generating real estate, such as apartments, shopping centers, office buildings, and warehouses. They are required to distribute at least 90% of their taxable income to shareholders in the form of dividends, which can make them a good source of passive income. When you buy shares in a REIT, you are essentially investing in a diversified portfolio of real estate assets. Just like with any investment, there are risks involved, including the risk that the value of the REIT's assets may not increase, or that the REIT may not generate sufficient income to pay dividends to shareholders. It's important to carefully consider these and other risks before making any investment decisions.\",\n",
       "   \"Yes, buying REITs (Real Estate Investment Trusts) can be compared to investing in real estate. REITs are companies that own or finance income-generating real estate, such as apartments, shopping centers, office buildings, and warehouses. They are required to distribute at least 90% of their taxable income to shareholders in the form of dividends, which can make them a good source of passive income. When you buy shares in a REIT, you are essentially investing in a diversified portfolio of real estate assets. Just like with any investment, there are risks involved, including the risk that the value of the REIT's assets may be low, or that the REIT may not generate sufficient income to pay dividends to shareholders. It's important to carefully consider these and other risks before making any investment decisions.\",\n",
       "   \"Yes, buying REITs (Real Estate Investment Trusts) can be compared to investing in real estate. REITs are companies that own or finance income-generating real estate, such as apartments, shopping centers, office buildings, and warehouses. They are required to distribute at least 90% of their taxable income to shareholders in the form of dividends, which can make them a good source of passive income. When you buy shares in a REIT, you are essentially investing in a diversified portfolio of real estate assets. Just like with any investment, there are risks involved, including the risk that the value of the REIT's assets may have a different structure, or that the REIT may not generate sufficient income to pay dividends to shareholders. It's important to carefully consider these and other risks before making any investment decisions.\",\n",
       "   \"Yes, buying REITs (Real Estate Investment Trusts) can be compared to investing in real estate. REITs are companies that own or finance income-generating real estate, such as apartments, shopping centers, office buildings, and warehouses. They are required to distribute at least 90% of their taxable income to shareholders in the form of dividends, which can make them a good source of passive income. When you buy shares in a REIT, you are essentially investing in a diversified portfolio of real estate assets. Just like with any investment, there are risks involved, including the risk that the value of the REIT's assets may remain higher than its expected value, or that the REIT may not generate sufficient income to pay dividends to shareholders. It's important to carefully consider these and other risks before making any investment decisions.\",\n",
       "   \"Yes, buying REITs (Real Estate Investment Trusts) can be compared to investing in real estate. REITs are companies that own or finance income-generating real estate, such as apartments, shopping centers, office buildings, and warehouses. They are required to distribute at least 90% of their taxable income to shareholders in the form of dividends, which can make them a good source of passive income. When you buy shares in a REIT, you are essentially investing in a diversified portfolio of real estate assets. Just like with any investment, there are risks involved, including the risk that the value of the REIT's assets may exceed or exceed 90% of shareholders' income, or that the REIT may not generate sufficient income to pay dividends to shareholders. It's important to carefully consider these and other risks before making any investment decisions.\"]),\n",
       " ('Institutional investors are organizations that invest on behalf of their clients, such as pension funds, mutual funds, endowments, and insurance companies. These investors typically have a large amount of capital to invest and may be seeking to diversify their portfolios across a variety of asset classes. Institutional investors may also be seeking to generate returns or achieve specific investment goals on behalf of their clients. They may conduct extensive research and analysis to identify investment opportunities and make informed decisions about where to allocate their capital. Institutional investors play a significant role in financial markets and often have a significant impact on the prices of securities and other assets.',\n",
       "  False,\n",
       "  ['Institutional investors are organizations that invest on behalf of their clients, such as pension funds, mutual funds, endowments, and insurance companies. These investors typically have a large amount of capital to invest and may be seeking to diversify their portfolios across a variety of asset classes. Institutional investors may also be seeking to generate returns or achieve specific investment goals on behalf of their clients. They may conduct extensive research and analysis to identify investment opportunities and make informed decisions about where to allocate their capital. Institutional investors play a significant role in financial markets and often have a significant impact on the price prices of securities and other assets.',\n",
       "   'Institutional investors are organizations that invest on behalf of their clients, such as pension funds, mutual funds, endowments, and insurance companies. These investors typically have a large amount of capital to invest and may be seeking to diversify their portfolios across a variety of asset classes. Institutional investors may also be seeking to generate returns or achieve specific investment goals on behalf of their clients. They may conduct extensive research and analysis to identify investment opportunities and make informed decisions about where to allocate their capital. Institutional investors play a significant role in financial markets and often have a significant impact on the average prices of securities and other assets.',\n",
       "   'Institutional investors are organizations that invest on behalf of their clients, such as pension funds, mutual funds, endowments, and insurance companies. These investors typically have a large amount of capital to invest and may be seeking to diversify their portfolios across a variety of asset classes. Institutional investors may also be seeking to generate returns or achieve specific investment goals on behalf of their clients. They may conduct extensive research and analysis to identify investment opportunities and make informed decisions about where to allocate their capital. Institutional investors play a significant role in financial markets and often have a significant impact on higher prices of securities and other assets.',\n",
       "   'Institutional investors are organizations that invest on behalf of their clients, such as pension funds, mutual funds, endowments, and insurance companies. These investors typically have a large amount of capital to invest and may be seeking to diversify their portfolios across a variety of asset classes. Institutional investors may also be seeking to generate returns or achieve specific investment goals on behalf of their clients. They may conduct extensive research and analysis to identify investment opportunities and make informed decisions about where to allocate their capital. Institutional investors play a significant role in financial markets and often have a significant impact on buying prices of securities and other assets.',\n",
       "   'Institutional investors are organizations that invest on behalf of their clients, such as pension funds, mutual funds, endowments, and insurance companies. These investors typically have a large amount of capital to invest and may be seeking to diversify their portfolios across a variety of asset classes. Institutional investors may also be seeking to generate returns or achieve specific investment goals on behalf of their clients. They may conduct extensive research and analysis to identify investment opportunities and make informed decisions about where to allocate their capital. Institutional investors play a significant role in financial markets and often have a significant impact on overall prices of securities and other assets.']),\n",
       " ('Hello and Welcome to ‘Ask A Doctor’ service.I have reviewed your query and here is my advice.1. P-125 is safe for this age. Continue only that.2. Meftal-P should be given only for high fever (more than 102°F [38.8°C]).Hope I have answered your query. Let me know if I can assist you further.Regards,Dr. Arun',\n",
       "  True,\n",
       "  ['Hello and Welcome to ‘Ask A Doctor’ service.I have reviewed your query and here is my advice.1. P-125 is safe for this age. Continue only that.2. Meftal-P should be given only for high fever (more than 102°F [38.8°C]).Hope , I have answered your query. Let me know if I can assist you further.Regards,Dr. Arun',\n",
       "   'Hello and Welcome to ‘Ask A Doctor’ service.I have reviewed your query and here is my advice.1. P-125 is safe for this age. Continue only that.2. Meftal-P should be given only for high fever (more than 102°F [38.8°C]).Hope and Hello and Hey who have answered your query. Let me know if I can assist you further.Regards,Dr. Arun',\n",
       "   'Hello and Welcome to ‘Ask A Doctor’ service.I have reviewed your query and here is my advice.1. P-125 is safe for this age. Continue only that.2. Meftal-P should be given only for high fever (more than 102°F [38.8°C]).Hope and Glad you have answered your query. Let me know if I can assist you further.Regards,Dr. Arun',\n",
       "   'Hello and Welcome to ‘Ask A Doctor’ service.I have reviewed your query and here is my advice.1. P-125 is safe for this age. Continue only that.2. Meftal-P should be given only for high fever (more than 102°F [38.8°C]).Hope and So glad you have answered your query. Let me know if I can assist you further.Regards,Dr. Arun',\n",
       "   'Hello and Welcome to ‘Ask A Doctor’ service.I have reviewed your query and here is my advice.1. P-125 is safe for this age. Continue only that.2. Meftal-P should be given only for high fever (more than 102°F [38.8°C]).Hope .I think I have answered your query. Let me know if I can assist you further.Regards,Dr. Arun']),\n",
       " ('Use VTIVX. The \"Target Retirement 2045\" and \"Target Retirement 2045 Trust Plus\" are the same underlying fund, but the latter is offered through employers.  The only differences I see are the expense ratio and the minimum investment dollars.  But for the purposes of comparing funds, it should be pretty close. Here is the list of all of Vanguard\\'s target retirement funds. Also, note that the \"Trust Plus\" hasn\\'t been around as long, so you don\\'t see the returns beyond the last few years.  That\\'s another reason to use plain VTIVX for comparison. See also: Why doesn\\'t a mutual fund in my 401(k) have a ticker symbol?',\n",
       "  True,\n",
       "  ['Use VTIVX. The \"Target Retirement 2045\" and \"Target Retirement 2045 Trust Plus\" are the same underlying fund, but the latter is offered through employers.  The only differences I see are the expense ratio and the minimum investment dollars.  But for the purposes of comparing funds, it should be pretty close. Here is the list of all of Vanguard\\'s target retirement funds. Also, note that the \"Trust Plus\" hasn\\'t been around as long, so you don\\'t see the returns beyond the last few years.  That\\'s another reason to use plain VTIVX for comparison. See also: Why doesn\\'t a mutual fund to my 401(k) have a ticker symbol?',\n",
       "   'Use VTIVX. The \"Target Retirement 2045\" and \"Target Retirement 2045 Trust Plus\" are the same underlying fund, but the latter is offered through employers.  The only differences I see are the expense ratio and the minimum investment dollars.  But for the purposes of comparing funds, it should be pretty close. Here is the list of all of Vanguard\\'s target retirement funds. Also, note that the \"Trust Plus\" hasn\\'t been around as long, so you don\\'t see the returns beyond the last few years.  That\\'s another reason to use plain VTIVX for comparison. See also: Why doesn\\'t a mutual fund called my 401(k) have a ticker symbol?',\n",
       "   'Use VTIVX. The \"Target Retirement 2045\" and \"Target Retirement 2045 Trust Plus\" are the same underlying fund, but the latter is offered through employers.  The only differences I see are the expense ratio and the minimum investment dollars.  But for the purposes of comparing funds, it should be pretty close. Here is the list of all of Vanguard\\'s target retirement funds. Also, note that the \"Trust Plus\" hasn\\'t been around as long, so you don\\'t see the returns beyond the last few years.  That\\'s another reason to use plain VTIVX for comparison. See also: Why doesn\\'t a mutual fund on my 401(k) have a ticker symbol?',\n",
       "   'Use VTIVX. The \"Target Retirement 2045\" and \"Target Retirement 2045 Trust Plus\" are the same underlying fund, but the latter is offered through employers.  The only differences I see are the expense ratio and the minimum investment dollars.  But for the purposes of comparing funds, it should be pretty close. Here is the list of all of Vanguard\\'s target retirement funds. Also, note that the \"Trust Plus\" hasn\\'t been around as long, so you don\\'t see the returns beyond the last few years.  That\\'s another reason to use plain VTIVX for comparison. See also: Why doesn\\'t a mutual fund like my 401(k) have a ticker symbol?',\n",
       "   'Use VTIVX. The \"Target Retirement 2045\" and \"Target Retirement 2045 Trust Plus\" are the same underlying fund, but the latter is offered through employers.  The only differences I see are the expense ratio and the minimum investment dollars.  But for the purposes of comparing funds, it should be pretty close. Here is the list of all of Vanguard\\'s target retirement funds. Also, note that the \"Trust Plus\" hasn\\'t been around as long, so you don\\'t see the returns beyond the last few years.  That\\'s another reason to use plain VTIVX for comparison. See also: Why doesn\\'t a mutual fund for my 401(k) have a ticker symbol?']),\n",
       " ('Predictive analytics encompasses a variety of statistical techniques from data mining, predictive modeling, and machine learning that analyze current and historical facts to make predictions about future or otherwise unknown events.\\nIn business, predictive models exploit patterns found in historical and transactional data to identify risks and opportunities. Models capture relationships among many factors to allow assessment of risk or potential associated with a particular set of conditions, guiding decision-making for candidate transactions.\\nThe defining functional effect of these technical approaches is that predictive analytics provides a predictive score (probability) for each individual (customer, employee, healthcare patient, product SKU, vehicle, component, machine, or other organizational unit) in order to determine, inform, or influence organizational processes that pertain across large numbers of individuals, such as in marketing, credit risk assessment, fraud detection, manufacturing, healthcare, and government operations including law enforcement.',\n",
       "  True,\n",
       "  ['Predictive analytics encompasses a variety of statistical techniques from data mining, predictive modeling, and machine learning that analyze current and historical facts to make predictions about future or otherwise unknown events.\\nIn business, predictive models exploit patterns found in historical and transactional data to identify risks and opportunities. Models capture relationships among many factors to allow assessment of risk or potential associated with a particular set of conditions, guiding decision-making for candidate transactions.\\nThe defining functional effect of these technical approaches is that predictive analytics provides a predictive score (probability) for each individual (customer, employee, healthcare patient, product SKU, vehicle, component, machine, or other product unit) in order to determine, inform, or influence organizational processes that pertain across large numbers of individuals, such as in marketing, credit risk assessment, fraud detection, manufacturing, healthcare, and government operations including law enforcement.',\n",
       "   'Predictive analytics encompasses a variety of statistical techniques from data mining, predictive modeling, and machine learning that analyze current and historical facts to make predictions about future or otherwise unknown events.\\nIn business, predictive models exploit patterns found in historical and transactional data to identify risks and opportunities. Models capture relationships among many factors to allow assessment of risk or potential associated with a particular set of conditions, guiding decision-making for candidate transactions.\\nThe defining functional effect of these technical approaches is that predictive analytics provides a predictive score (probability) for each individual (customer, employee, healthcare patient, product SKU, vehicle, component, machine, or other business unit) in order to determine, inform, or influence organizational processes that pertain across large numbers of individuals, such as in marketing, credit risk assessment, fraud detection, manufacturing, healthcare, and government operations including law enforcement.',\n",
       "   'Predictive analytics encompasses a variety of statistical techniques from data mining, predictive modeling, and machine learning that analyze current and historical facts to make predictions about future or otherwise unknown events.\\nIn business, predictive models exploit patterns found in historical and transactional data to identify risks and opportunities. Models capture relationships among many factors to allow assessment of risk or potential associated with a particular set of conditions, guiding decision-making for candidate transactions.\\nThe defining functional effect of these technical approaches is that predictive analytics provides a predictive score (probability) for each individual (customer, employee, healthcare patient, product SKU, vehicle, component, machine, or other particular unit) in order to determine, inform, or influence organizational processes that pertain across large numbers of individuals, such as in marketing, credit risk assessment, fraud detection, manufacturing, healthcare, and government operations including law enforcement.',\n",
       "   'Predictive analytics encompasses a variety of statistical techniques from data mining, predictive modeling, and machine learning that analyze current and historical facts to make predictions about future or otherwise unknown events.\\nIn business, predictive models exploit patterns found in historical and transactional data to identify risks and opportunities. Models capture relationships among many factors to allow assessment of risk or potential associated with a particular set of conditions, guiding decision-making for candidate transactions.\\nThe defining functional effect of these technical approaches is that predictive analytics provides a predictive score (probability) for each individual (customer, employee, healthcare patient, product SKU, vehicle, component, machine, or other employee unit) in order to determine, inform, or influence organizational processes that pertain across large numbers of individuals, such as in marketing, credit risk assessment, fraud detection, manufacturing, healthcare, and government operations including law enforcement.',\n",
       "   'Predictive analytics encompasses a variety of statistical techniques from data mining, predictive modeling, and machine learning that analyze current and historical facts to make predictions about future or otherwise unknown events.\\nIn business, predictive models exploit patterns found in historical and transactional data to identify risks and opportunities. Models capture relationships among many factors to allow assessment of risk or potential associated with a particular set of conditions, guiding decision-making for candidate transactions.\\nThe defining functional effect of these technical approaches is that predictive analytics provides a predictive score (probability) for each individual (customer, employee, healthcare patient, product SKU, vehicle, component, machine, or other personal insurance unit) in order to determine, inform, or influence organizational processes that pertain across large numbers of individuals, such as in marketing, credit risk assessment, fraud detection, manufacturing, healthcare, and government operations including law enforcement.']),\n",
       " ('The forms get updated every year, and the software providers need to get approved by the IRS every year. \"Form is not yet finalized\" means that this year form hasn\\'t been approved yet. IRS starts accepting returns on January 31st anyway, nothing to be worried about. Why are you nearing a deadline? The deadline for 1120 (corporate tax return) is 2 and 1/2 months after your corp year end, which if you\\'re a calendar year corp is March 15th. If your year end is in November/December - you can use the prior year forms, those are finalized.',\n",
       "  True,\n",
       "  ['The forms get updated every year, and the software providers need to get approved by the IRS every year. \"Form is not yet finalized\" means that this year form hasn\\'t been approved yet. IRS starts accepting returns on January 31st anyway, nothing to be worried about. Why are you nearing a 1120? The deadline for 1120 (corporate tax return) is 2 and 1/2 months after your corp year end, which if you\\'re a calendar year corp is March 15th. If your year end is in November/December - you can use the prior year forms, those are finalized.',\n",
       "   'The forms get updated every year, and the software providers need to get approved by the IRS every year. \"Form is not yet finalized\" means that this year form hasn\\'t been approved yet. IRS starts accepting returns on January 31st anyway, nothing to be worried about. Why are you nearing a record sheet? The deadline for 1120 (corporate tax return) is 2 and 1/2 months after your corp year end, which if you\\'re a calendar year corp is March 15th. If your year end is in November/December - you can use the prior year forms, those are finalized.',\n",
       "   'The forms get updated every year, and the software providers need to get approved by the IRS every year. \"Form is not yet finalized\" means that this year form hasn\\'t been approved yet. IRS starts accepting returns on January 31st anyway, nothing to be worried about. Why are you nearing a corp year? The deadline for 1120 (corporate tax return) is 2 and 1/2 months after your corp year end, which if you\\'re a calendar year corp is March 15th. If your year end is in November/December - you can use the prior year forms, those are finalized.',\n",
       "   'The forms get updated every year, and the software providers need to get approved by the IRS every year. \"Form is not yet finalized\" means that this year form hasn\\'t been approved yet. IRS starts accepting returns on January 31st anyway, nothing to be worried about. Why are you nearing a new year? The deadline for 1120 (corporate tax return) is 2 and 1/2 months after your corp year end, which if you\\'re a calendar year corp is March 15th. If your year end is in November/December - you can use the prior year forms, those are finalized.',\n",
       "   'The forms get updated every year, and the software providers need to get approved by the IRS every year. \"Form is not yet finalized\" means that this year form hasn\\'t been approved yet. IRS starts accepting returns on January 31st anyway, nothing to be worried about. Why are you nearing a date? The deadline for 1120 (corporate tax return) is 2 and 1/2 months after your corp year end, which if you\\'re a calendar year corp is March 15th. If your year end is in November/December - you can use the prior year forms, those are finalized.']),\n",
       " ('A proper world porfolio is a non-trivial task. No one answer exists which is the best one and how one should construct it. World? The problem with world portfolio is that it is not well-defined. Providers use it as they wish and people use it as they wish, read the history for further ado (messy stuff). You can build yourself world portfolio but warning it is getting harder. You can use this tool by selecting global equity to search through global funds -- it is very useful and allows you to find the low-cost funds with PE/PB/Div.yield. Also, investigate topic more with this tool, less spam.',\n",
       "  True,\n",
       "  ['A proper world porfolio is a non-trivial task. No one answer exists which is the best one and how one should construct it. World? The problem with world portfolio is that it is not well-defined. Providers use it as they wish and people use it as they wish, read the history for further ado (messy stuff). You can build yourself world portfolio but warning it is getting harder. You can use this tool by selecting global equity to search through global funds -- it is very useful and allows you to find the low-cost funds with PE/PB/Div.yield. Also, investigate topic more with this world portfolio tool, less spam.',\n",
       "   'A proper world porfolio is a non-trivial task. No one answer exists which is the best one and how one should construct it. World? The problem with world portfolio is that it is not well-defined. Providers use it as they wish and people use it as they wish, read the history for further ado (messy stuff). You can build yourself world portfolio but warning it is getting harder. You can use this tool by selecting global equity to search through global funds -- it is very useful and allows you to find the low-cost funds with PE/PB/Div.yield. Also, investigate topic more with the tool, less spam.',\n",
       "   'A proper world porfolio is a non-trivial task. No one answer exists which is the best one and how one should construct it. World? The problem with world portfolio is that it is not well-defined. Providers use it as they wish and people use it as they wish, read the history for further ado (messy stuff). You can build yourself world portfolio but warning it is getting harder. You can use this tool by selecting global equity to search through global funds -- it is very useful and allows you to find the low-cost funds with PE/PB/Div.yield. Also, investigate topic more with this tool tool, less spam.',\n",
       "   'A proper world porfolio is a non-trivial task. No one answer exists which is the best one and how one should construct it. World? The problem with world portfolio is that it is not well-defined. Providers use it as they wish and people use it as they wish, read the history for further ado (messy stuff). You can build yourself world portfolio but warning it is getting harder. You can use this tool by selecting global equity to search through global funds -- it is very useful and allows you to find the low-cost funds with PE/PB/Div.yield. Also, investigate topic more with these tool, less spam.',\n",
       "   'A proper world porfolio is a non-trivial task. No one answer exists which is the best one and how one should construct it. World? The problem with world portfolio is that it is not well-defined. Providers use it as they wish and people use it as they wish, read the history for further ado (messy stuff). You can build yourself world portfolio but warning it is getting harder. You can use this tool by selecting global equity to search through global funds -- it is very useful and allows you to find the low-cost funds with PE/PB/Div.yield. Also, investigate topic more with This tool, less spam.']),\n",
       " (\"A game show is a genre of broadcast viewing entertainment (radio, television, internet, stage or other) where contestants compete for a reward. These programs can either be participatory or demonstrative and are typically directed by a host, sharing the rules of the program as well as commentating and narrating where necessary. The history of game shows dates back to the invention of television as a medium. On most game shows, contestants either have to answer questions or solve puzzles, typically to win either money or prizes. Game shows often reward players with prizes such as cash, trips and goods and services provided by the show's sponsor.\",\n",
       "  True,\n",
       "  [\"A game show is a genre of broadcast viewing entertainment (radio, television, internet, stage or other) where contestants compete for a reward. These programs can either be participatory or demonstrative and are typically directed by a host, sharing the rules of the program as well as commentating and narrating where necessary. The history of game shows dates back to the invention of television as a medium. On most game shows, contestants either have to answer questions or solve puzzles, typically to win either money or prizes. Game shows often reward players with prizes such as cash, trips and goods and services provided to the show's sponsor.\",\n",
       "   \"A game show is a genre of broadcast viewing entertainment (radio, television, internet, stage or other) where contestants compete for a reward. These programs can either be participatory or demonstrative and are typically directed by a host, sharing the rules of the program as well as commentating and narrating where necessary. The history of game shows dates back to the invention of television as a medium. On most game shows, contestants either have to answer questions or solve puzzles, typically to win either money or prizes. Game shows often reward players with prizes such as cash, trips and goods and services provided to players who earn their prizes in addition to the show's sponsor.\",\n",
       "   \"A game show is a genre of broadcast viewing entertainment (radio, television, internet, stage or other) where contestants compete for a reward. These programs can either be participatory or demonstrative and are typically directed by a host, sharing the rules of the program as well as commentating and narrating where necessary. The history of game shows dates back to the invention of television as a medium. On most game shows, contestants either have to answer questions or solve puzzles, typically to win either money or prizes. Game shows often reward players with prizes such as cash, trips and goods and services provided from the show's sponsor.\",\n",
       "   \"A game show is a genre of broadcast viewing entertainment (radio, television, internet, stage or other) where contestants compete for a reward. These programs can either be participatory or demonstrative and are typically directed by a host, sharing the rules of the program as well as commentating and narrating where necessary. The history of game shows dates back to the invention of television as a medium. On most game shows, contestants either have to answer questions or solve puzzles, typically to win either money or prizes. Game shows often reward players with prizes such as cash, trips and goods and services provided for the show's sponsor.\",\n",
       "   \"A game show is a genre of broadcast viewing entertainment (radio, television, internet, stage or other) where contestants compete for a reward. These programs can either be participatory or demonstrative and are typically directed by a host, sharing the rules of the program as well as commentating and narrating where necessary. The history of game shows dates back to the invention of television as a medium. On most game shows, contestants either have to answer questions or solve puzzles, typically to win either money or prizes. Game shows often reward players with prizes such as cash, trips and goods and services provided through the show's sponsor.\"])]"
      ]
     },
     "execution_count": 14,
     "metadata": {},
     "output_type": "execute_result"
    }
   ],
   "source": [
    "documents_and_perturbations"
   ]
  },
  {
   "cell_type": "code",
   "execution_count": 15,
   "metadata": {},
   "outputs": [],
   "source": [
    "\n",
    "if DEBUG:\n",
    "    # only keep instances with cached explanations\n",
    "    explainers = [explainer_calss(detector) for explainer_calss in explainer_classes]\n",
    "    documents_and_perturbations = [(original, gl, perturbations) for original, gl, perturbations in documents_and_perturbations if all([explainer.does_explanation_exist(original) for explainer in explainers]) and all([\n",
    "    x\n",
    "    for xs in [[explainer.does_explanation_exist(perturbation) for perturbation in perturbations] for explainer in explainers]\n",
    "    for x in xs\n",
    "])]"
   ]
  },
  {
   "cell_type": "code",
   "execution_count": 16,
   "metadata": {},
   "outputs": [],
   "source": [
    "for original, gl, perturbations in documents_and_perturbations:\n",
    "#    print(original)\n",
    "    prediction_original = detector.predict_label([original])[0]\n",
    "  #  print(\"...\")\n",
    "    assert len(perturbations) == len(set(perturbations)), \"Duplicates in perturbations\"\n",
    "    for p in perturbations:\n",
    "        assert detector.predict_label([p])[0] == prediction_original, \"Labels don't match, do you set seed in the detector?\"\n",
    "        \n",
    " #       print(p)\n",
    " #   print(\"------------------------\")\n",
    "    "
   ]
  },
  {
   "cell_type": "code",
   "execution_count": 17,
   "metadata": {},
   "outputs": [
    {
     "name": "stderr",
     "output_type": "stream",
     "text": [
      "0it [00:00, ?it/s]\n",
      "0it [00:00, ?it/s]\n"
     ]
    }
   ],
   "source": [
    "# generate all explanations\n",
    "for explainer_class in explainer_classes:\n",
    "        explainer = explainer_class(detector)\n",
    "        for original, gl, perturbations in tqdm(documents_and_perturbations):\n",
    "            explainer.get_explanation_cached(original)\n",
    "            for p in perturbations:\n",
    "                explainer.get_explanation_cached(p)"
   ]
  },
  {
   "cell_type": "code",
   "execution_count": null,
   "metadata": {},
   "outputs": [],
   "source": [
    "import krippendorff\n"
   ]
  },
  {
   "cell_type": "code",
   "execution_count": null,
   "metadata": {},
   "outputs": [],
   "source": [
    "experiments = [[original] + [p for p in perturbations] for original, _, perturbations in documents_and_perturbations]\n"
   ]
  },
  {
   "cell_type": "code",
   "execution_count": null,
   "metadata": {},
   "outputs": [],
   "source": [
    "from collections import OrderedDict, defaultdict"
   ]
  },
  {
   "cell_type": "code",
   "execution_count": null,
   "metadata": {},
   "outputs": [],
   "source": [
    "def get_tokens_with_pos(explainer, document):\n",
    "    p_counter = defaultdict(lambda : 0)\n",
    "    tokens_with_pos = []\n",
    "    for token in explainer.tokenize(document):\n",
    "        tokens_with_pos.append((token, p_counter[token]))\n",
    "        p_counter[token] += 1\n",
    "    return tokens_with_pos"
   ]
  },
  {
   "cell_type": "code",
   "execution_count": null,
   "metadata": {},
   "outputs": [],
   "source": [
    "def get_tokens_with_pos_and_id(explainer, document):\n",
    "    p_counter = defaultdict(lambda : 0)\n",
    "    tokens_with_pos = []\n",
    "    for id, token in enumerate(explainer.tokenize(document)):\n",
    "        tokens_with_pos.append((token, p_counter[token], id))\n",
    "        p_counter[token] += 1\n",
    "    return tokens_with_pos"
   ]
  },
  {
   "cell_type": "code",
   "execution_count": null,
   "metadata": {},
   "outputs": [],
   "source": [
    "from sklearn.preprocessing import normalize"
   ]
  },
  {
   "cell_type": "code",
   "execution_count": null,
   "metadata": {},
   "outputs": [],
   "source": [
    "from fi_explainer import FI_Explainer\n",
    "\n",
    "class DummyExplainer(FI_Explainer):\n",
    "    def __init__(self, detector):\n",
    "        self.splitter = re.compile(r'(%s)|$' % '\\\\s') # for tokenize()\n",
    "    def tokenize(self, document):\n",
    "        return [s for s in self.splitter.split(document) if s and s!= \" \"] # as in LIME source\n",
    "    def get_fi_scores(self, document):\n",
    "        return {0: [(i,i+1) for i in range(0, 10)], 1: [(i,-(i+1)) for i in range(0, 10)]}\n",
    "    def as_list(self, document, label=0):\n",
    "        if label == 0:\n",
    "            return [(w, i) for i,w in enumerate(self.tokenize(document))]\n",
    "        else:\n",
    "            return [(w, -i) for i,w in enumerate(self.tokenize(document))]\n",
    "    def get_barplots_HTML(self, document):\n",
    "        return super().get_barplots_HTML(document)\n",
    "    def get_highlighted_text_HTML(self, document):\n",
    "        return super().get_highlighted_text_HTML(document)\n",
    "    def get_vanilla_visualization_HTML(self, document):\n",
    "        return super().get_vanilla_visualization_HTML(document)\n",
    "    \n",
    "#explainer = DummyExplainer(None)\n"
   ]
  },
  {
   "cell_type": "code",
   "execution_count": null,
   "metadata": {},
   "outputs": [],
   "source": [
    "from scipy.stats import rankdata"
   ]
  },
  {
   "cell_type": "code",
   "execution_count": null,
   "metadata": {},
   "outputs": [],
   "source": [
    "def experiment_to_cannonical_form(experiment, binary=True):\n",
    "    global_tokens_with_pos = [get_tokens_with_pos(explainer, d) for d in experiment]\n",
    "  #  print(\"global_tokens_with_pos\",global_tokens_with_pos)\n",
    "    global_tokens_with_pos= list(set([x for xs in global_tokens_with_pos for x in xs]))\n",
    "  #  print(\"global_tokens_with_pos\", global_tokens_with_pos)\n",
    "    cannonical_form = np.zeros((len(experiment),len(global_tokens_with_pos)))\n",
    "    cannonical_form[:] = np.nan\n",
    "\n",
    "\n",
    "    for n_experiment, document in enumerate(experiment):\n",
    "        tokens_with_pos_and_id = get_tokens_with_pos_and_id(explainer,document)\n",
    "     #   print(\"tokens_with_pos_and_id\",tokens_with_pos_and_id)\n",
    "        fi_scores_dict = dict(explainer.get_fi_scores(document)[0]) # [0] only consider explanation towards class \"machine\" for simplicity\n",
    "        for token, pos, id_doc in tokens_with_pos_and_id:\n",
    "            t = (token, pos)\n",
    "            col_in_cannonical_matrix = global_tokens_with_pos.index(t)\n",
    "            if id_doc in fi_scores_dict:\n",
    "                cannonical_form[n_experiment, col_in_cannonical_matrix] = fi_scores_dict[id_doc]\n",
    "            else:\n",
    "                cannonical_form[n_experiment, col_in_cannonical_matrix] = 0            \n",
    "             \n",
    "    labels = [token + \"_\"+ str(pos) for token, pos in global_tokens_with_pos]\n",
    "    \n",
    "    return cannonical_form , labels #"
   ]
  },
  {
   "cell_type": "code",
   "execution_count": null,
   "metadata": {},
   "outputs": [],
   "source": [
    "results = []\n",
    "for explainer_class in explainer_classes:\n",
    "    explainer = explainer_class(detector)\n",
    "    for experiment in experiments:\n",
    "        cannonical_form, labels = experiment_to_cannonical_form(experiment, binary=True)\n",
    "        results.append((explainer.__class__.__name__, explainer.detector.__class__.__name__, krippendorff.alpha(reliability_data=cannonical_form, level_of_measurement=\"interval\")))"
   ]
  },
  {
   "cell_type": "code",
   "execution_count": null,
   "metadata": {},
   "outputs": [],
   "source": [
    "df = pd.DataFrame(results, columns=[\"Explainer\", \"Detector\", \"alpha\"])"
   ]
  },
  {
   "cell_type": "code",
   "execution_count": null,
   "metadata": {},
   "outputs": [],
   "source": [
    "df"
   ]
  },
  {
   "cell_type": "code",
   "execution_count": null,
   "metadata": {},
   "outputs": [],
   "source": [
    "df.groupby([\"Explainer\", \"Detector\"]).mean()"
   ]
  },
  {
   "cell_type": "code",
   "execution_count": null,
   "metadata": {},
   "outputs": [],
   "source": [
    "from IPython.core.display import HTML"
   ]
  },
  {
   "cell_type": "code",
   "execution_count": null,
   "metadata": {},
   "outputs": [],
   "source": [
    "for d in experiments[0]:\n",
    "    display(HTML(explainer.get_highlighted_text_HTML(d)))"
   ]
  },
  {
   "cell_type": "code",
   "execution_count": null,
   "metadata": {},
   "outputs": [],
   "source": []
  }
 ],
 "metadata": {
  "kernelspec": {
   "display_name": ".venv",
   "language": "python",
   "name": "python3"
  },
  "language_info": {
   "codemirror_mode": {
    "name": "ipython",
    "version": 3
   },
   "file_extension": ".py",
   "mimetype": "text/x-python",
   "name": "python",
   "nbconvert_exporter": "python",
   "pygments_lexer": "ipython3",
   "version": "3.11.1"
  }
 },
 "nbformat": 4,
 "nbformat_minor": 2
}
