{
 "cells": [
  {
   "cell_type": "markdown",
   "metadata": {},
   "source": [
    "This file is server.py from Radford et al without the server."
   ]
  },
  {
   "cell_type": "code",
   "execution_count": 1,
   "metadata": {},
   "outputs": [
    {
     "name": "stderr",
     "output_type": "stream",
     "text": [
      "To use data.metrics please install scikit-learn. See https://scikit-learn.org/stable/index.html\n"
     ]
    }
   ],
   "source": [
    "from gpt2outputdataset.detector_radford import DetectorRadford"
   ]
  },
  {
   "cell_type": "code",
   "execution_count": 2,
   "metadata": {},
   "outputs": [],
   "source": [
    "text_human = \"\"\"It often happens that while working on one project, you need to use another project from within it. Perhaps it’s a library that a third party developed or that you’re developing separately and using in multiple parent projects. A common issue arises in these scenarios: you want to be able to treat the two projects as separate yet still be able to use one from within the other.\"\"\"\n",
    "text_gpt2 = \"\"\"Good news for The Logan Society members [kiss_off/Stephen] and their allies. There's a new news article cited above that says we can rest assured as of now that the project is not dead, but will instead be put on permanent hiatus for the foreseeable future. There's no official reason for the decision, though we can hazard some guesses which do have Hexpoint infringements tolement, and multiple individuals have already taken to Discord to say it isn't a good idea. Keep in mind that this article is authored by the person who actually contacted Hexpoint directly, and he contradicted the article's claims up and down in more subtle ways.\"\"\""
   ]
  },
  {
   "cell_type": "code",
   "execution_count": 3,
   "metadata": {},
   "outputs": [],
   "source": [
    "detector = DetectorRadford()"
   ]
  },
  {
   "cell_type": "code",
   "execution_count": 11,
   "metadata": {},
   "outputs": [
    {
     "data": {
      "text/plain": [
       "{'all_tokens': 79,\n",
       " 'used_tokens': 79,\n",
       " 'real_probability': 0.981473982334137,\n",
       " 'fake_probability': 0.018526064231991768}"
      ]
     },
     "execution_count": 11,
     "metadata": {},
     "output_type": "execute_result"
    }
   ],
   "source": [
    "detector.detect(text_human)"
   ]
  },
  {
   "cell_type": "code",
   "execution_count": 13,
   "metadata": {},
   "outputs": [
    {
     "name": "stderr",
     "output_type": "stream",
     "text": [
      "100%|██████████| 1000/1000 [01:08<00:00, 14.49it/s]\n"
     ]
    }
   ],
   "source": [
    "for i in tqdm(range(0,1000)):\n",
    "    detector.detect(text_gpt2)"
   ]
  },
  {
   "cell_type": "code",
   "execution_count": null,
   "metadata": {},
   "outputs": [],
   "source": []
  }
 ],
 "metadata": {
  "kernelspec": {
   "display_name": ".venv",
   "language": "python",
   "name": "python3"
  },
  "language_info": {
   "codemirror_mode": {
    "name": "ipython",
    "version": 3
   },
   "file_extension": ".py",
   "mimetype": "text/x-python",
   "name": "python",
   "nbconvert_exporter": "python",
   "pygments_lexer": "ipython3",
   "version": "3.11.1"
  }
 },
 "nbformat": 4,
 "nbformat_minor": 2
}
