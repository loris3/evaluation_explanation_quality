{
 "cells": [
  {
   "cell_type": "markdown",
   "metadata": {},
   "source": [
    "This notebook evaluates the results form the user study. Set `FILL_DATABASE` to True to create a mock database. Set it to False to use the results from an existing database.\n",
    "\n",
    "If mocking data, this notebook expects the server to run on `server_url` with a database with no entries, as set up by running `node setup.mjs`. "
   ]
  },
  {
   "cell_type": "code",
   "execution_count": 1,
   "metadata": {},
   "outputs": [],
   "source": [
    "USER_STUDY_CSV = \"./results/user_study/selection.csv\"\n",
    "SQLITE_DB = \"../survey/db_final.db\"\n",
    "FILL_DATABASE = False # if True, data is mocked, THIS CALLS THE APIs\n",
    "\n",
    "server_url = \"http://localhost:3002\" # server to mock data on\n"
   ]
  },
  {
   "cell_type": "code",
   "execution_count": 2,
   "metadata": {},
   "outputs": [],
   "source": [
    "\n",
    "import krippendorff\n",
    "from scipy.stats import ttest_rel\n",
    "from scipy.stats import ttest_1samp\n",
    "import numpy as np \n",
    "import scipy.stats as stats \n",
    "import matplotlib.pyplot as plt\n",
    "import pandas as pd\n",
    "import numpy as np"
   ]
  },
  {
   "cell_type": "code",
   "execution_count": 3,
   "metadata": {},
   "outputs": [],
   "source": [
    "import sqlite3\n",
    "import pandas as pd\n",
    "connection = sqlite3.connect(SQLITE_DB)\n",
    "\n",
    "user_df = pd.read_sql_query(\"SELECT * FROM users\", connection)"
   ]
  },
  {
   "cell_type": "code",
   "execution_count": 4,
   "metadata": {},
   "outputs": [],
   "source": [
    "df_user_study = pd.read_csv(USER_STUDY_CSV)"
   ]
  },
  {
   "cell_type": "markdown",
   "metadata": {},
   "source": [
    "## Fill Database\n",
    "If `FILL_DATABASE` is True"
   ]
  },
  {
   "cell_type": "code",
   "execution_count": 5,
   "metadata": {},
   "outputs": [
    {
     "name": "stdout",
     "output_type": "stream",
     "text": [
      "Overwriting run_user.py\n"
     ]
    }
   ],
   "source": [
    "%%writefile run_user.py\n",
    "\n",
    "def run_user(idx, user, url, df_user_study):\n",
    "    n_learn = 16\n",
    "    n_eval = 16\n",
    "    n_users = 10\n",
    "\n",
    "    mu_got_it_right_pre=0.5\n",
    "    sigma_got_it_right_pre=0.05\n",
    "    mu_gain = 0.2\n",
    "    sigma_gain = 0.1\n",
    "\n",
    "    def guess(detector_label,p):\n",
    "        return detector_label if bool(np.random.choice([0,1],p=[1-p, p])) else not detector_label\n",
    "\n",
    "    import requests\n",
    "    import json\n",
    "    import numpy as np\n",
    "    import pandas as pd\n",
    "    user_dist_without = lambda : np.clip(np.random.normal(mu_got_it_right_pre, sigma_got_it_right_pre, 1)[0], 0,1)\n",
    "    user_dist_gain = lambda : np.clip(np.random.normal(mu_gain, sigma_gain, 1)[0], -1,1)\n",
    "  \n",
    "    res = requests.get(url+\"/auth/\"+ user[\"access_token\"])\n",
    "\n",
    "    print(res.text)\n",
    "    auth_token = json.loads(res.text)\n",
    "    headers = {'Content-Type': 'application/json','Authorization': \"Bearer \"+auth_token, \"Content-Type\": \"application/json\",}\n",
    "\n",
    "    requests.post(url+\"/api/submitParticipantInfo\", json={\n",
    "    \"has_seen_explanation_methods_before\": \"yes\",\n",
    "    \"has_seen_OTHERS_before\": \"yes\",\n",
    "    \"level_of_expertise\": \"is-researcher-explainability\",\n",
    "    \"familiarity_with_chatgpt\": \"occasional-use\",\n",
    "    \"prefers_monochromatic_methods\": \"yes\" if idx % 20 == 0 else \"no\"\n",
    "    }, headers=headers)\n",
    "    # go to phase 2\n",
    "    requests.post(url+\"/api/completeCurrentPhase\", json={\"expected\": 0}, headers=headers)\n",
    "    # if idx % 8 == 0:\n",
    "    #     return\n",
    "    requests.post(url+\"/api/completeCurrentPhase\", json={\"expected\": 1}, headers=headers)\n",
    "    requests.post(url+\"/api/completeCurrentPhase\", json={\"expected\": 2}, headers=headers)\n",
    "\n",
    "    res = requests.get(url+\"/api/state\", headers=headers)\n",
    "    state = json.loads(res.text)\n",
    "\n",
    "    # user_df = pd.read_sql_query(\"SELECT * FROM users\", connection) # update as group is assigned now\n",
    "    # user = user_df.iloc[idx]\n",
    "   # print(user[[\"detector\", \"explainer\"]])\n",
    "    # return state\n",
    "    df_user_documents = df_user_study.loc[df_user_study.groupby(\"Detector\").groups[state[\"detector\"]],:].reset_index(drop=True)\n",
    "    for doc_nr, row in df_user_documents.iterrows():\n",
    "        p_without = user_dist_without()\n",
    "        requests.post(url+\"/api/submitPhase2\", json={\"ID\": doc_nr, \"label\": guess(row[\"f(b)\"], p_without)}, headers=headers)\n",
    "    requests.post(url+\"/api/completeCurrentPhase\", json={\"expected\": 3}, headers=headers)\n",
    "\n",
    "    for doc_nr, row in df_user_documents.iterrows():\n",
    "        json_ = {\"lickert-q{}-{}\".format(question_nr, doc_nr): str(np.random.choice([1,2,3,4,5], p=[0.1,0.2,0.1,0.4,0.2])) for question_nr in range(1,4)}\n",
    "        json_[\"document_nr\"] = doc_nr\n",
    "        requests.post(url+\"/api/submitPhase3\", json=json_, headers=headers)\n",
    "\n",
    "    requests.post(url+\"/api/completeCurrentPhase\", json={\"expected\": 4}, headers=headers)\n",
    "    for doc_nr, row in df_user_documents.iterrows():\n",
    "        p_with = np.clip(p_without + user_dist_gain(), 0,1)\n",
    "        requests.post(url+\"/api/submitPhase4\", json={\"ID\": doc_nr, \"label\": guess(row[\"f(b)\"], p_with)}, headers=headers)\n",
    "    requests.post(url+\"/api/completeCurrentPhase\", json={\"expected\": 5}, headers=headers)\n"
   ]
  },
  {
   "cell_type": "code",
   "execution_count": 6,
   "metadata": {},
   "outputs": [],
   "source": [
    "from tqdm import tqdm\n",
    "from multiprocess import Pool\n",
    "from run_user import run_user\n",
    "\n",
    "\n",
    "if FILL_DATABASE:\n",
    "    max_pool = 10\n",
    "    mock_user_data = [(idx, user, server_url, df_user_study) for idx, user in user_df.iterrows() if idx < 27]\n",
    "\n",
    "    with Pool(max_pool) as p:\n",
    "        pool_outputs = list(tqdm(p.starmap(run_user,mock_user_data),total=len(mock_user_data)))    \n",
    "    print(pool_outputs)\n"
   ]
  },
  {
   "cell_type": "markdown",
   "metadata": {},
   "source": [
    "## Evaluation\n",
    "### Participant Info"
   ]
  },
  {
   "cell_type": "code",
   "execution_count": 7,
   "metadata": {},
   "outputs": [
    {
     "data": {
      "text/html": [
       "<div>\n",
       "<style scoped>\n",
       "    .dataframe tbody tr th:only-of-type {\n",
       "        vertical-align: middle;\n",
       "    }\n",
       "\n",
       "    .dataframe tbody tr th {\n",
       "        vertical-align: top;\n",
       "    }\n",
       "\n",
       "    .dataframe thead th {\n",
       "        text-align: right;\n",
       "    }\n",
       "</style>\n",
       "<table border=\"1\" class=\"dataframe\">\n",
       "  <thead>\n",
       "    <tr style=\"text-align: right;\">\n",
       "      <th></th>\n",
       "      <th>user_id</th>\n",
       "      <th>has_seen_explanation_methods_before</th>\n",
       "      <th>has_seen_SHAP_before</th>\n",
       "      <th>has_seen_LIME_before</th>\n",
       "      <th>has_seen_ANCHOR_before</th>\n",
       "      <th>has_seen_OTHERS_before</th>\n",
       "      <th>level_of_expertise</th>\n",
       "      <th>familiarity_with_chatgpt</th>\n",
       "      <th>prefers_monochromatic_methods</th>\n",
       "      <th>detector</th>\n",
       "      <th>explainer</th>\n",
       "    </tr>\n",
       "  </thead>\n",
       "  <tbody>\n",
       "    <tr>\n",
       "      <th>0</th>\n",
       "      <td>1</td>\n",
       "      <td>yes</td>\n",
       "      <td>None</td>\n",
       "      <td>None</td>\n",
       "      <td>None</td>\n",
       "      <td>None</td>\n",
       "      <td>is-researcher</td>\n",
       "      <td>is-researcher-generative-lms</td>\n",
       "      <td>no</td>\n",
       "      <td>DetectorDetectGPT</td>\n",
       "      <td>SHAP_Explainer</td>\n",
       "    </tr>\n",
       "  </tbody>\n",
       "</table>\n",
       "</div>"
      ],
      "text/plain": [
       "   user_id has_seen_explanation_methods_before has_seen_SHAP_before  \\\n",
       "0        1                                 yes                 None   \n",
       "\n",
       "  has_seen_LIME_before has_seen_ANCHOR_before has_seen_OTHERS_before  \\\n",
       "0                 None                   None                   None   \n",
       "\n",
       "  level_of_expertise      familiarity_with_chatgpt  \\\n",
       "0      is-researcher  is-researcher-generative-lms   \n",
       "\n",
       "  prefers_monochromatic_methods           detector       explainer  \n",
       "0                            no  DetectorDetectGPT  SHAP_Explainer  "
      ]
     },
     "execution_count": 7,
     "metadata": {},
     "output_type": "execute_result"
    }
   ],
   "source": [
    "participant_info = pd.read_sql_query(\"SELECT participant_info.*, users.detector, users.explainer FROM participant_info INNER JOIN users ON participant_info.user_id = users.ID where users.current_phase = 5\", connection)\n",
    "participant_info.head(1)"
   ]
  },
  {
   "cell_type": "code",
   "execution_count": 8,
   "metadata": {},
   "outputs": [],
   "source": [
    "stat = lambda col_name : display(participant_info[col_name].value_counts(normalize=True).round(2))"
   ]
  },
  {
   "cell_type": "code",
   "execution_count": 9,
   "metadata": {},
   "outputs": [
    {
     "data": {
      "text/plain": [
       "level_of_expertise\n",
       "has-taken-course                0.50\n",
       "no-experience                   0.24\n",
       "is-researcher                   0.21\n",
       "is-researcher-explainability    0.05\n",
       "Name: proportion, dtype: float64"
      ]
     },
     "metadata": {},
     "output_type": "display_data"
    }
   ],
   "source": [
    "stat(\"level_of_expertise\")"
   ]
  },
  {
   "cell_type": "code",
   "execution_count": 10,
   "metadata": {},
   "outputs": [
    {
     "data": {
      "text/plain": [
       "familiarity_with_chatgpt\n",
       "occasional-use                  0.45\n",
       "frequent-use                    0.34\n",
       "is-researcher-generative-lms    0.18\n",
       "never-used                      0.03\n",
       "Name: proportion, dtype: float64"
      ]
     },
     "metadata": {},
     "output_type": "display_data"
    }
   ],
   "source": [
    "stat(\"familiarity_with_chatgpt\")"
   ]
  },
  {
   "cell_type": "code",
   "execution_count": 11,
   "metadata": {},
   "outputs": [
    {
     "data": {
      "text/plain": [
       "has_seen_explanation_methods_before\n",
       "no     0.76\n",
       "yes    0.24\n",
       "Name: proportion, dtype: float64"
      ]
     },
     "metadata": {},
     "output_type": "display_data"
    }
   ],
   "source": [
    "stat(\"has_seen_explanation_methods_before\")"
   ]
  },
  {
   "cell_type": "markdown",
   "metadata": {},
   "source": [
    "### Forward Simulation"
   ]
  },
  {
   "cell_type": "markdown",
   "metadata": {},
   "source": [
    "There are two more users for Guo+SHAP and Radford+Anchor:"
   ]
  },
  {
   "cell_type": "code",
   "execution_count": 12,
   "metadata": {},
   "outputs": [
    {
     "data": {
      "text/plain": [
       "detector           explainer       \n",
       "DetectorDetectGPT  Anchor_Explainer    4\n",
       "                   LIME_Explainer      4\n",
       "                   SHAP_Explainer      4\n",
       "DetectorGuo        Anchor_Explainer    4\n",
       "                   LIME_Explainer      4\n",
       "                   SHAP_Explainer      5\n",
       "DetectorRadford    Anchor_Explainer    5\n",
       "                   LIME_Explainer      4\n",
       "                   SHAP_Explainer      4\n",
       "Name: ID, dtype: int64"
      ]
     },
     "execution_count": 12,
     "metadata": {},
     "output_type": "execute_result"
    }
   ],
   "source": [
    "user_df = pd.read_sql_query(\"SELECT * FROM users where current_phase = 5\", connection) # remove the two last \n",
    "user_df.groupby([\"detector\", \"explainer\"])[\"ID\"].count()"
   ]
  },
  {
   "cell_type": "markdown",
   "metadata": {},
   "source": [
    "Exclude the last two:"
   ]
  },
  {
   "cell_type": "code",
   "execution_count": 13,
   "metadata": {},
   "outputs": [],
   "source": [
    "user_df = pd.read_sql_query(\"SELECT * FROM users where current_phase = 5 and users.id != 76 and users.id != 45\", connection) # remove the two last "
   ]
  },
  {
   "cell_type": "code",
   "execution_count": 14,
   "metadata": {},
   "outputs": [
    {
     "data": {
      "text/plain": [
       "detector           explainer       \n",
       "DetectorDetectGPT  Anchor_Explainer    4\n",
       "                   LIME_Explainer      4\n",
       "                   SHAP_Explainer      4\n",
       "DetectorGuo        Anchor_Explainer    4\n",
       "                   LIME_Explainer      4\n",
       "                   SHAP_Explainer      4\n",
       "DetectorRadford    Anchor_Explainer    4\n",
       "                   LIME_Explainer      4\n",
       "                   SHAP_Explainer      4\n",
       "Name: ID, dtype: int64"
      ]
     },
     "execution_count": 14,
     "metadata": {},
     "output_type": "execute_result"
    }
   ],
   "source": [
    "user_df.groupby([\"detector\", \"explainer\"])[\"ID\"].count()"
   ]
  },
  {
   "cell_type": "code",
   "execution_count": 15,
   "metadata": {},
   "outputs": [
    {
     "data": {
      "text/html": [
       "<div>\n",
       "<style scoped>\n",
       "    .dataframe tbody tr th:only-of-type {\n",
       "        vertical-align: middle;\n",
       "    }\n",
       "\n",
       "    .dataframe tbody tr th {\n",
       "        vertical-align: top;\n",
       "    }\n",
       "\n",
       "    .dataframe thead th {\n",
       "        text-align: right;\n",
       "    }\n",
       "</style>\n",
       "<table border=\"1\" class=\"dataframe\">\n",
       "  <thead>\n",
       "    <tr style=\"text-align: right;\">\n",
       "      <th></th>\n",
       "      <th>ID</th>\n",
       "      <th>access_token</th>\n",
       "      <th>current_phase</th>\n",
       "      <th>detector</th>\n",
       "      <th>explainer</th>\n",
       "      <th>document_order_a</th>\n",
       "      <th>document_order_b</th>\n",
       "    </tr>\n",
       "  </thead>\n",
       "  <tbody>\n",
       "    <tr>\n",
       "      <th>0</th>\n",
       "      <td>1</td>\n",
       "      <td>IJFDLP</td>\n",
       "      <td>5</td>\n",
       "      <td>DetectorDetectGPT</td>\n",
       "      <td>SHAP_Explainer</td>\n",
       "      <td>[12,11,1,6,16,15,2,9,13,8,0,4,14,7,17,5,3,10]</td>\n",
       "      <td>[15,14,0,10,9,7,13,8,3,5,16,2,4,12,1,6,17,11]</td>\n",
       "    </tr>\n",
       "    <tr>\n",
       "      <th>1</th>\n",
       "      <td>2</td>\n",
       "      <td>MTGOSI</td>\n",
       "      <td>5</td>\n",
       "      <td>DetectorDetectGPT</td>\n",
       "      <td>SHAP_Explainer</td>\n",
       "      <td>[14,4,9,0,17,7,11,10,13,15,1,2,6,5,16,3,8,12]</td>\n",
       "      <td>[11,17,4,6,0,5,12,13,1,2,16,8,7,14,9,15,3,10]</td>\n",
       "    </tr>\n",
       "    <tr>\n",
       "      <th>2</th>\n",
       "      <td>4</td>\n",
       "      <td>CQUTFU</td>\n",
       "      <td>5</td>\n",
       "      <td>DetectorGuo</td>\n",
       "      <td>SHAP_Explainer</td>\n",
       "      <td>[8,16,6,4,9,7,17,1,12,0,2,13,11,15,10,5,3,14]</td>\n",
       "      <td>[9,15,6,3,13,14,16,12,2,17,4,1,7,8,10,0,5,11]</td>\n",
       "    </tr>\n",
       "    <tr>\n",
       "      <th>3</th>\n",
       "      <td>5</td>\n",
       "      <td>GQEDPE</td>\n",
       "      <td>5</td>\n",
       "      <td>DetectorGuo</td>\n",
       "      <td>LIME_Explainer</td>\n",
       "      <td>[2,1,13,8,6,12,15,14,7,4,0,17,3,11,9,10,16,5]</td>\n",
       "      <td>[12,14,15,4,6,13,3,8,2,11,16,9,1,0,5,10,7,17]</td>\n",
       "    </tr>\n",
       "    <tr>\n",
       "      <th>4</th>\n",
       "      <td>6</td>\n",
       "      <td>QSRZGU</td>\n",
       "      <td>5</td>\n",
       "      <td>DetectorDetectGPT</td>\n",
       "      <td>Anchor_Explainer</td>\n",
       "      <td>[10,2,1,3,0,5,15,17,16,13,11,9,14,4,12,6,7,8]</td>\n",
       "      <td>[14,17,6,1,8,12,5,13,11,3,9,7,16,4,0,10,2,15]</td>\n",
       "    </tr>\n",
       "  </tbody>\n",
       "</table>\n",
       "</div>"
      ],
      "text/plain": [
       "   ID access_token  current_phase           detector         explainer  \\\n",
       "0   1       IJFDLP              5  DetectorDetectGPT    SHAP_Explainer   \n",
       "1   2       MTGOSI              5  DetectorDetectGPT    SHAP_Explainer   \n",
       "2   4       CQUTFU              5        DetectorGuo    SHAP_Explainer   \n",
       "3   5       GQEDPE              5        DetectorGuo    LIME_Explainer   \n",
       "4   6       QSRZGU              5  DetectorDetectGPT  Anchor_Explainer   \n",
       "\n",
       "                                document_order_a  \\\n",
       "0  [12,11,1,6,16,15,2,9,13,8,0,4,14,7,17,5,3,10]   \n",
       "1  [14,4,9,0,17,7,11,10,13,15,1,2,6,5,16,3,8,12]   \n",
       "2  [8,16,6,4,9,7,17,1,12,0,2,13,11,15,10,5,3,14]   \n",
       "3  [2,1,13,8,6,12,15,14,7,4,0,17,3,11,9,10,16,5]   \n",
       "4  [10,2,1,3,0,5,15,17,16,13,11,9,14,4,12,6,7,8]   \n",
       "\n",
       "                                document_order_b  \n",
       "0  [15,14,0,10,9,7,13,8,3,5,16,2,4,12,1,6,17,11]  \n",
       "1  [11,17,4,6,0,5,12,13,1,2,16,8,7,14,9,15,3,10]  \n",
       "2  [9,15,6,3,13,14,16,12,2,17,4,1,7,8,10,0,5,11]  \n",
       "3  [12,14,15,4,6,13,3,8,2,11,16,9,1,0,5,10,7,17]  \n",
       "4  [14,17,6,1,8,12,5,13,11,3,9,7,16,4,0,10,2,15]  "
      ]
     },
     "execution_count": 15,
     "metadata": {},
     "output_type": "execute_result"
    }
   ],
   "source": [
    "user_df.head()"
   ]
  },
  {
   "cell_type": "code",
   "execution_count": 16,
   "metadata": {},
   "outputs": [],
   "source": [
    "def get_is_correct(df_user_responses, df_user_study):\n",
    "    \"\"\"Returns a dataframe that specifies wheter the users correctly guessed the detector's decision for each document\n",
    "\n",
    "    Args:\n",
    "        df_user_responses: Responses from user study\n",
    "        df_user_study: Documents for user study\n",
    "    \"\"\"\n",
    "    detector = df_user_responses.iloc[0][\"detector\"] \n",
    "\n",
    "    df_user_documents = df_user_study.loc[df_user_study.groupby(\"Detector\").groups[detector],:].reset_index(drop=True) # decisions differ by detector\n",
    "    detector_predictions = df_user_documents[\"f(b)\"].astype(bool) # set B\n",
    "    user_responses = df_user_responses.loc[df_user_responses.groupby(\"document_nr\")[\"timestamp\"].idxmax()].set_index(\"document_nr\")[\"label\"].astype(bool) # only keep most recent response\n",
    "\n",
    "    return user_responses == detector_predictions"
   ]
  },
  {
   "cell_type": "code",
   "execution_count": 17,
   "metadata": {},
   "outputs": [],
   "source": [
    "u = user_df.set_index(\"ID\").rename_axis(\"user_id\")[[\"explainer\", \"detector\"]] # rename for join\n",
    "\n",
    "# get from DB\n",
    "df_phase_2 = pd.read_sql_query(\"SELECT responses_phase_2.*, users.detector, users.explainer FROM responses_phase_2 INNER JOIN users ON responses_phase_2.user_id = users.ID\", connection)\n",
    "df_phase_4 = pd.read_sql_query(\"SELECT responses_phase_4.*, users.detector, users.explainer FROM responses_phase_4 INNER JOIN users ON responses_phase_4.user_id = users.ID\", connection)\n",
    "\n",
    "# get two dataframes \"is_correct_phase_2\"\n",
    "is_correct_phase_4 = df_phase_4.groupby([\"user_id\"]).apply(lambda df_user_responses : get_is_correct(df_user_responses,df_user_study))\n",
    "is_correct_phase_2 = df_phase_2.groupby([\"user_id\"]).apply(lambda df_user_responses : get_is_correct(df_user_responses,df_user_study))"
   ]
  },
  {
   "cell_type": "code",
   "execution_count": 18,
   "metadata": {},
   "outputs": [],
   "source": [
    "from statsmodels.stats.contingency_tables import mcnemar, SquareTable "
   ]
  },
  {
   "cell_type": "code",
   "execution_count": 19,
   "metadata": {},
   "outputs": [],
   "source": [
    "latex_output = []"
   ]
  },
  {
   "cell_type": "code",
   "execution_count": 32,
   "metadata": {},
   "outputs": [],
   "source": [
    "# method level\n",
    "\n",
    "results = []\n",
    "for explainer, _ in u.groupby(\"explainer\"):\n",
    "    # get contingency table by explainer\n",
    "    phase_2 = u.join(is_correct_phase_2).loc[(u.join(is_correct_phase_2)[\"explainer\"] == explainer)].set_index([\"explainer\", \"detector\"])\n",
    "    phase_4 = u.join(is_correct_phase_4).loc[(u.join(is_correct_phase_4)[\"explainer\"] == explainer)].set_index([\"explainer\", \"detector\"])\n",
    "\n",
    "    contingency_table =SquareTable.from_data(pd.concat([phase_2.melt()[\"value\"], phase_4.melt()[\"value\"]], axis=1))\n",
    " \n",
    "    marginal_row_prob, marginal_col_prob = contingency_table.marginal_probabilities\n",
    " \n",
    "    user_accuracy_4 = marginal_col_prob[True]\n",
    "    user_accuracy_2 = marginal_row_prob[True]\n",
    "\n",
    "    m = mcnemar(contingency_table.table,exact=True) # use binominal distribution, p value already multiplied by 2\n",
    "\n",
    "    results.append((explainer.replace(\"_Explainer\", \"\"),  #matrix, marginal_frequencies, \n",
    "                    user_accuracy_2,\n",
    "                    user_accuracy_4,\n",
    "                    ((user_accuracy_4 / user_accuracy_2) -1.0),\n",
    "                    m.pvalue#, m.statistic\n",
    "                    ))\n",
    "df = pd.DataFrame(results, columns=[\n",
    "    \"\", \n",
    "    \"User Acc without\",\n",
    "    \"User Acc with\",\n",
    "    \"Change\", \n",
    "    \"p\"]).sort_values(by=[\"Change\"], ascending=False).style.format({\n",
    "    \"User Acc without\": \"{:.3f}\".format,\n",
    "    \"User Acc with\": \"{:.3f}\".format,\n",
    "    \"Change\": \"{:.2%}\".format,\n",
    "    \"p\": \"{:.3f}\".format,\n",
    "}).hide(axis=\"index\")\n",
    "latex_output.append(df.to_latex(environment=\"table\", \n",
    "                                    convert_css=True, \n",
    "                                    clines=\"all;data\", \n",
    "                                    hrules=True, \n",
    "                                    escape=True,\n",
    "                                    caption=\"Forward simulation experiment by method\", \n",
    "                                    label=\"user-study-per-method\"))\n",
    "df"
   ]
  },
  {
   "cell_type": "code",
   "execution_count": 21,
   "metadata": {},
   "outputs": [
    {
     "data": {
      "text/html": [
       "<style type=\"text/css\">\n",
       "</style>\n",
       "<table id=\"T_b4b05\">\n",
       "  <thead>\n",
       "    <tr>\n",
       "      <th id=\"T_b4b05_level0_col0\" class=\"col_heading level0 col0\" ></th>\n",
       "      <th id=\"T_b4b05_level0_col1\" class=\"col_heading level0 col1\" ></th>\n",
       "      <th id=\"T_b4b05_level0_col2\" class=\"col_heading level0 col2\" >User Acc without</th>\n",
       "      <th id=\"T_b4b05_level0_col3\" class=\"col_heading level0 col3\" >User Acc with</th>\n",
       "      <th id=\"T_b4b05_level0_col4\" class=\"col_heading level0 col4\" >Change</th>\n",
       "      <th id=\"T_b4b05_level0_col5\" class=\"col_heading level0 col5\" >p</th>\n",
       "    </tr>\n",
       "  </thead>\n",
       "  <tbody>\n",
       "    <tr>\n",
       "      <td id=\"T_b4b05_row0_col0\" class=\"data row0 col0\" >SHAP</td>\n",
       "      <td id=\"T_b4b05_row0_col1\" class=\"data row0 col1\" >Guo</td>\n",
       "      <td id=\"T_b4b05_row0_col2\" class=\"data row0 col2\" >0.778</td>\n",
       "      <td id=\"T_b4b05_row0_col3\" class=\"data row0 col3\" >0.847</td>\n",
       "      <td id=\"T_b4b05_row0_col4\" class=\"data row0 col4\" >8.93%</td>\n",
       "      <td id=\"T_b4b05_row0_col5\" class=\"data row0 col5\" >0.227</td>\n",
       "    </tr>\n",
       "    <tr>\n",
       "      <td id=\"T_b4b05_row1_col0\" class=\"data row1 col0\" >Anchor</td>\n",
       "      <td id=\"T_b4b05_row1_col1\" class=\"data row1 col1\" >Guo</td>\n",
       "      <td id=\"T_b4b05_row1_col2\" class=\"data row1 col2\" >0.708</td>\n",
       "      <td id=\"T_b4b05_row1_col3\" class=\"data row1 col3\" >0.764</td>\n",
       "      <td id=\"T_b4b05_row1_col4\" class=\"data row1 col4\" >7.84%</td>\n",
       "      <td id=\"T_b4b05_row1_col5\" class=\"data row1 col5\" >0.344</td>\n",
       "    </tr>\n",
       "    <tr>\n",
       "      <td id=\"T_b4b05_row2_col0\" class=\"data row2 col0\" >Anchor</td>\n",
       "      <td id=\"T_b4b05_row2_col1\" class=\"data row2 col1\" >Radford</td>\n",
       "      <td id=\"T_b4b05_row2_col2\" class=\"data row2 col2\" >0.569</td>\n",
       "      <td id=\"T_b4b05_row2_col3\" class=\"data row2 col3\" >0.583</td>\n",
       "      <td id=\"T_b4b05_row2_col4\" class=\"data row2 col4\" >2.44%</td>\n",
       "      <td id=\"T_b4b05_row2_col5\" class=\"data row2 col5\" >1.000</td>\n",
       "    </tr>\n",
       "    <tr>\n",
       "      <td id=\"T_b4b05_row3_col0\" class=\"data row3 col0\" >SHAP</td>\n",
       "      <td id=\"T_b4b05_row3_col1\" class=\"data row3 col1\" >Radford</td>\n",
       "      <td id=\"T_b4b05_row3_col2\" class=\"data row3 col2\" >0.667</td>\n",
       "      <td id=\"T_b4b05_row3_col3\" class=\"data row3 col3\" >0.681</td>\n",
       "      <td id=\"T_b4b05_row3_col4\" class=\"data row3 col4\" >2.08%</td>\n",
       "      <td id=\"T_b4b05_row3_col5\" class=\"data row3 col5\" >1.000</td>\n",
       "    </tr>\n",
       "    <tr>\n",
       "      <td id=\"T_b4b05_row4_col0\" class=\"data row4 col0\" >SHAP</td>\n",
       "      <td id=\"T_b4b05_row4_col1\" class=\"data row4 col1\" >DetectGPT</td>\n",
       "      <td id=\"T_b4b05_row4_col2\" class=\"data row4 col2\" >0.819</td>\n",
       "      <td id=\"T_b4b05_row4_col3\" class=\"data row4 col3\" >0.806</td>\n",
       "      <td id=\"T_b4b05_row4_col4\" class=\"data row4 col4\" >-1.69%</td>\n",
       "      <td id=\"T_b4b05_row4_col5\" class=\"data row4 col5\" >1.000</td>\n",
       "    </tr>\n",
       "    <tr>\n",
       "      <td id=\"T_b4b05_row5_col0\" class=\"data row5 col0\" >Anchor</td>\n",
       "      <td id=\"T_b4b05_row5_col1\" class=\"data row5 col1\" >DetectGPT</td>\n",
       "      <td id=\"T_b4b05_row5_col2\" class=\"data row5 col2\" >0.806</td>\n",
       "      <td id=\"T_b4b05_row5_col3\" class=\"data row5 col3\" >0.750</td>\n",
       "      <td id=\"T_b4b05_row5_col4\" class=\"data row5 col4\" >-6.90%</td>\n",
       "      <td id=\"T_b4b05_row5_col5\" class=\"data row5 col5\" >0.289</td>\n",
       "    </tr>\n",
       "    <tr>\n",
       "      <td id=\"T_b4b05_row6_col0\" class=\"data row6 col0\" >LIME</td>\n",
       "      <td id=\"T_b4b05_row6_col1\" class=\"data row6 col1\" >Guo</td>\n",
       "      <td id=\"T_b4b05_row6_col2\" class=\"data row6 col2\" >0.750</td>\n",
       "      <td id=\"T_b4b05_row6_col3\" class=\"data row6 col3\" >0.681</td>\n",
       "      <td id=\"T_b4b05_row6_col4\" class=\"data row6 col4\" >-9.26%</td>\n",
       "      <td id=\"T_b4b05_row6_col5\" class=\"data row6 col5\" >0.359</td>\n",
       "    </tr>\n",
       "    <tr>\n",
       "      <td id=\"T_b4b05_row7_col0\" class=\"data row7 col0\" >LIME</td>\n",
       "      <td id=\"T_b4b05_row7_col1\" class=\"data row7 col1\" >DetectGPT</td>\n",
       "      <td id=\"T_b4b05_row7_col2\" class=\"data row7 col2\" >0.792</td>\n",
       "      <td id=\"T_b4b05_row7_col3\" class=\"data row7 col3\" >0.681</td>\n",
       "      <td id=\"T_b4b05_row7_col4\" class=\"data row7 col4\" >-14.04%</td>\n",
       "      <td id=\"T_b4b05_row7_col5\" class=\"data row7 col5\" >0.134</td>\n",
       "    </tr>\n",
       "    <tr>\n",
       "      <td id=\"T_b4b05_row8_col0\" class=\"data row8 col0\" >LIME</td>\n",
       "      <td id=\"T_b4b05_row8_col1\" class=\"data row8 col1\" >Radford</td>\n",
       "      <td id=\"T_b4b05_row8_col2\" class=\"data row8 col2\" >0.681</td>\n",
       "      <td id=\"T_b4b05_row8_col3\" class=\"data row8 col3\" >0.569</td>\n",
       "      <td id=\"T_b4b05_row8_col4\" class=\"data row8 col4\" >-16.33%</td>\n",
       "      <td id=\"T_b4b05_row8_col5\" class=\"data row8 col5\" >0.057</td>\n",
       "    </tr>\n",
       "  </tbody>\n",
       "</table>\n"
      ],
      "text/plain": [
       "<pandas.io.formats.style.Styler at 0x22771517110>"
      ]
     },
     "execution_count": 21,
     "metadata": {},
     "output_type": "execute_result"
    }
   ],
   "source": [
    "# group level, (redundant but with different groupby)\n",
    "\n",
    "results = []\n",
    "for (explainer, detector),_ in u.groupby([\"explainer\",\"detector\"]):\n",
    "    # get contingency table by explainer\n",
    "    phase_2 = u.join(is_correct_phase_2).loc[(u.join(is_correct_phase_2)[\"explainer\"] == explainer) & (u.join(is_correct_phase_2)[\"detector\"] == detector)].set_index([\"explainer\", \"detector\"])\n",
    "    phase_4 = u.join(is_correct_phase_4).loc[(u.join(is_correct_phase_4)[\"explainer\"] == explainer) & (u.join(is_correct_phase_2)[\"detector\"] == detector)].set_index([\"explainer\", \"detector\"])\n",
    "\n",
    "    contingency_table =SquareTable.from_data(pd.concat([phase_2.melt()[\"value\"], phase_4.melt()[\"value\"]], axis=1))\n",
    " \n",
    "    marginal_row_prob, marginal_col_prob = contingency_table.marginal_probabilities\n",
    " \n",
    "    user_accuracy_4 = marginal_col_prob[True]\n",
    "    user_accuracy_2 = marginal_row_prob[True]\n",
    "\n",
    "    m = mcnemar(contingency_table.table,exact=True) # use binominal distribution, p value already multiplied by 2\n",
    "\n",
    "    results.append((explainer.replace(\"_Explainer\", \"\"), detector.replace(\"Detector\", \"\"), #matrix, marginal_frequencies, \n",
    "                    user_accuracy_2,\n",
    "                    user_accuracy_4,\n",
    "                    ((user_accuracy_4 / user_accuracy_2) -1.0),\n",
    "                    m.pvalue#, m.statistic\n",
    "                    ))\n",
    "df = pd.DataFrame(results, columns=[\n",
    "    \"\",\n",
    "    \"\", \n",
    "    \"User Acc without\",\n",
    "    \"User Acc with\",\n",
    "    \"Change\", \n",
    "    \"p\"]).sort_values(by=[\"Change\"], ascending=False).style.format({\n",
    "    \"User Acc without\": \"{:.3f}\".format,\n",
    "    \"User Acc with\": \"{:.3f}\".format,\n",
    "    \"Change\": \"{:.2%}\".format,\n",
    "    \"p\": \"{:.3f}\".format,\n",
    "}).hide(axis=\"index\")\n",
    "latex_output.append(df.to_latex(environment=\"table\", \n",
    "                                    convert_css=True, \n",
    "                                    clines=\"all;data\", \n",
    "                                    escape = True,\n",
    "                                    hrules=True, \n",
    "                                    caption=\"Forward simulation experiment by group\", \n",
    "                                    label=\"user-study-per-group\"))\n",
    "df"
   ]
  },
  {
   "cell_type": "markdown",
   "metadata": {},
   "source": [
    "### Rating Task"
   ]
  },
  {
   "cell_type": "code",
   "execution_count": 22,
   "metadata": {},
   "outputs": [],
   "source": [
    "df_phase_3 = pd.read_sql_query(\"SELECT responses_phase_3.*, users.detector, users.explainer FROM responses_phase_3 INNER JOIN users ON responses_phase_3.user_id = users.ID where users.current_phase = 5 and users.id != 76 and users.id != 45\", connection)\n",
    "# remove the two additional participants (see above)"
   ]
  },
  {
   "cell_type": "code",
   "execution_count": 23,
   "metadata": {},
   "outputs": [
    {
     "data": {
      "text/html": [
       "<div>\n",
       "<style scoped>\n",
       "    .dataframe tbody tr th:only-of-type {\n",
       "        vertical-align: middle;\n",
       "    }\n",
       "\n",
       "    .dataframe tbody tr th {\n",
       "        vertical-align: top;\n",
       "    }\n",
       "\n",
       "    .dataframe thead th {\n",
       "        text-align: right;\n",
       "    }\n",
       "</style>\n",
       "<table border=\"1\" class=\"dataframe\">\n",
       "  <thead>\n",
       "    <tr style=\"text-align: right;\">\n",
       "      <th></th>\n",
       "      <th></th>\n",
       "      <th></th>\n",
       "      <th>label</th>\n",
       "      <th>detector</th>\n",
       "      <th>explainer</th>\n",
       "    </tr>\n",
       "    <tr>\n",
       "      <th>user_id</th>\n",
       "      <th>document_nr</th>\n",
       "      <th>question_nr</th>\n",
       "      <th></th>\n",
       "      <th></th>\n",
       "      <th></th>\n",
       "    </tr>\n",
       "  </thead>\n",
       "  <tbody>\n",
       "    <tr>\n",
       "      <th rowspan=\"5\" valign=\"top\">1</th>\n",
       "      <th>0</th>\n",
       "      <th>1</th>\n",
       "      <td>2</td>\n",
       "      <td>DetectorDetectGPT</td>\n",
       "      <td>SHAP_Explainer</td>\n",
       "    </tr>\n",
       "    <tr>\n",
       "      <th>1</th>\n",
       "      <th>1</th>\n",
       "      <td>3</td>\n",
       "      <td>DetectorDetectGPT</td>\n",
       "      <td>SHAP_Explainer</td>\n",
       "    </tr>\n",
       "    <tr>\n",
       "      <th>2</th>\n",
       "      <th>1</th>\n",
       "      <td>4</td>\n",
       "      <td>DetectorDetectGPT</td>\n",
       "      <td>SHAP_Explainer</td>\n",
       "    </tr>\n",
       "    <tr>\n",
       "      <th>3</th>\n",
       "      <th>1</th>\n",
       "      <td>4</td>\n",
       "      <td>DetectorDetectGPT</td>\n",
       "      <td>SHAP_Explainer</td>\n",
       "    </tr>\n",
       "    <tr>\n",
       "      <th>4</th>\n",
       "      <th>1</th>\n",
       "      <td>3</td>\n",
       "      <td>DetectorDetectGPT</td>\n",
       "      <td>SHAP_Explainer</td>\n",
       "    </tr>\n",
       "    <tr>\n",
       "      <th>...</th>\n",
       "      <th>...</th>\n",
       "      <th>...</th>\n",
       "      <td>...</td>\n",
       "      <td>...</td>\n",
       "      <td>...</td>\n",
       "    </tr>\n",
       "    <tr>\n",
       "      <th rowspan=\"5\" valign=\"top\">80</th>\n",
       "      <th>13</th>\n",
       "      <th>3</th>\n",
       "      <td>3</td>\n",
       "      <td>DetectorRadford</td>\n",
       "      <td>LIME_Explainer</td>\n",
       "    </tr>\n",
       "    <tr>\n",
       "      <th>14</th>\n",
       "      <th>3</th>\n",
       "      <td>3</td>\n",
       "      <td>DetectorRadford</td>\n",
       "      <td>LIME_Explainer</td>\n",
       "    </tr>\n",
       "    <tr>\n",
       "      <th>15</th>\n",
       "      <th>3</th>\n",
       "      <td>2</td>\n",
       "      <td>DetectorRadford</td>\n",
       "      <td>LIME_Explainer</td>\n",
       "    </tr>\n",
       "    <tr>\n",
       "      <th>16</th>\n",
       "      <th>3</th>\n",
       "      <td>3</td>\n",
       "      <td>DetectorRadford</td>\n",
       "      <td>LIME_Explainer</td>\n",
       "    </tr>\n",
       "    <tr>\n",
       "      <th>17</th>\n",
       "      <th>3</th>\n",
       "      <td>3</td>\n",
       "      <td>DetectorRadford</td>\n",
       "      <td>LIME_Explainer</td>\n",
       "    </tr>\n",
       "  </tbody>\n",
       "</table>\n",
       "<p>1944 rows × 3 columns</p>\n",
       "</div>"
      ],
      "text/plain": [
       "                                 label           detector       explainer\n",
       "user_id document_nr question_nr                                          \n",
       "1       0           1                2  DetectorDetectGPT  SHAP_Explainer\n",
       "        1           1                3  DetectorDetectGPT  SHAP_Explainer\n",
       "        2           1                4  DetectorDetectGPT  SHAP_Explainer\n",
       "        3           1                4  DetectorDetectGPT  SHAP_Explainer\n",
       "        4           1                3  DetectorDetectGPT  SHAP_Explainer\n",
       "...                                ...                ...             ...\n",
       "80      13          3                3    DetectorRadford  LIME_Explainer\n",
       "        14          3                3    DetectorRadford  LIME_Explainer\n",
       "        15          3                2    DetectorRadford  LIME_Explainer\n",
       "        16          3                3    DetectorRadford  LIME_Explainer\n",
       "        17          3                3    DetectorRadford  LIME_Explainer\n",
       "\n",
       "[1944 rows x 3 columns]"
      ]
     },
     "execution_count": 23,
     "metadata": {},
     "output_type": "execute_result"
    }
   ],
   "source": [
    "# only keep most recent responses\n",
    "user_responses = df_phase_3.loc[df_phase_3.groupby([\"user_id\", \"question_nr\", \"document_nr\"])[\"timestamp\"].idxmax()].set_index([\"user_id\", \"document_nr\", \"question_nr\"]).drop([\"timestamp\", \"ID\"], axis=1)\n",
    "user_responses"
   ]
  },
  {
   "cell_type": "code",
   "execution_count": 24,
   "metadata": {},
   "outputs": [],
   "source": [
    "assert len(user_responses) == 36*18*3"
   ]
  },
  {
   "cell_type": "code",
   "execution_count": 25,
   "metadata": {},
   "outputs": [
    {
     "data": {
      "text/html": [
       "<div>\n",
       "<style scoped>\n",
       "    .dataframe tbody tr th:only-of-type {\n",
       "        vertical-align: middle;\n",
       "    }\n",
       "\n",
       "    .dataframe tbody tr th {\n",
       "        vertical-align: top;\n",
       "    }\n",
       "\n",
       "    .dataframe thead th {\n",
       "        text-align: right;\n",
       "    }\n",
       "</style>\n",
       "<table border=\"1\" class=\"dataframe\">\n",
       "  <thead>\n",
       "    <tr style=\"text-align: right;\">\n",
       "      <th></th>\n",
       "      <th>question_nr</th>\n",
       "      <th>label</th>\n",
       "    </tr>\n",
       "    <tr>\n",
       "      <th>explainer</th>\n",
       "      <th></th>\n",
       "      <th></th>\n",
       "    </tr>\n",
       "  </thead>\n",
       "  <tbody>\n",
       "    <tr>\n",
       "      <th>Anchor_Explainer</th>\n",
       "      <td>2.0</td>\n",
       "      <td>2.520062</td>\n",
       "    </tr>\n",
       "    <tr>\n",
       "      <th>LIME_Explainer</th>\n",
       "      <td>2.0</td>\n",
       "      <td>3.424383</td>\n",
       "    </tr>\n",
       "    <tr>\n",
       "      <th>SHAP_Explainer</th>\n",
       "      <td>2.0</td>\n",
       "      <td>2.918210</td>\n",
       "    </tr>\n",
       "  </tbody>\n",
       "</table>\n",
       "</div>"
      ],
      "text/plain": [
       "                  question_nr     label\n",
       "explainer                              \n",
       "Anchor_Explainer          2.0  2.520062\n",
       "LIME_Explainer            2.0  3.424383\n",
       "SHAP_Explainer            2.0  2.918210"
      ]
     },
     "execution_count": 25,
     "metadata": {},
     "output_type": "execute_result"
    }
   ],
   "source": [
    "user_responses.reset_index().set_index([\"detector\", \"user_id\", \"document_nr\"]).groupby([\"explainer\"]).mean()"
   ]
  },
  {
   "cell_type": "code",
   "execution_count": 26,
   "metadata": {},
   "outputs": [],
   "source": [
    "def highlight_significant(row, props=''):\n",
    "  #  display(s)\n",
    "    styles = [''] * len(row)\n",
    "    styles[0] = 'font-weight: bold' if row[\"p value\"] <= 0.05 else ''\n",
    "    return styles"
   ]
  },
  {
   "cell_type": "code",
   "execution_count": 27,
   "metadata": {},
   "outputs": [],
   "source": [
    "import seaborn as sns"
   ]
  },
  {
   "cell_type": "code",
   "execution_count": 28,
   "metadata": {},
   "outputs": [],
   "source": [
    "def get_aggregate_results_lickert(groupby, label, caption):\n",
    "    df_aggregate_results = pd.DataFrame(user_responses.groupby(groupby)[\"label\"].mean())\n",
    "    \n",
    "    #df_aggregate_results = df_aggregate_results.reindex(sorted(df_aggregate_results.columns), axis=1)\n",
    "    df_aggregate_results = df_aggregate_results.reset_index()\n",
    "    df_aggregate_results[\"explainer\"] = df_aggregate_results[\"explainer\"].str.replace(\"_Explainer\", \"\")\n",
    "    if \"detector\" in groupby:\n",
    "        df_aggregate_results[\"detector\"] = df_aggregate_results[\"detector\"].str.replace(\"Detector\", \"\")\n",
    "    df_aggregate_results = df_aggregate_results.rename({\"question_nr\":\"Question\"}, axis=1)\n",
    "    df_aggregate_results = df_aggregate_results.set_index(groupby[0:-1]+[\"Question\"])\n",
    "    df_aggregate_results.plot.bar()\n",
    "    \n",
    "    result = df_aggregate_results.style.format(precision=2).format_index(escape=\"latex\", axis=0)\n",
    "    latex_output.append(result.to_latex(environment=\"table\", \n",
    "                                        convert_css=True, \n",
    "                                        clines=\"all;data\", \n",
    "                                        hrules=True, \n",
    "                                        caption=caption, \n",
    "                                        label=label))\n",
    "\n",
    "\n",
    "    return result\n"
   ]
  },
  {
   "cell_type": "markdown",
   "metadata": {},
   "source": [
    "## Evaluation"
   ]
  },
  {
   "cell_type": "code",
   "execution_count": 29,
   "metadata": {},
   "outputs": [
    {
     "data": {
      "text/html": [
       "<style type=\"text/css\">\n",
       "</style>\n",
       "<table id=\"T_f5b84\">\n",
       "  <thead>\n",
       "    <tr>\n",
       "      <th class=\"blank\" >&nbsp;</th>\n",
       "      <th class=\"blank\" >&nbsp;</th>\n",
       "      <th class=\"blank level0\" >&nbsp;</th>\n",
       "      <th id=\"T_f5b84_level0_col0\" class=\"col_heading level0 col0\" >label</th>\n",
       "    </tr>\n",
       "    <tr>\n",
       "      <th class=\"index_name level0\" >detector</th>\n",
       "      <th class=\"index_name level1\" >explainer</th>\n",
       "      <th class=\"index_name level2\" >Question</th>\n",
       "      <th class=\"blank col0\" >&nbsp;</th>\n",
       "    </tr>\n",
       "  </thead>\n",
       "  <tbody>\n",
       "    <tr>\n",
       "      <th id=\"T_f5b84_level0_row0\" class=\"row_heading level0 row0\" rowspan=\"9\">DetectGPT</th>\n",
       "      <th id=\"T_f5b84_level1_row0\" class=\"row_heading level1 row0\" rowspan=\"3\">Anchor</th>\n",
       "      <th id=\"T_f5b84_level2_row0\" class=\"row_heading level2 row0\" >1</th>\n",
       "      <td id=\"T_f5b84_row0_col0\" class=\"data row0 col0\" >2.15</td>\n",
       "    </tr>\n",
       "    <tr>\n",
       "      <th id=\"T_f5b84_level2_row1\" class=\"row_heading level2 row1\" >2</th>\n",
       "      <td id=\"T_f5b84_row1_col0\" class=\"data row1 col0\" >2.04</td>\n",
       "    </tr>\n",
       "    <tr>\n",
       "      <th id=\"T_f5b84_level2_row2\" class=\"row_heading level2 row2\" >3</th>\n",
       "      <td id=\"T_f5b84_row2_col0\" class=\"data row2 col0\" >2.11</td>\n",
       "    </tr>\n",
       "    <tr>\n",
       "      <th id=\"T_f5b84_level1_row3\" class=\"row_heading level1 row3\" rowspan=\"3\">LIME</th>\n",
       "      <th id=\"T_f5b84_level2_row3\" class=\"row_heading level2 row3\" >1</th>\n",
       "      <td id=\"T_f5b84_row3_col0\" class=\"data row3 col0\" >3.62</td>\n",
       "    </tr>\n",
       "    <tr>\n",
       "      <th id=\"T_f5b84_level2_row4\" class=\"row_heading level2 row4\" >2</th>\n",
       "      <td id=\"T_f5b84_row4_col0\" class=\"data row4 col0\" >2.97</td>\n",
       "    </tr>\n",
       "    <tr>\n",
       "      <th id=\"T_f5b84_level2_row5\" class=\"row_heading level2 row5\" >3</th>\n",
       "      <td id=\"T_f5b84_row5_col0\" class=\"data row5 col0\" >3.08</td>\n",
       "    </tr>\n",
       "    <tr>\n",
       "      <th id=\"T_f5b84_level1_row6\" class=\"row_heading level1 row6\" rowspan=\"3\">SHAP</th>\n",
       "      <th id=\"T_f5b84_level2_row6\" class=\"row_heading level2 row6\" >1</th>\n",
       "      <td id=\"T_f5b84_row6_col0\" class=\"data row6 col0\" >2.54</td>\n",
       "    </tr>\n",
       "    <tr>\n",
       "      <th id=\"T_f5b84_level2_row7\" class=\"row_heading level2 row7\" >2</th>\n",
       "      <td id=\"T_f5b84_row7_col0\" class=\"data row7 col0\" >2.56</td>\n",
       "    </tr>\n",
       "    <tr>\n",
       "      <th id=\"T_f5b84_level2_row8\" class=\"row_heading level2 row8\" >3</th>\n",
       "      <td id=\"T_f5b84_row8_col0\" class=\"data row8 col0\" >2.57</td>\n",
       "    </tr>\n",
       "    <tr>\n",
       "      <th id=\"T_f5b84_level0_row9\" class=\"row_heading level0 row9\" rowspan=\"9\">Guo</th>\n",
       "      <th id=\"T_f5b84_level1_row9\" class=\"row_heading level1 row9\" rowspan=\"3\">Anchor</th>\n",
       "      <th id=\"T_f5b84_level2_row9\" class=\"row_heading level2 row9\" >1</th>\n",
       "      <td id=\"T_f5b84_row9_col0\" class=\"data row9 col0\" >2.39</td>\n",
       "    </tr>\n",
       "    <tr>\n",
       "      <th id=\"T_f5b84_level2_row10\" class=\"row_heading level2 row10\" >2</th>\n",
       "      <td id=\"T_f5b84_row10_col0\" class=\"data row10 col0\" >2.22</td>\n",
       "    </tr>\n",
       "    <tr>\n",
       "      <th id=\"T_f5b84_level2_row11\" class=\"row_heading level2 row11\" >3</th>\n",
       "      <td id=\"T_f5b84_row11_col0\" class=\"data row11 col0\" >2.26</td>\n",
       "    </tr>\n",
       "    <tr>\n",
       "      <th id=\"T_f5b84_level1_row12\" class=\"row_heading level1 row12\" rowspan=\"3\">LIME</th>\n",
       "      <th id=\"T_f5b84_level2_row12\" class=\"row_heading level2 row12\" >1</th>\n",
       "      <td id=\"T_f5b84_row12_col0\" class=\"data row12 col0\" >3.17</td>\n",
       "    </tr>\n",
       "    <tr>\n",
       "      <th id=\"T_f5b84_level2_row13\" class=\"row_heading level2 row13\" >2</th>\n",
       "      <td id=\"T_f5b84_row13_col0\" class=\"data row13 col0\" >3.32</td>\n",
       "    </tr>\n",
       "    <tr>\n",
       "      <th id=\"T_f5b84_level2_row14\" class=\"row_heading level2 row14\" >3</th>\n",
       "      <td id=\"T_f5b84_row14_col0\" class=\"data row14 col0\" >3.19</td>\n",
       "    </tr>\n",
       "    <tr>\n",
       "      <th id=\"T_f5b84_level1_row15\" class=\"row_heading level1 row15\" rowspan=\"3\">SHAP</th>\n",
       "      <th id=\"T_f5b84_level2_row15\" class=\"row_heading level2 row15\" >1</th>\n",
       "      <td id=\"T_f5b84_row15_col0\" class=\"data row15 col0\" >3.29</td>\n",
       "    </tr>\n",
       "    <tr>\n",
       "      <th id=\"T_f5b84_level2_row16\" class=\"row_heading level2 row16\" >2</th>\n",
       "      <td id=\"T_f5b84_row16_col0\" class=\"data row16 col0\" >2.64</td>\n",
       "    </tr>\n",
       "    <tr>\n",
       "      <th id=\"T_f5b84_level2_row17\" class=\"row_heading level2 row17\" >3</th>\n",
       "      <td id=\"T_f5b84_row17_col0\" class=\"data row17 col0\" >2.65</td>\n",
       "    </tr>\n",
       "    <tr>\n",
       "      <th id=\"T_f5b84_level0_row18\" class=\"row_heading level0 row18\" rowspan=\"9\">Radford</th>\n",
       "      <th id=\"T_f5b84_level1_row18\" class=\"row_heading level1 row18\" rowspan=\"3\">Anchor</th>\n",
       "      <th id=\"T_f5b84_level2_row18\" class=\"row_heading level2 row18\" >1</th>\n",
       "      <td id=\"T_f5b84_row18_col0\" class=\"data row18 col0\" >3.17</td>\n",
       "    </tr>\n",
       "    <tr>\n",
       "      <th id=\"T_f5b84_level2_row19\" class=\"row_heading level2 row19\" >2</th>\n",
       "      <td id=\"T_f5b84_row19_col0\" class=\"data row19 col0\" >3.18</td>\n",
       "    </tr>\n",
       "    <tr>\n",
       "      <th id=\"T_f5b84_level2_row20\" class=\"row_heading level2 row20\" >3</th>\n",
       "      <td id=\"T_f5b84_row20_col0\" class=\"data row20 col0\" >3.15</td>\n",
       "    </tr>\n",
       "    <tr>\n",
       "      <th id=\"T_f5b84_level1_row21\" class=\"row_heading level1 row21\" rowspan=\"3\">LIME</th>\n",
       "      <th id=\"T_f5b84_level2_row21\" class=\"row_heading level2 row21\" >1</th>\n",
       "      <td id=\"T_f5b84_row21_col0\" class=\"data row21 col0\" >4.00</td>\n",
       "    </tr>\n",
       "    <tr>\n",
       "      <th id=\"T_f5b84_level2_row22\" class=\"row_heading level2 row22\" >2</th>\n",
       "      <td id=\"T_f5b84_row22_col0\" class=\"data row22 col0\" >3.81</td>\n",
       "    </tr>\n",
       "    <tr>\n",
       "      <th id=\"T_f5b84_level2_row23\" class=\"row_heading level2 row23\" >3</th>\n",
       "      <td id=\"T_f5b84_row23_col0\" class=\"data row23 col0\" >3.65</td>\n",
       "    </tr>\n",
       "    <tr>\n",
       "      <th id=\"T_f5b84_level1_row24\" class=\"row_heading level1 row24\" rowspan=\"3\">SHAP</th>\n",
       "      <th id=\"T_f5b84_level2_row24\" class=\"row_heading level2 row24\" >1</th>\n",
       "      <td id=\"T_f5b84_row24_col0\" class=\"data row24 col0\" >3.33</td>\n",
       "    </tr>\n",
       "    <tr>\n",
       "      <th id=\"T_f5b84_level2_row25\" class=\"row_heading level2 row25\" >2</th>\n",
       "      <td id=\"T_f5b84_row25_col0\" class=\"data row25 col0\" >3.39</td>\n",
       "    </tr>\n",
       "    <tr>\n",
       "      <th id=\"T_f5b84_level2_row26\" class=\"row_heading level2 row26\" >3</th>\n",
       "      <td id=\"T_f5b84_row26_col0\" class=\"data row26 col0\" >3.29</td>\n",
       "    </tr>\n",
       "  </tbody>\n",
       "</table>\n"
      ],
      "text/plain": [
       "<pandas.io.formats.style.Styler at 0x227716bdc90>"
      ]
     },
     "execution_count": 29,
     "metadata": {},
     "output_type": "execute_result"
    },
    {
     "data": {
      "image/png": "[encoded data removed]",
      "text/plain": [
       "<Figure size 640x480 with 1 Axes>"
      ]
     },
     "metadata": {},
     "output_type": "display_data"
    }
   ],
   "source": [
    "get_aggregate_results_lickert([\"detector\", \"explainer\", \"question_nr\"], \"rating-group\",\"Rating task at the group level\")"
   ]
  },
  {
   "cell_type": "code",
   "execution_count": 30,
   "metadata": {},
   "outputs": [
    {
     "data": {
      "text/html": [
       "<style type=\"text/css\">\n",
       "</style>\n",
       "<table id=\"T_54b20\">\n",
       "  <thead>\n",
       "    <tr>\n",
       "      <th class=\"blank\" >&nbsp;</th>\n",
       "      <th class=\"blank level0\" >&nbsp;</th>\n",
       "      <th id=\"T_54b20_level0_col0\" class=\"col_heading level0 col0\" >label</th>\n",
       "    </tr>\n",
       "    <tr>\n",
       "      <th class=\"index_name level0\" >explainer</th>\n",
       "      <th class=\"index_name level1\" >Question</th>\n",
       "      <th class=\"blank col0\" >&nbsp;</th>\n",
       "    </tr>\n",
       "  </thead>\n",
       "  <tbody>\n",
       "    <tr>\n",
       "      <th id=\"T_54b20_level0_row0\" class=\"row_heading level0 row0\" rowspan=\"3\">Anchor</th>\n",
       "      <th id=\"T_54b20_level1_row0\" class=\"row_heading level1 row0\" >1</th>\n",
       "      <td id=\"T_54b20_row0_col0\" class=\"data row0 col0\" >2.57</td>\n",
       "    </tr>\n",
       "    <tr>\n",
       "      <th id=\"T_54b20_level1_row1\" class=\"row_heading level1 row1\" >2</th>\n",
       "      <td id=\"T_54b20_row1_col0\" class=\"data row1 col0\" >2.48</td>\n",
       "    </tr>\n",
       "    <tr>\n",
       "      <th id=\"T_54b20_level1_row2\" class=\"row_heading level1 row2\" >3</th>\n",
       "      <td id=\"T_54b20_row2_col0\" class=\"data row2 col0\" >2.51</td>\n",
       "    </tr>\n",
       "    <tr>\n",
       "      <th id=\"T_54b20_level0_row3\" class=\"row_heading level0 row3\" rowspan=\"3\">LIME</th>\n",
       "      <th id=\"T_54b20_level1_row3\" class=\"row_heading level1 row3\" >1</th>\n",
       "      <td id=\"T_54b20_row3_col0\" class=\"data row3 col0\" >3.60</td>\n",
       "    </tr>\n",
       "    <tr>\n",
       "      <th id=\"T_54b20_level1_row4\" class=\"row_heading level1 row4\" >2</th>\n",
       "      <td id=\"T_54b20_row4_col0\" class=\"data row4 col0\" >3.37</td>\n",
       "    </tr>\n",
       "    <tr>\n",
       "      <th id=\"T_54b20_level1_row5\" class=\"row_heading level1 row5\" >3</th>\n",
       "      <td id=\"T_54b20_row5_col0\" class=\"data row5 col0\" >3.31</td>\n",
       "    </tr>\n",
       "    <tr>\n",
       "      <th id=\"T_54b20_level0_row6\" class=\"row_heading level0 row6\" rowspan=\"3\">SHAP</th>\n",
       "      <th id=\"T_54b20_level1_row6\" class=\"row_heading level1 row6\" >1</th>\n",
       "      <td id=\"T_54b20_row6_col0\" class=\"data row6 col0\" >3.06</td>\n",
       "    </tr>\n",
       "    <tr>\n",
       "      <th id=\"T_54b20_level1_row7\" class=\"row_heading level1 row7\" >2</th>\n",
       "      <td id=\"T_54b20_row7_col0\" class=\"data row7 col0\" >2.86</td>\n",
       "    </tr>\n",
       "    <tr>\n",
       "      <th id=\"T_54b20_level1_row8\" class=\"row_heading level1 row8\" >3</th>\n",
       "      <td id=\"T_54b20_row8_col0\" class=\"data row8 col0\" >2.84</td>\n",
       "    </tr>\n",
       "  </tbody>\n",
       "</table>\n"
      ],
      "text/plain": [
       "<pandas.io.formats.style.Styler at 0x227719d6190>"
      ]
     },
     "execution_count": 30,
     "metadata": {},
     "output_type": "execute_result"
    },
    {
     "data": {
      "image/png": "[encoded data removed]",
      "text/plain": [
       "<Figure size 640x480 with 1 Axes>"
      ]
     },
     "metadata": {},
     "output_type": "display_data"
    }
   ],
   "source": [
    "get_aggregate_results_lickert([ \"explainer\", \"question_nr\"], \"lickert-explainer\",\"Lickert Scale Items on explainer level\")"
   ]
  },
  {
   "cell_type": "code",
   "execution_count": 31,
   "metadata": {},
   "outputs": [],
   "source": [
    "with open(\"figures/tables_user_study.tex\", \"w\", encoding=\"UTF-8\") as text_file:\n",
    "    text_file.write(\"\\n\".join(latex_output))"
   ]
  }
 ],
 "metadata": {
  "kernelspec": {
   "display_name": ".venv",
   "language": "python",
   "name": "python3"
  },
  "language_info": {
   "codemirror_mode": {
    "name": "ipython",
    "version": 3
   },
   "file_extension": ".py",
   "mimetype": "text/x-python",
   "name": "python",
   "nbconvert_exporter": "python",
   "pygments_lexer": "ipython3",
   "version": "3.11.1"
  }
 },
 "nbformat": 4,
 "nbformat_minor": 2
}
