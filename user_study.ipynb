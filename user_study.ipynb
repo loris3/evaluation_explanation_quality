{
 "cells": [
  {
   "cell_type": "code",
   "execution_count": null,
   "metadata": {},
   "outputs": [],
   "source": [
    "DEBUG = True\n",
    "N_DEBUG = 6"
   ]
  },
  {
   "cell_type": "code",
   "execution_count": null,
   "metadata": {},
   "outputs": [],
   "source": [
    "N_PHASE_1_3 = 16\n",
    "N_PHASE_2_4 = 32"
   ]
  },
  {
   "cell_type": "markdown",
   "metadata": {},
   "source": [
    "Modified experiment of Hase et al. (see simulatability.ipynb)"
   ]
  },
  {
   "cell_type": "code",
   "execution_count": null,
   "metadata": {},
   "outputs": [],
   "source": [
    "import pandas as pd\n",
    "import os\n",
    "import numpy as np\n"
   ]
  },
  {
   "cell_type": "code",
   "execution_count": null,
   "metadata": {},
   "outputs": [],
   "source": [
    "from IPython.core.display import HTML\n"
   ]
  },
  {
   "cell_type": "code",
   "execution_count": null,
   "metadata": {},
   "outputs": [],
   "source": [
    "from explainer_wrappers import LIME_Explainer, SHAP_Explainer"
   ]
  },
  {
   "cell_type": "code",
   "execution_count": null,
   "metadata": {},
   "outputs": [],
   "source": [
    "from detector_guo import DetectorGuo\n",
    "from detector_dummy import DetectorDummy"
   ]
  },
  {
   "cell_type": "code",
   "execution_count": null,
   "metadata": {},
   "outputs": [],
   "source": [
    "test = pd.read_pickle(\"./dataset_train.pkl\")\n",
    "test = test "
   ]
  },
  {
   "cell_type": "code",
   "execution_count": null,
   "metadata": {},
   "outputs": [],
   "source": [
    "sample = test.sample(n=N_PHASE_1_3+N_PHASE_2_4, random_state=2202)\n",
    "phase_1_3 = sample[0:N_PHASE_1_3]\n",
    "phase_2_4 = sample[N_PHASE_1_3:N_PHASE_1_3+N_PHASE_2_4]"
   ]
  },
  {
   "cell_type": "code",
   "execution_count": null,
   "metadata": {},
   "outputs": [],
   "source": [
    "documents_phase_1_3 = phase_1_3[\"answer\"]\n",
    "gold_labels_phase_1_3 = phase_1_3[\"author\"] == \"human_answers\" # convention: 0: machine, 1: human, see detector.py\n",
    "\n",
    "documents_phase_2_4 = phase_2_4[\"answer\"]\n",
    "gold_labels_phase_2_4 = phase_2_4[\"author\"] == \"human_answers\" # convention: 0: machine, 1: human, see detector.py"
   ]
  },
  {
   "cell_type": "code",
   "execution_count": null,
   "metadata": {},
   "outputs": [],
   "source": [
    "detector = DetectorGuo()#( machine_watermark=\"Alcohol\")"
   ]
  },
  {
   "cell_type": "code",
   "execution_count": null,
   "metadata": {},
   "outputs": [],
   "source": [
    "explainer = LIME_Explainer(detector)"
   ]
  },
  {
   "cell_type": "markdown",
   "metadata": {},
   "source": [
    "# Phase 1\n",
    "Predictions and GT but no explanations"
   ]
  },
  {
   "cell_type": "code",
   "execution_count": null,
   "metadata": {},
   "outputs": [],
   "source": [
    "prompt_template_phase_1 = \"\"\"\n",
    "<p><b>This is a {kind_of_document} document.</b></p>\n",
    "<p>The detector {correctly_or_wrongly} predicted that this document was... </p>\n",
    "<p>&emsp; ... machine generated with {p_machine} % confidence.</p>\n",
    "<p>&emsp; ... human written with {p_human} % confidence.</p> \n",
    "\n",
    "\n",
    "<div style=\"float:left;\">{document}</div>\n",
    "\"\"\""
   ]
  },
  {
   "cell_type": "code",
   "execution_count": null,
   "metadata": {},
   "outputs": [],
   "source": [
    "for gold_label, document in zip(gold_labels_phase_1_3, documents_phase_1_3):\n",
    "    p_machine, p_human = detector.predict_proba([document])[0]\n",
    "\n",
    "    display(HTML(prompt_template_phase_1.format(\n",
    "    p_machine=int(p_machine*100), \n",
    "    p_human=int(p_human*100),\n",
    "    kind_of_document= \"machine generated\" if gold_label == False else \"human written\", \n",
    "    correctly_or_wrongly= \"correctly\" if detector.predict_label([document])[0] == gold_label else \"wrongly\", \n",
    "    document = document\n",
    "    )))"
   ]
  },
  {
   "cell_type": "markdown",
   "metadata": {},
   "source": [
    "# Phase 2\n",
    "Predict model output without explanations"
   ]
  },
  {
   "cell_type": "code",
   "execution_count": null,
   "metadata": {},
   "outputs": [],
   "source": [
    "prompt_template_phase_2 = \"\"\"\n",
    "Please try to guess the decition of the detector:<br />\n",
    "<div style=\"float:left;\">{document}</div>\n",
    "<br /> <br />\n",
    "<p>MACHINE | HUMAN</p>\n",
    "\"\"\""
   ]
  },
  {
   "cell_type": "code",
   "execution_count": null,
   "metadata": {},
   "outputs": [],
   "source": [
    "for document in documents_phase_2_4:\n",
    "   \n",
    "    display(HTML(prompt_template_phase_2.format(\n",
    "    document = document\n",
    "    )))"
   ]
  },
  {
   "cell_type": "markdown",
   "metadata": {},
   "source": [
    "# Phase 3:\n",
    "Phase 1 + explanations"
   ]
  },
  {
   "cell_type": "code",
   "execution_count": null,
   "metadata": {},
   "outputs": [],
   "source": [
    "prompt_template_phase_3 = \"\"\"\n",
    "<p><b>This is a {kind_of_document} document.</b></p>\n",
    "<p>The detector {correctly_or_wrongly} predicted that this document was... </p>\n",
    "<p>&emsp; ... machine generated with {p_machine} % confidence.</p>\n",
    "<p>&emsp; ... human written with {p_human} % confidence.</p> \n",
    "<div style=\"float:left; height:30em;\">{barplot_machine}{barplot_human}</div>\n",
    "\n",
    "\n",
    "<div style=\"float:left;\">{highlighted_text}</div>\n",
    "\"\"\""
   ]
  },
  {
   "cell_type": "code",
   "execution_count": null,
   "metadata": {},
   "outputs": [],
   "source": [
    "\n"
   ]
  },
  {
   "cell_type": "code",
   "execution_count": null,
   "metadata": {},
   "outputs": [],
   "source": [
    "expa = None"
   ]
  },
  {
   "cell_type": "code",
   "execution_count": null,
   "metadata": {},
   "outputs": [],
   "source": [
    "for gold_label, document in zip(gold_labels_phase_1_3, documents_phase_1_3):\n",
    "  #  explainer.delete_cached_explanation(document)\n",
    "    # display(HTML(explainer.get_vanilla_visualization_HTML(document)))\n",
    "    p_machine, p_human = detector.predict_proba([document])[0]\n",
    "    machine, human = explainer.get_barplots_HTML(document)\n",
    "    display(HTML(prompt_template_phase_3.format(\n",
    "    p_machine=int(p_machine*100), \n",
    "    p_human=int(p_human*100),\n",
    "    barplot_machine=machine,\n",
    "    barplot_human=human,\n",
    "    kind_of_document= \"machine generated\" if gold_label == False else \"human written\", \n",
    "    correctly_or_wrongly= \"correctly\" if detector.predict_label([document])[0] == gold_label else \"wrongly\", \n",
    "    highlighted_text=explainer.get_highlighted_text_HTML(document),\n",
    "    )))"
   ]
  },
  {
   "cell_type": "code",
   "execution_count": null,
   "metadata": {},
   "outputs": [],
   "source": []
  },
  {
   "cell_type": "code",
   "execution_count": null,
   "metadata": {},
   "outputs": [],
   "source": [
    "\n",
    "\n"
   ]
  },
  {
   "cell_type": "code",
   "execution_count": null,
   "metadata": {},
   "outputs": [],
   "source": [
    "from lime.explanation import id_generator\n",
    "from sklearn.utils import check_random_state\n",
    "import json\n",
    "random_state = 42"
   ]
  },
  {
   "cell_type": "code",
   "execution_count": null,
   "metadata": {},
   "outputs": [],
   "source": []
  },
  {
   "cell_type": "code",
   "execution_count": null,
   "metadata": {},
   "outputs": [],
   "source": [
    "explainer = SHAP_Explainer(detector)"
   ]
  },
  {
   "cell_type": "code",
   "execution_count": null,
   "metadata": {},
   "outputs": [],
   "source": [
    "HTML(explainer.get_visualization_HTML(document))"
   ]
  },
  {
   "cell_type": "code",
   "execution_count": null,
   "metadata": {},
   "outputs": [],
   "source": [
    "s = \"Alcohol is a diuretic , which means that it causes excessive urination , also the big amounts of fluid you are consuming contributes to more urine formation . Excessive urination leads to loss of ions such as sodium , potassium and magnesium , but the amount of water lost in urine is more than the amount of ions lost ( urine is less concentrated an looks clear ) . That creates an increased concentration of ions in blood . To counter this , the cells push the water inside them to the blood , therefore decreasing the amount of water in them , and this causes dehydration and feeling of thirst , which is a symptom of being hangover .\""
   ]
  },
  {
   "cell_type": "code",
   "execution_count": null,
   "metadata": {},
   "outputs": [],
   "source": [
    "\"diuretic\" in s"
   ]
  }
 ],
 "metadata": {
  "kernelspec": {
   "display_name": ".venv",
   "language": "python",
   "name": "python3"
  },
  "language_info": {
   "codemirror_mode": {
    "name": "ipython",
    "version": 3
   },
   "file_extension": ".py",
   "mimetype": "text/x-python",
   "name": "python",
   "nbconvert_exporter": "python",
   "pygments_lexer": "ipython3",
   "version": "3.11.1"
  }
 },
 "nbformat": 4,
 "nbformat_minor": 2
}
