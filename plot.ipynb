{
 "cells": [
  {
   "cell_type": "code",
   "execution_count": 1,
   "id": "f261be01-3e6b-4957-b3a0-57ba8ce0edff",
   "metadata": {},
   "outputs": [],
   "source": [
    "import matplotlib.pyplot as plt\n",
    "%matplotlib inline\n",
    "from bootstrap_alpha import bootstrap, get_example_data, demo\n",
    "import numpy as np\n",
    "\n",
    "from krippendorff import alpha\n"
   ]
  },
  {
   "cell_type": "code",
   "execution_count": 2,
   "id": "c74c3b73",
   "metadata": {},
   "outputs": [],
   "source": [
    "from collections import Counter\n",
    "def is_permutation_of_an_element_in_list(x, X): \n",
    "    for list1 in x:\n",
    "        for a in [a.flatten() for a in np.vsplit(X, X.shape[0])]:\n",
    "            if (not np.array_equal(a.sort(), list1.sort())):\n",
    "                return False\n",
    "            else:\n",
    "                try:\n",
    "                    \n",
    "                    print([list(a).index(i) for i in list1])\n",
    "                    print(list(a), list(list1))\n",
    "                except:\n",
    "                    continue\n",
    "    print(\"-------------------\")\n",
    "    return True"
   ]
  },
  {
   "cell_type": "code",
   "execution_count": 3,
   "id": "baebeac6",
   "metadata": {},
   "outputs": [
    {
     "name": "stdout",
     "output_type": "stream",
     "text": [
      "0.995650352948157\n"
     ]
    }
   ],
   "source": [
    "from scipy.stats import pearsonr\n",
    "n = 100\n",
    "x = np.linspace(0, 10, n)\n",
    "y = x + np.random.uniform(size=n)\n",
    "print(pearsonr(x, y)[0])  # element 0 is the statistic"
   ]
  },
  {
   "cell_type": "code",
   "execution_count": 4,
   "id": "c4eb7535",
   "metadata": {},
   "outputs": [],
   "source": [
    "from scipy.stats import bootstrap\n",
    "import numpy as np"
   ]
  },
  {
   "cell_type": "code",
   "execution_count": 5,
   "id": "99247874",
   "metadata": {},
   "outputs": [
    {
     "data": {
      "text/plain": [
       "(array([ 3.98685661e+00,  1.44694280e+00,  4.59075415e+00,  8.09211943e+00,\n",
       "         1.06338650e+00,  1.06345217e+00,  8.31685126e+00,  5.06973892e+00,\n",
       "         1.22102456e-01,  4.17024017e+00,  1.46329229e-01,  1.37080986e-01,\n",
       "         2.96784909e+00, -5.65312098e+00, -4.89967133e+00, -2.49150117e-01,\n",
       "        -2.05132448e+00,  3.25698933e+00, -1.63209630e+00, -3.64921481e+00,\n",
       "         7.86259508e+00,  1.09689480e+00,  2.27011282e+00, -3.69899274e+00,\n",
       "        -1.77530898e-01,  2.44369036e+00, -2.60397431e+00,  3.50279207e+00,\n",
       "        -4.02554760e-01,  8.33225001e-01, -4.06826449e-01,  9.40911274e+00,\n",
       "         1.94601110e+00, -2.23084372e+00,  5.29017965e+00, -2.88337460e+00,\n",
       "         2.83545438e+00, -5.83868050e+00, -3.31274420e+00,  2.78744494e+00,\n",
       "         4.95386632e+00,  2.68547312e+00,  1.53740687e+00,  7.95585218e-01,\n",
       "        -3.91408796e+00, -8.79376834e-01,  1.57444916e-01,  6.22848890e+00,\n",
       "         3.37447316e+00, -5.05216062e+00,  3.29633588e+00,  4.59670878e-01,\n",
       "        -7.07688001e-01,  4.44670516e+00,  6.12399809e+00,  5.72512048e+00,\n",
       "        -1.35687009e+00,  7.63150497e-01,  3.32505373e+00,  5.90218051e+00,\n",
       "         8.33030486e-02,  1.25736409e+00, -2.42533990e+00, -2.78482650e+00,\n",
       "         5.25010329e+00,  7.42496011e+00,  1.71195951e+00,  6.01413159e+00,\n",
       "         3.44654410e+00, -5.80479018e-01,  3.44558242e+00,  8.15214627e+00,\n",
       "         1.85669584e+00,  8.25857462e+00, -8.47898042e+00,  5.28761002e+00,\n",
       "         2.34818827e+00,  8.03970598e-01,  2.36704311e+00, -5.95027566e+00,\n",
       "         1.12131245e+00,  3.42845029e+00,  7.91157618e+00, -7.30808731e-02,\n",
       "        -1.23397441e+00, -7.02817434e-03,  5.66160847e+00,  3.31500444e+00,\n",
       "        -1.19040815e-01,  4.05306973e+00,  2.38831020e+00,  5.87457996e+00,\n",
       "        -8.08212376e-01,  6.89351414e-01,  4.31567387e-01, -3.85405979e+00,\n",
       "         3.18448111e+00,  3.04422109e+00,  2.02045383e+00,  1.06165147e+00]),)"
      ]
     },
     "execution_count": 5,
     "metadata": {},
     "output_type": "execute_result"
    }
   ],
   "source": [
    "from scipy.stats import norm\n",
    "dist = norm(loc=2, scale=4)  # our \"unknown\" distribution\n",
    "data = dist.rvs(size=100, random_state=42)\n",
    "data\n",
    "(data,)"
   ]
  },
  {
   "cell_type": "code",
   "execution_count": 6,
   "id": "adad7f66",
   "metadata": {},
   "outputs": [
    {
     "data": {
      "text/plain": [
       "array([[-1.07225605e+00,  4.55542231e-01, -1.56277547e+00,\n",
       "        -1.15453161e+00,  1.78236384e+00],\n",
       "       [ 7.65007494e-01, -2.38655362e+00,  1.22024123e-02,\n",
       "         1.01864061e+00, -2.42528727e-01],\n",
       "       [-2.41580679e-03,  2.20280976e-01,  1.32030038e+00,\n",
       "        -3.12805011e-01, -9.72603095e-01],\n",
       "       [-4.37879544e-01,  1.33536220e+00,  7.45838991e-01,\n",
       "        -6.00102690e-01,  4.73281992e-01],\n",
       "       [-9.32031698e-02,  6.79720740e-01, -1.72455277e+00,\n",
       "         5.08067418e-02, -2.32696699e-02],\n",
       "       [-9.83806826e-01, -7.59111700e-01,  1.15594352e+00,\n",
       "         3.23630479e-01,  9.57138656e-01],\n",
       "       [ 6.86478081e-01, -1.08179842e+00,  1.34951377e+00,\n",
       "        -6.95184720e-01, -1.04879668e+00],\n",
       "       [ 3.36609276e-01,  1.21891154e+00, -4.44117122e-01,\n",
       "         5.22853655e-01, -3.71007451e-01],\n",
       "       [-3.33473461e-01,  1.13581827e+00,  1.18449481e+00,\n",
       "         1.50767149e-01, -9.12314852e-01],\n",
       "       [-7.04628205e-01, -1.55021880e-01,  1.03332528e+00,\n",
       "        -2.22372540e-02,  2.17925132e+00],\n",
       "       [-1.09339879e-01, -2.79317807e-02,  1.09566381e+00,\n",
       "         4.58885144e-01,  1.26695617e+00],\n",
       "       [-1.78563285e-02, -9.07197869e-01, -1.22921315e+00,\n",
       "        -8.42202357e-02, -1.95029389e+00],\n",
       "       [-1.40556172e+00,  1.44151639e-01, -1.29688448e+00,\n",
       "        -6.24318469e-02,  8.12142392e-01],\n",
       "       [-2.65408109e-01, -1.76574817e+00, -7.86346772e-01,\n",
       "         1.52410774e+00, -6.51838661e-02],\n",
       "       [-2.02140308e+00, -6.46509288e-01,  4.69016352e-01,\n",
       "         1.14017984e-01,  3.35592584e-01],\n",
       "       [ 1.08111841e+00, -1.51782566e-01,  1.96006189e+00,\n",
       "         1.65372872e+00, -2.42139437e+00],\n",
       "       [ 2.33496396e+00,  1.98690757e-01,  9.17712003e-01,\n",
       "        -7.41812821e-01, -1.66645071e-01],\n",
       "       [-9.61002936e-01,  3.34340739e-01, -1.16219632e+00,\n",
       "         2.61156298e+00, -6.11143413e-01],\n",
       "       [ 5.85759575e-01, -1.84401381e+00, -8.11497206e-02,\n",
       "        -9.45851568e-01,  1.37759656e-01],\n",
       "       [ 2.07858356e+00, -1.16960475e+00, -6.66277002e-01,\n",
       "        -7.92325454e-01,  5.83218826e-01],\n",
       "       [ 1.26544374e+00, -4.76705452e-01, -5.52361009e-02,\n",
       "         5.68932451e-03,  1.39302105e-01],\n",
       "       [ 7.84246578e-01,  6.36970193e-01, -9.64869479e-02,\n",
       "        -1.78540270e-01, -6.33475971e-01],\n",
       "       [-3.12388076e-01, -5.59216888e-01, -1.18212386e-01,\n",
       "         1.98724490e+00,  1.45942566e+00],\n",
       "       [-4.53116144e-01,  9.27398592e-01,  1.17609975e-01,\n",
       "         9.85426239e-01,  1.41307876e-01],\n",
       "       [-2.16650187e-01, -8.53893775e-02,  5.94039867e-01,\n",
       "         7.11963906e-01, -1.12334368e-01],\n",
       "       [-8.95204247e-01,  1.56242849e+00, -4.98588918e-01,\n",
       "         8.25897338e-02, -4.64763227e-01],\n",
       "       [-6.16834490e-01,  2.19558219e+00, -6.34771944e-01,\n",
       "        -1.43038867e-02, -6.05159623e-01],\n",
       "       [-5.94856314e-01, -1.27793086e+00,  7.36285514e-01,\n",
       "        -2.80111522e-01, -1.60931423e+00],\n",
       "       [-7.82029720e-01,  2.14600070e+00, -1.83231157e+00,\n",
       "         1.74084563e+00,  9.67947161e-01],\n",
       "       [-1.17317638e+00, -5.67236705e-01, -4.23679824e-02,\n",
       "         1.10179107e+00,  2.98345779e-01],\n",
       "       [ 8.99235429e-01, -1.39738635e+00,  9.40900219e-01,\n",
       "        -1.94441122e-01,  3.04249263e-01],\n",
       "       [-2.78186118e+00,  2.60208348e-01, -4.61615986e-01,\n",
       "         9.80697039e-01, -9.78616816e-01],\n",
       "       [-3.09055187e+00,  2.79987228e-01, -1.70859340e+00,\n",
       "         1.50785534e-01, -7.02376009e-03],\n",
       "       [ 1.88549912e+00,  2.04710106e-01, -1.05011607e-01,\n",
       "         6.05050278e-02,  6.05373781e-01],\n",
       "       [-3.76888397e-01, -6.13933862e-01,  3.05350021e-03,\n",
       "         9.03628993e-02, -3.56907254e-01],\n",
       "       [ 6.76039413e-01,  1.51019868e-01,  4.77209664e-01,\n",
       "         2.52479347e-01, -4.08519133e-01],\n",
       "       [-1.18568729e+00,  9.15300188e-01, -7.57455621e-01,\n",
       "         3.15021738e-01, -2.97994773e-01],\n",
       "       [ 1.43564554e+00, -2.38231311e-01,  1.88418734e+00,\n",
       "        -1.34877982e+00, -4.02052263e-01],\n",
       "       [ 5.63733466e-01,  3.15249010e-02,  1.08402933e+00,\n",
       "        -2.08697858e-02, -7.20465846e-01],\n",
       "       [ 1.24942062e+00,  1.92257642e+00,  5.99691744e-01,\n",
       "         4.99672927e-01, -2.14605166e-01]])"
      ]
     },
     "execution_count": 6,
     "metadata": {},
     "output_type": "execute_result"
    }
   ],
   "source": [
    "X = get_example_data()\n",
    "\n",
    "X = np.random.randn(*X.shape)\n",
    "\n",
    "X"
   ]
  },
  {
   "cell_type": "code",
   "execution_count": 7,
   "id": "daf4fce7",
   "metadata": {},
   "outputs": [],
   "source": [
    "from scipy.stats import bootstrap"
   ]
  },
  {
   "cell_type": "code",
   "execution_count": 8,
   "id": "31d14bac",
   "metadata": {},
   "outputs": [
    {
     "data": {
      "image/png": "[encoded data removed]",
      "text/plain": [
       "<Figure size 640x480 with 1 Axes>"
      ]
     },
     "metadata": {},
     "output_type": "display_data"
    }
   ],
   "source": [
    "indices = np.arange(X.shape[0])\n",
    "res = bootstrap(\n",
    "    (indices,),\n",
    "      lambda i: alpha(X[i,:],level_of_measurement=\"interval\"),\n",
    "        random_state=42,\n",
    "        vectorized=False,\n",
    "        confidence_level=0.95,\n",
    "        method=\"BCa\"\n",
    "    )\n",
    "fig, ax = plt.subplots()\n",
    "ax.hist(res.bootstrap_distribution, bins=40)\n",
    "ax.set_title('Bootstrap Distribution')\n",
    "ax.set_xlabel('statistic value')\n",
    "ax.set_ylabel('frequency')\n",
    "ax.vlines(x=alpha(X, level_of_measurement=\"interval\"), ymin=ax.get_ylim()[0], ymax=ax.get_ylim()[1], color='red')\n",
    "ax.vlines(x=[res.confidence_interval[0], res.confidence_interval[1], np.mean(res.bootstrap_distribution)], ymin=ax.get_ylim()[0], ymax=ax.get_ylim()[1], color='orange')\n",
    "plt.show()"
   ]
  },
  {
   "cell_type": "code",
   "execution_count": 9,
   "id": "3fe0e6ad",
   "metadata": {},
   "outputs": [
    {
     "data": {
      "text/plain": [
       "BootstrapResult(confidence_interval=ConfidenceInterval(low=-0.08261893905716511, high=0.005469014410785275), bootstrap_distribution=array([0.03563285, 0.0146574 , 0.0470995 , ..., 0.00823202, 0.02593273,\n",
       "       0.01771333]), standard_error=0.023138587758455193)"
      ]
     },
     "execution_count": 9,
     "metadata": {},
     "output_type": "execute_result"
    }
   ],
   "source": [
    "res"
   ]
  },
  {
   "cell_type": "code",
   "execution_count": 10,
   "id": "e5d239c6",
   "metadata": {},
   "outputs": [
    {
     "data": {
      "text/plain": [
       "0.016476154442780822"
      ]
     },
     "execution_count": 10,
     "metadata": {},
     "output_type": "execute_result"
    }
   ],
   "source": [
    "np.mean(res.bootstrap_distribution)"
   ]
  },
  {
   "cell_type": "code",
   "execution_count": 11,
   "id": "811a9de3",
   "metadata": {},
   "outputs": [],
   "source": [
    "import matplotlib.pyplot as plt\n",
    "%matplotlib inline\n",
    "\n",
    "import numpy as np\n",
    "\n",
    "from krippendorff import alpha\n",
    "from bootstrap_alpha import bootstrap, get_example_data"
   ]
  },
  {
   "cell_type": "code",
   "execution_count": 12,
   "id": "37f57775",
   "metadata": {},
   "outputs": [],
   "source": [
    "alpha_value = alpha(reliability_data=X, level_of_measurement='interval')"
   ]
  },
  {
   "cell_type": "code",
   "execution_count": 13,
   "id": "6b5f6ad2",
   "metadata": {},
   "outputs": [],
   "source": [
    "fig, ax = plt.subplots(nrows=1, ncols=2, figsize=(12, 4))\n",
    "\n",
    "for i, sampling_method in enumerate(['krippendorff', 'random']):\n",
    "\n",
    "    ci, est = bootstrap(\n",
    "        reliability_data=X,\n",
    "        level_of_measurement='interval',\n",
    "        num_iterations=10000,\n",
    "        return_bootstrap_estimates=True,\n",
    "        sampling_method=sampling_method,\n",
    "    )\n",
    "\n",
    "    mu = np.mean(est)\n",
    "    ax[i].hist(est, bins=40)\n",
    "    ylim = ax[i].get_ylim()\n",
    "\n",
    "    ax[i].vlines(x=alpha_value, ymin=ylim[0], ymax=ylim[1], color='red')\n",
    "    ax[i].vlines(x=[ci[0], ci[1], mu], ymin=ylim[0], ymax=ylim[1], color='orange')\n",
    "    ax[i].set_xlabel('Alpha')\n",
    "    ax[i].set_ylabel('Frequency')\n",
    "    ax[i].set_title(f\"Sampling_method: {sampling_method}\")"
   ]
  },
  {
   "cell_type": "code",
   "execution_count": null,
   "id": "82124f9e",
   "metadata": {},
   "outputs": [
    {
     "data": {
      "text/plain": [
       "0.7658385272252848"
      ]
     },
     "execution_count": 13,
     "metadata": {},
     "output_type": "execute_result"
    }
   ],
   "source": [
    "mu"
   ]
  },
  {
   "cell_type": "code",
   "execution_count": null,
   "id": "fafb2bdb",
   "metadata": {},
   "outputs": [],
   "source": []
  }
 ],
 "metadata": {
  "kernelspec": {
   "display_name": "Python 3 (ipykernel)",
   "language": "python",
   "name": "python3"
  },
  "language_info": {
   "codemirror_mode": {
    "name": "ipython",
    "version": 3
   },
   "file_extension": ".py",
   "mimetype": "text/x-python",
   "name": "python",
   "nbconvert_exporter": "python",
   "pygments_lexer": "ipython3",
   "version": "3.11.1"
  }
 },
 "nbformat": 4,
 "nbformat_minor": 5
}
