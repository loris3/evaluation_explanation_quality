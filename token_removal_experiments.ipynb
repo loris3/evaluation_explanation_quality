{
 "cells": [
  {
   "cell_type": "code",
   "execution_count": 1,
   "metadata": {},
   "outputs": [],
   "source": [
    "DEBUG = False\n",
    "N_DEBUG = 10\n",
    "USE_CACHE = False"
   ]
  },
  {
   "cell_type": "code",
   "execution_count": 2,
   "metadata": {},
   "outputs": [],
   "source": [
    "import pandas as pd\n",
    "import numpy as np\n",
    "import transformers\n",
    "import torch\n",
    "import re\n",
    "from tqdm import tqdm\n",
    "import sklearn\n",
    "# import spacy\n",
    "# nlp = spacy.load(\"en_core_web_sm\")"
   ]
  },
  {
   "cell_type": "code",
   "execution_count": 3,
   "metadata": {},
   "outputs": [],
   "source": [
    "test = pd.read_pickle(\"./dataset_test.pkl\")\n",
    "\n",
    "\n",
    "documents = test[\"answer\"]\n",
    "gold_labels = test[\"author\"] == \"human_answers\" # convention: 0: machine, 1: human, see detector.py\n",
    "\n",
    "if DEBUG and N_DEBUG > 0:\n",
    "    documents = documents[0:N_DEBUG]\n",
    "    gold_labels = gold_labels[0:N_DEBUG]\n",
    "\n",
    "\n",
    "\n",
    "from detector_radford import DetectorRadford\n",
    "from detector_detectgpt import DetectorDetectGPT\n",
    "from detector_guo import DetectorGuo\n",
    "detector_classes = [DetectorRadford, DetectorGuo, DetectorDetectGPT]\n",
    "\n",
    "from explainer_wrappers import LIME_Explainer, SHAP_Explainer, Random_Explainer, Anchor_Explainer\n",
    "explainer_classes = [Anchor_Explainer]#, LIME_Explainer, SHAP_Explainer]"
   ]
  },
  {
   "cell_type": "code",
   "execution_count": null,
   "metadata": {},
   "outputs": [],
   "source": []
  },
  {
   "cell_type": "code",
   "execution_count": 4,
   "metadata": {},
   "outputs": [],
   "source": [
    "from abc import ABC, abstractmethod\n",
    "class Experiment(ABC):\n",
    "    @abstractmethod \n",
    "    def __init__(self, explainer, document, gt):\n",
    "        self.document = document\n",
    "        self.gt = gt\n",
    "        self.explainer = explainer\n",
    "        self.fi_scores_machine  = self.explainer.get_fi_scores(document, fill=True)[0]\n",
    "        self.fi_scores_human = self.explainer.get_fi_scores(document, fill=True)[1]\n",
    "    @property\n",
    "    @abstractmethod\n",
    "    def modified_document(self):\n",
    "        pass\n",
    "    # as in Arras et al. 2016: \"The target class is the true document class,[...]\"\n",
    "    def get_fi_scores_target(self):\n",
    "        if self.gt:\n",
    "            return self.fi_scores_human\n",
    "        else:\n",
    "            return self.fi_scores_machine\n",
    "    def remove_features(self, id_fi_tuples_list, mask=True):\n",
    "        tokenized_modified_document = self.explainer.tokenize(self.document)\n",
    "       \n",
    "        ### assert right words are removed\n",
    "        top_words = [word for word, fi in self.explainer.as_list(self.explainer.get_explanation_cached(self.document), label=self.gt) if fi > 0]\n",
    "        for a, b in zip(tokenized_modified_document, self.explainer.tokenize(self.document)):\n",
    "            if a == self.explainer.detector.get_pad_token():\n",
    "                assert b in top_words, \"Masking strategy faulty\"\n",
    "        ###\n",
    "       \n",
    "        ids_tokens_to_remove = []\n",
    "        # don't remove anything if there are no best/worst features (e.g. only positive or only negative fi scores)\n",
    "        if len(id_fi_tuples_list):\n",
    "            ids_tokens_to_remove, _ = zip(*id_fi_tuples_list) \n",
    "        # replace with pad token (all detectors support partial input)\n",
    "        if mask:\n",
    "            for t in ids_tokens_to_remove:\n",
    "                tokenized_modified_document[t] = self.explainer.detector.get_pad_token()\n",
    "        else:\n",
    "            tokenized_modified_document = [t for i, t in enumerate(tokenized_modified_document) if i not in ids_tokens_to_remove]\n",
    "        return self.explainer.untokenize(tokenized_modified_document)"
   ]
  },
  {
   "cell_type": "code",
   "execution_count": 5,
   "metadata": {},
   "outputs": [],
   "source": [
    "class Experiment_Delete_n_Highest(Experiment):\n",
    "    def __init__(self, explainer, document, gt, include_zero_scores=False, n=10, mask=True):\n",
    "        super().__init__(explainer, document, gt)\n",
    "        self.n = n\n",
    "        self.include_zero_scores = include_zero_scores\n",
    "        self.mask = mask\n",
    "    @property\n",
    "    def modified_document(self):\n",
    "        if self.n == 0:\n",
    "            return self.document\n",
    "        highest_fi_scores_target = sorted(self.get_fi_scores_target(), key=lambda x: x[1], reverse=True)[0:self.n]\n",
    "        # remove 0 scores if !include_zero_scores\n",
    "        highest_fi_scores_target = [(idx, fi) for idx,fi in highest_fi_scores_target if self.include_zero_scores or (fi != 0)]\n",
    "        if len(highest_fi_scores_target) == 0:\n",
    "            return None\n",
    "        return self.remove_features(highest_fi_scores_target, mask=self.mask)\n"
   ]
  },
  {
   "cell_type": "code",
   "execution_count": 6,
   "metadata": {},
   "outputs": [],
   "source": [
    "class Experiment_Delete_n_Lowest(Experiment):\n",
    "    def __init__(self, explainer, document, gt, include_zero_scores=False, n=10, mask=True):\n",
    "        super().__init__(explainer, document, gt)\n",
    "        self.n = n\n",
    "        self.include_zero_scores = include_zero_scores\n",
    "        self.mask = mask\n",
    "    @property\n",
    "    def modified_document(self):\n",
    "        lowest_fi_scores_target = sorted(self.get_fi_scores_target(), key=lambda x: x[1], reverse=False)[0:self.n]\n",
    "        # remove 0 scores if !include_zero_scores\n",
    "        lowest_fi_scores_target = [(idx, fi) for idx,fi in lowest_fi_scores_target if self.include_zero_scores or (fi != 0)]\n",
    "        if len(lowest_fi_scores_target) < self.n and (not self.include_zero_scores):\n",
    "            return None\n",
    "        return self.remove_features(lowest_fi_scores_target, mask=self.mask)\n"
   ]
  },
  {
   "cell_type": "code",
   "execution_count": 7,
   "metadata": {},
   "outputs": [],
   "source": [
    "class Experiment_Delete_all_except_n_Highest(Experiment):\n",
    "    def __init__(self, explainer, document, gt, include_zero_scores=False, n=10, mask=True):\n",
    "        super().__init__(explainer, document, gt)\n",
    "        self.n = n\n",
    "        self.include_zero_scores = include_zero_scores\n",
    "        self.mask = mask\n",
    "    @property\n",
    "    def modified_document(self):\n",
    "        all_but_highest_fi_scores_target = sorted(self.get_fi_scores_target(), key=lambda x: x[1], reverse=True)[self.n:]\n",
    "        all_but_highest_fi_scores_target = [(idx, fi) for idx,fi in all_but_highest_fi_scores_target if self.include_zero_scores or (fi != 0)]\n",
    "        return self.remove_features(all_but_highest_fi_scores_target, mask=self.mask)"
   ]
  },
  {
   "cell_type": "code",
   "execution_count": 8,
   "metadata": {},
   "outputs": [],
   "source": [
    "class Experiment_Delete_all_except_n_Lowest(Experiment):\n",
    "    def __init__(self, explainer, document, gt, include_zero_scores=False, n=10, mask=True):\n",
    "        super().__init__(explainer, document, gt)\n",
    "        self.n = n\n",
    "        self.include_zero_scores = include_zero_scores\n",
    "        self.mask = mask\n",
    "    @property\n",
    "    def modified_document(self):\n",
    "\n",
    "        all_but_lowest_fi_scores_target = sorted(self.get_fi_scores_target(), key=lambda x: x[1], reverse=False)[self.n:]\n",
    "        all_but_lowest_fi_scores_target = [(idx, fi) for idx,fi in all_but_lowest_fi_scores_target if self.include_zero_scores or (fi != 0)]\n",
    "        return self.remove_features(all_but_lowest_fi_scores_target, mask=self.mask)"
   ]
  },
  {
   "cell_type": "code",
   "execution_count": 9,
   "metadata": {},
   "outputs": [],
   "source": [
    "prediction_cache = {}\n",
    "def prediction_cached(detector, document):\n",
    "    id = (detector.__class__.__name__,document)\n",
    "    if id not in prediction_cache:\n",
    "        prediction_cache[id] = detector.predict_proba([document])[0]\n",
    "    return prediction_cache[id]\n"
   ]
  },
  {
   "cell_type": "code",
   "execution_count": 10,
   "metadata": {},
   "outputs": [],
   "source": [
    "def get_results_row(document, gt,  explainer, experiment_class, detector, n, mask):\n",
    "    \n",
    "    experiment = experiment_class(explainer, document, gt, n=n, mask=mask)\n",
    "    if experiment.modified_document is None: # modified_document is None when len(fi_scores) < n. skip to speed up calculation\n",
    "        return [    explainer.__class__.__name__, \n",
    "                    explainer.detector.__class__.__name__, \n",
    "                    n,\n",
    "                    None,\n",
    "                    None,\n",
    "                    None,\n",
    "                    None,\n",
    "                    None,\n",
    "                    None,\n",
    "                    None]\n",
    "    p_machine_original, p_human_original  = prediction_cached(detector, experiment.document)\n",
    "    y_original = p_human_original >= p_machine_original\n",
    "\n",
    "    p_machine_modified = None\n",
    "    p_human_modified = None\n",
    "\n",
    "    p_machine_modified, p_human_modified = prediction_cached(detector, experiment.modified_document)\n",
    "    y_modified = p_human_modified >= p_machine_modified\n",
    "    return [\n",
    "                    explainer.__class__.__name__, \n",
    "                    explainer.detector.__class__.__name__, \n",
    "                    n,\n",
    "                    p_machine_original,\n",
    "                    p_human_original,\n",
    "                    y_original,\n",
    "                    p_machine_modified,\n",
    "                    p_human_modified,\n",
    "                    y_modified,\n",
    "                    gt]"
   ]
  },
  {
   "cell_type": "code",
   "execution_count": 11,
   "metadata": {},
   "outputs": [],
   "source": [
    "def run_experiment(experiment_class, detector, n=10, mask=True):\n",
    "    results = []\n",
    "    columns=[\"Explainer\", \"Detector\", \"n\", \"p_machine_original\", \"p_human_original\", \"y_original\", \"p_machine_modified\", \"p_human_modified\", \"y_modified\", \"gt\"]\n",
    "    \n",
    "    for explainer_class in explainer_classes:\n",
    "        explainer = explainer_class(detector)\n",
    "        if isinstance(explainer, LIME_Explainer) and n > explainer.num_features:\n",
    "            print(\"skip lime\",n, explainer.num_features)\n",
    "            continue\n",
    "        if isinstance(explainer, Anchor_Explainer) and isinstance(detector, DetectorDetectGPT):\n",
    "            print(\"skip anchor detectgpt\",n, explainer.num_features)\n",
    "            continue\n",
    "        for document, gt in zip(documents, gold_labels):\n",
    "            results.append(get_results_row(document, gt, explainer, experiment_class, detector, n, mask))\n",
    "\n",
    "    # random baseline (with new seeds at each run)\n",
    "    for i in range(0,10):\n",
    "        random_explainer = Random_Explainer(detector, seed=42-i)\n",
    "        for document, gt in zip(documents, gold_labels):\n",
    "            results_row = get_results_row(document, gt, random_explainer, experiment_class, detector, n, mask)\n",
    "            results_row[0] = \"Random Run \"+str(i)\n",
    "            results.append(results_row)\n",
    "\n",
    "    df = pd.DataFrame(results, columns=columns)\n",
    "\n",
    "    df[\"p_target_original\"] = df.apply(lambda x: x[\"p_human_original\"] if x[\"gt\"] else x[\"p_machine_original\"], axis=1)\n",
    "    df[\"p_target_modified\"] = df.apply(lambda x: x[\"p_human_modified\"] if x[\"gt\"] else x[\"p_machine_modified\"], axis=1)    \n",
    "    df[\"drop_target\"] = df[\"p_target_original\"] - df[\"p_target_modified\"] \n",
    "\n",
    "    \n",
    "\n",
    "    return df"
   ]
  },
  {
   "cell_type": "code",
   "execution_count": 12,
   "metadata": {},
   "outputs": [],
   "source": [
    "import matplotlib.pyplot as plt"
   ]
  },
  {
   "cell_type": "markdown",
   "metadata": {},
   "source": [
    "## Plot like in Arras et al."
   ]
  },
  {
   "cell_type": "code",
   "execution_count": 13,
   "metadata": {},
   "outputs": [],
   "source": [
    "from sklearn.metrics import accuracy_score"
   ]
  },
  {
   "cell_type": "code",
   "execution_count": 14,
   "metadata": {},
   "outputs": [],
   "source": [
    "def get_acc_by_initial_prediction_right_wrong(df, n, mask):\n",
    "    accs = []\n",
    "    for explainer_name, group in df.groupby(\"Explainer\"):\n",
    "        group_initial_right = group[group[\"y_original\"] == group[\"gt\"]]\n",
    "        group_initial_wrong = group[group[\"y_original\"] != group[\"gt\"]]\n",
    "\n",
    "        acc_initial_right = accuracy_score(group_initial_right[\"gt\"].astype(int), group_initial_right[\"y_modified\"].astype(int)) if len(group_initial_right) > 0 else None\n",
    "        acc_inital_wrong = accuracy_score(group_initial_wrong[\"gt\"].astype(int), group_initial_wrong[\"y_modified\"].astype(int)) if len(group_initial_wrong) > 0 else None \n",
    "        accs.append((explainer_name,acc_initial_right, acc_inital_wrong,n, mask))\n",
    "    return pd.DataFrame(accs, columns=[\"Explainer\", \"acc_initial_right\", \"acc_initial_wrong\", \"n\", \"mask\"])"
   ]
  },
  {
   "cell_type": "code",
   "execution_count": 15,
   "metadata": {},
   "outputs": [],
   "source": [
    "import seaborn as sns\n",
    "import os"
   ]
  },
  {
   "cell_type": "code",
   "execution_count": 16,
   "metadata": {},
   "outputs": [],
   "source": [
    "results_path = \"./token_removal_experiments_results\""
   ]
  },
  {
   "cell_type": "code",
   "execution_count": 17,
   "metadata": {},
   "outputs": [
    {
     "name": "stderr",
     "output_type": "stream",
     "text": [
      "Running mask experiment for DetectorRadford:   0%|          | 0/15 [00:00<?, ?it/s]"
     ]
    }
   ],
   "source": [
    "n_deleted_words = list(range(0,10+1)) + [20,30,40,50]\n",
    "\n",
    "\n",
    "for detector_class in detector_classes:\n",
    "    \n",
    "    detector = detector_class()\n",
    "    path = os.path.join(results_path, detector.__class__.__name__+\".csv\")\n",
    "    if USE_CACHE and os.path.isfile(path):\n",
    "        continue\n",
    "\n",
    "    dfs_at_n_mask = [(run_experiment(Experiment_Delete_n_Highest,detector, n=n, mask=True), n, True) for n in tqdm(n_deleted_words, desc=\"Running mask experiment for \"+detector.__class__.__name__)]\n",
    "    dfs_at_n_delete = [(run_experiment(Experiment_Delete_n_Highest,detector, mask=False, n=n), n, False) for n in tqdm(n_deleted_words, desc=\"Running delete experiment for \"+detector.__class__.__name__)]\n",
    "    dfs_at_n = dfs_at_n_mask + dfs_at_n_delete\n",
    "    dfs_at_n = [(df.dropna(),n,mask) for df,n, mask in dfs_at_n]\n",
    "    df_accuracy_scores = pd.concat([get_acc_by_initial_prediction_right_wrong(df,n, mask) for df, n, mask in dfs_at_n])\n",
    "    \n",
    "    df_accuracy_scores.loc[df_accuracy_scores[\"Explainer\"].str.startswith(\"Random\"), \"Explainer\"] = \"Random\"\n",
    "    # df_accuracy_scores.groupby([\"Explainer\", \"n\"]).mean().reset_index()\n",
    "\n",
    "    df_accuracy_scores[\"Explainer\"] = df_accuracy_scores[\"Explainer\"].str.replace(\"_Explainer\",\"\")\n",
    "    df_accuracy_scores[\"Detector\"] = detector.__class__.__name__\n",
    "    \n",
    "    df_accuracy_scores.to_csv(path, encoding=\"UTF-8\", index=False)\n"
   ]
  },
  {
   "cell_type": "code",
   "execution_count": null,
   "metadata": {},
   "outputs": [],
   "source": [
    "def plot_acc(detector_name, df_accuracy_scores, mask):\n",
    "    f, (ax_right, ax_wrong) = plt.subplots(1,2, sharey=True, figsize=(18,4))\n",
    "    ax_right.axhline(y=0.5,linestyle='--', lw=0.5, color=\"red\")\n",
    "    ax_wrong.axhline(y=0.5,linestyle='--', lw=0.5, color=\"red\")\n",
    "\n",
    "    sns.lineplot(data=df_accuracy_scores[df_accuracy_scores[\"mask\"]== mask], x=\"n\", y=\"acc_initial_right\", hue=\"Explainer\", ax=ax_right)\n",
    "    sns.lineplot(data=df_accuracy_scores[df_accuracy_scores[\"mask\"]== mask], x=\"n\", y=\"acc_initial_wrong\", hue=\"Explainer\", ax=ax_wrong)\n",
    "    ax_wrong.set_xlim(0,30)\n",
    "    ax_right.set_xlim(0,30)\n",
    "    plt.suptitle((\"Mask\" if mask else \"Delete\") + \" \" + detector_name)\n",
    "    f.tight_layout()   "
   ]
  },
  {
   "cell_type": "code",
   "execution_count": null,
   "metadata": {},
   "outputs": [],
   "source": [
    "for f in os.listdir(results_path):\n",
    "    detector_name = f.split(\".\")[0]\n",
    "    df_accuracy_scores = pd.read_csv(os.path.join(results_path, f))\n",
    "    plot_acc(detector_name, df_accuracy_scores, mask=True)"
   ]
  },
  {
   "cell_type": "code",
   "execution_count": null,
   "metadata": {},
   "outputs": [],
   "source": [
    "for f in os.listdir(results_path):\n",
    "    detector_name = f.split(\".\")[0]\n",
    "    df_accuracy_scores = pd.read_csv(os.path.join(results_path, f))\n",
    "    plot_acc(detector_name, df_accuracy_scores, mask=False)"
   ]
  },
  {
   "cell_type": "code",
   "execution_count": null,
   "metadata": {},
   "outputs": [],
   "source": [
    "df_accuracy_scores#[df_accuracy_scores[\"Explainer\"] == \"Random\"]"
   ]
  },
  {
   "cell_type": "code",
   "execution_count": null,
   "metadata": {},
   "outputs": [],
   "source": [
    "df_accuracy_scores = pd.concat([pd.read_csv(os.path.join(results_path, f)) for f in os.listdir(results_path)]).reset_index(drop=True)\n",
    "\n"
   ]
  },
  {
   "cell_type": "code",
   "execution_count": null,
   "metadata": {},
   "outputs": [],
   "source": [
    "import matplotlib.pyplot as plt\n",
    "import matplotlib\n",
    "from matplotlib.backends.backend_pgf import FigureCanvasPgf\n",
    "matplotlib.backend_bases.register_backend('pdf', FigureCanvasPgf)\n",
    "matplotlib.rcParams.update({\n",
    "    \"pgf.texsystem\": \"pdflatex\",\n",
    "    'font.family': 'sans-serif',\n",
    "    \"font.sans-serif\": \"Helvetica\",\n",
    "    'text.usetex': True,\n",
    "    'pgf.rcfonts': False,\n",
    "})"
   ]
  },
  {
   "cell_type": "code",
   "execution_count": null,
   "metadata": {},
   "outputs": [],
   "source": [
    "for mask in [False, True]:\n",
    "    f, (ax_right, ax_wrong) = plt.subplots(1,2, sharey=True, figsize=(10,5))\n",
    "    sns.lineplot(data=df_accuracy_scores[df_accuracy_scores[\"mask\"]== mask], x=\"n\", y=\"acc_initial_right\", hue=\"Explainer\", ax=ax_right, markers=True, marker='o', errorbar=\"sd\")\n",
    "    sns.lineplot(data=df_accuracy_scores[df_accuracy_scores[\"mask\"]== mask], x=\"n\", y=\"acc_initial_wrong\", hue=\"Explainer\", ax=ax_wrong, markers=True, marker='o',errorbar=\"sd\")\n",
    "    ax_right.axhline(y=0.5,linestyle='--', lw=0.5, color=\"black\")\n",
    "    ax_wrong.axhline(y=0.5,linestyle='--', lw=0.5, color=\"black\")\n",
    "    ax_right.set_ylabel(\"Accuracy\")\n",
    "    plt.tight_layout()\n",
    "    plt.savefig('./figures/token_removal_mask.pgf' if mask else './figures/token_removal_delete.pgf')\n",
    "    plt.show()  "
   ]
  },
  {
   "cell_type": "code",
   "execution_count": null,
   "metadata": {},
   "outputs": [],
   "source": [
    "df_accuracy_scores[(df_accuracy_scores[\"Explainer\"] == \"Anchor\")]"
   ]
  },
  {
   "cell_type": "code",
   "execution_count": null,
   "metadata": {},
   "outputs": [],
   "source": []
  },
  {
   "cell_type": "code",
   "execution_count": null,
   "metadata": {},
   "outputs": [],
   "source": []
  },
  {
   "cell_type": "code",
   "execution_count": null,
   "metadata": {},
   "outputs": [],
   "source": []
  },
  {
   "cell_type": "code",
   "execution_count": null,
   "metadata": {},
   "outputs": [],
   "source": []
  }
 ],
 "metadata": {
  "kernelspec": {
   "display_name": ".venv",
   "language": "python",
   "name": "python3"
  },
  "language_info": {
   "codemirror_mode": {
    "name": "ipython",
    "version": 3
   },
   "file_extension": ".py",
   "mimetype": "text/x-python",
   "name": "python",
   "nbconvert_exporter": "python",
   "pygments_lexer": "ipython3",
   "version": "3.11.1"
  }
 },
 "nbformat": 4,
 "nbformat_minor": 2
}
