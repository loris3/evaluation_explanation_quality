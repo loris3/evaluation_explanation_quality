{
 "cells": [
  {
   "cell_type": "code",
   "execution_count": 1,
   "metadata": {},
   "outputs": [],
   "source": [
    "DEBUG = True\n",
    "N_DEBUG = 20"
   ]
  },
  {
   "cell_type": "code",
   "execution_count": 2,
   "metadata": {},
   "outputs": [],
   "source": [
    "import pandas as pd\n",
    "import numpy as np\n",
    "import transformers\n",
    "import torch\n",
    "import re\n",
    "from tqdm import tqdm\n",
    "import sklearn\n",
    "import spacy\n",
    "nlp = spacy.load(\"en_core_web_sm\")"
   ]
  },
  {
   "cell_type": "code",
   "execution_count": 3,
   "metadata": {},
   "outputs": [],
   "source": [
    "test = pd.read_pickle(\"./dataset_test.pkl\")\n",
    "\n",
    "\n",
    "documents = test[\"answer\"]\n",
    "gold_labels = test[\"author\"] == \"human_answers\" # convention: 0: machine, 1: human, see detector.py\n",
    "\n",
    "if DEBUG and N_DEBUG > 0:\n",
    "    documents = documents[0:N_DEBUG]\n",
    "    gold_labels = gold_labels[0:N_DEBUG]\n",
    "\n",
    "\n",
    "\n",
    "#from gpt2outputdataset.detector_radford import DetectorRadford\n",
    "#from detectgpt.detector_detectgpt import DetectorDetectGPT\n",
    "from detector_guo import DetectorGuo\n",
    "detector_classes = [DetectorGuo]#,DetectorRadford,DetectorDetectGPT]\n",
    "\n",
    "from explainer_wrappers import LIME_Explainer, SHAP_Explainer\n",
    "explainer_classes = [LIME_Explainer,SHAP_Explainer]"
   ]
  },
  {
   "cell_type": "code",
   "execution_count": 4,
   "metadata": {},
   "outputs": [
    {
     "name": "stderr",
     "output_type": "stream",
     "text": [
      "Special tokens have been added in the vocabulary, make sure the associated word embeddings are fine-tuned or trained.\n"
     ]
    }
   ],
   "source": [
    "detector = DetectorGuo()"
   ]
  },
  {
   "cell_type": "code",
   "execution_count": 5,
   "metadata": {},
   "outputs": [],
   "source": [
    "explainer = SHAP_Explainer(detector)"
   ]
  },
  {
   "cell_type": "code",
   "execution_count": 6,
   "metadata": {},
   "outputs": [
    {
     "data": {
      "text/plain": [
       "False"
      ]
     },
     "execution_count": 6,
     "metadata": {},
     "output_type": "execute_result"
    }
   ],
   "source": [
    "gold_labels.iloc[2]"
   ]
  },
  {
   "cell_type": "code",
   "execution_count": 7,
   "metadata": {},
   "outputs": [],
   "source": [
    "document = documents.iloc[2]"
   ]
  },
  {
   "cell_type": "code",
   "execution_count": 8,
   "metadata": {},
   "outputs": [],
   "source": [
    "    # n_to_remove = 5\n",
    "    # include_zero_scores = False"
   ]
  },
  {
   "cell_type": "code",
   "execution_count": 9,
   "metadata": {},
   "outputs": [],
   "source": [
    "\n",
    "# highest_fi_scores_machine = sorted(fi_scores_machine, key=lambda x: x[1], reverse=True)[0:n_to_remove]\n",
    "# if not include_zero_scores:\n",
    "#     highest_fi_scores_machine = [(idx, fi) for idx,fi in highest_fi_scores_machine if fi != 0]\n",
    "# highest_fi_scores_machine"
   ]
  },
  {
   "cell_type": "code",
   "execution_count": 10,
   "metadata": {},
   "outputs": [],
   "source": [
    "# lowest_fi_scores_machine = sorted(fi_scores_machine, key=lambda x: x[1], reverse=False)[0:n_to_remove]\n",
    "# if not include_zero_scores:\n",
    "#     lowest_fi_scores_machine = [(idx, fi) for idx, fi in lowest_fi_scores_machine if fi != 0]\n",
    "# lowest_fi_scores_machine"
   ]
  },
  {
   "cell_type": "code",
   "execution_count": 11,
   "metadata": {},
   "outputs": [],
   "source": [
    "from abc import ABC, abstractmethod\n",
    "class Experiment(ABC):\n",
    "    @abstractmethod \n",
    "    def __init__(self, explainer, document, gt):\n",
    "        self.document = document\n",
    "        self.gt = gt\n",
    "        self.explainer = explainer\n",
    "        self.fi_scores_machine  = self.explainer.get_fi_scores(document, fill=True)[0]\n",
    "        self.fi_scores_human = self.explainer.get_fi_scores(document, fill=True)[1]\n",
    "    @property\n",
    "    @abstractmethod\n",
    "    def modified_document(self):\n",
    "        pass\n",
    "    def get_fi_scores_target(self):\n",
    "        if self.gt:\n",
    "            return self.fi_scores_human\n",
    "        else:\n",
    "            return self.fi_scores_machine\n",
    "    def remove_features(self, id_fi_tuples_list, mask=True):\n",
    "        tokenized_modified_document = self.explainer.tokenize(self.document)\n",
    "\n",
    "        # two asserts to verify that approach is valid\n",
    "       # print(\"r\",expself.explainerlainer.untokenize(self.explainer.tokenize(self.document, collapse_whitespace=False)))\n",
    "       # print(\"o\", self.document)\n",
    "        # this fails: \n",
    "        # assert self.explainer.untokenize(self.explainer.tokenize(self.document, collapse_whitespace=False)) == self.document, \"Merging strategy faulty\"\n",
    "        # see self.explainer.LIME_Explainer.untokenize\n",
    "       \n",
    "        ### assert right words are removed\n",
    "        top_words = [word for word, fi in self.explainer.as_list(self.explainer.get_explanation_cached(self.document), label=self.gt) if fi > 0]\n",
    "        for a, b in zip(tokenized_modified_document, self.explainer.tokenize(self.document)):\n",
    "            if a == self.explainer.detector.get_pad_token():\n",
    "                assert b in top_words, \"Masking strategy faulty\"\n",
    "        ###\n",
    "       \n",
    "        ids_tokens_to_remove = []\n",
    "        # don't remove anything if there are no best/worst features (e.g. only positive or only negative fi scores)\n",
    "        if len(id_fi_tuples_list):\n",
    "            ids_tokens_to_remove, _ = zip(*id_fi_tuples_list) \n",
    "        # replace with pad token (all detectors support partial input)\n",
    "        if mask:\n",
    "            for t in ids_tokens_to_remove:\n",
    "                tokenized_modified_document[t] = self.explainer.detector.get_pad_token()\n",
    "        else:\n",
    "            tokenized_modified_document = [t for i, t in enumerate(tokenized_modified_document) if i not in ids_tokens_to_remove]\n",
    "        return self.explainer.untokenize(tokenized_modified_document)"
   ]
  },
  {
   "cell_type": "code",
   "execution_count": 12,
   "metadata": {},
   "outputs": [],
   "source": [
    "class Experiment_Delete_n_Highest(Experiment):\n",
    "    def __init__(self, explainer, document, gt, include_zero_scores=False, n=10, mask=True):\n",
    "        super().__init__(explainer, document, gt)\n",
    "        self.n = n\n",
    "        self.include_zero_scores = include_zero_scores\n",
    "        self.mask = mask\n",
    "    @property\n",
    "    def modified_document(self):\n",
    "        highest_fi_scores_target = sorted(self.get_fi_scores_target(), key=lambda x: x[1], reverse=True)[0:self.n]\n",
    "        # remove 0 scores if !include_zero_scores\n",
    "        highest_fi_scores_target = [(idx, fi) for idx,fi in highest_fi_scores_target if self.include_zero_scores or (fi != 0)]\n",
    "        return self.remove_features(highest_fi_scores_target, mask=self.mask)\n"
   ]
  },
  {
   "cell_type": "code",
   "execution_count": 13,
   "metadata": {},
   "outputs": [],
   "source": [
    "class Experiment_Delete_n_Lowest(Experiment):\n",
    "    def __init__(self, explainer, document, gt, include_zero_scores=False, n=10, mask=True):\n",
    "        super().__init__(explainer, document, gt)\n",
    "        self.n = n\n",
    "        self.include_zero_scores = include_zero_scores\n",
    "        self.mask = mask\n",
    "    @property\n",
    "    def modified_document(self):\n",
    "        lowest_fi_scores_target = sorted(self.get_fi_scores_target(), key=lambda x: x[1], reverse=False)[0:self.n]\n",
    "        # remove 0 scores if !include_zero_scores\n",
    "        lowest_fi_scores_target = [(idx, fi) for idx,fi in lowest_fi_scores_target if self.include_zero_scores or (fi != 0)]\n",
    "        return self.remove_features(lowest_fi_scores_target, mask=self.mask)\n"
   ]
  },
  {
   "cell_type": "code",
   "execution_count": 14,
   "metadata": {},
   "outputs": [],
   "source": [
    "class Experiment_Delete_all_except_n_Highest(Experiment):\n",
    "    def __init__(self, explainer, document, gt, include_zero_scores=False, n=10, mask=True):\n",
    "        super().__init__(explainer, document, gt)\n",
    "        self.n = n\n",
    "        self.include_zero_scores = include_zero_scores\n",
    "        self.mask = mask\n",
    "    @property\n",
    "    def modified_document(self):\n",
    "        all_but_highest_fi_scores_target = sorted(self.get_fi_scores_target(), key=lambda x: x[1], reverse=True)[self.n:]\n",
    "        all_but_highest_fi_scores_target = [(idx, fi) for idx,fi in all_but_highest_fi_scores_target if self.include_zero_scores or (fi != 0)]\n",
    "        return self.remove_features(all_but_highest_fi_scores_target, mask=self.mask)"
   ]
  },
  {
   "cell_type": "code",
   "execution_count": 15,
   "metadata": {},
   "outputs": [],
   "source": [
    "class Experiment_Delete_all_except_n_Lowest(Experiment):\n",
    "    def __init__(self, explainer, document, gt, include_zero_scores=False, n=10, mask=True):\n",
    "        super().__init__(explainer, document, gt)\n",
    "        self.n = n\n",
    "        self.include_zero_scores = include_zero_scores\n",
    "        self.mask = mask\n",
    "    @property\n",
    "    def modified_document(self):\n",
    "\n",
    "        all_but_lowest_fi_scores_target = sorted(self.get_fi_scores_target(), key=lambda x: x[1], reverse=False)[self.n:]\n",
    "        all_but_lowest_fi_scores_target = [(idx, fi) for idx,fi in all_but_lowest_fi_scores_target if self.include_zero_scores or (fi != 0)]\n",
    "        return self.remove_features(all_but_lowest_fi_scores_target, mask=self.mask)"
   ]
  },
  {
   "cell_type": "code",
   "execution_count": 16,
   "metadata": {},
   "outputs": [],
   "source": [
    "def run_experiment(experiment_class, n=10):\n",
    "    predictions = []\n",
    "    for explainer_class in explainer_classes:\n",
    "        explainer = explainer_class(detector)\n",
    "        for document, gt in zip(documents, gold_labels):\n",
    "            experiment = experiment_class(explainer, document, gt, n=n)\n",
    "        #    print(experiment.document)\n",
    "         #   print(experiment.modified_document)\n",
    "          #  print(\"-----------\")\n",
    "            p = detector.predict_proba([experiment.document, experiment.modified_document])\n",
    "\n",
    "            p_machine_original = p[0,0]\n",
    "            p_human_original = p[0,1]\n",
    "\n",
    "            p_machine_modified = p[1,0]\n",
    "            p_human_modified = p[1,1]\n",
    "            predictions.append((\n",
    "                            explainer.__class__.__name__, \n",
    "                            explainer.detector.__class__.__name__, \n",
    "                            n,\n",
    "                            p_machine_original,\n",
    "                            p_human_original,\n",
    "                            p_machine_modified,\n",
    "                            p_human_modified,\n",
    "                            gt))\n",
    "    df = pd.DataFrame(predictions, columns=[\"Explainer\", \"Detector\", \"n\", \"p_machine_original\", \"p_human_original\", \"p_machine_modified\", \"p_human_modified\", \"gt\"])\n",
    "\n",
    "    df[\"p_target_original\"] = df.apply(lambda x: x[\"p_human_original\"] if x[\"gt\"] else x[\"p_machine_original\"], axis=1)\n",
    "    df[\"p_target_modified\"] = df.apply(lambda x: x[\"p_human_modified\"] if x[\"gt\"] else x[\"p_machine_modified\"], axis=1)     \n",
    "    return df"
   ]
  },
  {
   "cell_type": "code",
   "execution_count": 17,
   "metadata": {},
   "outputs": [],
   "source": [
    "import matplotlib.pyplot as plt"
   ]
  },
  {
   "cell_type": "code",
   "execution_count": 18,
   "metadata": {},
   "outputs": [],
   "source": [
    "def run_experiment_incremental(experiment_class, start = 0, stop = 5):\n",
    "    dfs = [run_experiment(experiment_class, n=n) for n in tqdm(range(start,stop+1))]\n",
    "    df = pd.concat(dfs)\n",
    "    df[\"drop_target\"] = df[\"p_target_original\"] - df[\"p_target_modified\"]\n",
    "\n",
    "    for name, group in df.groupby([\"Explainer\", \"Detector\", ]):\n",
    "        print(name)\n",
    "        group.reset_index()[[\"n\", \"drop_target\"]].groupby(\"n\").mean().plot()\n",
    "        plt.show()\n",
    "\n",
    "    "
   ]
  },
  {
   "cell_type": "code",
   "execution_count": 19,
   "metadata": {},
   "outputs": [],
   "source": [
    "# # Experiment_Delete_n_Highest: higher drop_target is better\n",
    "# df = run_experiment(Experiment_Delete_n_Highest)\n",
    "# df[\"drop_target\"] = df[\"p_target_original\"] - df[\"p_target_modified\"]\n",
    "# df.groupby([\"Explainer\", \"Detector\"]).mean()"
   ]
  },
  {
   "cell_type": "code",
   "execution_count": 20,
   "metadata": {},
   "outputs": [
    {
     "name": "stderr",
     "output_type": "stream",
     "text": [
      "100%|██████████| 6/6 [00:14<00:00,  2.39s/it]"
     ]
    },
    {
     "name": "stdout",
     "output_type": "stream",
     "text": [
      "('LIME_Explainer', 'DetectorGuo')\n"
     ]
    },
    {
     "name": "stderr",
     "output_type": "stream",
     "text": [
      "\n"
     ]
    },
    {
     "data": {
      "image/png": "[encoded data removed]",
      "text/plain": [
       "<Figure size 640x480 with 1 Axes>"
      ]
     },
     "metadata": {},
     "output_type": "display_data"
    },
    {
     "name": "stdout",
     "output_type": "stream",
     "text": [
      "('SHAP_Explainer', 'DetectorGuo')\n"
     ]
    },
    {
     "data": {
      "image/png": "[encoded data removed]",
      "text/plain": [
       "<Figure size 640x480 with 1 Axes>"
      ]
     },
     "metadata": {},
     "output_type": "display_data"
    }
   ],
   "source": [
    "# Experiment_Delete_n_Highest: higher drop_target is better\n",
    "\n",
    "run_experiment_incremental(Experiment_Delete_n_Highest)\n"
   ]
  },
  {
   "cell_type": "code",
   "execution_count": null,
   "metadata": {},
   "outputs": [],
   "source": [
    "# Experiment_Delete_n_Lowest: smaller drop_target is better\n",
    "run_experiment_incremental(Experiment_Delete_n_Lowest)\n"
   ]
  },
  {
   "cell_type": "code",
   "execution_count": null,
   "metadata": {},
   "outputs": [],
   "source": [
    "# Experiment_Delete_all_except_n_Highest: smaller drop_target is better\n",
    "run_experiment_incremental(Experiment_Delete_all_except_n_Highest)\n"
   ]
  },
  {
   "cell_type": "code",
   "execution_count": null,
   "metadata": {},
   "outputs": [],
   "source": [
    "# Experiment_Delete_all_except_n_Lowest: higher drop_target is better\n",
    "run_experiment_incremental(Experiment_Delete_all_except_n_Lowest)"
   ]
  },
  {
   "cell_type": "code",
   "execution_count": null,
   "metadata": {},
   "outputs": [],
   "source": [
    "df"
   ]
  },
  {
   "cell_type": "code",
   "execution_count": null,
   "metadata": {},
   "outputs": [],
   "source": []
  },
  {
   "cell_type": "code",
   "execution_count": null,
   "metadata": {},
   "outputs": [],
   "source": []
  }
 ],
 "metadata": {
  "kernelspec": {
   "display_name": ".venv",
   "language": "python",
   "name": "python3"
  },
  "language_info": {
   "codemirror_mode": {
    "name": "ipython",
    "version": 3
   },
   "file_extension": ".py",
   "mimetype": "text/x-python",
   "name": "python",
   "nbconvert_exporter": "python",
   "pygments_lexer": "ipython3",
   "version": "3.11.1"
  }
 },
 "nbformat": 4,
 "nbformat_minor": 2
}
