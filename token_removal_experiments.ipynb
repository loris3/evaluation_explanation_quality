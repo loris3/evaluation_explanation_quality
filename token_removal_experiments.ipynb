{
 "cells": [
  {
   "cell_type": "code",
   "execution_count": 1,
   "metadata": {},
   "outputs": [],
   "source": [
    "DEBUG = False\n",
    "N_DEBUG = 20"
   ]
  },
  {
   "cell_type": "code",
   "execution_count": 2,
   "metadata": {},
   "outputs": [],
   "source": [
    "import pandas as pd\n",
    "import numpy as np\n",
    "import transformers\n",
    "import torch\n",
    "import re\n",
    "from tqdm import tqdm\n",
    "import sklearn\n",
    "import spacy\n",
    "nlp = spacy.load(\"en_core_web_sm\")"
   ]
  },
  {
   "cell_type": "code",
   "execution_count": 3,
   "metadata": {},
   "outputs": [],
   "source": [
    "test = pd.read_pickle(\"./dataset_test.pkl\")\n",
    "\n",
    "\n",
    "documents = test[\"answer\"]\n",
    "gold_labels = test[\"author\"] == \"human_answers\" # convention: 0: machine, 1: human, see detector.py\n",
    "\n",
    "if DEBUG and N_DEBUG > 0:\n",
    "    documents = documents[0:N_DEBUG]\n",
    "    gold_labels = gold_labels[0:N_DEBUG]\n",
    "\n",
    "\n",
    "\n",
    "from gpt2outputdataset.detector_radford import DetectorRadford\n",
    "from detectgpt.detector_detectgpt import DetectorDetectGPT\n",
    "from detector_guo import DetectorGuo\n",
    "detector_classes = [DetectorGuo]#,DetectorDetectGPT,DetectorDetectGPT]\n",
    "\n",
    "from explainer_wrappers import LIME_Explainer, SHAP_Explainer, Random_Explainer\n",
    "explainer_classes = [SHAP_Explainer, LIME_Explainer]"
   ]
  },
  {
   "cell_type": "code",
   "execution_count": 4,
   "metadata": {},
   "outputs": [],
   "source": [
    "from abc import ABC, abstractmethod\n",
    "class Experiment(ABC):\n",
    "    @abstractmethod \n",
    "    def __init__(self, explainer, document, gt):\n",
    "        self.document = document\n",
    "        self.gt = gt\n",
    "        self.explainer = explainer\n",
    "        self.fi_scores_machine  = self.explainer.get_fi_scores(document, fill=True)[0]\n",
    "        self.fi_scores_human = self.explainer.get_fi_scores(document, fill=True)[1]\n",
    "    @property\n",
    "    @abstractmethod\n",
    "    def modified_document(self):\n",
    "        pass\n",
    "    # as in Arras et al. 2016: \"The target class is the true document class,[...]\"\n",
    "    def get_fi_scores_target(self):\n",
    "        if self.gt:\n",
    "            return self.fi_scores_human\n",
    "        else:\n",
    "            return self.fi_scores_machine\n",
    "    def remove_features(self, id_fi_tuples_list, mask=True):\n",
    "        tokenized_modified_document = self.explainer.tokenize(self.document)\n",
    "\n",
    "        # two asserts to verify that approach is valid\n",
    "       # print(\"r\",expself.explainerlainer.untokenize(self.explainer.tokenize(self.document, collapse_whitespace=False)))\n",
    "       # print(\"o\", self.document)\n",
    "        # this fails: \n",
    "        # assert self.explainer.untokenize(self.explainer.tokenize(self.document, collapse_whitespace=False)) == self.document, \"Merging strategy faulty\"\n",
    "        # see self.explainer.LIME_Explainer.untokenize\n",
    "       \n",
    "        ### assert right words are removed\n",
    "        top_words = [word for word, fi in self.explainer.as_list(self.explainer.get_explanation_cached(self.document), label=self.gt) if fi > 0]\n",
    "        for a, b in zip(tokenized_modified_document, self.explainer.tokenize(self.document)):\n",
    "            if a == self.explainer.detector.get_pad_token():\n",
    "                assert b in top_words, \"Masking strategy faulty\"\n",
    "        ###\n",
    "       \n",
    "        ids_tokens_to_remove = []\n",
    "        # don't remove anything if there are no best/worst features (e.g. only positive or only negative fi scores)\n",
    "        if len(id_fi_tuples_list):\n",
    "            ids_tokens_to_remove, _ = zip(*id_fi_tuples_list) \n",
    "        # replace with pad token (all detectors support partial input)\n",
    "        if mask:\n",
    "            for t in ids_tokens_to_remove:\n",
    "                tokenized_modified_document[t] = self.explainer.detector.get_pad_token()\n",
    "        else:\n",
    "            tokenized_modified_document = [t for i, t in enumerate(tokenized_modified_document) if i not in ids_tokens_to_remove]\n",
    "        return self.explainer.untokenize(tokenized_modified_document)"
   ]
  },
  {
   "cell_type": "code",
   "execution_count": 5,
   "metadata": {},
   "outputs": [],
   "source": [
    "class Experiment_Delete_n_Highest(Experiment):\n",
    "    def __init__(self, explainer, document, gt, include_zero_scores=False, n=10, mask=True):\n",
    "        super().__init__(explainer, document, gt)\n",
    "        self.n = n\n",
    "        self.include_zero_scores = include_zero_scores\n",
    "        self.mask = mask\n",
    "    @property\n",
    "    def modified_document(self):\n",
    "        if self.n == 0:\n",
    "            return self.document\n",
    "        highest_fi_scores_target = sorted(self.get_fi_scores_target(), key=lambda x: x[1], reverse=True)[0:self.n]\n",
    "        # remove 0 scores if !include_zero_scores\n",
    "        highest_fi_scores_target = [(idx, fi) for idx,fi in highest_fi_scores_target if self.include_zero_scores or (fi != 0)]\n",
    "\n",
    "        return self.remove_features(highest_fi_scores_target, mask=self.mask)\n"
   ]
  },
  {
   "cell_type": "code",
   "execution_count": 6,
   "metadata": {},
   "outputs": [],
   "source": [
    "class Experiment_Delete_n_Lowest(Experiment):\n",
    "    def __init__(self, explainer, document, gt, include_zero_scores=False, n=10, mask=True):\n",
    "        super().__init__(explainer, document, gt)\n",
    "        self.n = n\n",
    "        self.include_zero_scores = include_zero_scores\n",
    "        self.mask = mask\n",
    "    @property\n",
    "    def modified_document(self):\n",
    "        lowest_fi_scores_target = sorted(self.get_fi_scores_target(), key=lambda x: x[1], reverse=False)[0:self.n]\n",
    "        # remove 0 scores if !include_zero_scores\n",
    "        lowest_fi_scores_target = [(idx, fi) for idx,fi in lowest_fi_scores_target if self.include_zero_scores or (fi != 0)]\n",
    "        return self.remove_features(lowest_fi_scores_target, mask=self.mask)\n"
   ]
  },
  {
   "cell_type": "code",
   "execution_count": 7,
   "metadata": {},
   "outputs": [],
   "source": [
    "class Experiment_Delete_all_except_n_Highest(Experiment):\n",
    "    def __init__(self, explainer, document, gt, include_zero_scores=False, n=10, mask=True):\n",
    "        super().__init__(explainer, document, gt)\n",
    "        self.n = n\n",
    "        self.include_zero_scores = include_zero_scores\n",
    "        self.mask = mask\n",
    "    @property\n",
    "    def modified_document(self):\n",
    "        all_but_highest_fi_scores_target = sorted(self.get_fi_scores_target(), key=lambda x: x[1], reverse=True)[self.n:]\n",
    "        all_but_highest_fi_scores_target = [(idx, fi) for idx,fi in all_but_highest_fi_scores_target if self.include_zero_scores or (fi != 0)]\n",
    "        return self.remove_features(all_but_highest_fi_scores_target, mask=self.mask)"
   ]
  },
  {
   "cell_type": "code",
   "execution_count": 8,
   "metadata": {},
   "outputs": [],
   "source": [
    "class Experiment_Delete_all_except_n_Lowest(Experiment):\n",
    "    def __init__(self, explainer, document, gt, include_zero_scores=False, n=10, mask=True):\n",
    "        super().__init__(explainer, document, gt)\n",
    "        self.n = n\n",
    "        self.include_zero_scores = include_zero_scores\n",
    "        self.mask = mask\n",
    "    @property\n",
    "    def modified_document(self):\n",
    "\n",
    "        all_but_lowest_fi_scores_target = sorted(self.get_fi_scores_target(), key=lambda x: x[1], reverse=False)[self.n:]\n",
    "        all_but_lowest_fi_scores_target = [(idx, fi) for idx,fi in all_but_lowest_fi_scores_target if self.include_zero_scores or (fi != 0)]\n",
    "        return self.remove_features(all_but_lowest_fi_scores_target, mask=self.mask)"
   ]
  },
  {
   "cell_type": "code",
   "execution_count": 9,
   "metadata": {},
   "outputs": [],
   "source": [
    "prediction_cache = {}\n",
    "def prediction_cached(detector, document):\n",
    "    id = (detector.__class__.__name__,document)\n",
    "    if id not in prediction_cache:\n",
    "        prediction_cache[id] = detector.predict_proba([document])[0]\n",
    "    return prediction_cache[id]\n"
   ]
  },
  {
   "cell_type": "code",
   "execution_count": 10,
   "metadata": {},
   "outputs": [],
   "source": [
    "def get_results_row(document, gt,  explainer, experiment_class, detector, n):\n",
    "    \n",
    "    experiment = experiment_class(explainer, document, gt, n=n)\n",
    "    p_machine_original, p_human_original  = prediction_cached(detector, experiment.document)\n",
    "    y_original = p_human_original >= p_machine_original\n",
    "\n",
    "    p_machine_modified = None\n",
    "    p_human_modified = None\n",
    "    if n == 0:\n",
    "        assert experiment.modified_document == experiment.document # just a sanity check for the experiment classes\n",
    "        p_machine_modified, p_human_modified = prediction_cached(detector, experiment.modified_document)\n",
    "    else:\n",
    "        p_machine_modified, p_human_modified = detector.predict_proba([experiment.modified_document])[0]\n",
    "\n",
    "    y_modified = p_human_modified >= p_machine_modified\n",
    "    return [\n",
    "                    explainer.__class__.__name__, \n",
    "                    explainer.detector.__class__.__name__, \n",
    "                    n,\n",
    "                    p_machine_original,\n",
    "                    p_human_original,\n",
    "                    y_original,\n",
    "                    p_machine_modified,\n",
    "                    p_human_modified,\n",
    "                    y_modified,\n",
    "                    gt]"
   ]
  },
  {
   "cell_type": "code",
   "execution_count": 11,
   "metadata": {},
   "outputs": [],
   "source": [
    "def run_experiment(experiment_class, detector, n=10):\n",
    "    results = []\n",
    "    columns=[\"Explainer\", \"Detector\", \"n\", \"p_machine_original\", \"p_human_original\", \"y_original\", \"p_machine_modified\", \"p_human_modified\", \"y_modified\", \"gt\"]\n",
    "    for explainer_class in explainer_classes:\n",
    "        explainer = explainer_class(detector)\n",
    "        for document, gt in zip(documents, gold_labels):\n",
    "            results.append(get_results_row(document, gt, explainer, experiment_class, detector, n))\n",
    "\n",
    "    # random baseline (with new seeds at each run)\n",
    "    for i in range(0,10):\n",
    "        random_explainer = Random_Explainer(detector, seed=42-i)\n",
    "        for document, gt in zip(documents, gold_labels):\n",
    "            results_row = get_results_row(document, gt, random_explainer, experiment_class, detector, n)\n",
    "            results_row[0] = \"Random Run \"+str(i)\n",
    "            results.append(results_row)\n",
    "\n",
    "    df = pd.DataFrame(results, columns=columns)\n",
    "\n",
    "    df[\"p_target_original\"] = df.apply(lambda x: x[\"p_human_original\"] if x[\"gt\"] else x[\"p_machine_original\"], axis=1)\n",
    "    df[\"p_target_modified\"] = df.apply(lambda x: x[\"p_human_modified\"] if x[\"gt\"] else x[\"p_machine_modified\"], axis=1)    \n",
    "    df[\"drop_target\"] = df[\"p_target_original\"] - df[\"p_target_modified\"] \n",
    "\n",
    "    \n",
    "\n",
    "    return df"
   ]
  },
  {
   "cell_type": "code",
   "execution_count": 12,
   "metadata": {},
   "outputs": [],
   "source": [
    "import matplotlib.pyplot as plt"
   ]
  },
  {
   "cell_type": "markdown",
   "metadata": {},
   "source": [
    "## Plot like in Arras et al."
   ]
  },
  {
   "cell_type": "code",
   "execution_count": 13,
   "metadata": {},
   "outputs": [],
   "source": [
    "from sklearn.metrics import accuracy_score"
   ]
  },
  {
   "cell_type": "code",
   "execution_count": 14,
   "metadata": {},
   "outputs": [],
   "source": [
    "def get_acc_by_initial_prediction_right_wrong(df, n):\n",
    "    accs = []\n",
    "    for explainer_name, group in df.groupby(\"Explainer\"):\n",
    "        group_initial_right = group[group[\"y_original\"] == group[\"gt\"]]\n",
    "        group_initial_wrong = group[group[\"y_original\"] != group[\"gt\"]]\n",
    "        accs.append((explainer_name,accuracy_score(group_initial_right[\"gt\"], group_initial_right[\"y_modified\"]), accuracy_score(group_initial_wrong[\"gt\"], group_initial_wrong[\"y_modified\"]),n))\n",
    "    return pd.DataFrame(accs, columns=[\"Explainer\", \"acc_initial_right\", \"acc_initial_wrong\", \"n\"])"
   ]
  },
  {
   "cell_type": "code",
   "execution_count": 24,
   "metadata": {},
   "outputs": [],
   "source": [
    "import seaborn as sns\n",
    "import os"
   ]
  },
  {
   "cell_type": "code",
   "execution_count": 25,
   "metadata": {},
   "outputs": [],
   "source": [
    "results_path = \"./token_removal_experiments_results\""
   ]
  },
  {
   "cell_type": "code",
   "execution_count": 27,
   "metadata": {},
   "outputs": [
    {
     "data": {
      "text/plain": [
       "'./token_removal_experiments_results\\\\DetectorGuo.csv'"
      ]
     },
     "execution_count": 27,
     "metadata": {},
     "output_type": "execute_result"
    }
   ],
   "source": [
    "os.path.join(results_path, detector.__class__.__name__+\".csv\")"
   ]
  },
  {
   "cell_type": "code",
   "execution_count": 16,
   "metadata": {},
   "outputs": [
    {
     "name": "stderr",
     "output_type": "stream",
     "text": [
      "Special tokens have been added in the vocabulary, make sure the associated word embeddings are fine-tuned or trained.\n",
      "Running experiment with different n: 100%|██████████| 15/15 [22:09<00:00, 88.62s/it]\n"
     ]
    },
    {
     "data": {
      "text/html": [
       "<div>\n",
       "<style scoped>\n",
       "    .dataframe tbody tr th:only-of-type {\n",
       "        vertical-align: middle;\n",
       "    }\n",
       "\n",
       "    .dataframe tbody tr th {\n",
       "        vertical-align: top;\n",
       "    }\n",
       "\n",
       "    .dataframe thead th {\n",
       "        text-align: right;\n",
       "    }\n",
       "</style>\n",
       "<table border=\"1\" class=\"dataframe\">\n",
       "  <thead>\n",
       "    <tr style=\"text-align: right;\">\n",
       "      <th></th>\n",
       "      <th>Explainer</th>\n",
       "      <th>acc_initial_right</th>\n",
       "      <th>acc_initial_wrong</th>\n",
       "      <th>n</th>\n",
       "    </tr>\n",
       "  </thead>\n",
       "  <tbody>\n",
       "    <tr>\n",
       "      <th>0</th>\n",
       "      <td>LIME</td>\n",
       "      <td>1.000000</td>\n",
       "      <td>0.0</td>\n",
       "      <td>0</td>\n",
       "    </tr>\n",
       "    <tr>\n",
       "      <th>1</th>\n",
       "      <td>Random</td>\n",
       "      <td>1.000000</td>\n",
       "      <td>0.0</td>\n",
       "      <td>0</td>\n",
       "    </tr>\n",
       "    <tr>\n",
       "      <th>2</th>\n",
       "      <td>Random</td>\n",
       "      <td>1.000000</td>\n",
       "      <td>0.0</td>\n",
       "      <td>0</td>\n",
       "    </tr>\n",
       "    <tr>\n",
       "      <th>3</th>\n",
       "      <td>Random</td>\n",
       "      <td>1.000000</td>\n",
       "      <td>0.0</td>\n",
       "      <td>0</td>\n",
       "    </tr>\n",
       "    <tr>\n",
       "      <th>4</th>\n",
       "      <td>Random</td>\n",
       "      <td>1.000000</td>\n",
       "      <td>0.0</td>\n",
       "      <td>0</td>\n",
       "    </tr>\n",
       "    <tr>\n",
       "      <th>...</th>\n",
       "      <td>...</td>\n",
       "      <td>...</td>\n",
       "      <td>...</td>\n",
       "      <td>...</td>\n",
       "    </tr>\n",
       "    <tr>\n",
       "      <th>7</th>\n",
       "      <td>Random</td>\n",
       "      <td>0.493377</td>\n",
       "      <td>1.0</td>\n",
       "      <td>50</td>\n",
       "    </tr>\n",
       "    <tr>\n",
       "      <th>8</th>\n",
       "      <td>Random</td>\n",
       "      <td>0.493377</td>\n",
       "      <td>1.0</td>\n",
       "      <td>50</td>\n",
       "    </tr>\n",
       "    <tr>\n",
       "      <th>9</th>\n",
       "      <td>Random</td>\n",
       "      <td>0.493377</td>\n",
       "      <td>1.0</td>\n",
       "      <td>50</td>\n",
       "    </tr>\n",
       "    <tr>\n",
       "      <th>10</th>\n",
       "      <td>Random</td>\n",
       "      <td>0.493377</td>\n",
       "      <td>1.0</td>\n",
       "      <td>50</td>\n",
       "    </tr>\n",
       "    <tr>\n",
       "      <th>11</th>\n",
       "      <td>SHAP</td>\n",
       "      <td>0.493377</td>\n",
       "      <td>1.0</td>\n",
       "      <td>50</td>\n",
       "    </tr>\n",
       "  </tbody>\n",
       "</table>\n",
       "<p>180 rows × 4 columns</p>\n",
       "</div>"
      ],
      "text/plain": [
       "   Explainer  acc_initial_right  acc_initial_wrong   n\n",
       "0       LIME           1.000000                0.0   0\n",
       "1     Random           1.000000                0.0   0\n",
       "2     Random           1.000000                0.0   0\n",
       "3     Random           1.000000                0.0   0\n",
       "4     Random           1.000000                0.0   0\n",
       "..       ...                ...                ...  ..\n",
       "7     Random           0.493377                1.0  50\n",
       "8     Random           0.493377                1.0  50\n",
       "9     Random           0.493377                1.0  50\n",
       "10    Random           0.493377                1.0  50\n",
       "11      SHAP           0.493377                1.0  50\n",
       "\n",
       "[180 rows x 4 columns]"
      ]
     },
     "metadata": {},
     "output_type": "display_data"
    },
    {
     "data": {
      "image/png": "[encoded data removed]",
      "text/plain": [
       "<Figure size 500x200 with 2 Axes>"
      ]
     },
     "metadata": {},
     "output_type": "display_data"
    }
   ],
   "source": [
    "n_deleted_words = list(range(0,10+1)) + [20,30,40,50]\n",
    "\n",
    "\n",
    "for detector_class in detector_classes:\n",
    "    detector = detector_class()\n",
    "    path = os.path.join(results_path, detector.__class__.__name__+\".csv\")\n",
    "    if os.path.isfile(path):\n",
    "        continue\n",
    "\n",
    "    dfs_at_n = [(run_experiment(Experiment_Delete_n_Highest,detector, n=n), n) for n in tqdm(n_deleted_words, desc=\"Running experiment for \"+detector.__class__.__name__)]\n",
    "    df_accuracy_scores = pd.concat([get_acc_by_initial_prediction_right_wrong(df,n) for df, n in dfs_at_n])\n",
    "    \n",
    "    df_accuracy_scores.loc[df_accuracy_scores[\"Explainer\"].str.startswith(\"Random\"), \"Explainer\"] = \"Random\"\n",
    "    # df_accuracy_scores.groupby([\"Explainer\", \"n\"]).mean().reset_index()\n",
    "\n",
    "    df_accuracy_scores[\"Explainer\"] = df_accuracy_scores[\"Explainer\"].str.replace(\"_Explainer\",\"\")\n",
    "\n",
    "    \n",
    "    df_accuracy_scores.to_csv(path, encoding=\"UTF-8\", index=False)\n"
   ]
  },
  {
   "cell_type": "code",
   "execution_count": null,
   "metadata": {},
   "outputs": [],
   "source": [
    "f, (ax_right, ax_wrong) = plt.subplots(1,2, sharey=True, figsize=(5,2))\n",
    "    sns.lineplot(data=df_accuracy_scores, x=\"n\", y=\"acc_initial_right\", hue=\"Explainer\", ax=ax_right)\n",
    "    sns.lineplot(data=df_accuracy_scores, x=\"n\", y=\"acc_initial_wrong\", hue=\"Explainer\", ax=ax_wrong)\n"
   ]
  },
  {
   "cell_type": "code",
   "execution_count": 17,
   "metadata": {},
   "outputs": [
    {
     "name": "stderr",
     "output_type": "stream",
     "text": [
      "Running experiment with different n: 100%|██████████| 15/15 [20:56<00:00, 83.73s/it]\n"
     ]
    },
    {
     "data": {
      "text/html": [
       "<div>\n",
       "<style scoped>\n",
       "    .dataframe tbody tr th:only-of-type {\n",
       "        vertical-align: middle;\n",
       "    }\n",
       "\n",
       "    .dataframe tbody tr th {\n",
       "        vertical-align: top;\n",
       "    }\n",
       "\n",
       "    .dataframe thead th {\n",
       "        text-align: right;\n",
       "    }\n",
       "</style>\n",
       "<table border=\"1\" class=\"dataframe\">\n",
       "  <thead>\n",
       "    <tr style=\"text-align: right;\">\n",
       "      <th></th>\n",
       "      <th>Explainer</th>\n",
       "      <th>acc_initial_right</th>\n",
       "      <th>acc_initial_wrong</th>\n",
       "      <th>n</th>\n",
       "    </tr>\n",
       "  </thead>\n",
       "  <tbody>\n",
       "    <tr>\n",
       "      <th>0</th>\n",
       "      <td>LIME</td>\n",
       "      <td>1.000000</td>\n",
       "      <td>0.0</td>\n",
       "      <td>0</td>\n",
       "    </tr>\n",
       "    <tr>\n",
       "      <th>1</th>\n",
       "      <td>Random</td>\n",
       "      <td>1.000000</td>\n",
       "      <td>0.0</td>\n",
       "      <td>0</td>\n",
       "    </tr>\n",
       "    <tr>\n",
       "      <th>2</th>\n",
       "      <td>Random</td>\n",
       "      <td>1.000000</td>\n",
       "      <td>0.0</td>\n",
       "      <td>0</td>\n",
       "    </tr>\n",
       "    <tr>\n",
       "      <th>3</th>\n",
       "      <td>Random</td>\n",
       "      <td>1.000000</td>\n",
       "      <td>0.0</td>\n",
       "      <td>0</td>\n",
       "    </tr>\n",
       "    <tr>\n",
       "      <th>4</th>\n",
       "      <td>Random</td>\n",
       "      <td>1.000000</td>\n",
       "      <td>0.0</td>\n",
       "      <td>0</td>\n",
       "    </tr>\n",
       "    <tr>\n",
       "      <th>...</th>\n",
       "      <td>...</td>\n",
       "      <td>...</td>\n",
       "      <td>...</td>\n",
       "      <td>...</td>\n",
       "    </tr>\n",
       "    <tr>\n",
       "      <th>7</th>\n",
       "      <td>Random</td>\n",
       "      <td>0.493377</td>\n",
       "      <td>1.0</td>\n",
       "      <td>50</td>\n",
       "    </tr>\n",
       "    <tr>\n",
       "      <th>8</th>\n",
       "      <td>Random</td>\n",
       "      <td>0.493377</td>\n",
       "      <td>1.0</td>\n",
       "      <td>50</td>\n",
       "    </tr>\n",
       "    <tr>\n",
       "      <th>9</th>\n",
       "      <td>Random</td>\n",
       "      <td>0.493377</td>\n",
       "      <td>1.0</td>\n",
       "      <td>50</td>\n",
       "    </tr>\n",
       "    <tr>\n",
       "      <th>10</th>\n",
       "      <td>Random</td>\n",
       "      <td>0.493377</td>\n",
       "      <td>1.0</td>\n",
       "      <td>50</td>\n",
       "    </tr>\n",
       "    <tr>\n",
       "      <th>11</th>\n",
       "      <td>SHAP</td>\n",
       "      <td>0.493377</td>\n",
       "      <td>1.0</td>\n",
       "      <td>50</td>\n",
       "    </tr>\n",
       "  </tbody>\n",
       "</table>\n",
       "<p>180 rows × 4 columns</p>\n",
       "</div>"
      ],
      "text/plain": [
       "   Explainer  acc_initial_right  acc_initial_wrong   n\n",
       "0       LIME           1.000000                0.0   0\n",
       "1     Random           1.000000                0.0   0\n",
       "2     Random           1.000000                0.0   0\n",
       "3     Random           1.000000                0.0   0\n",
       "4     Random           1.000000                0.0   0\n",
       "..       ...                ...                ...  ..\n",
       "7     Random           0.493377                1.0  50\n",
       "8     Random           0.493377                1.0  50\n",
       "9     Random           0.493377                1.0  50\n",
       "10    Random           0.493377                1.0  50\n",
       "11      SHAP           0.493377                1.0  50\n",
       "\n",
       "[180 rows x 4 columns]"
      ]
     },
     "metadata": {},
     "output_type": "display_data"
    }
   ],
   "source": [
    "dfs_at_n = [(run_experiment(Experiment_Delete_n_Highest,detector, n=n), n) for n in tqdm(n_deleted_words, desc=\"Running experiment with different n\")]\n",
    "df_accuracy_scores = pd.concat([get_acc_by_initial_prediction_right_wrong(df,n) for df, n in dfs_at_n])\n",
    "\n",
    "df_accuracy_scores.loc[df_accuracy_scores[\"Explainer\"].str.startswith(\"Random\"), \"Explainer\"] = \"Random\"\n",
    "# df_accuracy_scores.groupby([\"Explainer\", \"n\"]).mean().reset_index()\n",
    "\n",
    "df_accuracy_scores[\"Explainer\"] = df_accuracy_scores[\"Explainer\"].str.replace(\"_Explainer\",\"\")\n",
    "display(df_accuracy_scores)"
   ]
  },
  {
   "cell_type": "code",
   "execution_count": 18,
   "metadata": {},
   "outputs": [
    {
     "data": {
      "image/png": "[encoded data removed]",
      "text/plain": [
       "<Figure size 500x200 with 2 Axes>"
      ]
     },
     "metadata": {},
     "output_type": "display_data"
    }
   ],
   "source": [
    "\n",
    "f, (ax_right, ax_wrong) = plt.subplots(1,2, sharey=True, figsize=(5,2))\n",
    "sns.lineplot(data=df_accuracy_scores, x=\"n\", y=\"acc_initial_right\", hue=\"Explainer\", ax=ax_right)\n",
    "sns.lineplot(data=df_accuracy_scores, x=\"n\", y=\"acc_initial_wrong\", hue=\"Explainer\", ax=ax_wrong)\n",
    "\n",
    "# random baseline\n",
    "\n",
    "plt.show()"
   ]
  },
  {
   "cell_type": "code",
   "execution_count": 19,
   "metadata": {},
   "outputs": [
    {
     "data": {
      "text/plain": [
       "[(0.9901639344262295, 0),\n",
       " (0.9049180327868852, 1),\n",
       " (0.8508196721311475, 2),\n",
       " (0.7680327868852459, 3),\n",
       " (0.6800546448087431, 4),\n",
       " (0.6150273224043716, 5),\n",
       " (0.5734972677595629, 6),\n",
       " (0.5445355191256831, 7),\n",
       " (0.5289617486338798, 8),\n",
       " (0.5174863387978142, 9),\n",
       " (0.5112021857923498, 10),\n",
       " (0.4997267759562842, 20),\n",
       " (0.49918032786885247, 30),\n",
       " (0.4994535519125683, 40),\n",
       " (0.4989071038251366, 50)]"
      ]
     },
     "execution_count": 19,
     "metadata": {},
     "output_type": "execute_result"
    }
   ],
   "source": [
    "\n",
    "\n",
    "acc_scores = [(accuracy_score(df[\"gt\"], df[\"y_modified\"]),n) for df, n in dfs_at_n] # @ 0 removed + n removed\n",
    "acc_scores"
   ]
  },
  {
   "cell_type": "code",
   "execution_count": 20,
   "metadata": {},
   "outputs": [
    {
     "data": {
      "text/plain": [
       "[<matplotlib.lines.Line2D at 0x1847c6ae290>]"
      ]
     },
     "execution_count": 20,
     "metadata": {},
     "output_type": "execute_result"
    },
    {
     "data": {
      "image/png": "[encoded data removed]",
      "text/plain": [
       "<Figure size 640x480 with 1 Axes>"
      ]
     },
     "metadata": {},
     "output_type": "display_data"
    }
   ],
   "source": [
    "acc, n = zip(*acc_scores)\n",
    "plt.plot(n, acc)"
   ]
  },
  {
   "cell_type": "code",
   "execution_count": 21,
   "metadata": {},
   "outputs": [],
   "source": [
    "def run_experiment_incremental(experiment_class, start = 0, stop = 30):\n",
    "    dfs = [run_experiment(experiment_class, n=n) for n in tqdm(range(start,stop+1), desc=\"Running {}\".format(experiment_class.__name__))]\n",
    "    df = pd.concat(dfs)\n",
    "    df[\"drop_target\"] = df[\"p_target_original\"] - df[\"p_target_modified\"]\n",
    "\n",
    "    for name, group in df.groupby([\"Explainer\", \"Detector\", ]):\n",
    "        print(name)\n",
    "        group.reset_index()[[\"n\", \"drop_target\"]].groupby(\"n\").mean().plot()\n",
    "        plt.show()\n",
    "\n",
    "    "
   ]
  },
  {
   "cell_type": "code",
   "execution_count": 22,
   "metadata": {},
   "outputs": [],
   "source": [
    "# # Experiment_Delete_n_Highest: higher drop_target is better\n",
    "# df = run_experiment(Experiment_Delete_n_Highest)\n",
    "# df[\"drop_target\"] = df[\"p_target_original\"] - df[\"p_target_modified\"]\n",
    "# df.groupby([\"Explainer\", \"Detector\"]).mean()"
   ]
  },
  {
   "cell_type": "code",
   "execution_count": 23,
   "metadata": {},
   "outputs": [
    {
     "name": "stderr",
     "output_type": "stream",
     "text": [
      "Running Experiment_Delete_n_Highest:   0%|          | 0/31 [00:00<?, ?it/s]"
     ]
    },
    {
     "ename": "TypeError",
     "evalue": "run_experiment() missing 1 required positional argument: 'detector'",
     "output_type": "error",
     "traceback": [
      "\u001b[1;31m---------------------------------------------------------------------------\u001b[0m",
      "\u001b[1;31mTypeError\u001b[0m                                 Traceback (most recent call last)",
      "Cell \u001b[1;32mIn[23], line 3\u001b[0m\n\u001b[0;32m      1\u001b[0m \u001b[38;5;66;03m# Experiment_Delete_n_Highest: higher drop_target is better\u001b[39;00m\n\u001b[1;32m----> 3\u001b[0m \u001b[43mrun_experiment_incremental\u001b[49m\u001b[43m(\u001b[49m\u001b[43mExperiment_Delete_n_Highest\u001b[49m\u001b[43m)\u001b[49m\n",
      "Cell \u001b[1;32mIn[21], line 2\u001b[0m, in \u001b[0;36mrun_experiment_incremental\u001b[1;34m(experiment_class, start, stop)\u001b[0m\n\u001b[0;32m      1\u001b[0m \u001b[38;5;28;01mdef\u001b[39;00m \u001b[38;5;21mrun_experiment_incremental\u001b[39m(experiment_class, start \u001b[38;5;241m=\u001b[39m \u001b[38;5;241m0\u001b[39m, stop \u001b[38;5;241m=\u001b[39m \u001b[38;5;241m30\u001b[39m):\n\u001b[1;32m----> 2\u001b[0m     dfs \u001b[38;5;241m=\u001b[39m \u001b[43m[\u001b[49m\u001b[43mrun_experiment\u001b[49m\u001b[43m(\u001b[49m\u001b[43mexperiment_class\u001b[49m\u001b[43m,\u001b[49m\u001b[43m \u001b[49m\u001b[43mn\u001b[49m\u001b[38;5;241;43m=\u001b[39;49m\u001b[43mn\u001b[49m\u001b[43m)\u001b[49m\u001b[43m \u001b[49m\u001b[38;5;28;43;01mfor\u001b[39;49;00m\u001b[43m \u001b[49m\u001b[43mn\u001b[49m\u001b[43m \u001b[49m\u001b[38;5;129;43;01min\u001b[39;49;00m\u001b[43m \u001b[49m\u001b[43mtqdm\u001b[49m\u001b[43m(\u001b[49m\u001b[38;5;28;43mrange\u001b[39;49m\u001b[43m(\u001b[49m\u001b[43mstart\u001b[49m\u001b[43m,\u001b[49m\u001b[43mstop\u001b[49m\u001b[38;5;241;43m+\u001b[39;49m\u001b[38;5;241;43m1\u001b[39;49m\u001b[43m)\u001b[49m\u001b[43m,\u001b[49m\u001b[43m \u001b[49m\u001b[43mdesc\u001b[49m\u001b[38;5;241;43m=\u001b[39;49m\u001b[38;5;124;43m\"\u001b[39;49m\u001b[38;5;124;43mRunning \u001b[39;49m\u001b[38;5;132;43;01m{}\u001b[39;49;00m\u001b[38;5;124;43m\"\u001b[39;49m\u001b[38;5;241;43m.\u001b[39;49m\u001b[43mformat\u001b[49m\u001b[43m(\u001b[49m\u001b[43mexperiment_class\u001b[49m\u001b[38;5;241;43m.\u001b[39;49m\u001b[38;5;18;43m__name__\u001b[39;49m\u001b[43m)\u001b[49m\u001b[43m)\u001b[49m\u001b[43m]\u001b[49m\n\u001b[0;32m      3\u001b[0m     df \u001b[38;5;241m=\u001b[39m pd\u001b[38;5;241m.\u001b[39mconcat(dfs)\n\u001b[0;32m      4\u001b[0m     df[\u001b[38;5;124m\"\u001b[39m\u001b[38;5;124mdrop_target\u001b[39m\u001b[38;5;124m\"\u001b[39m] \u001b[38;5;241m=\u001b[39m df[\u001b[38;5;124m\"\u001b[39m\u001b[38;5;124mp_target_original\u001b[39m\u001b[38;5;124m\"\u001b[39m] \u001b[38;5;241m-\u001b[39m df[\u001b[38;5;124m\"\u001b[39m\u001b[38;5;124mp_target_modified\u001b[39m\u001b[38;5;124m\"\u001b[39m]\n",
      "Cell \u001b[1;32mIn[21], line 2\u001b[0m, in \u001b[0;36m<listcomp>\u001b[1;34m(.0)\u001b[0m\n\u001b[0;32m      1\u001b[0m \u001b[38;5;28;01mdef\u001b[39;00m \u001b[38;5;21mrun_experiment_incremental\u001b[39m(experiment_class, start \u001b[38;5;241m=\u001b[39m \u001b[38;5;241m0\u001b[39m, stop \u001b[38;5;241m=\u001b[39m \u001b[38;5;241m30\u001b[39m):\n\u001b[1;32m----> 2\u001b[0m     dfs \u001b[38;5;241m=\u001b[39m [\u001b[43mrun_experiment\u001b[49m\u001b[43m(\u001b[49m\u001b[43mexperiment_class\u001b[49m\u001b[43m,\u001b[49m\u001b[43m \u001b[49m\u001b[43mn\u001b[49m\u001b[38;5;241;43m=\u001b[39;49m\u001b[43mn\u001b[49m\u001b[43m)\u001b[49m \u001b[38;5;28;01mfor\u001b[39;00m n \u001b[38;5;129;01min\u001b[39;00m tqdm(\u001b[38;5;28mrange\u001b[39m(start,stop\u001b[38;5;241m+\u001b[39m\u001b[38;5;241m1\u001b[39m), desc\u001b[38;5;241m=\u001b[39m\u001b[38;5;124m\"\u001b[39m\u001b[38;5;124mRunning \u001b[39m\u001b[38;5;132;01m{}\u001b[39;00m\u001b[38;5;124m\"\u001b[39m\u001b[38;5;241m.\u001b[39mformat(experiment_class\u001b[38;5;241m.\u001b[39m\u001b[38;5;18m__name__\u001b[39m))]\n\u001b[0;32m      3\u001b[0m     df \u001b[38;5;241m=\u001b[39m pd\u001b[38;5;241m.\u001b[39mconcat(dfs)\n\u001b[0;32m      4\u001b[0m     df[\u001b[38;5;124m\"\u001b[39m\u001b[38;5;124mdrop_target\u001b[39m\u001b[38;5;124m\"\u001b[39m] \u001b[38;5;241m=\u001b[39m df[\u001b[38;5;124m\"\u001b[39m\u001b[38;5;124mp_target_original\u001b[39m\u001b[38;5;124m\"\u001b[39m] \u001b[38;5;241m-\u001b[39m df[\u001b[38;5;124m\"\u001b[39m\u001b[38;5;124mp_target_modified\u001b[39m\u001b[38;5;124m\"\u001b[39m]\n",
      "\u001b[1;31mTypeError\u001b[0m: run_experiment() missing 1 required positional argument: 'detector'"
     ]
    }
   ],
   "source": [
    "# Experiment_Delete_n_Highest: higher drop_target is better\n",
    "\n",
    "run_experiment_incremental(Experiment_Delete_n_Highest)\n"
   ]
  },
  {
   "cell_type": "code",
   "execution_count": null,
   "metadata": {},
   "outputs": [],
   "source": [
    "# Experiment_Delete_n_Lowest: smaller drop_target is better\n",
    "run_experiment_incremental(Experiment_Delete_n_Lowest)\n"
   ]
  },
  {
   "cell_type": "code",
   "execution_count": null,
   "metadata": {},
   "outputs": [],
   "source": [
    "# Experiment_Delete_all_except_n_Highest: smaller drop_target is better\n",
    "run_experiment_incremental(Experiment_Delete_all_except_n_Highest)\n"
   ]
  },
  {
   "cell_type": "code",
   "execution_count": null,
   "metadata": {},
   "outputs": [],
   "source": [
    "# Experiment_Delete_all_except_n_Lowest: higher drop_target is better\n",
    "run_experiment_incremental(Experiment_Delete_all_except_n_Lowest)"
   ]
  },
  {
   "cell_type": "code",
   "execution_count": null,
   "metadata": {},
   "outputs": [],
   "source": []
  },
  {
   "cell_type": "code",
   "execution_count": null,
   "metadata": {},
   "outputs": [],
   "source": []
  }
 ],
 "metadata": {
  "kernelspec": {
   "display_name": ".venv",
   "language": "python",
   "name": "python3"
  },
  "language_info": {
   "codemirror_mode": {
    "name": "ipython",
    "version": 3
   },
   "file_extension": ".py",
   "mimetype": "text/x-python",
   "name": "python",
   "nbconvert_exporter": "python",
   "pygments_lexer": "ipython3",
   "version": "3.11.1"
  }
 },
 "nbformat": 4,
 "nbformat_minor": 2
}
