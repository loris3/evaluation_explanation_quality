{
 "cells": [
  {
   "cell_type": "code",
   "execution_count": 1,
   "metadata": {},
   "outputs": [],
   "source": [
    "DEBUG = False"
   ]
  },
  {
   "cell_type": "code",
   "execution_count": 2,
   "metadata": {},
   "outputs": [],
   "source": [
    "\n",
    "# import sklearn\n",
    "# import sklearn.ensemble\n",
    "# import sklearn.metrics\n",
    "# import sklearn.feature_extraction\n",
    "# from sklearn.pipeline import make_pipeline\n",
    "import pointing_game_util"
   ]
  },
  {
   "cell_type": "code",
   "execution_count": 3,
   "metadata": {},
   "outputs": [],
   "source": [
    "import pandas as pd"
   ]
  },
  {
   "cell_type": "code",
   "execution_count": 4,
   "metadata": {},
   "outputs": [],
   "source": [
    "test = pd.read_pickle(\"./dataset_test.pkl\")\n",
    "test = test # always load the full dataset! (np.random.shuffle(tokenized_sentences)). slice the actual hybrid_documents if debugging!\n",
    "documents = test[\"answer\"]\n",
    "gold_labels = test[\"author\"] == \"human_answers\" # convention: 0: machine, 1: human, see detector.py"
   ]
  },
  {
   "cell_type": "code",
   "execution_count": 5,
   "metadata": {},
   "outputs": [],
   "source": [
    "from gpt2outputdataset.detector_radford import DetectorRadford\n",
    "from detectgpt.detector_detectgpt import DetectorDetectGPT\n",
    "from detector_guo import DetectorGuo\n",
    "detector_classes = [DetectorGuo,DetectorRadford,]# DetectorDetectGPT]\n",
    "\n",
    "from explainer_wrappers import LIME_Explainer, SHAP_Explainer\n",
    "explainer_classes = [LIME_Explainer, SHAP_Explainer]"
   ]
  },
  {
   "cell_type": "code",
   "execution_count": 6,
   "metadata": {},
   "outputs": [],
   "source": [
    "# keep a copy of the hybrid documents for the assert in the loop\n",
    "ref_assert_hybrid_documents, _, _ = pointing_game_util.hybrid(documents.to_list(), gold_labels.to_list(), word_tokenizer=LIME_Explainer(DetectorRadford()).tokenize)\n"
   ]
  },
  {
   "cell_type": "code",
   "execution_count": 7,
   "metadata": {},
   "outputs": [
    {
     "name": "stdout",
     "output_type": "stream",
     "text": [
      "Initialized DetectorGuo\n",
      "Initialized LIME_Explainer\n",
      "Indexing hybrid documents for LIME_Explainer\n",
      "Predicting hybrid documents\n",
      "Generating explanations on hybrid documents and calculating pointing game accuracy\n",
      "Pointing game accuracy for LIME_Explainer | DetectorGuo: 1.0\n",
      "Initialized SHAP_Explainer\n",
      "Indexing hybrid documents for SHAP_Explainer\n",
      "Predicting hybrid documents\n",
      "Generating explanations on hybrid documents and calculating pointing game accuracy\n",
      "Pointing game accuracy for SHAP_Explainer | DetectorGuo: 0.7137476459510358\n",
      "Initialized DetectorRadford\n",
      "Initialized LIME_Explainer\n",
      "Indexing hybrid documents for LIME_Explainer\n",
      "Predicting hybrid documents\n",
      "Generating explanations on hybrid documents and calculating pointing game accuracy\n",
      "Pointing game accuracy for LIME_Explainer | DetectorRadford: 0.4934086629001883\n",
      "Initialized SHAP_Explainer\n",
      "Indexing hybrid documents for SHAP_Explainer\n",
      "Predicting hybrid documents\n",
      "Generating explanations on hybrid documents and calculating pointing game accuracy\n",
      "Pointing game accuracy for SHAP_Explainer | DetectorRadford: 0.8267419962335216\n"
     ]
    }
   ],
   "source": [
    "results = []\n",
    "for detector_class in detector_classes:\n",
    "    detector = detector_class()\n",
    "    print(\"Initialized \" + detector.__class__.__name__)\n",
    "    for explainer_class in explainer_classes:\n",
    "        explainer = explainer_class(detector)\n",
    "        print(\"Initialized \" + explainer.__class__.__name__)\n",
    "\n",
    "        print(\"Indexing hybrid documents for \" + explainer.__class__.__name__)\n",
    "        hybrid_documents, tokenized_hybrid_documents, GT = pointing_game_util.hybrid(documents.to_list(), gold_labels.to_list(), word_tokenizer=explainer.tokenize)\n",
    "        assert (all([a==b for a,b in zip(ref_assert_hybrid_documents,hybrid_documents)])), \"(full) Hybrid documents don't match\" # tokenized_hybrid_documents differ by design to make the calculation of the pointing game accuracy easier\n",
    "\n",
    "        if DEBUG:\n",
    "            hybrid_documents = hybrid_documents[0:10]\n",
    "            tokenized_hybrid_documents = tokenized_hybrid_documents[0:10]\n",
    "            GT = GT[0:10]\n",
    "\n",
    "        print(\"Predicting hybrid documents\")\n",
    "        predictions_hybrid = detector.predict_label(hybrid_documents)\n",
    "\n",
    "        print(\"Generating explanations on hybrid documents and calculating pointing game accuracy\")\n",
    "\n",
    "        \n",
    "        pointing_game_acc = pointing_game_util.get_pointing_game_acc(hybrid_documents, explainer, predictions_hybrid, GT)\n",
    "\n",
    "        print(\"Pointing game accuracy for {} | {}: {}\".format(explainer.__class__.__name__, detector.__class__.__name__, pointing_game_acc))\n",
    "        results.append((explainer.__class__.__name__, detector.__class__.__name__, pointing_game_acc))\n",
    "\n",
    "        \n",
    "\n",
    "\n"
   ]
  },
  {
   "cell_type": "code",
   "execution_count": 8,
   "metadata": {},
   "outputs": [
    {
     "data": {
      "text/html": [
       "<div>\n",
       "<style scoped>\n",
       "    .dataframe tbody tr th:only-of-type {\n",
       "        vertical-align: middle;\n",
       "    }\n",
       "\n",
       "    .dataframe tbody tr th {\n",
       "        vertical-align: top;\n",
       "    }\n",
       "\n",
       "    .dataframe thead th {\n",
       "        text-align: right;\n",
       "    }\n",
       "</style>\n",
       "<table border=\"1\" class=\"dataframe\">\n",
       "  <thead>\n",
       "    <tr style=\"text-align: right;\">\n",
       "      <th></th>\n",
       "      <th>Explanation Method</th>\n",
       "      <th>Detector</th>\n",
       "      <th>Pointing Game ACC</th>\n",
       "    </tr>\n",
       "  </thead>\n",
       "  <tbody>\n",
       "    <tr>\n",
       "      <th>0</th>\n",
       "      <td>LIME_Explainer</td>\n",
       "      <td>DetectorGuo</td>\n",
       "      <td>1.000000</td>\n",
       "    </tr>\n",
       "    <tr>\n",
       "      <th>1</th>\n",
       "      <td>SHAP_Explainer</td>\n",
       "      <td>DetectorGuo</td>\n",
       "      <td>0.713748</td>\n",
       "    </tr>\n",
       "    <tr>\n",
       "      <th>2</th>\n",
       "      <td>LIME_Explainer</td>\n",
       "      <td>DetectorRadford</td>\n",
       "      <td>0.493409</td>\n",
       "    </tr>\n",
       "    <tr>\n",
       "      <th>3</th>\n",
       "      <td>SHAP_Explainer</td>\n",
       "      <td>DetectorRadford</td>\n",
       "      <td>0.826742</td>\n",
       "    </tr>\n",
       "  </tbody>\n",
       "</table>\n",
       "</div>"
      ],
      "text/plain": [
       "  Explanation Method         Detector  Pointing Game ACC\n",
       "0     LIME_Explainer      DetectorGuo           1.000000\n",
       "1     SHAP_Explainer      DetectorGuo           0.713748\n",
       "2     LIME_Explainer  DetectorRadford           0.493409\n",
       "3     SHAP_Explainer  DetectorRadford           0.826742"
      ]
     },
     "execution_count": 8,
     "metadata": {},
     "output_type": "execute_result"
    }
   ],
   "source": [
    "df = pd.DataFrame(results, columns=[\"Explanation Method\", \"Detector\", \"Pointing Game ACC\"])\n",
    "df"
   ]
  },
  {
   "cell_type": "code",
   "execution_count": 9,
   "metadata": {},
   "outputs": [],
   "source": [
    "# import shap"
   ]
  },
  {
   "cell_type": "code",
   "execution_count": 10,
   "metadata": {},
   "outputs": [],
   "source": [
    "\n",
    "# for hybrid_document in hybrid_documents:\n",
    "\n",
    "#     explainer = LIME_Explainer(detector)\n",
    "#     explainer.get_explanation_cached(hybrid_document).show_in_notebook()\n",
    "\n",
    "#     explainer = SHAP_Explainer(detector)\n",
    "#     shap.text_plot(explainer.get_explanation_cached(hybrid_document))\n",
    "        "
   ]
  },
  {
   "cell_type": "code",
   "execution_count": null,
   "metadata": {},
   "outputs": [],
   "source": []
  }
 ],
 "metadata": {
  "kernelspec": {
   "display_name": ".venv",
   "language": "python",
   "name": "python3"
  },
  "language_info": {
   "codemirror_mode": {
    "name": "ipython",
    "version": 3
   },
   "file_extension": ".py",
   "mimetype": "text/x-python",
   "name": "python",
   "nbconvert_exporter": "python",
   "pygments_lexer": "ipython3",
   "version": "3.11.1"
  }
 },
 "nbformat": 4,
 "nbformat_minor": 2
}
