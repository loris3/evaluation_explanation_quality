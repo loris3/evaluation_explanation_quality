{
 "cells": [
  {
   "cell_type": "code",
   "execution_count": 1,
   "metadata": {},
   "outputs": [],
   "source": [
    "\n",
    "# import sklearn\n",
    "# import sklearn.ensemble\n",
    "# import sklearn.metrics\n",
    "# import sklearn.feature_extraction\n",
    "# from sklearn.pipeline import make_pipeline\n",
    "import pointing_game_util"
   ]
  },
  {
   "cell_type": "code",
   "execution_count": 2,
   "metadata": {},
   "outputs": [],
   "source": [
    "import pandas as pd\n",
    "\n",
    "\n",
    "from gpt2outputdataset.detector_radford import DetectorRadford\n",
    "# from detectgpt.detector_detectgpt import DetectorDetectGPT\n",
    "train = pd.read_pickle(\"./dataset_train.pkl\")\n",
    "documents = train[\"answer\"]\n",
    "gold_labels = train[\"author\"] == \"chatgpt_answers\""
   ]
  },
  {
   "cell_type": "code",
   "execution_count": 3,
   "metadata": {},
   "outputs": [],
   "source": [
    "detector = DetectorRadford()"
   ]
  },
  {
   "cell_type": "code",
   "execution_count": null,
   "metadata": {},
   "outputs": [],
   "source": []
  },
  {
   "cell_type": "code",
   "execution_count": 4,
   "metadata": {},
   "outputs": [],
   "source": [
    "\n",
    "# c = make_pipeline(detector)"
   ]
  },
  {
   "cell_type": "code",
   "execution_count": 5,
   "metadata": {},
   "outputs": [],
   "source": [
    "# c = make_pipeline(detector)\n",
    "# from lime.lime_text import LimeTextExplainer\n",
    "# explainer = LimeTextExplainer(class_names=(\"machine\", \"human\"), bow=False, split_expression= r\"\\s\",mask_string=detector.get_pad_token()) # TODO\n",
    "# # exp = explainer.explain_instance(text_gpt2, c.predict_proba, num_features=10, num_samples=1000)"
   ]
  },
  {
   "cell_type": "code",
   "execution_count": 6,
   "metadata": {},
   "outputs": [],
   "source": [
    "# exp = explainer.explain_instance(text_gpt2, c.predict_proba, num_features=10, num_samples=1000)"
   ]
  },
  {
   "cell_type": "code",
   "execution_count": 7,
   "metadata": {},
   "outputs": [],
   "source": [
    "# exp.show_in_notebook()"
   ]
  },
  {
   "cell_type": "code",
   "execution_count": 8,
   "metadata": {},
   "outputs": [
    {
     "data": {
      "text/plain": [
       "[\"As a former substance abuse counselor I will say most of these answers are spot on and do n't need to be said again However , I wonder if your question is n't really ' why do people like the taste of alcohol ? ' If that 's the case , then the answer is simple enough . Alcohol is an acquired taste ( much like coffee is ) . We have to force ourselves to like it . Even so , some people ( even alcoholics ) go their while lives drinking and can never stand the taste of it . They do so because of the way it makes them feel . It is mostly because of this people create mixed drinks ( e.g. long island iced tea , etc ) , to keep the alcohol flavor from being strong while still giving the desired effect .\",\n",
       " \"I can walk up to a cop and tell him that I take ecstasy every day , and he has to prove that I do . The only thing he can do is search me and possibly get a warrant if he can convince a judge that I actually told him that and I was n't just being obtuse . It 's not illegal to be on , or to have been on drugs while not operating heavy machinery , it 's illegal to buy , sell , possess , and use drugs . Once you 've bought , possessed , and used the drug there 's no crime that you can be charged for .\",\n",
       " 'The story of the old testament spans thousands of years . But Humans have known what a \" year \" was for long before that . People noticed seasons , and counted time by them for aeons - before Human history started . No , they were n\\'t as ... accurate as we are now , but -- roughly speaking -- a year was still one rotation of the Earth around the sun ( even if they did n\\'t know the Earth moved around the sun ! ) Now , as for why biblical figures lived for hundreds of years , well . They also fought angels , turned into pillars of salt , turned sticks into snakes , as well as directly communicating with an omnipotent deity . If you accept all that , then it \\'s not a huge step to someone living for hundreds of years .',\n",
       " 'Seat belts are designed to keep people safe in cars by preventing them from being thrown out of the vehicle or hitting the dashboard or other hard objects during a crash. Motorcycles are also dangerous, but people are allowed to ride them because it is considered a personal choice. Wearing a seat belt is required by law in many places because it has been proven to save lives and reduce the severity of injuries in car accidents. On the other hand, while wearing a helmet while riding a motorcycle can also help to reduce the risk of injury or death, it is not required by law in all places because some people believe that it should be up to the individual to decide whether or not to wear one.',\n",
       " \"It is not generally the case that the police can arrest people simply for going out in bad weather. However, in some circumstances, the police may have the authority to restrict people's movements or take other measures to protect public safety, and this could potentially include making arrests.For example, if there is a natural disaster or other emergency situation that poses a serious threat to public safety, the authorities may issue orders for people to stay indoors or to evacuate certain areas. If someone disobeys these orders and puts themselves or others in danger, the police may have the authority to intervene and take necessary actions, including making arrests.In most cases, the police are simply trying to keep people safe and protect the community. However, it is important that the police have clear guidelines and follow the law when making arrests or taking other actions to protect public safety.\",\n",
       " \"Paranoid schizophrenia is a mental illness that can cause people to experience a range of symptoms, including hearing voices. These voices are often negative or critical, and may tell the person to do harmful things. It's not completely understood why some people with paranoid schizophrenia hear voices, but it is thought to be related to abnormal activity in certain areas of the brain. It is important to note that everyone experiences symptoms of mental illness differently, and not all people with paranoid schizophrenia will hear voices or have the same experiences. It is important to seek treatment from a mental health professional if you are experiencing symptoms of mental illness.\",\n",
       " '\"Call me Ishmael\" is a famous quote from the novel \"Moby Dick\" by Herman Melville. It is the first line of the novel and is spoken by the main character, Ishmael. In the novel, Ishmael is a sailor who goes on a journey with a group of other sailors to hunt a giant white whale named Moby Dick. Ishmael is the narrator of the story, which means he tells the story from his own perspective. The quote \"Call me Ishmael\" is famous because it is the first thing that Ishmael says in the novel and because it is a very memorable and unusual way to introduce oneself. It is also famous because \"Moby Dick\" is a classic novel that has been widely read and admired for many years.',\n",
       " 'In the Futurama episode \"The Late Philip J. Fry,\" the character Professor Farnsworth presents a theorem that allows for the possibility of \"mind switching,\" or transferring one\\'s consciousness from one body to another. However, the theorem itself is not a legitimate mathematical concept and is purely fictional. It is not based on any real-world principles or theories of physics or mathematics. The idea of \"mind switching\" is a common theme in science fiction and has been explored in various forms in literature and media, but it is not something that has been scientifically demonstrated to be possible. It is important to remember that while science fiction can be a fun and engaging way to explore ideas and possibilities, it is not always based on real-world scientific principles.',\n",
       " \"Hormones such as those for growth are released in certain phases , hence one possible reason why we need more of it pre - maturity and less in later life . You are n't going to get a fully acceptable answer here because no one really knows . The consensus seems to be a sort of psychosomatic rejuvenation occurs , like giving the mind time to get all its ducks in a row , but it 's wholly uncertain how this is done . At a guess I think you might get a better answer from Freud than biology .\",\n",
       " \"A few things : Too high levels will cause impotence ( ca n't get it up ) . The reason being that your body , like EVERYTHING , has a balance of how much it needs to have . Too much and it throws your sexual balance off just as well as too little . It will also have an effect on your brain . You will get angrier / aggressive . It will also have an effect on your body . You will get stronger . But also will push yourself further thus hurting yourself way more in the long term ( we have limits for a good reason ) . Further than that , I 'd need a medical doctor to help with the exact details .\"]"
      ]
     },
     "execution_count": 8,
     "metadata": {},
     "output_type": "execute_result"
    }
   ],
   "source": [
    "documents.to_list()[0:10]"
   ]
  },
  {
   "cell_type": "code",
   "execution_count": 9,
   "metadata": {},
   "outputs": [],
   "source": [
    "from fi_explainer import FI_Explainer\n",
    "from sklearn.pipeline import make_pipeline\n",
    "from lime.lime_text import LimeTextExplainer\n",
    "import re\n",
    "\n",
    "class LIME_Explainer(FI_Explainer):\n",
    "    def __init__(self, num_features=10, num_samples=1000, detector_class=DetectorRadford):\n",
    "        self.num_features = num_features\n",
    "        self.num_samples = num_samples\n",
    "        self.detector = detector_class()\n",
    "     #   c = make_pipeline(detector)\n",
    "        self.explainer = LimeTextExplainer(class_names=(\"machine\", \"human\"), bow=False, split_expression= r\"\\s\",mask_string=self.detector.get_pad_token()) # TODO\n",
    "    def get_explanation(self, document):\n",
    "        return self.explainer.explain_instance(document, self.detector.predict_proba, num_features=self.num_features, num_samples=self.num_samples, top_labels=2)\n",
    "    def get_fi_scores(self, document):\n",
    "        return self.get_explanation_cached(document).as_map()\n",
    "    def get_fi_scores_batch(self, documents):\n",
    "        return [self.get_fi_scores(document) for document in documents]"
   ]
  },
  {
   "cell_type": "code",
   "execution_count": 10,
   "metadata": {},
   "outputs": [],
   "source": [
    "explainer = LIME_Explainer()\n",
    "\n",
    "splitter = re.compile(r'(%s)|$' % explainer.explainer.split_expression)\n",
    "tokenizer_lime = lambda document : [s for s in splitter.split(document) if s and s!= \" \"]"
   ]
  },
  {
   "cell_type": "code",
   "execution_count": 11,
   "metadata": {},
   "outputs": [],
   "source": [
    "hybrid_documents, tokenized_hybrid_documents, GT = pointing_game_util.hybrid(documents.to_list(), gold_labels.to_list(), word_tokenizer=tokenizer_lime)\n",
    "predictions_hybrid = detector.predict_proba(hybrid_documents).argmax(axis=1)"
   ]
  },
  {
   "cell_type": "code",
   "execution_count": 12,
   "metadata": {},
   "outputs": [],
   "source": [
    "# explanations = explainer.get_explanations_cached(hybrid_documents) just for debug"
   ]
  },
  {
   "cell_type": "code",
   "execution_count": 13,
   "metadata": {},
   "outputs": [],
   "source": [
    "pointing_game_acc = pointing_game_util.get_pointing_game_acc(hybrid_documents, explainer, predictions_hybrid, GT)"
   ]
  },
  {
   "cell_type": "code",
   "execution_count": 14,
   "metadata": {},
   "outputs": [
    {
     "data": {
      "text/plain": [
       "0.45454545454545453"
      ]
     },
     "execution_count": 14,
     "metadata": {},
     "output_type": "execute_result"
    }
   ],
   "source": [
    "pointing_game_acc"
   ]
  },
  {
   "cell_type": "code",
   "execution_count": 15,
   "metadata": {},
   "outputs": [],
   "source": [
    "# for idx_top_word, tokenized, GT_doc, explanation, prediction_hybrid in zip(indices_top_word,tokenized_hybrid_documents,GT, explanations, predictions_hybrid):\n",
    "#     print(idx_top_word, tokenized[idx_top_word], GT_doc[idx_top_word])\n",
    "#     print(\"hit\" if GT_doc[idx_top_word] == prediction_hybrid else \"miss\")\n",
    "#     explanation.show_in_notebook()"
   ]
  }
 ],
 "metadata": {
  "kernelspec": {
   "display_name": ".venv",
   "language": "python",
   "name": "python3"
  },
  "language_info": {
   "codemirror_mode": {
    "name": "ipython",
    "version": 3
   },
   "file_extension": ".py",
   "mimetype": "text/x-python",
   "name": "python",
   "nbconvert_exporter": "python",
   "pygments_lexer": "ipython3",
   "version": "3.11.1"
  }
 },
 "nbformat": 4,
 "nbformat_minor": 2
}
