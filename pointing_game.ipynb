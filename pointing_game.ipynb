{
 "cells": [
  {
   "cell_type": "code",
   "execution_count": 1,
   "metadata": {},
   "outputs": [],
   "source": [
    "DEBUG = False\n",
    "N_DEBUG = 50\n",
    "N_RANDOM_RUNS = 100\n",
    "OUTPUT_DIR = \"./pointing_game_datasets/\""
   ]
  },
  {
   "cell_type": "code",
   "execution_count": 2,
   "metadata": {},
   "outputs": [],
   "source": [
    "from detector_radford import DetectorRadford\n",
    "from detector_detectgpt import DetectorDetectGPT\n",
    "from detector_guo import DetectorGuo\n",
    "detector_classes = [DetectorGuo, DetectorRadford,DetectorDetectGPT]\n",
    "\n",
    "from explainer_wrappers import LIME_Explainer, SHAP_Explainer, Anchor_Explainer, Random_Explainer\n",
    "explainer_classes =  [LIME_Explainer, SHAP_Explainer, Anchor_Explainer ]\n"
   ]
  },
  {
   "cell_type": "code",
   "execution_count": 3,
   "metadata": {},
   "outputs": [],
   "source": [
    "import pointing_game_util"
   ]
  },
  {
   "cell_type": "code",
   "execution_count": 4,
   "metadata": {},
   "outputs": [
    {
     "data": {
      "text/plain": [
       "<spacy.pipeline.sentencizer.Sentencizer at 0x1882bf15ed0>"
      ]
     },
     "execution_count": 4,
     "metadata": {},
     "output_type": "execute_result"
    }
   ],
   "source": [
    "import os\n",
    "import pandas as pd\n",
    "import spacy\n",
    "nlp = spacy.load(\"en_core_web_lg\")\n",
    "nlp.add_pipe('sentencizer')"
   ]
  },
  {
   "cell_type": "code",
   "execution_count": 5,
   "metadata": {},
   "outputs": [],
   "source": [
    "test = pd.read_pickle(\"./dataset_test.pkl\")\n",
    "test = test # always load the full dataset! (np.random.shuffle(tokenized_sentences)). slice the actual hybrid_documents if debugging!\n",
    "documents = test[\"answer\"]\n",
    "gold_labels = test[\"author\"] == \"human_answers\" # convention: 0: machine, 1: human, see detector.py"
   ]
  },
  {
   "cell_type": "code",
   "execution_count": 6,
   "metadata": {},
   "outputs": [],
   "source": [
    "# pd.Series((len(list(nlp(d).sents)) for d in documents)).describe()"
   ]
  },
  {
   "cell_type": "code",
   "execution_count": 7,
   "metadata": {},
   "outputs": [],
   "source": [
    "# keep a copy of the hybrid documents for the assert in the loop\n",
    "ref_assert_hybrid_documents, _, _ = pointing_game_util.hybrid(documents.to_list(), gold_labels.to_list(), word_tokenizer=LIME_Explainer(DetectorRadford()).tokenize)\n"
   ]
  },
  {
   "cell_type": "code",
   "execution_count": 8,
   "metadata": {},
   "outputs": [],
   "source": [
    "# pd.Series((len(list(nlp(d).sents)) for d in ref_assert_hybrid_documents)).describe()"
   ]
  },
  {
   "cell_type": "code",
   "execution_count": 9,
   "metadata": {},
   "outputs": [],
   "source": [
    "if not os.path.exists(OUTPUT_DIR):\n",
    "    os.mkdir(OUTPUT_DIR)"
   ]
  },
  {
   "cell_type": "code",
   "execution_count": 10,
   "metadata": {},
   "outputs": [
    {
     "name": "stderr",
     "output_type": "stream",
     "text": [
      "Special tokens have been added in the vocabulary, make sure the associated word embeddings are fine-tuned or trained.\n",
      "Generating explanations: 100%|██████████| 271/271 [00:00<00:00, 876.37it/s]\n",
      "Generating explanations: 100%|██████████| 271/271 [00:00<00:00, 1637.39it/s]\n",
      "100%|██████████| 271/271 [00:09<00:00, 29.46it/s]\n",
      "Generating explanations: 100%|██████████| 271/271 [00:00<00:00, 699.41it/s]\n",
      "Generating explanations: 100%|██████████| 271/271 [00:00<00:00, 1579.37it/s]\n",
      "100%|██████████| 271/271 [00:09<00:00, 27.95it/s]\n",
      "Special tokens have been added in the vocabulary, make sure the associated word embeddings are fine-tuned or trained.\n",
      "Special tokens have been added in the vocabulary, make sure the associated word embeddings are fine-tuned or trained.\n",
      "Generating explanations: 100%|██████████| 271/271 [00:00<00:00, 385.49it/s]\n",
      "Generating explanations: 100%|██████████| 271/271 [00:00<00:00, 557.39it/s]\n"
     ]
    }
   ],
   "source": [
    "results = []\n",
    "for detector_class in detector_classes:  \n",
    "    detector = detector_class()\n",
    "    predictions_hybrid = None\n",
    "    for i, explainer_class in enumerate(explainer_classes):\n",
    "        if explainer_class == Anchor_Explainer and detector_class == DetectorDetectGPT:\n",
    "            continue\n",
    "        explainer = explainer_class(detector)\n",
    "        hybrid_documents, tokenized_hybrid_documents, GT = pointing_game_util.hybrid(documents.to_list(), gold_labels.to_list(), word_tokenizer=explainer.tokenize)\n",
    "        assert (all([a==b for a,b in zip(ref_assert_hybrid_documents,hybrid_documents)])), \"(full) Hybrid documents don't match\" # tokenized_hybrid_documents differ by design to make the calculation of the pointing game accuracy easier\n",
    "        \n",
    "        # write csv (for debug purposes)\n",
    "        pd.DataFrame(zip(hybrid_documents, tokenized_hybrid_documents, GT), columns=[\"Hybrid Document\", \"Tokenized Hybrid Document\", \"GT\"]).to_csv(os.path.join(OUTPUT_DIR, detector.__class__.__name__+ \"-\"+explainer.__class__.__name__+\".csv\"),index=False)\n",
    "        if predictions_hybrid is None:\n",
    "            predictions_hybrid = detector.predict_label(hybrid_documents) # the assert above guarantees that the documents are the same across explainers\n",
    "\n",
    "        pointing_game_scores = pointing_game_util.get_pointing_game_scores(hybrid_documents, explainer, predictions_hybrid, GT)\n",
    "        results.extend([(doc_nr, explainer.__class__.__name__, detector.__class__.__name__, pointing_game_score) for doc_nr, pointing_game_score in enumerate(pointing_game_scores)])\n",
    "    \n",
    "        \n",
    "\n",
    "\n"
   ]
  },
  {
   "cell_type": "code",
   "execution_count": 11,
   "metadata": {},
   "outputs": [
    {
     "name": "stderr",
     "output_type": "stream",
     "text": [
      "Special tokens have been added in the vocabulary, make sure the associated word embeddings are fine-tuned or trained.\n",
      "Special tokens have been added in the vocabulary, make sure the associated word embeddings are fine-tuned or trained.\n",
      "Special tokens have been added in the vocabulary, make sure the associated word embeddings are fine-tuned or trained.\n"
     ]
    }
   ],
   "source": [
    "%%capture\n",
    "results_random = []\n",
    "for detector_class in detector_classes:  \n",
    "    detector = detector_class()\n",
    "    predictions_hybrid = None\n",
    "    for i in range(0, N_RANDOM_RUNS):\n",
    "            explainer = Random_Explainer(detector,seed=i)\n",
    "            \n",
    "            hybrid_documents, tokenized_hybrid_documents, GT = pointing_game_util.hybrid(documents.to_list(), gold_labels.to_list(), word_tokenizer=explainer.tokenize)\n",
    "            assert (all([a==b for a,b in zip(ref_assert_hybrid_documents,hybrid_documents)])), \"(full) Hybrid documents don't match\" # tokenized_hybrid_documents differ by design to make the calculation of the pointing game accuracy easier\n",
    "            if predictions_hybrid is None:\n",
    "                predictions_hybrid = detector.predict_label(hybrid_documents) # the assert above guarantees that the documents are the same across explainers\n",
    "\n",
    "            pointing_game_scores = pointing_game_util.get_pointing_game_scores(hybrid_documents, explainer, predictions_hybrid, GT)\n",
    "            results_random.extend([(doc_nr, explainer.__class__.__name__, detector.__class__.__name__, pointing_game_score, i) for doc_nr, pointing_game_score in enumerate(pointing_game_scores)])\n",
    "        \n",
    "            \n",
    "\n",
    "\n"
   ]
  },
  {
   "cell_type": "code",
   "execution_count": 31,
   "metadata": {},
   "outputs": [],
   "source": [
    "from scipy.stats.mstats import ttest_ind"
   ]
  },
  {
   "cell_type": "code",
   "execution_count": 32,
   "metadata": {},
   "outputs": [],
   "source": [
    "columns=[\"doc_nr\",\"Explainer\", \"Detector\", \"Pointing Game Scores\"]"
   ]
  },
  {
   "cell_type": "code",
   "execution_count": 39,
   "metadata": {},
   "outputs": [],
   "source": [
    "dff = pd.DataFrame(results, columns=columns)\n",
    "dff_random = pd.DataFrame(results_random, columns=columns +[\"run\"])"
   ]
  },
  {
   "cell_type": "code",
   "execution_count": 40,
   "metadata": {},
   "outputs": [],
   "source": [
    "from scipy.stats.mstats import ttest_ind\n",
    "from scipy.stats import combine_pvalues"
   ]
  },
  {
   "cell_type": "code",
   "execution_count": 41,
   "metadata": {},
   "outputs": [],
   "source": [
    "# for i, df_random in dff_random.groupby(\"run\"):\n",
    "#     display(df_random)\n",
    "#     print([ttest_ind(df_random[\"Pointing Game Scores\"], df[\"Pointing Game Scores\"])[1] for explainer, df in dff.groupby(\"Explainer\")])\n",
    "#     print(combine_pvalues([ttest_ind(df_random[\"Pointing Game Scores\"], df[\"Pointing Game Scores\"])[1] for explainer, df in dff.groupby(\"Explainer\")]))\n",
    "\n",
    "#     break"
   ]
  },
  {
   "cell_type": "code",
   "execution_count": 56,
   "metadata": {},
   "outputs": [],
   "source": [
    "latex_output = []"
   ]
  },
  {
   "cell_type": "code",
   "execution_count": 57,
   "metadata": {},
   "outputs": [],
   "source": [
    "def highlight_significant(row, props=''):\n",
    "  #  display(s)\n",
    "    styles = [''] * len(row)\n",
    "    styles[0] = 'font-weight: bold' if row[\"p value\"] != \"\" and row[\"p value\"] <= 0.05 else ''\n",
    "    return styles\n",
    "def get_aggregate_results(groupby, label, caption):\n",
    "    tvalues = []\n",
    "    pvalues = []\n",
    "    df_random = dff_random.groupby(groupby + [\"doc_nr\"])[\"Pointing Game Scores\"].mean()\n",
    "    \n",
    "    for name, df in dff.groupby(groupby):\n",
    "      \n",
    "        if groupby == [\"Explainer\"]:\n",
    "            random = pd.concat([df_random for _ in range(0,len(df)//len(df_random))])\n",
    "        else:\n",
    "            random = df_random\n",
    "        tvalue, pvalue = ttest_ind(df[\"Pointing Game Scores\"],random)\n",
    "        tvalues.append(tvalue)\n",
    "        pvalues.append(pvalue)\n",
    "\n",
    "    df_aggregate_results = pd.DataFrame([dff.groupby(groupby)[\"Pointing Game Scores\"].mean()]).T\n",
    "\n",
    "    df_aggregate_results[\"t value\"] = tvalues\n",
    "    df_aggregate_results[\"p value\"] = pvalues\n",
    "\n",
    "\n",
    "    df_aggregate_results = df_aggregate_results.reindex(sorted(df_aggregate_results.columns), axis=1)\n",
    "    print(df_aggregate_results.columns)\n",
    "\n",
    "    df_random_row = pd.DataFrame(df_random.groupby(groupby).mean())\n",
    "    df_random_row[\"t value\"] = \"\"\n",
    "    df_random_row[\"p value\"] = \"\"\n",
    "    df_aggregate_results_ = df_aggregate_results\n",
    "    if groupby != [\"Detector\"]:\n",
    "        df_aggregate_results_ = pd.concat([df_aggregate_results, df_random_row])\n",
    "    result = df_aggregate_results_.style.apply(highlight_significant, axis=1)\\\n",
    "        .map_index(lambda v: \"rotatebox:{45}--rwrap;\", level=0, axis=1).format(precision=2).hide([\"t value\"], axis=1).format_index(escape=\"latex\", axis=0)\n",
    "    latex_output.append(result.to_latex(environment=\"longtable\", \n",
    "                                        convert_css=True, \n",
    "                                        clines=\"all;data\", \n",
    "                                        hrules=True, \n",
    "                                        caption=caption, \n",
    "                                        label=label))\n",
    "    return result"
   ]
  },
  {
   "cell_type": "code",
   "execution_count": 58,
   "metadata": {},
   "outputs": [
    {
     "name": "stdout",
     "output_type": "stream",
     "text": [
      "Index(['Pointing Game Scores', 'p value', 't value'], dtype='object')\n"
     ]
    },
    {
     "data": {
      "text/html": [
       "<style type=\"text/css\">\n",
       "#T_6fad8_row2_col0 {\n",
       "  font-weight: bold;\n",
       "}\n",
       "#T_6fad8_level0_col0, #T_6fad8_level0_col1 {\n",
       "  rotatebox: {45}--rwrap;\n",
       "}\n",
       "</style>\n",
       "<table id=\"T_6fad8\">\n",
       "  <thead>\n",
       "    <tr>\n",
       "      <th class=\"blank level0\" >&nbsp;</th>\n",
       "      <th id=\"T_6fad8_level0_col0\" class=\"col_heading level0 col0\" >Pointing Game Scores</th>\n",
       "      <th id=\"T_6fad8_level0_col1\" class=\"col_heading level0 col1\" >p value</th>\n",
       "    </tr>\n",
       "    <tr>\n",
       "      <th class=\"index_name level0\" >Explainer</th>\n",
       "      <th class=\"blank col0\" >&nbsp;</th>\n",
       "      <th class=\"blank col1\" >&nbsp;</th>\n",
       "    </tr>\n",
       "  </thead>\n",
       "  <tbody>\n",
       "    <tr>\n",
       "      <th id=\"T_6fad8_level0_row0\" class=\"row_heading level0 row0\" >Anchor\\_Explainer</th>\n",
       "      <td id=\"T_6fad8_row0_col0\" class=\"data row0 col0\" >0.59</td>\n",
       "      <td id=\"T_6fad8_row0_col1\" class=\"data row0 col1\" >0.25</td>\n",
       "    </tr>\n",
       "    <tr>\n",
       "      <th id=\"T_6fad8_level0_row1\" class=\"row_heading level0 row1\" >LIME\\_Explainer</th>\n",
       "      <td id=\"T_6fad8_row1_col0\" class=\"data row1 col0\" >0.55</td>\n",
       "      <td id=\"T_6fad8_row1_col1\" class=\"data row1 col1\" >0.29</td>\n",
       "    </tr>\n",
       "    <tr>\n",
       "      <th id=\"T_6fad8_level0_row2\" class=\"row_heading level0 row2\" >SHAP\\_Explainer</th>\n",
       "      <td id=\"T_6fad8_row2_col0\" class=\"data row2 col0\" >0.69</td>\n",
       "      <td id=\"T_6fad8_row2_col1\" class=\"data row2 col1\" >0.00</td>\n",
       "    </tr>\n",
       "    <tr>\n",
       "      <th id=\"T_6fad8_level0_row3\" class=\"row_heading level0 row3\" >Random\\_Explainer</th>\n",
       "      <td id=\"T_6fad8_row3_col0\" class=\"data row3 col0\" >0.57</td>\n",
       "      <td id=\"T_6fad8_row3_col1\" class=\"data row3 col1\" ></td>\n",
       "    </tr>\n",
       "  </tbody>\n",
       "</table>\n"
      ],
      "text/plain": [
       "<pandas.io.formats.style.Styler at 0x18844e6edd0>"
      ]
     },
     "execution_count": 58,
     "metadata": {},
     "output_type": "execute_result"
    }
   ],
   "source": [
    "get_aggregate_results([\"Explainer\"], \"results_pointing_game_explainer\", \"Results aggregated by explainer. Values in bold indicate p < 0.05 for a t-test with the random baseline (mean of 100 runs).\")"
   ]
  },
  {
   "cell_type": "code",
   "execution_count": 59,
   "metadata": {},
   "outputs": [
    {
     "name": "stdout",
     "output_type": "stream",
     "text": [
      "Index(['Pointing Game Scores', 'p value', 't value'], dtype='object')\n"
     ]
    },
    {
     "data": {
      "text/html": [
       "<style type=\"text/css\">\n",
       "#T_f903a_row0_col0, #T_f903a_row1_col0, #T_f903a_row2_col0 {\n",
       "  font-weight: bold;\n",
       "}\n",
       "#T_f903a_level0_col0, #T_f903a_level0_col1 {\n",
       "  rotatebox: {45}--rwrap;\n",
       "}\n",
       "</style>\n",
       "<table id=\"T_f903a\">\n",
       "  <thead>\n",
       "    <tr>\n",
       "      <th class=\"blank level0\" >&nbsp;</th>\n",
       "      <th id=\"T_f903a_level0_col0\" class=\"col_heading level0 col0\" >Pointing Game Scores</th>\n",
       "      <th id=\"T_f903a_level0_col1\" class=\"col_heading level0 col1\" >p value</th>\n",
       "    </tr>\n",
       "    <tr>\n",
       "      <th class=\"index_name level0\" >Detector</th>\n",
       "      <th class=\"blank col0\" >&nbsp;</th>\n",
       "      <th class=\"blank col1\" >&nbsp;</th>\n",
       "    </tr>\n",
       "  </thead>\n",
       "  <tbody>\n",
       "    <tr>\n",
       "      <th id=\"T_f903a_level0_row0\" class=\"row_heading level0 row0\" >DetectorDetectGPT</th>\n",
       "      <td id=\"T_f903a_row0_col0\" class=\"data row0 col0\" >0.63</td>\n",
       "      <td id=\"T_f903a_row0_col1\" class=\"data row0 col1\" >0.00</td>\n",
       "    </tr>\n",
       "    <tr>\n",
       "      <th id=\"T_f903a_level0_row1\" class=\"row_heading level0 row1\" >DetectorGuo</th>\n",
       "      <td id=\"T_f903a_row1_col0\" class=\"data row1 col0\" >0.70</td>\n",
       "      <td id=\"T_f903a_row1_col1\" class=\"data row1 col1\" >0.00</td>\n",
       "    </tr>\n",
       "    <tr>\n",
       "      <th id=\"T_f903a_level0_row2\" class=\"row_heading level0 row2\" >DetectorRadford</th>\n",
       "      <td id=\"T_f903a_row2_col0\" class=\"data row2 col0\" >0.51</td>\n",
       "      <td id=\"T_f903a_row2_col1\" class=\"data row2 col1\" >0.00</td>\n",
       "    </tr>\n",
       "  </tbody>\n",
       "</table>\n"
      ],
      "text/plain": [
       "<pandas.io.formats.style.Styler at 0x18844ea8d10>"
      ]
     },
     "execution_count": 59,
     "metadata": {},
     "output_type": "execute_result"
    }
   ],
   "source": [
    "get_aggregate_results([\"Detector\"], \"results_pointing_game_detector\", \"Results aggregated by explainer. Values in bold indicate p < 0.05 for a t-test with the random baseline (mean of 100 runs).\")"
   ]
  },
  {
   "cell_type": "code",
   "execution_count": 60,
   "metadata": {},
   "outputs": [
    {
     "name": "stdout",
     "output_type": "stream",
     "text": [
      "Index(['Pointing Game Scores', 'p value', 't value'], dtype='object')\n"
     ]
    },
    {
     "data": {
      "text/html": [
       "<style type=\"text/css\">\n",
       "#T_fa968_row0_col0, #T_fa968_row1_col0, #T_fa968_row2_col0, #T_fa968_row4_col0, #T_fa968_row5_col0, #T_fa968_row6_col0, #T_fa968_row7_col0 {\n",
       "  font-weight: bold;\n",
       "}\n",
       "#T_fa968_level0_col0, #T_fa968_level0_col1 {\n",
       "  rotatebox: {45}--rwrap;\n",
       "}\n",
       "</style>\n",
       "<table id=\"T_fa968\">\n",
       "  <thead>\n",
       "    <tr>\n",
       "      <th class=\"blank\" >&nbsp;</th>\n",
       "      <th class=\"blank level0\" >&nbsp;</th>\n",
       "      <th id=\"T_fa968_level0_col0\" class=\"col_heading level0 col0\" >Pointing Game Scores</th>\n",
       "      <th id=\"T_fa968_level0_col1\" class=\"col_heading level0 col1\" >p value</th>\n",
       "    </tr>\n",
       "    <tr>\n",
       "      <th class=\"index_name level0\" >Explainer</th>\n",
       "      <th class=\"index_name level1\" >Detector</th>\n",
       "      <th class=\"blank col0\" >&nbsp;</th>\n",
       "      <th class=\"blank col1\" >&nbsp;</th>\n",
       "    </tr>\n",
       "  </thead>\n",
       "  <tbody>\n",
       "    <tr>\n",
       "      <th id=\"T_fa968_level0_row0\" class=\"row_heading level0 row0\" rowspan=\"2\">Anchor\\_Explainer</th>\n",
       "      <th id=\"T_fa968_level1_row0\" class=\"row_heading level1 row0\" >DetectorGuo</th>\n",
       "      <td id=\"T_fa968_row0_col0\" class=\"data row0 col0\" >0.68</td>\n",
       "      <td id=\"T_fa968_row0_col1\" class=\"data row0 col1\" >0.00</td>\n",
       "    </tr>\n",
       "    <tr>\n",
       "      <th id=\"T_fa968_level1_row1\" class=\"row_heading level1 row1\" >DetectorRadford</th>\n",
       "      <td id=\"T_fa968_row1_col0\" class=\"data row1 col0\" >0.49</td>\n",
       "      <td id=\"T_fa968_row1_col1\" class=\"data row1 col1\" >0.00</td>\n",
       "    </tr>\n",
       "    <tr>\n",
       "      <th id=\"T_fa968_level0_row2\" class=\"row_heading level0 row2\" rowspan=\"3\">LIME\\_Explainer</th>\n",
       "      <th id=\"T_fa968_level1_row2\" class=\"row_heading level1 row2\" >DetectorDetectGPT</th>\n",
       "      <td id=\"T_fa968_row2_col0\" class=\"data row2 col0\" >0.63</td>\n",
       "      <td id=\"T_fa968_row2_col1\" class=\"data row2 col1\" >0.00</td>\n",
       "    </tr>\n",
       "    <tr>\n",
       "      <th id=\"T_fa968_level1_row3\" class=\"row_heading level1 row3\" >DetectorGuo</th>\n",
       "      <td id=\"T_fa968_row3_col0\" class=\"data row3 col0\" >0.61</td>\n",
       "      <td id=\"T_fa968_row3_col1\" class=\"data row3 col1\" >0.07</td>\n",
       "    </tr>\n",
       "    <tr>\n",
       "      <th id=\"T_fa968_level1_row4\" class=\"row_heading level1 row4\" >DetectorRadford</th>\n",
       "      <td id=\"T_fa968_row4_col0\" class=\"data row4 col0\" >0.40</td>\n",
       "      <td id=\"T_fa968_row4_col1\" class=\"data row4 col1\" >0.00</td>\n",
       "    </tr>\n",
       "    <tr>\n",
       "      <th id=\"T_fa968_level0_row5\" class=\"row_heading level0 row5\" rowspan=\"3\">SHAP\\_Explainer</th>\n",
       "      <th id=\"T_fa968_level1_row5\" class=\"row_heading level1 row5\" >DetectorDetectGPT</th>\n",
       "      <td id=\"T_fa968_row5_col0\" class=\"data row5 col0\" >0.63</td>\n",
       "      <td id=\"T_fa968_row5_col1\" class=\"data row5 col1\" >0.00</td>\n",
       "    </tr>\n",
       "    <tr>\n",
       "      <th id=\"T_fa968_level1_row6\" class=\"row_heading level1 row6\" >DetectorGuo</th>\n",
       "      <td id=\"T_fa968_row6_col0\" class=\"data row6 col0\" >0.81</td>\n",
       "      <td id=\"T_fa968_row6_col1\" class=\"data row6 col1\" >0.00</td>\n",
       "    </tr>\n",
       "    <tr>\n",
       "      <th id=\"T_fa968_level1_row7\" class=\"row_heading level1 row7\" >DetectorRadford</th>\n",
       "      <td id=\"T_fa968_row7_col0\" class=\"data row7 col0\" >0.63</td>\n",
       "      <td id=\"T_fa968_row7_col1\" class=\"data row7 col1\" >0.00</td>\n",
       "    </tr>\n",
       "    <tr>\n",
       "      <th id=\"T_fa968_level0_row8\" class=\"row_heading level0 row8\" rowspan=\"3\">Random\\_Explainer</th>\n",
       "      <th id=\"T_fa968_level1_row8\" class=\"row_heading level1 row8\" >DetectorDetectGPT</th>\n",
       "      <td id=\"T_fa968_row8_col0\" class=\"data row8 col0\" >0.58</td>\n",
       "      <td id=\"T_fa968_row8_col1\" class=\"data row8 col1\" ></td>\n",
       "    </tr>\n",
       "    <tr>\n",
       "      <th id=\"T_fa968_level1_row9\" class=\"row_heading level1 row9\" >DetectorGuo</th>\n",
       "      <td id=\"T_fa968_row9_col0\" class=\"data row9 col0\" >0.64</td>\n",
       "      <td id=\"T_fa968_row9_col1\" class=\"data row9 col1\" ></td>\n",
       "    </tr>\n",
       "    <tr>\n",
       "      <th id=\"T_fa968_level1_row10\" class=\"row_heading level1 row10\" >DetectorRadford</th>\n",
       "      <td id=\"T_fa968_row10_col0\" class=\"data row10 col0\" >0.48</td>\n",
       "      <td id=\"T_fa968_row10_col1\" class=\"data row10 col1\" ></td>\n",
       "    </tr>\n",
       "  </tbody>\n",
       "</table>\n"
      ],
      "text/plain": [
       "<pandas.io.formats.style.Styler at 0x18908952090>"
      ]
     },
     "execution_count": 60,
     "metadata": {},
     "output_type": "execute_result"
    }
   ],
   "source": [
    "get_aggregate_results([\"Explainer\", \"Detector\"], \"results_pointing_game\", \"Results. Values in bold indicate p < 0.05 for a t-test with the random baseline (mean of 100 runs).\")"
   ]
  },
  {
   "cell_type": "code",
   "execution_count": 64,
   "metadata": {},
   "outputs": [],
   "source": [
    "with open(\"figures/tables_pointing_game.tex\", \"w\", encoding=\"UTF-8\") as text_file:\n",
    "    text_file.write(\"\\n\".join(latex_output))"
   ]
  },
  {
   "cell_type": "code",
   "execution_count": 62,
   "metadata": {},
   "outputs": [],
   "source": [
    "\n",
    "# for hybrid_document in hybrid_documents:\n",
    "\n",
    "#     explainer = LIME_Explainer(detector)\n",
    "#     explainer.get_explanation_cached(hybrid_document).show_in_notebook()\n",
    "\n",
    "#     explainer = SHAP_Explainer(detector)\n",
    "#     shap.text_plot(explainer.get_explanation_cached(hybrid_document))\n",
    "        "
   ]
  }
 ],
 "metadata": {
  "kernelspec": {
   "display_name": ".venv",
   "language": "python",
   "name": "python3"
  },
  "language_info": {
   "codemirror_mode": {
    "name": "ipython",
    "version": 3
   },
   "file_extension": ".py",
   "mimetype": "text/x-python",
   "name": "python",
   "nbconvert_exporter": "python",
   "pygments_lexer": "ipython3",
   "version": "3.11.1"
  }
 },
 "nbformat": 4,
 "nbformat_minor": 2
}
